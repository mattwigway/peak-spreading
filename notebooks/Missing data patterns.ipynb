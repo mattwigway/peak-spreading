{
 "cells": [
  {
   "cell_type": "markdown",
   "id": "76e26c06-58da-4d8d-b66c-c0049ee5d100",
   "metadata": {},
   "source": [
    "# Missing data patterns\n",
    "\n",
    "Are there concerning patterns in missingness? In particular, does missingness change pre-post pandemic?"
   ]
  },
  {
   "cell_type": "code",
   "execution_count": null,
   "id": "61520a65-2d15-4f54-8f9d-d12edd2e3d74",
   "metadata": {
    "tags": []
   },
   "outputs": [],
   "source": [
    "using DataFrames\n",
    "using DataFramesMeta\n",
    "using Plots\n",
    "using StatsBase\n",
    "using StatsModels\n",
    "using Dates\n",
    "using Plots.PlotMeasures\n",
    "using GLM\n",
    "using CSV\n",
    "using CategoricalArrays\n",
    "using Distributions\n",
    "using Tables\n",
    "using Revise\n",
    "using LaTeXStrings\n",
    "using Pipe\n",
    "using CovarianceMatrices\n",
    "using Distributions"
   ]
  },
  {
   "cell_type": "code",
   "execution_count": null,
   "id": "78f00215-bc0c-48de-94e4-4011e5b3f1d5",
   "metadata": {
    "tags": []
   },
   "outputs": [],
   "source": [
    "using KFactors"
   ]
  },
  {
   "cell_type": "code",
   "execution_count": null,
   "id": "68c698b1-b3df-4e29-99b2-d7f4c19c1444",
   "metadata": {
    "tags": []
   },
   "outputs": [],
   "source": [
    "raw_data = read_data(\"../data/peaks_merged.parquet\", dropmissing=false)\n",
    "nothing"
   ]
  },
  {
   "cell_type": "code",
   "execution_count": null,
   "id": "edca9c81-e76e-4650-a8d3-e6fe484a18f9",
   "metadata": {
    "tags": []
   },
   "outputs": [],
   "source": [
    "data = KFactors.create_test_data(raw_data, KFactors.Periods.SPRING_2022, min_complete=0.0);"
   ]
  },
  {
   "cell_type": "markdown",
   "id": "1ad225ad-d30e-437a-89d0-0a94faefb14b",
   "metadata": {},
   "source": [
    "## Reasons for missingness\n",
    "\n",
    "There are multiple ways data can be missing:\n",
    "1. It can have small gaps that are imputed (e.g. because the modem failed to upload for a few minutes)\n",
    "2. It can have large gaps or full days that are imputed\n",
    "3. There can be insufficient data - we don't complete or imputed records for the full sensor day\n",
    "4. There can be no traffic\n",
    "5. (handled below) The sensor could not be in the file for that day, though it appears in other files"
   ]
  },
  {
   "cell_type": "markdown",
   "id": "cc9774dc-dc3b-4743-8ff7-7bea54d45033",
   "metadata": {},
   "source": [
    "## Temporal patterns in missingness\n",
    "\n",
    "Did the reasons why data was missing change over the study period? Note that the plot only shows the active study period in each year."
   ]
  },
  {
   "cell_type": "code",
   "execution_count": null,
   "id": "6258fad4-6773-4d19-967d-87a2185ef739",
   "metadata": {
    "tags": []
   },
   "outputs": [],
   "source": [
    "function plot_missingness(data)\n",
    "    data[!, :missing_reason] .= :not_missing\n",
    "    data[data.periods_imputed .> 0, :missing_reason] .= :imputed_less_than_1hr\n",
    "    data[data.periods_imputed .>= 12, :missing_reason] .= :imputed_1hr_or_more\n",
    "    data[ismissing.(data.peak_hour_occ), :missing_reason] .= :insufficient_data\n",
    "    data[coalesce.(data.total_occ .== 0, [false]), :missing_reason] .= :no_traffic\n",
    "    \n",
    "    sensors = unique(data.station)\n",
    "    dates = unique(data.date)\n",
    "    sensor_days = reshape(collect(Iterators.product(sensors, dates)), :)\n",
    "    sensor_df = DataFrame(station=map(x -> x[1], sensor_days), date=map(x -> x[2], sensor_days))\n",
    "    nothing\n",
    "    data = leftjoin(sensor_df, data, on=[:station, :date])\n",
    "    \n",
    "    data[ismissing.(data.missing_reason), :missing_reason] .= :not_in_file\n",
    "\n",
    "    # temporal patterns in missingness\n",
    "    temporal_missingness = combine(groupby(data, :date),\n",
    "        :missing_reason => (x -> sum(x .== :imputed_less_than_1hr)) => :sensors_imputed_less_than_1hr,\n",
    "        :missing_reason => (x -> sum(x .== :imputed_1hr_or_more)) => :sensors_imputed_1hr_or_more,\n",
    "        :missing_reason => (x -> sum(x .== :no_traffic)) => :sensors_no_traffic,\n",
    "        :missing_reason => (x -> sum(x .== :insufficient_data)) => :sensors_insufficient_data,\n",
    "        :missing_reason => (x -> sum(x .== :not_in_file)) => :sensors_not_in_file,\n",
    "        :missing_reason => (x -> sum(x .== :not_missing)) => :sensors_not_missing,\n",
    "        :missing_reason => length => :n\n",
    "    )\n",
    "    sort!(temporal_missingness, :date)\n",
    "\n",
    "    areaplot(1:nrow(temporal_missingness),\n",
    "        hcat(\n",
    "            temporal_missingness.sensors_not_missing,\n",
    "            temporal_missingness.sensors_imputed_less_than_1hr,\n",
    "            temporal_missingness.sensors_imputed_1hr_or_more,\n",
    "            temporal_missingness.sensors_no_traffic,\n",
    "            temporal_missingness.sensors_insufficient_data,\n",
    "            temporal_missingness.sensors_not_in_file\n",
    "        ),\n",
    "        label=[\"not missing\" \"imputed < 1 hour\" \"imputed ≥ 1 hour\" \"no traffic\" \"insufficient data\" \"not in file\"],\n",
    "        legend=:outertopright,\n",
    "        xticks=false,\n",
    "        ylabel=\"Number of sensors\",\n",
    "        size=(800, 300),\n",
    "        left_margin=50px,\n",
    "        ylim=(0, temporal_missingness.n[1])\n",
    "    )\n",
    "\n",
    "    year_boundaries = map([2016, 2017, 2018, 2019, 2020, 2022]) do y\n",
    "        return sum(temporal_missingness.date .< Date(y, 1, 1))\n",
    "    end\n",
    "\n",
    "    vline!(year_boundaries, color=:white, label=false)\n",
    "    annotate!(zip(year_boundaries .+ 10, fill(150, 6), map([2016, 2017, 2018, 2019, \"2020-21\", 2022]) do y \n",
    "                text(y, :white, :hleft, pointsize=8)\n",
    "            end)...)\n",
    "\n",
    "    return data, plot!()\n",
    "end"
   ]
  },
  {
   "cell_type": "code",
   "execution_count": null,
   "id": "eb0753c2-c551-4298-8b79-32f43d2a39ee",
   "metadata": {
    "tags": []
   },
   "outputs": [],
   "source": [
    "data2, plot_all = plot_missingness(data)\n",
    "savefig(\"../fig/sensor_missingness_all.pdf\")"
   ]
  },
  {
   "cell_type": "code",
   "execution_count": null,
   "id": "0a21726d-5fef-436d-9c2a-b21cabaaedbe",
   "metadata": {
    "tags": []
   },
   "outputs": [],
   "source": [
    "data_used = KFactors.create_test_data(raw_data, KFactors.Periods.SPRING_2022)\n",
    "data_used, plot_used = plot_missingness(data_used)\n",
    "savefig(\"../fig/sensor_missingness_used.pdf\")"
   ]
  },
  {
   "cell_type": "code",
   "execution_count": null,
   "id": "e69dbe80-528f-47d7-a059-7d23f8d3506e",
   "metadata": {
    "tags": []
   },
   "outputs": [],
   "source": [
    "plot!(plot_all, xlabel=\"All data\")\n",
    "plot!(plot_used, legend=false, xlabel=\"Data used in analysis\")\n",
    "plot(plot_all, plot_used, plot(xticks=false, yticks=false, xaxis=false, yaxis=false), size=(800, 600), layout=@layout [\n",
    "        a{1.0w}\n",
    "        [b{0.73w} c{0.27w}]\n",
    "    ])\n",
    "\n",
    "# plot(plot_all, plot_used,size=(600, 800), layout=@layout [\n",
    "#         a{0.4h}\n",
    "#         b{0.6h}\n",
    "#         ])\n",
    "\n",
    "savefig(\"../fig/sensor_missingness.pdf\")\n",
    "plot!()"
   ]
  },
  {
   "cell_type": "code",
   "execution_count": null,
   "id": "58e4a92a-e1d5-4d5d-a748-a0e1fc00b3c2",
   "metadata": {
    "tags": []
   },
   "outputs": [],
   "source": [
    "@pipe groupby(data2, :missing_reason) |> combine(_, x -> nrow(x) / nrow(data))"
   ]
  },
  {
   "cell_type": "code",
   "execution_count": null,
   "id": "4d48688c-710e-497c-a2ef-d09d4e4d2eda",
   "metadata": {},
   "outputs": [],
   "source": []
  }
 ],
 "metadata": {
  "kernelspec": {
   "display_name": "Julia threads project 1.8.5",
   "language": "julia",
   "name": "julia-threads-project-1.8"
  },
  "language_info": {
   "file_extension": ".jl",
   "mimetype": "application/julia",
   "name": "julia",
   "version": "1.8.5"
  }
 },
 "nbformat": 4,
 "nbformat_minor": 5
}
