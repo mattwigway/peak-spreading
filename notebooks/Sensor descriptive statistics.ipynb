{
 "cells": [
  {
   "cell_type": "markdown",
   "id": "42ecb43d-38ba-451a-89e8-fbb28f9cb88e",
   "metadata": {},
   "source": [
    "# Sensor descriptive statistics\n",
    "\n",
    "Basic descriptives about the sensors used in the analysis."
   ]
  },
  {
   "cell_type": "code",
   "execution_count": 12,
   "id": "22bbd614-211d-4988-8b6b-70a4f0cffd6f",
   "metadata": {},
   "outputs": [],
   "source": [
    "using CSV, DataFrames, StatsBase"
   ]
  },
  {
   "cell_type": "code",
   "execution_count": 10,
   "id": "028e0724-1540-4052-b3d5-374d37920ce4",
   "metadata": {},
   "outputs": [
    {
     "data": {
      "text/html": [
       "<div class=\"data-frame\"><p>3,514 rows × 14 columns (omitted printing of 7 columns)</p><table class=\"data-frame\"><thead><tr><th></th><th>station</th><th>Latitude</th><th>Longitude</th><th>fwy_stable</th><th>dir_stable</th><th>lanes_stable</th><th>max_shift_meters</th></tr><tr><th></th><th title=\"Int64\">Int64</th><th title=\"Float64\">Float64</th><th title=\"Float64\">Float64</th><th title=\"Union{Missing, Bool}\">Bool?</th><th title=\"Union{Missing, Bool}\">Bool?</th><th title=\"Union{Missing, Bool}\">Bool?</th><th title=\"Union{Missing, Float64}\">Float64?</th></tr></thead><tbody><tr><th>1</th><td>312134</td><td>38.4124</td><td>-121.484</td><td>1</td><td>1</td><td>1</td><td>16.0884</td></tr><tr><th>2</th><td>312346</td><td>38.6343</td><td>-121.5</td><td>1</td><td>1</td><td>1</td><td>9.6208</td></tr><tr><th>3</th><td>312386</td><td>38.477</td><td>-121.426</td><td>1</td><td>1</td><td>1</td><td>24.216</td></tr><tr><th>4</th><td>312388</td><td>38.4815</td><td>-121.43</td><td>1</td><td>1</td><td>1</td><td>1.64184</td></tr><tr><th>5</th><td>312420</td><td>38.4846</td><td>-121.434</td><td>1</td><td>1</td><td>1</td><td>54.8303</td></tr><tr><th>6</th><td>312422</td><td>38.4949</td><td>-121.445</td><td>1</td><td>1</td><td>1</td><td>9.67884</td></tr><tr><th>7</th><td>312513</td><td>38.5027</td><td>-121.453</td><td>1</td><td>1</td><td>1</td><td>82.1374</td></tr><tr><th>8</th><td>312514</td><td>38.5091</td><td>-121.459</td><td>1</td><td>1</td><td>1</td><td>75.5243</td></tr><tr><th>9</th><td>312520</td><td>38.5117</td><td>-121.46</td><td>1</td><td>1</td><td>1</td><td>78.8588</td></tr><tr><th>10</th><td>312564</td><td>38.5454</td><td>-121.474</td><td>1</td><td>1</td><td>1</td><td>1.6651</td></tr><tr><th>11</th><td>312570</td><td>38.4468</td><td>-121.406</td><td>1</td><td>1</td><td>1</td><td>25.6668</td></tr><tr><th>12</th><td>312648</td><td>38.4554</td><td>-121.41</td><td>1</td><td>1</td><td>1</td><td>41.7043</td></tr><tr><th>13</th><td>312745</td><td>38.5794</td><td>-121.464</td><td>1</td><td>1</td><td>1</td><td>0.0</td></tr><tr><th>14</th><td>312771</td><td>38.5977</td><td>-121.443</td><td>1</td><td>1</td><td>1</td><td>1.73228</td></tr><tr><th>15</th><td>312858</td><td>38.6008</td><td>-121.438</td><td>1</td><td>1</td><td>1</td><td>79.8278</td></tr><tr><th>16</th><td>312896</td><td>38.6246</td><td>-121.416</td><td>1</td><td>1</td><td>1</td><td>21.1216</td></tr><tr><th>17</th><td>312940</td><td>38.6311</td><td>-121.4</td><td>1</td><td>1</td><td>1</td><td>1.62902</td></tr><tr><th>18</th><td>312942</td><td>38.6357</td><td>-121.388</td><td>1</td><td>1</td><td>1</td><td>27.1379</td></tr><tr><th>19</th><td>312946</td><td>38.6397</td><td>-121.383</td><td>1</td><td>1</td><td>1</td><td>56.055</td></tr><tr><th>20</th><td>313037</td><td>38.5919</td><td>-121.286</td><td>1</td><td>1</td><td>1</td><td>24.1956</td></tr><tr><th>21</th><td>313055</td><td>38.631</td><td>-121.217</td><td>1</td><td>1</td><td>1</td><td>42.4191</td></tr><tr><th>22</th><td>313144</td><td>38.5233</td><td>-121.467</td><td>1</td><td>1</td><td>1</td><td>69.1842</td></tr><tr><th>23</th><td>313166</td><td>38.4228</td><td>-121.395</td><td>1</td><td>1</td><td>1</td><td>53.2604</td></tr><tr><th>24</th><td>313190</td><td>38.4097</td><td>-121.389</td><td>1</td><td>1</td><td>1</td><td>38.6749</td></tr><tr><th>25</th><td>313197</td><td>38.6099</td><td>-121.428</td><td>1</td><td>1</td><td>1</td><td>19.3754</td></tr><tr><th>26</th><td>313339</td><td>38.6397</td><td>-121.199</td><td>1</td><td>1</td><td>1</td><td>88.8434</td></tr><tr><th>27</th><td>313344</td><td>38.6423</td><td>-121.16</td><td>1</td><td>1</td><td>1</td><td>52.0276</td></tr><tr><th>28</th><td>313349</td><td>38.6421</td><td>-121.156</td><td>1</td><td>1</td><td>1</td><td>49.9827</td></tr><tr><th>29</th><td>313405</td><td>38.6748</td><td>-121.346</td><td>1</td><td>1</td><td>1</td><td>41.8041</td></tr><tr><th>30</th><td>313406</td><td>38.6746</td><td>-121.345</td><td>1</td><td>1</td><td>1</td><td>41.5785</td></tr><tr><th>&vellip;</th><td>&vellip;</td><td>&vellip;</td><td>&vellip;</td><td>&vellip;</td><td>&vellip;</td><td>&vellip;</td><td>&vellip;</td></tr></tbody></table></div>"
      ],
      "text/latex": [
       "\\begin{tabular}{r|cccccccc}\n",
       "\t& station & Latitude & Longitude & fwy\\_stable & dir\\_stable & lanes\\_stable & max\\_shift\\_meters & \\\\\n",
       "\t\\hline\n",
       "\t& Int64 & Float64 & Float64 & Bool? & Bool? & Bool? & Float64? & \\\\\n",
       "\t\\hline\n",
       "\t1 & 312134 & 38.4124 & -121.484 & 1 & 1 & 1 & 16.0884 & $\\dots$ \\\\\n",
       "\t2 & 312346 & 38.6343 & -121.5 & 1 & 1 & 1 & 9.6208 & $\\dots$ \\\\\n",
       "\t3 & 312386 & 38.477 & -121.426 & 1 & 1 & 1 & 24.216 & $\\dots$ \\\\\n",
       "\t4 & 312388 & 38.4815 & -121.43 & 1 & 1 & 1 & 1.64184 & $\\dots$ \\\\\n",
       "\t5 & 312420 & 38.4846 & -121.434 & 1 & 1 & 1 & 54.8303 & $\\dots$ \\\\\n",
       "\t6 & 312422 & 38.4949 & -121.445 & 1 & 1 & 1 & 9.67884 & $\\dots$ \\\\\n",
       "\t7 & 312513 & 38.5027 & -121.453 & 1 & 1 & 1 & 82.1374 & $\\dots$ \\\\\n",
       "\t8 & 312514 & 38.5091 & -121.459 & 1 & 1 & 1 & 75.5243 & $\\dots$ \\\\\n",
       "\t9 & 312520 & 38.5117 & -121.46 & 1 & 1 & 1 & 78.8588 & $\\dots$ \\\\\n",
       "\t10 & 312564 & 38.5454 & -121.474 & 1 & 1 & 1 & 1.6651 & $\\dots$ \\\\\n",
       "\t11 & 312570 & 38.4468 & -121.406 & 1 & 1 & 1 & 25.6668 & $\\dots$ \\\\\n",
       "\t12 & 312648 & 38.4554 & -121.41 & 1 & 1 & 1 & 41.7043 & $\\dots$ \\\\\n",
       "\t13 & 312745 & 38.5794 & -121.464 & 1 & 1 & 1 & 0.0 & $\\dots$ \\\\\n",
       "\t14 & 312771 & 38.5977 & -121.443 & 1 & 1 & 1 & 1.73228 & $\\dots$ \\\\\n",
       "\t15 & 312858 & 38.6008 & -121.438 & 1 & 1 & 1 & 79.8278 & $\\dots$ \\\\\n",
       "\t16 & 312896 & 38.6246 & -121.416 & 1 & 1 & 1 & 21.1216 & $\\dots$ \\\\\n",
       "\t17 & 312940 & 38.6311 & -121.4 & 1 & 1 & 1 & 1.62902 & $\\dots$ \\\\\n",
       "\t18 & 312942 & 38.6357 & -121.388 & 1 & 1 & 1 & 27.1379 & $\\dots$ \\\\\n",
       "\t19 & 312946 & 38.6397 & -121.383 & 1 & 1 & 1 & 56.055 & $\\dots$ \\\\\n",
       "\t20 & 313037 & 38.5919 & -121.286 & 1 & 1 & 1 & 24.1956 & $\\dots$ \\\\\n",
       "\t21 & 313055 & 38.631 & -121.217 & 1 & 1 & 1 & 42.4191 & $\\dots$ \\\\\n",
       "\t22 & 313144 & 38.5233 & -121.467 & 1 & 1 & 1 & 69.1842 & $\\dots$ \\\\\n",
       "\t23 & 313166 & 38.4228 & -121.395 & 1 & 1 & 1 & 53.2604 & $\\dots$ \\\\\n",
       "\t24 & 313190 & 38.4097 & -121.389 & 1 & 1 & 1 & 38.6749 & $\\dots$ \\\\\n",
       "\t25 & 313197 & 38.6099 & -121.428 & 1 & 1 & 1 & 19.3754 & $\\dots$ \\\\\n",
       "\t26 & 313339 & 38.6397 & -121.199 & 1 & 1 & 1 & 88.8434 & $\\dots$ \\\\\n",
       "\t27 & 313344 & 38.6423 & -121.16 & 1 & 1 & 1 & 52.0276 & $\\dots$ \\\\\n",
       "\t28 & 313349 & 38.6421 & -121.156 & 1 & 1 & 1 & 49.9827 & $\\dots$ \\\\\n",
       "\t29 & 313405 & 38.6748 & -121.346 & 1 & 1 & 1 & 41.8041 & $\\dots$ \\\\\n",
       "\t30 & 313406 & 38.6746 & -121.345 & 1 & 1 & 1 & 41.5785 & $\\dots$ \\\\\n",
       "\t$\\dots$ & $\\dots$ & $\\dots$ & $\\dots$ & $\\dots$ & $\\dots$ & $\\dots$ & $\\dots$ &  \\\\\n",
       "\\end{tabular}\n"
      ],
      "text/plain": [
       "\u001b[1m3514×14 DataFrame\u001b[0m\n",
       "\u001b[1m  Row \u001b[0m│\u001b[1m station \u001b[0m\u001b[1m Latitude \u001b[0m\u001b[1m Longitude \u001b[0m\u001b[1m fwy_stable \u001b[0m\u001b[1m dir_stable \u001b[0m\u001b[1m lanes_stable \u001b[0m\u001b[1m ma\u001b[0m ⋯\n",
       "\u001b[1m      \u001b[0m│\u001b[90m Int64   \u001b[0m\u001b[90m Float64  \u001b[0m\u001b[90m Float64   \u001b[0m\u001b[90m Bool?      \u001b[0m\u001b[90m Bool?      \u001b[0m\u001b[90m Bool?        \u001b[0m\u001b[90m Fl\u001b[0m ⋯\n",
       "──────┼─────────────────────────────────────────────────────────────────────────\n",
       "    1 │  312134   38.4124   -121.484        true        true          true     ⋯\n",
       "    2 │  312346   38.6343   -121.5          true        true          true\n",
       "    3 │  312386   38.477    -121.426        true        true          true\n",
       "    4 │  312388   38.4815   -121.43         true        true          true\n",
       "    5 │  312420   38.4846   -121.434        true        true          true     ⋯\n",
       "    6 │  312422   38.4949   -121.445        true        true          true\n",
       "    7 │  312513   38.5027   -121.453        true        true          true\n",
       "    8 │  312514   38.5091   -121.459        true        true          true\n",
       "    9 │  312520   38.5117   -121.46         true        true          true     ⋯\n",
       "   10 │  312564   38.5454   -121.474        true        true          true\n",
       "   11 │  312570   38.4468   -121.406        true        true          true\n",
       "  ⋮   │    ⋮        ⋮          ⋮          ⋮           ⋮            ⋮           ⋱\n",
       " 3505 │ 1204255   33.4324   -117.616        true        true          true\n",
       " 3506 │ 1204316   33.4583   -117.655        true        true          true     ⋯\n",
       " 3507 │ 1204301   33.4558   -117.65         true        true          true\n",
       " 3508 │ 1220775   33.6374   -117.761        true        true          true\n",
       " 3509 │ 1221212   33.8572   -117.876        true        true          true\n",
       " 3510 │ 1221232   33.4504   -117.64         true        true          true     ⋯\n",
       " 3511 │ 1220811   33.6028   -117.761        true        true          true\n",
       " 3512 │ 1220816   33.5967   -117.761        true        true          true\n",
       " 3513 │ 1221254   33.9221   -117.832        true        true          true\n",
       " 3514 │ 1221255   33.9221   -117.832        true        true          true     ⋯\n",
       "\u001b[36m                                                 8 columns and 3493 rows omitted\u001b[0m"
      ]
     },
     "execution_count": 10,
     "metadata": {},
     "output_type": "execute_result"
    }
   ],
   "source": [
    "sensors = CSV.read(\"../data/stations_used_in_analysis.csv\", DataFrame) \n",
    "meta = CSV.read(\"../data/sensor_meta_geo.csv\", DataFrame)\n",
    "leftjoin!(sensors, select(meta, Not([:Latitude, :Longitude])), on=:station=>:ID);"
   ]
  },
  {
   "cell_type": "code",
   "execution_count": 5,
   "id": "4831dcb4-4c7c-47a4-ba2a-21aad76229cc",
   "metadata": {},
   "outputs": [
    {
     "data": {
      "text/plain": [
       "3514"
      ]
     },
     "execution_count": 5,
     "metadata": {},
     "output_type": "execute_result"
    }
   ],
   "source": [
    "nrow(sensors)"
   ]
  },
  {
   "cell_type": "code",
   "execution_count": 13,
   "id": "f07bf3c5-1995-441a-b41b-d32e2f86ce5a",
   "metadata": {},
   "outputs": [
    {
     "data": {
      "text/plain": [
       "0.8247011952191236"
      ]
     },
     "execution_count": 13,
     "metadata": {},
     "output_type": "execute_result"
    }
   ],
   "source": [
    "mean(sensors.urban)"
   ]
  },
  {
   "cell_type": "code",
   "execution_count": 7,
   "id": "3c79a4d9-91d9-48a5-812e-539f3f634404",
   "metadata": {},
   "outputs": [
    {
     "data": {
      "text/plain": [
       "3-element Vector{String}:\n",
       " \"station\"\n",
       " \"Latitude\"\n",
       " \"Longitude\""
      ]
     },
     "execution_count": 7,
     "metadata": {},
     "output_type": "execute_result"
    }
   ],
   "source": [
    "names(sensors)"
   ]
  },
  {
   "cell_type": "code",
   "execution_count": null,
   "id": "01c03286-c186-468d-97c1-716ab21da9a7",
   "metadata": {},
   "outputs": [],
   "source": []
  }
 ],
 "metadata": {
  "kernelspec": {
   "display_name": "Julia 1.7.2",
   "language": "julia",
   "name": "julia-1.7"
  },
  "language_info": {
   "file_extension": ".jl",
   "mimetype": "application/julia",
   "name": "julia",
   "version": "1.7.3"
  }
 },
 "nbformat": 4,
 "nbformat_minor": 5
}
