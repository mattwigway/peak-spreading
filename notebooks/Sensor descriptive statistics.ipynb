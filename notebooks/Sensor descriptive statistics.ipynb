{
 "cells": [
  {
   "cell_type": "markdown",
   "id": "42ecb43d-38ba-451a-89e8-fbb28f9cb88e",
   "metadata": {},
   "source": [
    "# Sensor descriptive statistics\n",
    "\n",
    "Basic descriptives about the sensors used in the analysis."
   ]
  },
  {
   "cell_type": "code",
   "execution_count": 1,
   "id": "22bbd614-211d-4988-8b6b-70a4f0cffd6f",
   "metadata": {},
   "outputs": [],
   "source": [
    "using CSV, DataFrames, StatsBase"
   ]
  },
  {
   "cell_type": "code",
   "execution_count": 2,
   "id": "028e0724-1540-4052-b3d5-374d37920ce4",
   "metadata": {},
   "outputs": [],
   "source": [
    "sensors = CSV.read(\"../data/stations_used_in_analysis.csv\", DataFrame) \n",
    "meta = CSV.read(\"../data/sensor_meta_geo.csv\", DataFrame)\n",
    "leftjoin!(sensors, select(meta, Not([:Latitude, :Longitude])), on=:station=>:ID);"
   ]
  },
  {
   "cell_type": "code",
   "execution_count": 3,
   "id": "4831dcb4-4c7c-47a4-ba2a-21aad76229cc",
   "metadata": {},
   "outputs": [
    {
     "data": {
      "text/plain": [
       "3694"
      ]
     },
     "execution_count": 3,
     "metadata": {},
     "output_type": "execute_result"
    }
   ],
   "source": [
    "nrow(sensors)"
   ]
  },
  {
   "cell_type": "code",
   "execution_count": 4,
   "id": "f07bf3c5-1995-441a-b41b-d32e2f86ce5a",
   "metadata": {},
   "outputs": [
    {
     "data": {
      "text/plain": [
       "0.8161884136437466"
      ]
     },
     "execution_count": 4,
     "metadata": {},
     "output_type": "execute_result"
    }
   ],
   "source": [
    "mean(sensors.urban)"
   ]
  },
  {
   "cell_type": "code",
   "execution_count": 5,
   "id": "3c79a4d9-91d9-48a5-812e-539f3f634404",
   "metadata": {},
   "outputs": [
    {
     "data": {
      "text/plain": [
       "14-element Vector{String}:\n",
       " \"station\"\n",
       " \"Latitude\"\n",
       " \"Longitude\"\n",
       " \"fwy_stable\"\n",
       " \"dir_stable\"\n",
       " \"lanes_stable\"\n",
       " \"max_shift_meters\"\n",
       " \"Fwy\"\n",
       " \"Dir\"\n",
       " \"District\"\n",
       " \"Lanes\"\n",
       " \"County\"\n",
       " \"geom\"\n",
       " \"urban\""
      ]
     },
     "execution_count": 5,
     "metadata": {},
     "output_type": "execute_result"
    }
   ],
   "source": [
    "names(sensors)"
   ]
  },
  {
   "cell_type": "code",
   "execution_count": null,
   "id": "01c03286-c186-468d-97c1-716ab21da9a7",
   "metadata": {},
   "outputs": [],
   "source": []
  }
 ],
 "metadata": {
  "kernelspec": {
   "display_name": "Julia threads project 1.8.0",
   "language": "julia",
   "name": "julia-threads-project-1.8"
  },
  "language_info": {
   "file_extension": ".jl",
   "mimetype": "application/julia",
   "name": "julia",
   "version": "1.8.0"
  }
 },
 "nbformat": 4,
 "nbformat_minor": 5
}
