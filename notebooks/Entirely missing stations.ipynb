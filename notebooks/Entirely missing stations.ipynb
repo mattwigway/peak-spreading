{
 "cells": [
  {
   "cell_type": "code",
   "execution_count": 9,
   "id": "45d69718-93a9-4f84-82d5-9cd427ff07b3",
   "metadata": {},
   "outputs": [],
   "source": [
    "using KFactors, Pipe, DataFrames, StatsBase, Dates"
   ]
  },
  {
   "cell_type": "code",
   "execution_count": 2,
   "id": "73d73f37-3470-40e6-8987-c040ab274e0d",
   "metadata": {},
   "outputs": [
    {
     "name": "stderr",
     "output_type": "stream",
     "text": [
      "┌ Info: Removing sensors days with peak-hour occ above 99th percentile (22.90%)\n",
      "└ @ KFactors /Users/mwbc/git/peak-spreading/src/computation.jl:67\n"
     ]
    }
   ],
   "source": [
    "full_data = read_data(\"../data/peaks_merged.parquet\");"
   ]
  },
  {
   "cell_type": "markdown",
   "id": "8ea5c7d3-0180-4188-8d15-84e858481a93",
   "metadata": {},
   "source": [
    "## Reasons for inverted U\n",
    "\n",
    "I'm guessing it has to do with imputation methods. Sensors that never reported valid data are probably imputed differently."
   ]
  },
  {
   "cell_type": "code",
   "execution_count": 4,
   "id": "4c665b78-f959-4f9e-b10e-7542e99408f1",
   "metadata": {},
   "outputs": [
    {
     "data": {
      "text/plain": [
       "23-element Vector{String}:\n",
       " \"station\"\n",
       " \"peak_hour_occ\"\n",
       " \"peak_hour_occ_avg\"\n",
       " \"peak_hour_flow\"\n",
       " \"occ_entropy\"\n",
       " \"occ_entropy_daytime\"\n",
       " \"total_occ\"\n",
       " \"hours_of_congestion\"\n",
       " \"total_flow\"\n",
       " \"station_type\"\n",
       " \"freeway_number\"\n",
       " \"periods_imputed\"\n",
       " \"longest_imputed_time\"\n",
       " \"direction\"\n",
       " \"day_of_week\"\n",
       " \"District\"\n",
       " \"urban\"\n",
       " \"Lanes\"\n",
       " \"Latitude\"\n",
       " \"Longitude\"\n",
       " \"has_missing\"\n",
       " \"date\"\n",
       " \"peak_hour_start\""
      ]
     },
     "execution_count": 4,
     "metadata": {},
     "output_type": "execute_result"
    }
   ],
   "source": [
    "names(full_data)"
   ]
  },
  {
   "cell_type": "code",
   "execution_count": 4,
   "id": "8d376ef2-7a5c-4cec-bbff-b15dd28f76e9",
   "metadata": {},
   "outputs": [],
   "source": [
    "stdata = @pipe groupby(full_data, :station) |> combine(_,\n",
    "    :periods_imputed => (x -> sum(288 .- x)) => :periods_observed,\n",
    "    :date => minimum => :first_seen,\n",
    "    :date => maximum => :last_seen\n",
    ");"
   ]
  },
  {
   "cell_type": "code",
   "execution_count": 8,
   "id": "20b15fb4-2624-42bc-94fd-5b075e4808c6",
   "metadata": {},
   "outputs": [
    {
     "data": {
      "text/plain": [
       "0.16239754098360656"
      ]
     },
     "execution_count": 8,
     "metadata": {},
     "output_type": "execute_result"
    }
   ],
   "source": [
    "mean(stdata.periods_observed .== 0)"
   ]
  },
  {
   "cell_type": "code",
   "execution_count": 23,
   "id": "5c1f82f3-0ef9-481a-bf17-da8a14557942",
   "metadata": {},
   "outputs": [
    {
     "data": {
      "text/plain": [
       "4-element Vector{Union{Missing, Int64}}:\n",
       "  313890\n",
       "  404281\n",
       "  774165\n",
       " 1216187"
      ]
     },
     "execution_count": 23,
     "metadata": {},
     "output_type": "execute_result"
    }
   ],
   "source": [
    "stdata[stdata.periods_observed .== 0, :station][1:500:end]"
   ]
  },
  {
   "cell_type": "code",
   "execution_count": 16,
   "id": "a8ea5f8c-ed0e-4a91-96c0-5e0e3eb57d08",
   "metadata": {},
   "outputs": [
    {
     "data": {
      "text/plain": [
       "Union{Missing, Int64}[]"
      ]
     },
     "execution_count": 16,
     "metadata": {},
     "output_type": "execute_result"
    }
   ],
   "source": [
    "full_data[full_data.date .== Date(2021, 3, 14), :periods_imputed]"
   ]
  },
  {
   "cell_type": "code",
   "execution_count": 19,
   "id": "1ee99828-b5fe-4650-8740-8f390a676bd0",
   "metadata": {},
   "outputs": [
    {
     "data": {
      "text/plain": [
       "5-element Vector{String}:\n",
       " \"Monday\"\n",
       " \"Tuesday\"\n",
       " \"Wednesday\"\n",
       " \"Thursday\"\n",
       " \"Friday\""
      ]
     },
     "execution_count": 19,
     "metadata": {},
     "output_type": "execute_result"
    }
   ],
   "source": [
    "unique(Dates.dayname.(unique(full_data.date)))"
   ]
  },
  {
   "cell_type": "code",
   "execution_count": null,
   "id": "113da4d4-eb7b-4f67-9250-aba9129aab5f",
   "metadata": {},
   "outputs": [],
   "source": []
  }
 ],
 "metadata": {
  "kernelspec": {
   "display_name": "Julia 8 Threads Project 1.7.3",
   "language": "julia",
   "name": "julia-8-threads-project-1.7"
  },
  "language_info": {
   "file_extension": ".jl",
   "mimetype": "application/julia",
   "name": "julia",
   "version": "1.7.3"
  }
 },
 "nbformat": 4,
 "nbformat_minor": 5
}
