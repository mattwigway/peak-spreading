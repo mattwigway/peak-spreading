{
 "cells": [
  {
   "cell_type": "code",
   "execution_count": 38,
   "id": "cbc48ada-57f3-4457-bf8e-4831786c137c",
   "metadata": {},
   "outputs": [],
   "source": [
    "using CSV\n",
    "using Glob\n",
    "using DataFrames\n",
    "using Missings\n",
    "using ProgressBars\n",
    "using ArchGDAL"
   ]
  },
  {
   "cell_type": "code",
   "execution_count": 39,
   "id": "b069300b-42c9-49c9-bba3-ca992a81bf88",
   "metadata": {},
   "outputs": [
    {
     "name": "stderr",
     "output_type": "stream",
     "text": [
      "┌ Warning: thread = 2 warning: parsed expected 18 columns, but didn't reach end of line around data row: 970. Ignoring any extra columns on this row\n",
      "└ @ CSV /Users/matthewc/.julia/packages/CSV/Zl2ww/src/file.jl:613\n",
      "┌ Warning: thread = 2 warning: parsed expected 18 columns, but didn't reach end of line around data row: 974. Ignoring any extra columns on this row\n",
      "└ @ CSV /Users/matthewc/.julia/packages/CSV/Zl2ww/src/file.jl:613\n",
      "┌ Warning: thread = 2 warning: parsed expected 18 columns, but didn't reach end of line around data row: 1265. Ignoring any extra columns on this row\n",
      "└ @ CSV /Users/matthewc/.julia/packages/CSV/Zl2ww/src/file.jl:613\n",
      "┌ Warning: thread = 2 warning: parsed expected 18 columns, but didn't reach end of line around data row: 1266. Ignoring any extra columns on this row\n",
      "└ @ CSV /Users/matthewc/.julia/packages/CSV/Zl2ww/src/file.jl:613\n",
      "┌ Warning: thread = 2 warning: parsed expected 18 columns, but didn't reach end of line around data row: 1369. Ignoring any extra columns on this row\n",
      "└ @ CSV /Users/matthewc/.julia/packages/CSV/Zl2ww/src/file.jl:613\n"
     ]
    },
    {
     "data": {
      "text/html": [
       "<div class=\"data-frame\"><p>18,660 rows × 18 columns (omitted printing of 8 columns)</p><table class=\"data-frame\"><thead><tr><th></th><th>ID</th><th>Fwy</th><th>Dir</th><th>District</th><th>County</th><th>City</th><th>State_PM</th><th>Abs_PM</th><th>Latitude</th><th>Longitude</th></tr><tr><th></th><th title=\"Int64\">Int64</th><th title=\"Int64\">Int64</th><th title=\"String\">String</th><th title=\"Int64\">Int64</th><th title=\"Int64\">Int64</th><th title=\"Union{Missing, Int64}\">Int64?</th><th title=\"Any\">Any</th><th title=\"Float64\">Float64</th><th title=\"Union{Missing, Float64}\">Float64?</th><th title=\"Union{Missing, Float64}\">Float64?</th></tr></thead><tbody><tr><th>1</th><td>308511</td><td>50</td><td>E</td><td>3</td><td>17</td><td><em>missing</em></td><td>31.627</td><td>60.162</td><td>38.7611</td><td>-120.57</td></tr><tr><th>2</th><td>308512</td><td>50</td><td>W</td><td>3</td><td>17</td><td><em>missing</em></td><td>31.627</td><td>60.166</td><td>38.7612</td><td>-120.57</td></tr><tr><th>3</th><td>311831</td><td>5</td><td>S</td><td>3</td><td>67</td><td><em>missing</em></td><td>10.896</td><td>506.189</td><td>38.4098</td><td>-121.484</td></tr><tr><th>4</th><td>311832</td><td>5</td><td>S</td><td>3</td><td>67</td><td><em>missing</em></td><td>10.896</td><td>506.189</td><td>38.4098</td><td>-121.484</td></tr><tr><th>5</th><td>311844</td><td>5</td><td>N</td><td>3</td><td>67</td><td><em>missing</em></td><td>11.105</td><td>506.398</td><td>38.4128</td><td>-121.484</td></tr><tr><th>6</th><td>311847</td><td>5</td><td>N</td><td>3</td><td>67</td><td><em>missing</em></td><td>12.185</td><td>507.478</td><td>38.4283</td><td>-121.488</td></tr><tr><th>7</th><td>311864</td><td>5</td><td>N</td><td>3</td><td>67</td><td><em>missing</em></td><td>11.933</td><td>507.226</td><td>38.4246</td><td>-121.487</td></tr><tr><th>8</th><td>311903</td><td>50</td><td>E</td><td>3</td><td>67</td><td>64000</td><td>L0.633</td><td>3.789</td><td>38.5669</td><td>-121.506</td></tr><tr><th>9</th><td>311930</td><td>50</td><td>E</td><td>3</td><td>67</td><td>64000</td><td>L0.632</td><td>3.788</td><td>38.5669</td><td>-121.506</td></tr><tr><th>10</th><td>311973</td><td>50</td><td>E</td><td>3</td><td>67</td><td>64000</td><td>L1.22</td><td>4.376</td><td>38.5642</td><td>-121.496</td></tr><tr><th>11</th><td>311974</td><td>50</td><td>E</td><td>3</td><td>67</td><td>64000</td><td>L1.22</td><td>4.376</td><td>38.5642</td><td>-121.496</td></tr><tr><th>12</th><td>312009</td><td>50</td><td>E</td><td>3</td><td>67</td><td>64000</td><td>L1.22</td><td>4.376</td><td>38.5642</td><td>-121.496</td></tr><tr><th>13</th><td>312010</td><td>50</td><td>W</td><td>3</td><td>67</td><td>64000</td><td>L1.345</td><td>4.501</td><td>38.5638</td><td>-121.493</td></tr><tr><th>14</th><td>312011</td><td>50</td><td>W</td><td>3</td><td>67</td><td>64000</td><td>L1.345</td><td>4.501</td><td>38.5638</td><td>-121.493</td></tr><tr><th>15</th><td>312012</td><td>50</td><td>W</td><td>3</td><td>67</td><td>64000</td><td>L1.345</td><td>4.501</td><td>38.5638</td><td>-121.493</td></tr><tr><th>16</th><td>312098</td><td>50</td><td>E</td><td>3</td><td>67</td><td>64000</td><td>L2.34</td><td>5.496</td><td>38.559</td><td>-121.476</td></tr><tr><th>17</th><td>312099</td><td>50</td><td>E</td><td>3</td><td>67</td><td>64000</td><td>L2.34</td><td>5.496</td><td>38.559</td><td>-121.476</td></tr><tr><th>18</th><td>312103</td><td>50</td><td>W</td><td>3</td><td>67</td><td>64000</td><td>R0.587</td><td>6.221</td><td>38.561</td><td>-121.463</td></tr><tr><th>19</th><td>312104</td><td>50</td><td>W</td><td>3</td><td>67</td><td>64000</td><td>R0.587</td><td>6.221</td><td>38.561</td><td>-121.463</td></tr><tr><th>20</th><td>312105</td><td>50</td><td>W</td><td>3</td><td>67</td><td>64000</td><td>R0.587</td><td>6.221</td><td>38.561</td><td>-121.463</td></tr><tr><th>21</th><td>312108</td><td>50</td><td>W</td><td>3</td><td>67</td><td>64000</td><td>L2.34</td><td>5.496</td><td>38.5592</td><td>-121.476</td></tr><tr><th>22</th><td>312132</td><td>5</td><td>S</td><td>3</td><td>67</td><td><em>missing</em></td><td>10.896</td><td>506.189</td><td>38.4098</td><td>-121.484</td></tr><tr><th>23</th><td>312133</td><td>5</td><td>N</td><td>3</td><td>67</td><td><em>missing</em></td><td>12.183</td><td>507.476</td><td>38.4282</td><td>-121.488</td></tr><tr><th>24</th><td>312134</td><td>5</td><td>N</td><td>3</td><td>67</td><td><em>missing</em></td><td>11.08</td><td>506.373</td><td>38.4124</td><td>-121.484</td></tr><tr><th>25</th><td>312139</td><td>50</td><td>E</td><td>3</td><td>67</td><td>64000</td><td>L1.566</td><td>4.722</td><td>38.5625</td><td>-121.49</td></tr><tr><th>26</th><td>312141</td><td>50</td><td>E</td><td>3</td><td>67</td><td>64000</td><td>L1.566</td><td>4.722</td><td>38.5625</td><td>-121.49</td></tr><tr><th>27</th><td>312142</td><td>50</td><td>W</td><td>3</td><td>67</td><td>64000</td><td>L1.566</td><td>4.722</td><td>38.5628</td><td>-121.489</td></tr><tr><th>28</th><td>312188</td><td>50</td><td>W</td><td>3</td><td>67</td><td>64000</td><td>R2.531</td><td>8.165</td><td>38.5511</td><td>-121.43</td></tr><tr><th>29</th><td>312189</td><td>50</td><td>W</td><td>3</td><td>67</td><td>64000</td><td>R2.507</td><td>8.141</td><td>38.5512</td><td>-121.43</td></tr><tr><th>30</th><td>312205</td><td>50</td><td>W</td><td>3</td><td>67</td><td>64000</td><td>R3.429</td><td>9.063</td><td>38.5529</td><td>-121.414</td></tr><tr><th>&vellip;</th><td>&vellip;</td><td>&vellip;</td><td>&vellip;</td><td>&vellip;</td><td>&vellip;</td><td>&vellip;</td><td>&vellip;</td><td>&vellip;</td><td>&vellip;</td><td>&vellip;</td></tr></tbody></table></div>"
      ],
      "text/latex": [
       "\\begin{tabular}{r|ccccccccccc}\n",
       "\t& ID & Fwy & Dir & District & County & City & State\\_PM & Abs\\_PM & Latitude & Longitude & \\\\\n",
       "\t\\hline\n",
       "\t& Int64 & Int64 & String & Int64 & Int64 & Int64? & Any & Float64 & Float64? & Float64? & \\\\\n",
       "\t\\hline\n",
       "\t1 & 308511 & 50 & E & 3 & 17 & \\emph{missing} & 31.627 & 60.162 & 38.7611 & -120.57 & $\\dots$ \\\\\n",
       "\t2 & 308512 & 50 & W & 3 & 17 & \\emph{missing} & 31.627 & 60.166 & 38.7612 & -120.57 & $\\dots$ \\\\\n",
       "\t3 & 311831 & 5 & S & 3 & 67 & \\emph{missing} & 10.896 & 506.189 & 38.4098 & -121.484 & $\\dots$ \\\\\n",
       "\t4 & 311832 & 5 & S & 3 & 67 & \\emph{missing} & 10.896 & 506.189 & 38.4098 & -121.484 & $\\dots$ \\\\\n",
       "\t5 & 311844 & 5 & N & 3 & 67 & \\emph{missing} & 11.105 & 506.398 & 38.4128 & -121.484 & $\\dots$ \\\\\n",
       "\t6 & 311847 & 5 & N & 3 & 67 & \\emph{missing} & 12.185 & 507.478 & 38.4283 & -121.488 & $\\dots$ \\\\\n",
       "\t7 & 311864 & 5 & N & 3 & 67 & \\emph{missing} & 11.933 & 507.226 & 38.4246 & -121.487 & $\\dots$ \\\\\n",
       "\t8 & 311903 & 50 & E & 3 & 67 & 64000 & L0.633 & 3.789 & 38.5669 & -121.506 & $\\dots$ \\\\\n",
       "\t9 & 311930 & 50 & E & 3 & 67 & 64000 & L0.632 & 3.788 & 38.5669 & -121.506 & $\\dots$ \\\\\n",
       "\t10 & 311973 & 50 & E & 3 & 67 & 64000 & L1.22 & 4.376 & 38.5642 & -121.496 & $\\dots$ \\\\\n",
       "\t11 & 311974 & 50 & E & 3 & 67 & 64000 & L1.22 & 4.376 & 38.5642 & -121.496 & $\\dots$ \\\\\n",
       "\t12 & 312009 & 50 & E & 3 & 67 & 64000 & L1.22 & 4.376 & 38.5642 & -121.496 & $\\dots$ \\\\\n",
       "\t13 & 312010 & 50 & W & 3 & 67 & 64000 & L1.345 & 4.501 & 38.5638 & -121.493 & $\\dots$ \\\\\n",
       "\t14 & 312011 & 50 & W & 3 & 67 & 64000 & L1.345 & 4.501 & 38.5638 & -121.493 & $\\dots$ \\\\\n",
       "\t15 & 312012 & 50 & W & 3 & 67 & 64000 & L1.345 & 4.501 & 38.5638 & -121.493 & $\\dots$ \\\\\n",
       "\t16 & 312098 & 50 & E & 3 & 67 & 64000 & L2.34 & 5.496 & 38.559 & -121.476 & $\\dots$ \\\\\n",
       "\t17 & 312099 & 50 & E & 3 & 67 & 64000 & L2.34 & 5.496 & 38.559 & -121.476 & $\\dots$ \\\\\n",
       "\t18 & 312103 & 50 & W & 3 & 67 & 64000 & R0.587 & 6.221 & 38.561 & -121.463 & $\\dots$ \\\\\n",
       "\t19 & 312104 & 50 & W & 3 & 67 & 64000 & R0.587 & 6.221 & 38.561 & -121.463 & $\\dots$ \\\\\n",
       "\t20 & 312105 & 50 & W & 3 & 67 & 64000 & R0.587 & 6.221 & 38.561 & -121.463 & $\\dots$ \\\\\n",
       "\t21 & 312108 & 50 & W & 3 & 67 & 64000 & L2.34 & 5.496 & 38.5592 & -121.476 & $\\dots$ \\\\\n",
       "\t22 & 312132 & 5 & S & 3 & 67 & \\emph{missing} & 10.896 & 506.189 & 38.4098 & -121.484 & $\\dots$ \\\\\n",
       "\t23 & 312133 & 5 & N & 3 & 67 & \\emph{missing} & 12.183 & 507.476 & 38.4282 & -121.488 & $\\dots$ \\\\\n",
       "\t24 & 312134 & 5 & N & 3 & 67 & \\emph{missing} & 11.08 & 506.373 & 38.4124 & -121.484 & $\\dots$ \\\\\n",
       "\t25 & 312139 & 50 & E & 3 & 67 & 64000 & L1.566 & 4.722 & 38.5625 & -121.49 & $\\dots$ \\\\\n",
       "\t26 & 312141 & 50 & E & 3 & 67 & 64000 & L1.566 & 4.722 & 38.5625 & -121.49 & $\\dots$ \\\\\n",
       "\t27 & 312142 & 50 & W & 3 & 67 & 64000 & L1.566 & 4.722 & 38.5628 & -121.489 & $\\dots$ \\\\\n",
       "\t28 & 312188 & 50 & W & 3 & 67 & 64000 & R2.531 & 8.165 & 38.5511 & -121.43 & $\\dots$ \\\\\n",
       "\t29 & 312189 & 50 & W & 3 & 67 & 64000 & R2.507 & 8.141 & 38.5512 & -121.43 & $\\dots$ \\\\\n",
       "\t30 & 312205 & 50 & W & 3 & 67 & 64000 & R3.429 & 9.063 & 38.5529 & -121.414 & $\\dots$ \\\\\n",
       "\t$\\dots$ & $\\dots$ & $\\dots$ & $\\dots$ & $\\dots$ & $\\dots$ & $\\dots$ & $\\dots$ & $\\dots$ & $\\dots$ & $\\dots$ &  \\\\\n",
       "\\end{tabular}\n"
      ],
      "text/plain": [
       "\u001b[1m18660×18 DataFrame\u001b[0m\n",
       "\u001b[1m   Row \u001b[0m│\u001b[1m ID      \u001b[0m\u001b[1m Fwy   \u001b[0m\u001b[1m Dir    \u001b[0m\u001b[1m District \u001b[0m\u001b[1m County \u001b[0m\u001b[1m City    \u001b[0m\u001b[1m State_PM \u001b[0m\u001b[1m Abs_PM  \u001b[0m\u001b[1m\u001b[0m ⋯\n",
       "\u001b[1m       \u001b[0m│\u001b[90m Int64   \u001b[0m\u001b[90m Int64 \u001b[0m\u001b[90m String \u001b[0m\u001b[90m Int64    \u001b[0m\u001b[90m Int64  \u001b[0m\u001b[90m Int64?  \u001b[0m\u001b[90m Any      \u001b[0m\u001b[90m Float64 \u001b[0m\u001b[90m\u001b[0m ⋯\n",
       "───────┼────────────────────────────────────────────────────────────────────────\n",
       "     1 │  308511     50  E              3      17 \u001b[90m missing \u001b[0m 31.627     60.162  ⋯\n",
       "     2 │  308512     50  W              3      17 \u001b[90m missing \u001b[0m 31.627     60.166\n",
       "     3 │  311831      5  S              3      67 \u001b[90m missing \u001b[0m 10.896    506.189\n",
       "     4 │  311832      5  S              3      67 \u001b[90m missing \u001b[0m 10.896    506.189\n",
       "     5 │  311844      5  N              3      67 \u001b[90m missing \u001b[0m 11.105    506.398  ⋯\n",
       "     6 │  311847      5  N              3      67 \u001b[90m missing \u001b[0m 12.185    507.478\n",
       "     7 │  311864      5  N              3      67 \u001b[90m missing \u001b[0m 11.933    507.226\n",
       "     8 │  311903     50  E              3      67    64000  L0.633      3.789\n",
       "     9 │  311930     50  E              3      67    64000  L0.632      3.788  ⋯\n",
       "    10 │  311973     50  E              3      67    64000  L1.22       4.376\n",
       "    11 │  311974     50  E              3      67    64000  L1.22       4.376\n",
       "   ⋮   │    ⋮       ⋮      ⋮        ⋮        ⋮        ⋮        ⋮         ⋮     ⋱\n",
       " 18651 │ 1222000      5  S             12      59    68028  12.549     84.744\n",
       " 18652 │ 1222006      5  N             12      59    68028  12.549     84.807  ⋯\n",
       " 18653 │ 1222012      5  S             12      59    68028  11         83.195\n",
       " 18654 │ 1222018      5  N             12      59    48256  13.7       85.958\n",
       " 18655 │ 1222023      5  N             12      59    48256  13.88      86.138\n",
       " 18656 │ 1222030      5  S             12      59    48256  13.88      86.075  ⋯\n",
       " 18657 │ 1222032      5  S             12      59    68028  12.549     84.744\n",
       " 18658 │ 1222034      5  N             12      59    68028  12.549     84.807\n",
       " 18659 │ 1222036      5  N             12      59    48256  13.7       85.958\n",
       " 18660 │ 1222038      5  S             12      59    48256  13.7       85.895  ⋯\n",
       "\u001b[36m                                               10 columns and 18639 rows omitted\u001b[0m"
      ]
     },
     "execution_count": 39,
     "metadata": {},
     "output_type": "execute_result"
    }
   ],
   "source": [
    "# confirm that sensor numbers/locations did not change year-to-year\n",
    "sensor_meta = vcat(map(glob(\"../data/d*meta*.tsv\")) do fn\n",
    "            return CSV.read(fn, DataFrame, delim=\"\\t\")\n",
    "    end...)\n",
    "nothing"
   ]
  },
  {
   "cell_type": "code",
   "execution_count": 45,
   "id": "272a52f9-f974-4944-a4b6-606897d7f307",
   "metadata": {},
   "outputs": [],
   "source": [
    "uzas = DataFrame(ArchGDAL.getlayer(ArchGDAL.read(\"../data/tl_2020_us_uac10.shp\"), 0))\n",
    "nothing"
   ]
  },
  {
   "cell_type": "code",
   "execution_count": 47,
   "id": "82a7be36-ce83-49e6-a6cd-cb4d6b1d6b38",
   "metadata": {},
   "outputs": [
    {
     "name": "stdout",
     "output_type": "stream",
     "text": [
      "Alturas, CA\n",
      "Angels, CA\n",
      "Antioch, CA\n",
      "Arbuckle, CA\n",
      "Arcata--McKinleyville, CA\n",
      "Arroyo Grande--Grover Beach, CA\n",
      "Arvin, CA\n",
      "Auburn--North Auburn, CA\n",
      "Avalon, CA\n",
      "Avenal, CA\n",
      "Bakersfield, CA\n",
      "Barstow, CA\n",
      "Big Bear City, CA\n",
      "Bishop, CA\n",
      "Blythe, CA--AZ\n",
      "Bonadelle Ranchos-Madera Ranchos, CA\n",
      "Brawley, CA\n",
      "Burney, CA\n",
      "California City, CA\n",
      "Calipatria, CA\n",
      "Calistoga, CA\n",
      "Camarillo, CA\n",
      "Cambria, CA\n",
      "Carmel Valley Village, CA\n",
      "Chico, CA\n",
      "Chowchilla, CA\n",
      "Clearlake Riviera, CA\n",
      "Clearlake, CA\n",
      "Cloverdale, CA\n",
      "Coalinga, CA\n",
      "Colfax, CA\n",
      "Colusa, CA\n",
      "Concord, CA\n",
      "Corcoran, CA\n",
      "Corning, CA\n",
      "Cottonwood, CA\n",
      "Crescent City, CA\n",
      "Davis, CA\n",
      "Delano, CA\n",
      "Desert Hot Springs, CA\n",
      "Discovery Bay, CA\n",
      "Dixon, CA\n",
      "Dos Palos, CA\n",
      "Earlimart, CA\n",
      "East Quincy, CA\n",
      "El Centro--Calexico, CA\n",
      "El Paso de Robles (Paso Robles)--Atascadero, CA\n",
      "Escalon, CA\n",
      "Esparto, CA\n",
      "Eureka, CA\n",
      "Fairfield, CA\n",
      "Fillmore, CA\n",
      "Firebaugh, CA\n",
      "Forestville, CA\n",
      "Fort Bragg, CA\n",
      "Fort Irwin, CA\n",
      "Fortuna, CA\n",
      "Frazier Park, CA\n",
      "Fresno, CA\n",
      "Galt, CA\n",
      "Gilroy--Morgan Hill, CA\n",
      "Gonzales, CA\n",
      "Grass Valley, CA\n",
      "Greenfield, CA\n",
      "Gridley, CA\n",
      "Guadalupe, CA\n",
      "Guerneville, CA\n",
      "Gustine, CA\n",
      "Half Moon Bay, CA\n",
      "Hanford, CA\n",
      "Hemet, CA\n",
      "Hidden Valley Lake, CA\n",
      "Hilmar-Irwin, CA\n",
      "Hollister, CA\n",
      "Holtville, CA\n",
      "Huron, CA\n",
      "Incline Village, NV--CA\n",
      "Indio--Cathedral City, CA\n",
      "Ione, CA\n",
      "Jackson, CA\n",
      "Kelseyville, CA\n",
      "Kerman, CA\n",
      "King City, CA\n",
      "Lake Arrowhead--Crestline, CA\n",
      "Lake Isabella, CA\n",
      "Lake Los Angeles, CA\n",
      "Lake Rancho Viejo, CA\n",
      "Lake Wildwood, CA\n",
      "Lake of the Pines, CA\n",
      "Lakeport, CA\n",
      "Lancaster--Palmdale, CA\n",
      "Lemoore Station, CA\n",
      "Lindsay, CA\n",
      "Live Oak (Sutter County), CA\n",
      "Livermore, CA\n",
      "Lodi, CA\n",
      "Lompoc, CA\n",
      "Los Angeles--Long Beach--Anaheim, CA\n",
      "Los Banos, CA\n",
      "Los Molinos, CA\n",
      "Madera, CA\n",
      "Mammoth Lakes, CA\n",
      "Manteca, CA\n",
      "McFarland, CA\n",
      "Mecca, CA\n",
      "Mendota, CA\n",
      "Merced, CA\n",
      "Mission Viejo--Lake Forest--San Clemente, CA\n",
      "Modesto, CA\n",
      "Mojave, CA\n",
      "Morro Bay--Los Osos, CA\n",
      "Mount Shasta--Weed, CA\n",
      "Mountain House, CA\n",
      "Murrieta--Temecula--Menifee, CA\n",
      "Napa, CA\n",
      "Needles, CA--AZ\n",
      "Newman, CA\n",
      "Nipomo, CA\n",
      "North Shore, CA\n",
      "Oakhurst, CA\n",
      "Orange Cove, CA\n",
      "Orland, CA\n",
      "Orosi, CA\n",
      "Oroville, CA\n",
      "Oxnard, CA\n",
      "Paradise, CA\n",
      "Parker, AZ--CA\n",
      "Parlier, CA\n",
      "Patterson, CA\n",
      "Petaluma, CA\n",
      "Phelan, CA\n",
      "Placerville--Diamond Springs, CA\n",
      "Planada, CA\n",
      "Plumas Lake, CA\n",
      "Poplar-Cotton Center, CA\n",
      "Porterville, CA\n",
      "Portola, CA\n",
      "Ramona, CA\n",
      "Rancho Calaveras--Valley Springs, CA\n",
      "Rancho Murieta, CA\n",
      "Red Bluff, CA\n",
      "Redding, CA\n",
      "Reedley--Dinuba, CA\n",
      "Reno, NV--CA\n",
      "Richgrove, CA\n",
      "Ridgecrest, CA\n",
      "Rio Dell, CA\n",
      "Rio Vista, CA\n",
      "Riverdale, CA\n",
      "Riverside--San Bernardino, CA\n",
      "Rosamond, CA\n",
      "Running Springs, CA\n",
      "Sacramento, CA\n",
      "Salinas, CA\n",
      "San Diego, CA\n",
      "San Francisco--Oakland, CA\n",
      "San Joaquin, CA\n",
      "San Jose, CA\n",
      "San Luis Obispo, CA\n",
      "Sanger, CA\n",
      "Santa Barbara, CA\n",
      "Santa Clarita, CA\n",
      "Santa Cruz, CA\n",
      "Santa Maria, CA\n",
      "Santa Paula, CA\n",
      "Santa Rosa, CA\n",
      "Seaside--Monterey, CA\n",
      "Selma, CA\n",
      "Shafter, CA\n",
      "Silver Lakes, CA\n",
      "Simi Valley, CA\n",
      "Soledad, CA\n",
      "Solvang--Buellton--Santa Ynez, CA\n",
      "Sonoma, CA\n",
      "Sonora--Jamestown--Phoenix Lake, CA\n",
      "South Lake Tahoe, CA--NV\n",
      "St. Helena, CA\n",
      "Stockton, CA\n",
      "Susanville, CA\n",
      "Taft, CA\n",
      "Tehachapi--Golden Hills, CA\n",
      "Terra Bella, CA\n",
      "Thousand Oaks, CA\n",
      "Tipton, CA\n",
      "Tracy, CA\n",
      "Truckee, CA\n",
      "Turlock, CA\n",
      "Twentynine Palms Base, CA\n",
      "Twentynine Palms, CA\n",
      "Ukiah, CA\n",
      "Vacaville, CA\n",
      "Vallejo, CA\n",
      "Vandenberg AFB, CA\n",
      "Victorville--Hesperia, CA\n",
      "Visalia, CA\n",
      "Wasco, CA\n",
      "Waterford, CA\n",
      "Watsonville, CA\n",
      "Wheatland, CA\n",
      "Williams, CA\n",
      "Willits, CA\n",
      "Willows, CA\n",
      "Winters, CA\n",
      "Woodlake, CA\n",
      "Woodland, CA\n",
      "Wrightwood, CA\n",
      "Yountville, CA\n",
      "Yreka, CA\n",
      "Yuba City, CA\n",
      "Yucca Valley, CA\n",
      "Yuma, AZ--CA\n"
     ]
    }
   ],
   "source": [
    "println(join(sort(uzas.NAME10[occursin.([\"CA\"], uzas.NAME10)]), \"\\n\"))"
   ]
  },
  {
   "cell_type": "code",
   "execution_count": 54,
   "id": "39f90d09-929c-46da-87a6-62a0e5a8c528",
   "metadata": {},
   "outputs": [],
   "source": [
    "sensor_meta.geom = passmissing(ArchGDAL.createpoint).(sensor_meta.Longitude, sensor_meta.Latitude)\n",
    "nothing"
   ]
  },
  {
   "cell_type": "code",
   "execution_count": 55,
   "id": "acc01b6c-bb1c-4c5a-a9ab-963f8c108d56",
   "metadata": {},
   "outputs": [],
   "source": [
    "# filter to just California\n",
    "ca_uza_geom = uzas[occursin.([\"CA\"], uzas.NAME10), \"\"]\n",
    "nothing"
   ]
  },
  {
   "cell_type": "code",
   "execution_count": 63,
   "id": "fe8d6ec5-6530-4be6-bbd2-e39dd3701b70",
   "metadata": {},
   "outputs": [],
   "source": [
    "sensor_meta.urban = map(sensor_meta.geom) do g\n",
    "    if ismissing(g)\n",
    "        return missing\n",
    "    else\n",
    "        for poly in ca_uza_geom\n",
    "            if ArchGDAL.contains(poly, g)\n",
    "                return true\n",
    "            end\n",
    "        end\n",
    "    end\n",
    "    \n",
    "    return false  # not in any UZA\n",
    "end\n",
    "nothing"
   ]
  },
  {
   "cell_type": "code",
   "execution_count": 65,
   "id": "33892f0b-11c1-4018-ac5d-7a2ae24b0382",
   "metadata": {},
   "outputs": [
    {
     "data": {
      "text/plain": [
       "16218"
      ]
     },
     "execution_count": 65,
     "metadata": {},
     "output_type": "execute_result"
    }
   ],
   "source": [
    "sum(skipmissing(sensor_meta.urban))"
   ]
  },
  {
   "cell_type": "code",
   "execution_count": 67,
   "id": "e0803712-7aaa-4fd5-b990-e545011ee5ea",
   "metadata": {},
   "outputs": [
    {
     "data": {
      "text/plain": [
       "2430"
      ]
     },
     "execution_count": 67,
     "metadata": {},
     "output_type": "execute_result"
    }
   ],
   "source": [
    "sum(.!skipmissing(sensor_meta.urban))"
   ]
  },
  {
   "cell_type": "code",
   "execution_count": 66,
   "id": "5b70dfd8-52ea-416d-a338-abb228c08b4c",
   "metadata": {},
   "outputs": [
    {
     "data": {
      "text/plain": [
       "\"../data/sensor_meta_geo.csv\""
      ]
     },
     "execution_count": 66,
     "metadata": {},
     "output_type": "execute_result"
    }
   ],
   "source": [
    "CSV.write(\"../data/sensor_meta_geo.csv\", sensor_meta)"
   ]
  },
  {
   "cell_type": "code",
   "execution_count": null,
   "id": "f0333e1f-08b2-4582-b721-cb640c3bf786",
   "metadata": {},
   "outputs": [],
   "source": []
  }
 ],
 "metadata": {
  "kernelspec": {
   "display_name": "Julia two thread 1.6.2",
   "language": "julia",
   "name": "julia-two-thread-1.6"
  },
  "language_info": {
   "file_extension": ".jl",
   "mimetype": "application/julia",
   "name": "julia",
   "version": "1.6.2"
  }
 },
 "nbformat": 4,
 "nbformat_minor": 5
}
