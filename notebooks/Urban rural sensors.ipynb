{
 "cells": [
  {
   "cell_type": "markdown",
   "id": "2306ebb6-d8f7-4a71-b357-3db7870581b5",
   "metadata": {},
   "source": [
    "# Urban rural sensors\n",
    "\n",
    "This notebook classifies sensors by whether they are in urban or rural areas."
   ]
  },
  {
   "cell_type": "code",
   "execution_count": null,
   "id": "cbc48ada-57f3-4457-bf8e-4831786c137c",
   "metadata": {},
   "outputs": [],
   "source": [
    "using CSV\n",
    "using Glob\n",
    "using DataFrames\n",
    "using Missings\n",
    "using ProgressBars\n",
    "using ArchGDAL"
   ]
  },
  {
   "cell_type": "code",
   "execution_count": null,
   "id": "b069300b-42c9-49c9-bba3-ca992a81bf88",
   "metadata": {},
   "outputs": [],
   "source": [
    "sensor_meta = CSV.read(\"../data/good_sensors.csv\", DataFrame)"
   ]
  },
  {
   "cell_type": "code",
   "execution_count": null,
   "id": "7c28f257-57b4-48ed-a488-c19eab8f9bd2",
   "metadata": {},
   "outputs": [],
   "source": [
    "names(sensor_meta)"
   ]
  },
  {
   "cell_type": "code",
   "execution_count": null,
   "id": "272a52f9-f974-4944-a4b6-606897d7f307",
   "metadata": {},
   "outputs": [],
   "source": [
    "uzas = DataFrame(ArchGDAL.getlayer(ArchGDAL.read(\"../data/tl_2020_us_uac10.shp\"), 0))\n",
    "nothing"
   ]
  },
  {
   "cell_type": "code",
   "execution_count": null,
   "id": "17635dd6-60f4-4e81-bb03-13486ee428ea",
   "metadata": {},
   "outputs": [],
   "source": [
    "sensor_meta[ismissing.(sensor_meta.Longitude),:]"
   ]
  },
  {
   "cell_type": "code",
   "execution_count": null,
   "id": "39f90d09-929c-46da-87a6-62a0e5a8c528",
   "metadata": {},
   "outputs": [],
   "source": [
    "sensor_meta.geom = passmissing(ArchGDAL.createpoint).(sensor_meta.Longitude, sensor_meta.Latitude)\n",
    "nothing"
   ]
  },
  {
   "cell_type": "code",
   "execution_count": null,
   "id": "c08e7cca-24e3-4ef0-a589-37ea6ce0f46d",
   "metadata": {},
   "outputs": [],
   "source": [
    "names(uzas)"
   ]
  },
  {
   "cell_type": "code",
   "execution_count": null,
   "id": "acc01b6c-bb1c-4c5a-a9ab-963f8c108d56",
   "metadata": {},
   "outputs": [],
   "source": [
    "# filter to just California, and just urbanized areas rather than urban clusters\n",
    "ca_uza_geom = uzas[occursin.([\"CA\"], uzas.NAME10) .& (uzas.UATYP10 .== \"U\"), \"\"]\n",
    "nothing"
   ]
  },
  {
   "cell_type": "code",
   "execution_count": null,
   "id": "10921a07-a82f-47be-99b0-4792be1d919d",
   "metadata": {},
   "outputs": [],
   "source": [
    "@assert !any(ismissing.(sensor_meta.geom))"
   ]
  },
  {
   "cell_type": "code",
   "execution_count": null,
   "id": "fe8d6ec5-6530-4be6-bbd2-e39dd3701b70",
   "metadata": {},
   "outputs": [],
   "source": [
    "sensor_meta.urban = map(sensor_meta.geom) do g\n",
    "    for poly in ca_uza_geom\n",
    "        if ArchGDAL.contains(poly, g)\n",
    "            return true\n",
    "        end\n",
    "    end    \n",
    "    return false  # not in any UZA\n",
    "end\n",
    "nothing"
   ]
  },
  {
   "cell_type": "code",
   "execution_count": null,
   "id": "33892f0b-11c1-4018-ac5d-7a2ae24b0382",
   "metadata": {},
   "outputs": [],
   "source": [
    "sum(sensor_meta.urban)"
   ]
  },
  {
   "cell_type": "code",
   "execution_count": null,
   "id": "e0803712-7aaa-4fd5-b990-e545011ee5ea",
   "metadata": {},
   "outputs": [],
   "source": [
    "sum(.!sensor_meta.urban)"
   ]
  },
  {
   "cell_type": "code",
   "execution_count": null,
   "id": "39a95d12-b063-4dab-aede-07793e11dd4b",
   "metadata": {},
   "outputs": [],
   "source": [
    "@assert !any(ismissing.(sensor_meta.urban))"
   ]
  },
  {
   "cell_type": "code",
   "execution_count": null,
   "id": "5b70dfd8-52ea-416d-a338-abb228c08b4c",
   "metadata": {},
   "outputs": [],
   "source": [
    "CSV.write(\"../data/sensor_meta_geo.csv\", sensor_meta)"
   ]
  },
  {
   "cell_type": "code",
   "execution_count": null,
   "id": "37118ca8-5cf2-4d17-9e93-8503c4dfb76f",
   "metadata": {},
   "outputs": [],
   "source": []
  }
 ],
 "metadata": {
  "kernelspec": {
   "display_name": "Julia threads project 1.8.5",
   "language": "julia",
   "name": "julia-threads-project-1.8"
  },
  "language_info": {
   "file_extension": ".jl",
   "mimetype": "application/julia",
   "name": "julia",
   "version": "1.8.5"
  }
 },
 "nbformat": 4,
 "nbformat_minor": 5
}
