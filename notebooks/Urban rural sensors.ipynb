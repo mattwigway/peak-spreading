{
 "cells": [
  {
   "cell_type": "code",
   "execution_count": 1,
   "id": "cbc48ada-57f3-4457-bf8e-4831786c137c",
   "metadata": {},
   "outputs": [
    {
     "name": "stderr",
     "output_type": "stream",
     "text": [
      "┌ Info: Precompiling ArchGDAL [c9ce4bd3-c3d5-55b8-8973-c0e20141b8c3]\n",
      "└ @ Base loading.jl:1342\n"
     ]
    }
   ],
   "source": [
    "using CSV\n",
    "using Glob\n",
    "using DataFrames\n",
    "using Missings\n",
    "using ProgressBars\n",
    "using ArchGDAL"
   ]
  },
  {
   "cell_type": "code",
   "execution_count": 2,
   "id": "b069300b-42c9-49c9-bba3-ca992a81bf88",
   "metadata": {},
   "outputs": [
    {
     "data": {
      "text/html": [
       "<div class=\"data-frame\"><p>18,834 rows × 12 columns (omitted printing of 5 columns)</p><table class=\"data-frame\"><thead><tr><th></th><th>ID</th><th>fwy_stable</th><th>dir_stable</th><th>lanes_stable</th><th>max_shift_meters</th><th>Latitude</th><th>Longitude</th></tr><tr><th></th><th title=\"Int64\">Int64</th><th title=\"Bool\">Bool</th><th title=\"Bool\">Bool</th><th title=\"Bool\">Bool</th><th title=\"Float64\">Float64</th><th title=\"Float64\">Float64</th><th title=\"Float64\">Float64</th></tr></thead><tbody><tr><th>1</th><td>311831</td><td>1</td><td>1</td><td>1</td><td>59.5162</td><td>38.4098</td><td>-121.484</td></tr><tr><th>2</th><td>311844</td><td>1</td><td>1</td><td>1</td><td>80.6189</td><td>38.4128</td><td>-121.484</td></tr><tr><th>3</th><td>311845</td><td>1</td><td>1</td><td>1</td><td>0.0</td><td>38.4062</td><td>-121.483</td></tr><tr><th>4</th><td>311847</td><td>1</td><td>1</td><td>1</td><td>91.9547</td><td>38.4283</td><td>-121.488</td></tr><tr><th>5</th><td>312010</td><td>1</td><td>1</td><td>1</td><td>9.62967</td><td>38.5638</td><td>-121.493</td></tr><tr><th>6</th><td>312098</td><td>1</td><td>1</td><td>1</td><td>85.7125</td><td>38.559</td><td>-121.476</td></tr><tr><th>7</th><td>312103</td><td>1</td><td>1</td><td>1</td><td>12.8604</td><td>38.561</td><td>-121.463</td></tr><tr><th>8</th><td>312132</td><td>1</td><td>1</td><td>1</td><td>9.56544</td><td>38.4098</td><td>-121.484</td></tr><tr><th>9</th><td>312133</td><td>1</td><td>1</td><td>1</td><td>53.2263</td><td>38.4282</td><td>-121.488</td></tr><tr><th>10</th><td>312134</td><td>1</td><td>1</td><td>1</td><td>16.0884</td><td>38.4124</td><td>-121.484</td></tr><tr><th>11</th><td>312139</td><td>1</td><td>1</td><td>1</td><td>1.58222</td><td>38.5625</td><td>-121.49</td></tr><tr><th>12</th><td>312222</td><td>1</td><td>1</td><td>1</td><td>0.0</td><td>38.5548</td><td>-121.405</td></tr><tr><th>13</th><td>312326</td><td>1</td><td>1</td><td>1</td><td>61.2141</td><td>38.6327</td><td>-121.503</td></tr><tr><th>14</th><td>312327</td><td>1</td><td>1</td><td>1</td><td>66.0969</td><td>38.6327</td><td>-121.503</td></tr><tr><th>15</th><td>312344</td><td>1</td><td>1</td><td>1</td><td>6.38979</td><td>38.6332</td><td>-121.501</td></tr><tr><th>16</th><td>312346</td><td>1</td><td>1</td><td>1</td><td>9.6208</td><td>38.6343</td><td>-121.5</td></tr><tr><th>17</th><td>312347</td><td>1</td><td>1</td><td>1</td><td>9.6208</td><td>38.6343</td><td>-121.5</td></tr><tr><th>18</th><td>312383</td><td>1</td><td>1</td><td>1</td><td>98.22</td><td>38.4732</td><td>-121.421</td></tr><tr><th>19</th><td>312386</td><td>1</td><td>1</td><td>1</td><td>24.216</td><td>38.477</td><td>-121.426</td></tr><tr><th>20</th><td>312387</td><td>1</td><td>1</td><td>1</td><td>28.958</td><td>38.477</td><td>-121.426</td></tr><tr><th>21</th><td>312388</td><td>1</td><td>1</td><td>1</td><td>1.64184</td><td>38.4815</td><td>-121.43</td></tr><tr><th>22</th><td>312420</td><td>1</td><td>1</td><td>1</td><td>54.8303</td><td>38.4846</td><td>-121.434</td></tr><tr><th>23</th><td>312421</td><td>1</td><td>1</td><td>1</td><td>12.9255</td><td>38.4887</td><td>-121.438</td></tr><tr><th>24</th><td>312422</td><td>1</td><td>1</td><td>1</td><td>9.67884</td><td>38.4949</td><td>-121.445</td></tr><tr><th>25</th><td>312426</td><td>1</td><td>1</td><td>1</td><td>29.0361</td><td>38.4975</td><td>-121.447</td></tr><tr><th>26</th><td>312439</td><td>1</td><td>1</td><td>1</td><td>30.5652</td><td>38.6348</td><td>-121.498</td></tr><tr><th>27</th><td>312440</td><td>1</td><td>1</td><td>1</td><td>41.7652</td><td>38.6348</td><td>-121.498</td></tr><tr><th>28</th><td>312513</td><td>1</td><td>1</td><td>1</td><td>82.1374</td><td>38.5027</td><td>-121.453</td></tr><tr><th>29</th><td>312514</td><td>1</td><td>1</td><td>1</td><td>75.5243</td><td>38.5091</td><td>-121.459</td></tr><tr><th>30</th><td>312515</td><td>1</td><td>1</td><td>1</td><td>75.5243</td><td>38.5091</td><td>-121.459</td></tr><tr><th>&vellip;</th><td>&vellip;</td><td>&vellip;</td><td>&vellip;</td><td>&vellip;</td><td>&vellip;</td><td>&vellip;</td><td>&vellip;</td></tr></tbody></table></div>"
      ],
      "text/latex": [
       "\\begin{tabular}{r|cccccccc}\n",
       "\t& ID & fwy\\_stable & dir\\_stable & lanes\\_stable & max\\_shift\\_meters & Latitude & Longitude & \\\\\n",
       "\t\\hline\n",
       "\t& Int64 & Bool & Bool & Bool & Float64 & Float64 & Float64 & \\\\\n",
       "\t\\hline\n",
       "\t1 & 311831 & 1 & 1 & 1 & 59.5162 & 38.4098 & -121.484 & $\\dots$ \\\\\n",
       "\t2 & 311844 & 1 & 1 & 1 & 80.6189 & 38.4128 & -121.484 & $\\dots$ \\\\\n",
       "\t3 & 311845 & 1 & 1 & 1 & 0.0 & 38.4062 & -121.483 & $\\dots$ \\\\\n",
       "\t4 & 311847 & 1 & 1 & 1 & 91.9547 & 38.4283 & -121.488 & $\\dots$ \\\\\n",
       "\t5 & 312010 & 1 & 1 & 1 & 9.62967 & 38.5638 & -121.493 & $\\dots$ \\\\\n",
       "\t6 & 312098 & 1 & 1 & 1 & 85.7125 & 38.559 & -121.476 & $\\dots$ \\\\\n",
       "\t7 & 312103 & 1 & 1 & 1 & 12.8604 & 38.561 & -121.463 & $\\dots$ \\\\\n",
       "\t8 & 312132 & 1 & 1 & 1 & 9.56544 & 38.4098 & -121.484 & $\\dots$ \\\\\n",
       "\t9 & 312133 & 1 & 1 & 1 & 53.2263 & 38.4282 & -121.488 & $\\dots$ \\\\\n",
       "\t10 & 312134 & 1 & 1 & 1 & 16.0884 & 38.4124 & -121.484 & $\\dots$ \\\\\n",
       "\t11 & 312139 & 1 & 1 & 1 & 1.58222 & 38.5625 & -121.49 & $\\dots$ \\\\\n",
       "\t12 & 312222 & 1 & 1 & 1 & 0.0 & 38.5548 & -121.405 & $\\dots$ \\\\\n",
       "\t13 & 312326 & 1 & 1 & 1 & 61.2141 & 38.6327 & -121.503 & $\\dots$ \\\\\n",
       "\t14 & 312327 & 1 & 1 & 1 & 66.0969 & 38.6327 & -121.503 & $\\dots$ \\\\\n",
       "\t15 & 312344 & 1 & 1 & 1 & 6.38979 & 38.6332 & -121.501 & $\\dots$ \\\\\n",
       "\t16 & 312346 & 1 & 1 & 1 & 9.6208 & 38.6343 & -121.5 & $\\dots$ \\\\\n",
       "\t17 & 312347 & 1 & 1 & 1 & 9.6208 & 38.6343 & -121.5 & $\\dots$ \\\\\n",
       "\t18 & 312383 & 1 & 1 & 1 & 98.22 & 38.4732 & -121.421 & $\\dots$ \\\\\n",
       "\t19 & 312386 & 1 & 1 & 1 & 24.216 & 38.477 & -121.426 & $\\dots$ \\\\\n",
       "\t20 & 312387 & 1 & 1 & 1 & 28.958 & 38.477 & -121.426 & $\\dots$ \\\\\n",
       "\t21 & 312388 & 1 & 1 & 1 & 1.64184 & 38.4815 & -121.43 & $\\dots$ \\\\\n",
       "\t22 & 312420 & 1 & 1 & 1 & 54.8303 & 38.4846 & -121.434 & $\\dots$ \\\\\n",
       "\t23 & 312421 & 1 & 1 & 1 & 12.9255 & 38.4887 & -121.438 & $\\dots$ \\\\\n",
       "\t24 & 312422 & 1 & 1 & 1 & 9.67884 & 38.4949 & -121.445 & $\\dots$ \\\\\n",
       "\t25 & 312426 & 1 & 1 & 1 & 29.0361 & 38.4975 & -121.447 & $\\dots$ \\\\\n",
       "\t26 & 312439 & 1 & 1 & 1 & 30.5652 & 38.6348 & -121.498 & $\\dots$ \\\\\n",
       "\t27 & 312440 & 1 & 1 & 1 & 41.7652 & 38.6348 & -121.498 & $\\dots$ \\\\\n",
       "\t28 & 312513 & 1 & 1 & 1 & 82.1374 & 38.5027 & -121.453 & $\\dots$ \\\\\n",
       "\t29 & 312514 & 1 & 1 & 1 & 75.5243 & 38.5091 & -121.459 & $\\dots$ \\\\\n",
       "\t30 & 312515 & 1 & 1 & 1 & 75.5243 & 38.5091 & -121.459 & $\\dots$ \\\\\n",
       "\t$\\dots$ & $\\dots$ & $\\dots$ & $\\dots$ & $\\dots$ & $\\dots$ & $\\dots$ & $\\dots$ &  \\\\\n",
       "\\end{tabular}\n"
      ],
      "text/plain": [
       "\u001b[1m18834×12 DataFrame\u001b[0m\n",
       "\u001b[1m   Row \u001b[0m│\u001b[1m ID      \u001b[0m\u001b[1m fwy_stable \u001b[0m\u001b[1m dir_stable \u001b[0m\u001b[1m lanes_stable \u001b[0m\u001b[1m max_shift_meters \u001b[0m\u001b[1m Lati\u001b[0m ⋯\n",
       "\u001b[1m       \u001b[0m│\u001b[90m Int64   \u001b[0m\u001b[90m Bool       \u001b[0m\u001b[90m Bool       \u001b[0m\u001b[90m Bool         \u001b[0m\u001b[90m Float64          \u001b[0m\u001b[90m Floa\u001b[0m ⋯\n",
       "───────┼────────────────────────────────────────────────────────────────────────\n",
       "     1 │  311831        true        true          true          59.5162    38. ⋯\n",
       "     2 │  311844        true        true          true          80.6189    38.\n",
       "     3 │  311845        true        true          true           0.0       38.\n",
       "     4 │  311847        true        true          true          91.9547    38.\n",
       "     5 │  312010        true        true          true           9.62967   38. ⋯\n",
       "     6 │  312098        true        true          true          85.7125    38.\n",
       "     7 │  312103        true        true          true          12.8604    38.\n",
       "     8 │  312132        true        true          true           9.56544   38.\n",
       "     9 │  312133        true        true          true          53.2263    38. ⋯\n",
       "    10 │  312134        true        true          true          16.0884    38.\n",
       "    11 │  312139        true        true          true           1.58222   38.\n",
       "   ⋮   │    ⋮         ⋮           ⋮            ⋮               ⋮             ⋮ ⋱\n",
       " 18825 │ 1222000        true        true          true           0.0       33.\n",
       " 18826 │ 1222006        true        true          true           0.0       33. ⋯\n",
       " 18827 │ 1222012        true        true          true           0.0       33.\n",
       " 18828 │ 1222018        true        true          true           0.0       33.\n",
       " 18829 │ 1222023        true        true          true           0.0       33.\n",
       " 18830 │ 1222030        true        true          true           0.0       33. ⋯\n",
       " 18831 │ 1222032        true        true          true           0.0       33.\n",
       " 18832 │ 1222034        true        true          true           0.0       33.\n",
       " 18833 │ 1222036        true        true          true           0.0       33.\n",
       " 18834 │ 1222038        true        true          true           0.0       33. ⋯\n",
       "\u001b[36m                                                7 columns and 18813 rows omitted\u001b[0m"
      ]
     },
     "execution_count": 2,
     "metadata": {},
     "output_type": "execute_result"
    }
   ],
   "source": [
    "sensor_meta = CSV.read(\"../data/good_sensors.csv\", DataFrame)"
   ]
  },
  {
   "cell_type": "code",
   "execution_count": 4,
   "id": "272a52f9-f974-4944-a4b6-606897d7f307",
   "metadata": {},
   "outputs": [],
   "source": [
    "uzas = DataFrame(ArchGDAL.getlayer(ArchGDAL.read(\"../data/tl_2020_us_uac10.shp\"), 0))\n",
    "nothing"
   ]
  },
  {
   "cell_type": "code",
   "execution_count": 5,
   "id": "39f90d09-929c-46da-87a6-62a0e5a8c528",
   "metadata": {},
   "outputs": [],
   "source": [
    "sensor_meta.geom = passmissing(ArchGDAL.createpoint).(sensor_meta.Longitude, sensor_meta.Latitude)\n",
    "nothing"
   ]
  },
  {
   "cell_type": "code",
   "execution_count": 12,
   "id": "c08e7cca-24e3-4ef0-a589-37ea6ce0f46d",
   "metadata": {},
   "outputs": [
    {
     "data": {
      "text/plain": [
       "13-element Vector{String}:\n",
       " \"\"\n",
       " \"UACE10\"\n",
       " \"GEOID10\"\n",
       " \"NAME10\"\n",
       " \"NAMELSAD10\"\n",
       " \"LSAD10\"\n",
       " \"MTFCC10\"\n",
       " \"UATYP10\"\n",
       " \"FUNCSTAT10\"\n",
       " \"ALAND10\"\n",
       " \"AWATER10\"\n",
       " \"INTPTLAT10\"\n",
       " \"INTPTLON10\""
      ]
     },
     "execution_count": 12,
     "metadata": {},
     "output_type": "execute_result"
    }
   ],
   "source": [
    "names(uzas)"
   ]
  },
  {
   "cell_type": "code",
   "execution_count": 16,
   "id": "acc01b6c-bb1c-4c5a-a9ab-963f8c108d56",
   "metadata": {},
   "outputs": [],
   "source": [
    "# filter to just California, and just urbanized areas rather than urban clusters\n",
    "ca_uza_geom = uzas[occursin.([\"CA\"], uzas.NAME10) .& (uzas.UATYP10 .== \"U\"), \"\"]\n",
    "nothing"
   ]
  },
  {
   "cell_type": "code",
   "execution_count": 17,
   "id": "10921a07-a82f-47be-99b0-4792be1d919d",
   "metadata": {},
   "outputs": [],
   "source": [
    "@assert !any(ismissing.(sensor_meta.geom))"
   ]
  },
  {
   "cell_type": "code",
   "execution_count": 18,
   "id": "fe8d6ec5-6530-4be6-bbd2-e39dd3701b70",
   "metadata": {},
   "outputs": [],
   "source": [
    "sensor_meta.urban = map(sensor_meta.geom) do g\n",
    "    for poly in ca_uza_geom\n",
    "        if ArchGDAL.contains(poly, g)\n",
    "            return true\n",
    "        end\n",
    "    end    \n",
    "    return false  # not in any UZA\n",
    "end\n",
    "nothing"
   ]
  },
  {
   "cell_type": "code",
   "execution_count": 19,
   "id": "33892f0b-11c1-4018-ac5d-7a2ae24b0382",
   "metadata": {},
   "outputs": [
    {
     "data": {
      "text/plain": [
       "16043"
      ]
     },
     "execution_count": 19,
     "metadata": {},
     "output_type": "execute_result"
    }
   ],
   "source": [
    "sum(sensor_meta.urban)"
   ]
  },
  {
   "cell_type": "code",
   "execution_count": 20,
   "id": "e0803712-7aaa-4fd5-b990-e545011ee5ea",
   "metadata": {},
   "outputs": [
    {
     "data": {
      "text/plain": [
       "2791"
      ]
     },
     "execution_count": 20,
     "metadata": {},
     "output_type": "execute_result"
    }
   ],
   "source": [
    "sum(.!sensor_meta.urban)"
   ]
  },
  {
   "cell_type": "code",
   "execution_count": 24,
   "id": "39a95d12-b063-4dab-aede-07793e11dd4b",
   "metadata": {},
   "outputs": [],
   "source": [
    "@assert !any(ismissing.(sensor_meta.urban))"
   ]
  },
  {
   "cell_type": "code",
   "execution_count": 21,
   "id": "5b70dfd8-52ea-416d-a338-abb228c08b4c",
   "metadata": {},
   "outputs": [
    {
     "data": {
      "text/plain": [
       "\"../data/sensor_meta_geo.csv\""
      ]
     },
     "execution_count": 21,
     "metadata": {},
     "output_type": "execute_result"
    }
   ],
   "source": [
    "CSV.write(\"../data/sensor_meta_geo.csv\", sensor_meta)"
   ]
  },
  {
   "cell_type": "code",
   "execution_count": 22,
   "id": "f0333e1f-08b2-4582-b721-cb640c3bf786",
   "metadata": {},
   "outputs": [
    {
     "data": {
      "text/plain": [
       "false"
      ]
     },
     "execution_count": 22,
     "metadata": {},
     "output_type": "execute_result"
    }
   ],
   "source": []
  },
  {
   "cell_type": "code",
   "execution_count": null,
   "id": "37118ca8-5cf2-4d17-9e93-8503c4dfb76f",
   "metadata": {},
   "outputs": [],
   "source": []
  }
 ],
 "metadata": {
  "kernelspec": {
   "display_name": "Julia 1.6.2",
   "language": "julia",
   "name": "julia-1.6"
  },
  "language_info": {
   "file_extension": ".jl",
   "mimetype": "application/julia",
   "name": "julia",
   "version": "1.6.3"
  }
 },
 "nbformat": 4,
 "nbformat_minor": 5
}
