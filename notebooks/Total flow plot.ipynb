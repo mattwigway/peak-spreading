{
 "cells": [
  {
   "cell_type": "markdown",
   "id": "db6cf70e-bd50-4cc7-b69d-87d07704276a",
   "metadata": {},
   "source": [
    "# Total flow plot\n",
    "\n",
    "Make a plot of total flow before and after the pandemic."
   ]
  },
  {
   "cell_type": "code",
   "execution_count": null,
   "id": "90e8da25-1e2b-4160-86fd-5becaac7490b",
   "metadata": {},
   "outputs": [],
   "source": [
    "using Plots\n",
    "using DataFrames\n",
    "using StatsBase\n",
    "using Printf\n"
   ]
  },
  {
   "cell_type": "code",
   "execution_count": null,
   "id": "4404a2dc-0341-477c-bf38-5491d669ec79",
   "metadata": {},
   "outputs": [],
   "source": [
    "using KFactors"
   ]
  },
  {
   "cell_type": "code",
   "execution_count": null,
   "id": "686e034b-0b2c-4a3c-ab5f-6df26de13e68",
   "metadata": {},
   "outputs": [],
   "source": [
    "full_data = read_data(\"../data/peaks_merged.parquet\")\n",
    "data = KFactors.create_test_data(full_data, KFactors.Periods.SPRING_2022)"
   ]
  },
  {
   "cell_type": "code",
   "execution_count": null,
   "id": "14401840-3a47-4584-9c8b-4d0b39bb2999",
   "metadata": {},
   "outputs": [],
   "source": [
    "# https://identity.unc.edu/brand/color-palette/\n",
    "const UNC_BLUE = RGB(75/255, 156/255, 211/255)\n",
    "const UNC_NAVY = RGB(19/255, 41/255, 75/255)\n",
    "const UNC_DAVIE_GREEN = RGB(196/255, 214/255, 0/255)\n",
    "const UNC_PINK = RGB(239/255, 68/255, 111/255)"
   ]
  },
  {
   "cell_type": "code",
   "execution_count": null,
   "id": "09a9b25e-349b-41a0-9fbc-98b13a64de9b",
   "metadata": {},
   "outputs": [],
   "source": [
    "# create the sensor means pre and post pandemic\n",
    "sensor_mean_flow = combine(groupby(data, [:station, :period]), :total_flow => mean)\n",
    "sensor_mean_flow = unstack(sensor_mean_flow, :station, :period, :total_flow_mean)\n",
    "nothing"
   ]
  },
  {
   "cell_type": "code",
   "execution_count": null,
   "id": "3421ca1a-5924-44f2-938a-70e2e9111b52",
   "metadata": {},
   "outputs": [],
   "source": [
    "sensor_mean_flow.change_prepost = sensor_mean_flow.postlockdown .- sensor_mean_flow.prepandemic\n",
    "sensor_mean_flow.rel_change_prepost = sensor_mean_flow.change_prepost ./ sensor_mean_flow.prepandemic .* 100\n",
    "nothing"
   ]
  },
  {
   "cell_type": "code",
   "execution_count": null,
   "id": "e65bede9-4916-4710-84c8-32ba5dd425bf",
   "metadata": {},
   "outputs": [],
   "source": [
    "complete = collect(skipmissing(sensor_mean_flow.rel_change_prepost))\n",
    "histogram(complete,\n",
    "    xlim = (min(complete...), 200), legend=false, fill=UNC_BLUE, line=UNC_BLUE)#, xlab=\"Change in mean vehicles per day, pre- to post-pandemic, by sensor\")\n",
    "vline!([0], color=:black)\n",
    "plot!(xformatter=(x -> @sprintf \"%d%%\" x))\n",
    "annotate!(\n",
    "    (150, 250, text(@sprintf(\"\"\"\n",
    "mean: %.1f%%\n",
    "median: %.1f%%\n",
    "percentiles:\n",
    "  5th: %.1f%%\n",
    "  25th: %.1f%%\n",
    "  75th: %.1f%%\n",
    "  95th: %.1f%%\n",
    "            \"\"\", mean(complete), percentile(complete, [50, 5, 25, 75, 95])...), halign=:left, pointsize=8))\n",
    "    )\n",
    "savefig(\"../fig/flow_change.pdf\")\n",
    "plot!()"
   ]
  },
  {
   "cell_type": "code",
   "execution_count": null,
   "id": "cdf9182c-e0cb-4dc9-9560-8e28bb16ea87",
   "metadata": {},
   "outputs": [],
   "source": []
  }
 ],
 "metadata": {
  "kernelspec": {
   "display_name": "Julia threads project 1.8.5",
   "language": "julia",
   "name": "julia-threads-project-1.8"
  },
  "language_info": {
   "file_extension": ".jl",
   "mimetype": "application/julia",
   "name": "julia",
   "version": "1.8.5"
  }
 },
 "nbformat": 4,
 "nbformat_minor": 5
}
