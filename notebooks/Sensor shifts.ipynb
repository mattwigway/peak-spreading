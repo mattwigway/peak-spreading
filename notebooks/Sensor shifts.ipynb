{
 "cells": [
  {
   "cell_type": "markdown",
   "id": "8509d636-cf32-4f1b-af1a-d9716ac35997",
   "metadata": {},
   "source": [
    "# Sensor shifts\n",
    "\n",
    "Make sure sensor locations are stable over time. Most are, but some are not. Write out a file with those that are not so we can drop them.\n",
    "\n",
    "TODO one file from d03 is empty - but shouldn't matter since it's the last one in 2015, and there's a new one in March 2016, and we're not using any data from pre-March 2016."
   ]
  },
  {
   "cell_type": "code",
   "execution_count": 1,
   "id": "0ed348e0-967e-4fa1-904b-5eac12189886",
   "metadata": {},
   "outputs": [],
   "source": [
    "using CSV, DataFrames, DataFramesMeta, Logging, ProgressMeter, Geodesy, Dates, StatsBase"
   ]
  },
  {
   "cell_type": "code",
   "execution_count": 2,
   "id": "834cc5b6-580a-49fa-bd64-8d4895075920",
   "metadata": {},
   "outputs": [],
   "source": [
    "files = filter(readdir(\"../data/meta/\")) do fn\n",
    "    !isnothing(match(r\"^d.*_text_meta_.*\\.txt\", fn))\n",
    "end\n",
    "nothing"
   ]
  },
  {
   "cell_type": "markdown",
   "id": "41d62d09-59f9-478f-b0a4-7e4980d0dc87",
   "metadata": {},
   "source": [
    "## Figure out which dates to read\n",
    "\n",
    "We want to read all metadata files from 2016 or later, and the last file before 2016-01-01, so we have valid metadata for the entire analysis period."
   ]
  },
  {
   "cell_type": "code",
   "execution_count": 3,
   "id": "98804d15-d583-4533-b56e-c731ab264461",
   "metadata": {},
   "outputs": [],
   "source": [
    "dates_by_district = Dict{String, Vector{Date}}()\n",
    "\n",
    "for file in files\n",
    "    parsed = match(r\"^d0?([1-9][0-9]?)_text_meta_([0-9]{4})_([0-9]{2})_([0-9]{2}).txt\", file)\n",
    "    if !haskey(dates_by_district, parsed[1])\n",
    "        dates_by_district[parsed[1]] = []\n",
    "    end\n",
    "    date = Date(parse(Int64, parsed[2]), parse(Int64, parsed[3]), parse(Int64, parsed[4]))\n",
    "    push!(dates_by_district[parsed[1]], date)\n",
    "end"
   ]
  },
  {
   "cell_type": "code",
   "execution_count": 4,
   "id": "497cdb61-b5c4-43a5-8a1c-6ffce77d2fff",
   "metadata": {},
   "outputs": [],
   "source": [
    "dates_to_retain_by_district = Dict{String, Set{Date}}()\n",
    "\n",
    "for (district, dates) in pairs(dates_by_district)\n",
    "    # retain the file before 2016-01-01 and all after\n",
    "    last_date_before_2016 = Date(1970, 1, 1)\n",
    "    \n",
    "    for date in dates\n",
    "        if date <= Date(2016, 1, 1) && date > last_date_before_2016\n",
    "            last_date_before_2016 = date\n",
    "        end\n",
    "    end\n",
    "    \n",
    "    dates_to_retain_by_district[district] = Set(collect(filter(d -> d >= last_date_before_2016, dates)))\n",
    "end"
   ]
  },
  {
   "cell_type": "code",
   "execution_count": 5,
   "id": "0241ed88-0f8f-41cb-8cd8-ed6cd8777e37",
   "metadata": {},
   "outputs": [
    {
     "name": "stderr",
     "output_type": "stream",
     "text": [
      "┌ Warning: thread = 1 warning: parsed expected 18 columns, but didn't reach end of line around data row: 944. Ignoring any extra columns on this row\n",
      "└ @ CSV /Users/mwbc/.julia/packages/CSV/Zl2ww/src/file.jl:613\n",
      "┌ Warning: thread = 1 warning: parsed expected 18 columns, but didn't reach end of line around data row: 948. Ignoring any extra columns on this row\n",
      "└ @ CSV /Users/mwbc/.julia/packages/CSV/Zl2ww/src/file.jl:613\n",
      "┌ Warning: thread = 1 warning: parsed expected 18 columns, but didn't reach end of line around data row: 1239. Ignoring any extra columns on this row\n",
      "└ @ CSV /Users/mwbc/.julia/packages/CSV/Zl2ww/src/file.jl:613\n",
      "┌ Warning: thread = 1 warning: parsed expected 18 columns, but didn't reach end of line around data row: 1240. Ignoring any extra columns on this row\n",
      "└ @ CSV /Users/mwbc/.julia/packages/CSV/Zl2ww/src/file.jl:613\n",
      "┌ Warning: thread = 1 warning: parsed expected 18 columns, but didn't reach end of line around data row: 1343. Ignoring any extra columns on this row\n",
      "└ @ CSV /Users/mwbc/.julia/packages/CSV/Zl2ww/src/file.jl:613\n",
      "┌ Warning: thread = 1 warning: parsed expected 18 columns, but didn't reach end of line around data row: 944. Ignoring any extra columns on this row\n",
      "└ @ CSV /Users/mwbc/.julia/packages/CSV/Zl2ww/src/file.jl:613\n",
      "┌ Warning: thread = 1 warning: parsed expected 18 columns, but didn't reach end of line around data row: 948. Ignoring any extra columns on this row\n",
      "└ @ CSV /Users/mwbc/.julia/packages/CSV/Zl2ww/src/file.jl:613\n",
      "┌ Warning: thread = 1 warning: parsed expected 18 columns, but didn't reach end of line around data row: 1239. Ignoring any extra columns on this row\n",
      "└ @ CSV /Users/mwbc/.julia/packages/CSV/Zl2ww/src/file.jl:613\n",
      "┌ Warning: thread = 1 warning: parsed expected 18 columns, but didn't reach end of line around data row: 1240. Ignoring any extra columns on this row\n",
      "└ @ CSV /Users/mwbc/.julia/packages/CSV/Zl2ww/src/file.jl:613\n",
      "┌ Warning: thread = 1 warning: parsed expected 18 columns, but didn't reach end of line around data row: 1343. Ignoring any extra columns on this row\n",
      "└ @ CSV /Users/mwbc/.julia/packages/CSV/Zl2ww/src/file.jl:613\n"
     ]
    }
   ],
   "source": [
    "all_meta = vcat(skipmissing(map(files) do file\n",
    "        parsed = match(r\"^d0?([1-9][0-9]?)_text_meta_([0-9]{4})_([0-9]{2})_([0-9]{2}).txt\", file)\n",
    "        date = Date(parse(Int64, parsed[2]), parse(Int64, parsed[3]), parse(Int64, parsed[4]))\n",
    "\n",
    "        if !in(date, dates_to_retain_by_district[parsed[1]])\n",
    "            return missing\n",
    "        else\n",
    "            data = CSV.read(joinpath(\"../data/meta\", file), DataFrame)\n",
    "            select!(data, [:ID, :Fwy, :Dir, :Latitude, :Longitude, :District, :Lanes])\n",
    "            data[!, :date] .= date\n",
    "            return data\n",
    "        end\n",
    "    end)...)\n",
    "nothing"
   ]
  },
  {
   "cell_type": "markdown",
   "id": "2dc9ba2a-a1d2-4692-a547-7e6bfd1cfe0e",
   "metadata": {},
   "source": [
    "## Compute station-level statistics\n",
    "\n",
    "Make sure that freeway, direction, and number of lanes are stable, and that location did not shift by more than 100 meters."
   ]
  },
  {
   "cell_type": "code",
   "execution_count": 6,
   "id": "b683f4ff-771b-459d-a7ad-07ff6d5dfb13",
   "metadata": {},
   "outputs": [
    {
     "data": {
      "text/html": [
       "<div class=\"data-frame\"><p>20,670 rows × 11 columns (omitted printing of 4 columns)</p><table class=\"data-frame\"><thead><tr><th></th><th>ID</th><th>fwy_stable</th><th>dir_stable</th><th>lanes_stable</th><th>max_shift_meters</th><th>Latitude</th><th>Longitude</th></tr><tr><th></th><th title=\"Int64\">Int64</th><th title=\"Bool\">Bool</th><th title=\"Bool\">Bool</th><th title=\"Bool\">Bool</th><th title=\"Float64\">Float64</th><th title=\"Union{Missing, Float64}\">Float64?</th><th title=\"Union{Missing, Float64}\">Float64?</th></tr></thead><tbody><tr><th>1</th><td>311831</td><td>1</td><td>1</td><td>1</td><td>59.5162</td><td>38.4098</td><td>-121.484</td></tr><tr><th>2</th><td>311832</td><td>1</td><td>1</td><td>1</td><td>301.266</td><td>38.4098</td><td>-121.484</td></tr><tr><th>3</th><td>311844</td><td>1</td><td>1</td><td>1</td><td>80.6189</td><td>38.4128</td><td>-121.484</td></tr><tr><th>4</th><td>311845</td><td>1</td><td>1</td><td>1</td><td>0.0</td><td>38.4062</td><td>-121.483</td></tr><tr><th>5</th><td>311847</td><td>1</td><td>1</td><td>1</td><td>91.9547</td><td>38.4283</td><td>-121.488</td></tr><tr><th>6</th><td>311864</td><td>1</td><td>1</td><td>1</td><td>394.968</td><td>38.4246</td><td>-121.487</td></tr><tr><th>7</th><td>311903</td><td>1</td><td>1</td><td>1</td><td>1812.91</td><td>38.5669</td><td>-121.506</td></tr><tr><th>8</th><td>311930</td><td>1</td><td>1</td><td>1</td><td>1799.79</td><td>38.5669</td><td>-121.506</td></tr><tr><th>9</th><td>311973</td><td>1</td><td>1</td><td>1</td><td>406.343</td><td>38.5642</td><td>-121.496</td></tr><tr><th>10</th><td>311974</td><td>1</td><td>1</td><td>1</td><td>207.906</td><td>38.5642</td><td>-121.496</td></tr><tr><th>11</th><td>312009</td><td>1</td><td>1</td><td>1</td><td>129.572</td><td>38.5642</td><td>-121.496</td></tr><tr><th>12</th><td>312010</td><td>1</td><td>1</td><td>1</td><td>9.62967</td><td>38.5638</td><td>-121.493</td></tr><tr><th>13</th><td>312011</td><td>1</td><td>1</td><td>1</td><td>304.976</td><td>38.5638</td><td>-121.493</td></tr><tr><th>14</th><td>312012</td><td>1</td><td>1</td><td>1</td><td>252.964</td><td>38.5638</td><td>-121.493</td></tr><tr><th>15</th><td>312098</td><td>1</td><td>1</td><td>1</td><td>85.7125</td><td>38.559</td><td>-121.476</td></tr><tr><th>16</th><td>312099</td><td>1</td><td>1</td><td>0</td><td>117.453</td><td>38.559</td><td>-121.476</td></tr><tr><th>17</th><td>312103</td><td>1</td><td>1</td><td>1</td><td>12.8604</td><td>38.561</td><td>-121.463</td></tr><tr><th>18</th><td>312104</td><td>1</td><td>1</td><td>0</td><td>12.8604</td><td>38.561</td><td>-121.463</td></tr><tr><th>19</th><td>312105</td><td>1</td><td>1</td><td>1</td><td>323.773</td><td>38.561</td><td>-121.463</td></tr><tr><th>20</th><td>312108</td><td>1</td><td>1</td><td>1</td><td>185.172</td><td>38.5592</td><td>-121.476</td></tr><tr><th>21</th><td>312132</td><td>1</td><td>1</td><td>1</td><td>9.56544</td><td>38.4098</td><td>-121.484</td></tr><tr><th>22</th><td>312133</td><td>1</td><td>1</td><td>1</td><td>53.2263</td><td>38.4282</td><td>-121.488</td></tr><tr><th>23</th><td>312134</td><td>1</td><td>1</td><td>1</td><td>16.0884</td><td>38.4124</td><td>-121.484</td></tr><tr><th>24</th><td>312139</td><td>1</td><td>1</td><td>1</td><td>1.58222</td><td>38.5625</td><td>-121.49</td></tr><tr><th>25</th><td>312141</td><td>1</td><td>1</td><td>1</td><td>280.093</td><td>38.5625</td><td>-121.49</td></tr><tr><th>26</th><td>312142</td><td>1</td><td>1</td><td>1</td><td>265.806</td><td>38.5628</td><td>-121.489</td></tr><tr><th>27</th><td>312188</td><td>1</td><td>1</td><td>1</td><td>8936.45</td><td>38.5511</td><td>-121.43</td></tr><tr><th>28</th><td>312189</td><td>1</td><td>1</td><td>0</td><td>8936.45</td><td>38.5512</td><td>-121.43</td></tr><tr><th>29</th><td>312205</td><td>1</td><td>1</td><td>1</td><td>325.302</td><td>38.5529</td><td>-121.414</td></tr><tr><th>30</th><td>312206</td><td>1</td><td>1</td><td>1</td><td>8383.71</td><td>38.569</td><td>-121.33</td></tr><tr><th>&vellip;</th><td>&vellip;</td><td>&vellip;</td><td>&vellip;</td><td>&vellip;</td><td>&vellip;</td><td>&vellip;</td><td>&vellip;</td></tr></tbody></table></div>"
      ],
      "text/latex": [
       "\\begin{tabular}{r|cccccccc}\n",
       "\t& ID & fwy\\_stable & dir\\_stable & lanes\\_stable & max\\_shift\\_meters & Latitude & Longitude & \\\\\n",
       "\t\\hline\n",
       "\t& Int64 & Bool & Bool & Bool & Float64 & Float64? & Float64? & \\\\\n",
       "\t\\hline\n",
       "\t1 & 311831 & 1 & 1 & 1 & 59.5162 & 38.4098 & -121.484 & $\\dots$ \\\\\n",
       "\t2 & 311832 & 1 & 1 & 1 & 301.266 & 38.4098 & -121.484 & $\\dots$ \\\\\n",
       "\t3 & 311844 & 1 & 1 & 1 & 80.6189 & 38.4128 & -121.484 & $\\dots$ \\\\\n",
       "\t4 & 311845 & 1 & 1 & 1 & 0.0 & 38.4062 & -121.483 & $\\dots$ \\\\\n",
       "\t5 & 311847 & 1 & 1 & 1 & 91.9547 & 38.4283 & -121.488 & $\\dots$ \\\\\n",
       "\t6 & 311864 & 1 & 1 & 1 & 394.968 & 38.4246 & -121.487 & $\\dots$ \\\\\n",
       "\t7 & 311903 & 1 & 1 & 1 & 1812.91 & 38.5669 & -121.506 & $\\dots$ \\\\\n",
       "\t8 & 311930 & 1 & 1 & 1 & 1799.79 & 38.5669 & -121.506 & $\\dots$ \\\\\n",
       "\t9 & 311973 & 1 & 1 & 1 & 406.343 & 38.5642 & -121.496 & $\\dots$ \\\\\n",
       "\t10 & 311974 & 1 & 1 & 1 & 207.906 & 38.5642 & -121.496 & $\\dots$ \\\\\n",
       "\t11 & 312009 & 1 & 1 & 1 & 129.572 & 38.5642 & -121.496 & $\\dots$ \\\\\n",
       "\t12 & 312010 & 1 & 1 & 1 & 9.62967 & 38.5638 & -121.493 & $\\dots$ \\\\\n",
       "\t13 & 312011 & 1 & 1 & 1 & 304.976 & 38.5638 & -121.493 & $\\dots$ \\\\\n",
       "\t14 & 312012 & 1 & 1 & 1 & 252.964 & 38.5638 & -121.493 & $\\dots$ \\\\\n",
       "\t15 & 312098 & 1 & 1 & 1 & 85.7125 & 38.559 & -121.476 & $\\dots$ \\\\\n",
       "\t16 & 312099 & 1 & 1 & 0 & 117.453 & 38.559 & -121.476 & $\\dots$ \\\\\n",
       "\t17 & 312103 & 1 & 1 & 1 & 12.8604 & 38.561 & -121.463 & $\\dots$ \\\\\n",
       "\t18 & 312104 & 1 & 1 & 0 & 12.8604 & 38.561 & -121.463 & $\\dots$ \\\\\n",
       "\t19 & 312105 & 1 & 1 & 1 & 323.773 & 38.561 & -121.463 & $\\dots$ \\\\\n",
       "\t20 & 312108 & 1 & 1 & 1 & 185.172 & 38.5592 & -121.476 & $\\dots$ \\\\\n",
       "\t21 & 312132 & 1 & 1 & 1 & 9.56544 & 38.4098 & -121.484 & $\\dots$ \\\\\n",
       "\t22 & 312133 & 1 & 1 & 1 & 53.2263 & 38.4282 & -121.488 & $\\dots$ \\\\\n",
       "\t23 & 312134 & 1 & 1 & 1 & 16.0884 & 38.4124 & -121.484 & $\\dots$ \\\\\n",
       "\t24 & 312139 & 1 & 1 & 1 & 1.58222 & 38.5625 & -121.49 & $\\dots$ \\\\\n",
       "\t25 & 312141 & 1 & 1 & 1 & 280.093 & 38.5625 & -121.49 & $\\dots$ \\\\\n",
       "\t26 & 312142 & 1 & 1 & 1 & 265.806 & 38.5628 & -121.489 & $\\dots$ \\\\\n",
       "\t27 & 312188 & 1 & 1 & 1 & 8936.45 & 38.5511 & -121.43 & $\\dots$ \\\\\n",
       "\t28 & 312189 & 1 & 1 & 0 & 8936.45 & 38.5512 & -121.43 & $\\dots$ \\\\\n",
       "\t29 & 312205 & 1 & 1 & 1 & 325.302 & 38.5529 & -121.414 & $\\dots$ \\\\\n",
       "\t30 & 312206 & 1 & 1 & 1 & 8383.71 & 38.569 & -121.33 & $\\dots$ \\\\\n",
       "\t$\\dots$ & $\\dots$ & $\\dots$ & $\\dots$ & $\\dots$ & $\\dots$ & $\\dots$ & $\\dots$ &  \\\\\n",
       "\\end{tabular}\n"
      ],
      "text/plain": [
       "\u001b[1m20670×11 DataFrame\u001b[0m\n",
       "\u001b[1m   Row \u001b[0m│\u001b[1m ID      \u001b[0m\u001b[1m fwy_stable \u001b[0m\u001b[1m dir_stable \u001b[0m\u001b[1m lanes_stable \u001b[0m\u001b[1m max_shift_meters \u001b[0m\u001b[1m Lati\u001b[0m ⋯\n",
       "\u001b[1m       \u001b[0m│\u001b[90m Int64   \u001b[0m\u001b[90m Bool       \u001b[0m\u001b[90m Bool       \u001b[0m\u001b[90m Bool         \u001b[0m\u001b[90m Float64          \u001b[0m\u001b[90m Floa\u001b[0m ⋯\n",
       "───────┼────────────────────────────────────────────────────────────────────────\n",
       "     1 │  311831        true        true          true          59.5162    38. ⋯\n",
       "     2 │  311832        true        true          true         301.266     38.\n",
       "     3 │  311844        true        true          true          80.6189    38.\n",
       "     4 │  311845        true        true          true           0.0       38.\n",
       "     5 │  311847        true        true          true          91.9547    38. ⋯\n",
       "     6 │  311864        true        true          true         394.968     38.\n",
       "     7 │  311903        true        true          true        1812.91      38.\n",
       "     8 │  311930        true        true          true        1799.79      38.\n",
       "     9 │  311973        true        true          true         406.343     38. ⋯\n",
       "    10 │  311974        true        true          true         207.906     38.\n",
       "    11 │  312009        true        true          true         129.572     38.\n",
       "   ⋮   │    ⋮         ⋮           ⋮            ⋮               ⋮             ⋮ ⋱\n",
       " 20661 │ 1222000        true        true          true           0.0       33.\n",
       " 20662 │ 1222006        true        true          true           0.0       33. ⋯\n",
       " 20663 │ 1222012        true        true          true           0.0       33.\n",
       " 20664 │ 1222018        true        true          true           0.0       33.\n",
       " 20665 │ 1222023        true        true          true           0.0       33.\n",
       " 20666 │ 1222030        true        true          true           0.0       33. ⋯\n",
       " 20667 │ 1222032        true        true          true           0.0       33.\n",
       " 20668 │ 1222034        true        true          true           0.0       33.\n",
       " 20669 │ 1222036        true        true          true           0.0       33.\n",
       " 20670 │ 1222038        true        true          true           0.0       33. ⋯\n",
       "\u001b[36m                                                6 columns and 20649 rows omitted\u001b[0m"
      ]
     },
     "execution_count": 6,
     "metadata": {},
     "output_type": "execute_result"
    }
   ],
   "source": [
    "function max_shift(lats, lons)\n",
    "    @assert length(lats) == length(lons)\n",
    "    max_shift = 0\n",
    "    for i in 1:length(lats)\n",
    "        if ismissing(lats[i]) && ismissing(lons[i]) continue end\n",
    "        pos_i = LLA(lats[i], lons[i], 0)\n",
    "        for j in 1:length(lons)\n",
    "            if ismissing(lats[j]) && ismissing(lons[j]) continue end\n",
    "            pos_j = LLA(lats[j], lons[j], 0)\n",
    "            dist = euclidean_distance(pos_i, pos_j)\n",
    "            if dist > max_shift\n",
    "                max_shift = dist\n",
    "            end\n",
    "        end\n",
    "    end\n",
    "    return max_shift\n",
    "end\n",
    "\n",
    "station_stats = combine(groupby(all_meta, :ID),\n",
    "    :Fwy => (x -> length(unique(x)) == 1) => :fwy_stable,\n",
    "    :Dir => (x -> length(unique(x)) == 1) => :dir_stable,\n",
    "    :Lanes => (x -> length(unique(x)) == 1) => :lanes_stable,\n",
    "    [:Latitude, :Longitude] => max_shift => :max_shift_meters,\n",
    "    # save representative values so we have them for all sensors\n",
    "    # this file will be used to identify the lat/lons of sensors in the final dataset,\n",
    "    # some sensors may not appear in one particular metadata file, so use the combination\n",
    "    :Latitude => last => :Latitude,\n",
    "    :Longitude => last => :Longitude,\n",
    "    :Fwy => last => :Fwy,\n",
    "    :Dir => last => :Dir,\n",
    "    :District => last => :District,\n",
    "    :Lanes => last => :Lanes\n",
    "    \n",
    ")"
   ]
  },
  {
   "cell_type": "code",
   "execution_count": 7,
   "id": "1220d533-5339-44d7-8c90-1cfc68850447",
   "metadata": {},
   "outputs": [
    {
     "data": {
      "text/plain": [
       "0.9954039671020803"
      ]
     },
     "execution_count": 7,
     "metadata": {},
     "output_type": "execute_result"
    }
   ],
   "source": [
    "mean(station_stats.fwy_stable)"
   ]
  },
  {
   "cell_type": "code",
   "execution_count": 8,
   "id": "1ba574b5-8541-47d5-8e7f-f525ad74acb1",
   "metadata": {},
   "outputs": [
    {
     "data": {
      "text/plain": [
       "0.9888727624576681"
      ]
     },
     "execution_count": 8,
     "metadata": {},
     "output_type": "execute_result"
    }
   ],
   "source": [
    "mean(station_stats.dir_stable)"
   ]
  },
  {
   "cell_type": "code",
   "execution_count": 9,
   "id": "1d155f81-99e8-444d-9962-1e536211ba5c",
   "metadata": {},
   "outputs": [
    {
     "data": {
      "text/plain": [
       "0.9625544267053701"
      ]
     },
     "execution_count": 9,
     "metadata": {},
     "output_type": "execute_result"
    }
   ],
   "source": [
    "mean(station_stats.lanes_stable)"
   ]
  },
  {
   "cell_type": "code",
   "execution_count": 10,
   "id": "5d1e3cdd-d8cf-43df-9cab-0b2fb3882cda",
   "metadata": {},
   "outputs": [
    {
     "data": {
      "text/plain": [
       "0.9528785679729076"
      ]
     },
     "execution_count": 10,
     "metadata": {},
     "output_type": "execute_result"
    }
   ],
   "source": [
    "mean(station_stats.max_shift_meters .< 100)"
   ]
  },
  {
   "cell_type": "code",
   "execution_count": 11,
   "id": "8c10a168-7cba-43ab-8acd-0821f1b51ec2",
   "metadata": {},
   "outputs": [
    {
     "data": {
      "text/plain": [
       "0.9118045476536043"
      ]
     },
     "execution_count": 11,
     "metadata": {},
     "output_type": "execute_result"
    }
   ],
   "source": [
    "mean(\n",
    "    station_stats.fwy_stable .&\n",
    "    station_stats.dir_stable .&\n",
    "    station_stats.lanes_stable .&\n",
    "    (station_stats.max_shift_meters .< 100)\n",
    "    )"
   ]
  },
  {
   "cell_type": "markdown",
   "id": "fc2081d1-206e-4e7c-bce6-fef847eb6c6d",
   "metadata": {},
   "source": [
    "## Extract metadata for good sensors\n",
    "\n",
    "This will be used to filter the sensor data to exclude the sensors that are unstable."
   ]
  },
  {
   "cell_type": "code",
   "execution_count": 12,
   "id": "fdfce0b9-1a71-444c-9f13-2e00ae56b564",
   "metadata": {},
   "outputs": [
    {
     "data": {
      "text/html": [
       "<div class=\"data-frame\"><p>18,847 rows × 11 columns (omitted printing of 4 columns)</p><table class=\"data-frame\"><thead><tr><th></th><th>ID</th><th>fwy_stable</th><th>dir_stable</th><th>lanes_stable</th><th>max_shift_meters</th><th>Latitude</th><th>Longitude</th></tr><tr><th></th><th title=\"Int64\">Int64</th><th title=\"Bool\">Bool</th><th title=\"Bool\">Bool</th><th title=\"Bool\">Bool</th><th title=\"Float64\">Float64</th><th title=\"Union{Missing, Float64}\">Float64?</th><th title=\"Union{Missing, Float64}\">Float64?</th></tr></thead><tbody><tr><th>1</th><td>311831</td><td>1</td><td>1</td><td>1</td><td>59.5162</td><td>38.4098</td><td>-121.484</td></tr><tr><th>2</th><td>311844</td><td>1</td><td>1</td><td>1</td><td>80.6189</td><td>38.4128</td><td>-121.484</td></tr><tr><th>3</th><td>311845</td><td>1</td><td>1</td><td>1</td><td>0.0</td><td>38.4062</td><td>-121.483</td></tr><tr><th>4</th><td>311847</td><td>1</td><td>1</td><td>1</td><td>91.9547</td><td>38.4283</td><td>-121.488</td></tr><tr><th>5</th><td>312010</td><td>1</td><td>1</td><td>1</td><td>9.62967</td><td>38.5638</td><td>-121.493</td></tr><tr><th>6</th><td>312098</td><td>1</td><td>1</td><td>1</td><td>85.7125</td><td>38.559</td><td>-121.476</td></tr><tr><th>7</th><td>312103</td><td>1</td><td>1</td><td>1</td><td>12.8604</td><td>38.561</td><td>-121.463</td></tr><tr><th>8</th><td>312132</td><td>1</td><td>1</td><td>1</td><td>9.56544</td><td>38.4098</td><td>-121.484</td></tr><tr><th>9</th><td>312133</td><td>1</td><td>1</td><td>1</td><td>53.2263</td><td>38.4282</td><td>-121.488</td></tr><tr><th>10</th><td>312134</td><td>1</td><td>1</td><td>1</td><td>16.0884</td><td>38.4124</td><td>-121.484</td></tr><tr><th>11</th><td>312139</td><td>1</td><td>1</td><td>1</td><td>1.58222</td><td>38.5625</td><td>-121.49</td></tr><tr><th>12</th><td>312222</td><td>1</td><td>1</td><td>1</td><td>0.0</td><td>38.5548</td><td>-121.405</td></tr><tr><th>13</th><td>312326</td><td>1</td><td>1</td><td>1</td><td>61.2141</td><td>38.6327</td><td>-121.503</td></tr><tr><th>14</th><td>312327</td><td>1</td><td>1</td><td>1</td><td>66.0969</td><td>38.6327</td><td>-121.503</td></tr><tr><th>15</th><td>312344</td><td>1</td><td>1</td><td>1</td><td>6.38979</td><td>38.6332</td><td>-121.501</td></tr><tr><th>16</th><td>312346</td><td>1</td><td>1</td><td>1</td><td>9.6208</td><td>38.6343</td><td>-121.5</td></tr><tr><th>17</th><td>312347</td><td>1</td><td>1</td><td>1</td><td>9.6208</td><td>38.6343</td><td>-121.5</td></tr><tr><th>18</th><td>312383</td><td>1</td><td>1</td><td>1</td><td>98.22</td><td>38.4732</td><td>-121.421</td></tr><tr><th>19</th><td>312386</td><td>1</td><td>1</td><td>1</td><td>24.216</td><td>38.477</td><td>-121.426</td></tr><tr><th>20</th><td>312387</td><td>1</td><td>1</td><td>1</td><td>28.958</td><td>38.477</td><td>-121.426</td></tr><tr><th>21</th><td>312388</td><td>1</td><td>1</td><td>1</td><td>1.64184</td><td>38.4815</td><td>-121.43</td></tr><tr><th>22</th><td>312420</td><td>1</td><td>1</td><td>1</td><td>54.8303</td><td>38.4846</td><td>-121.434</td></tr><tr><th>23</th><td>312421</td><td>1</td><td>1</td><td>1</td><td>12.9255</td><td>38.4887</td><td>-121.438</td></tr><tr><th>24</th><td>312422</td><td>1</td><td>1</td><td>1</td><td>9.67884</td><td>38.4949</td><td>-121.445</td></tr><tr><th>25</th><td>312426</td><td>1</td><td>1</td><td>1</td><td>29.0361</td><td>38.4975</td><td>-121.447</td></tr><tr><th>26</th><td>312439</td><td>1</td><td>1</td><td>1</td><td>30.5652</td><td>38.6348</td><td>-121.498</td></tr><tr><th>27</th><td>312440</td><td>1</td><td>1</td><td>1</td><td>41.7652</td><td>38.6348</td><td>-121.498</td></tr><tr><th>28</th><td>312513</td><td>1</td><td>1</td><td>1</td><td>82.1374</td><td>38.5027</td><td>-121.453</td></tr><tr><th>29</th><td>312514</td><td>1</td><td>1</td><td>1</td><td>75.5243</td><td>38.5091</td><td>-121.459</td></tr><tr><th>30</th><td>312515</td><td>1</td><td>1</td><td>1</td><td>75.5243</td><td>38.5091</td><td>-121.459</td></tr><tr><th>&vellip;</th><td>&vellip;</td><td>&vellip;</td><td>&vellip;</td><td>&vellip;</td><td>&vellip;</td><td>&vellip;</td><td>&vellip;</td></tr></tbody></table></div>"
      ],
      "text/latex": [
       "\\begin{tabular}{r|cccccccc}\n",
       "\t& ID & fwy\\_stable & dir\\_stable & lanes\\_stable & max\\_shift\\_meters & Latitude & Longitude & \\\\\n",
       "\t\\hline\n",
       "\t& Int64 & Bool & Bool & Bool & Float64 & Float64? & Float64? & \\\\\n",
       "\t\\hline\n",
       "\t1 & 311831 & 1 & 1 & 1 & 59.5162 & 38.4098 & -121.484 & $\\dots$ \\\\\n",
       "\t2 & 311844 & 1 & 1 & 1 & 80.6189 & 38.4128 & -121.484 & $\\dots$ \\\\\n",
       "\t3 & 311845 & 1 & 1 & 1 & 0.0 & 38.4062 & -121.483 & $\\dots$ \\\\\n",
       "\t4 & 311847 & 1 & 1 & 1 & 91.9547 & 38.4283 & -121.488 & $\\dots$ \\\\\n",
       "\t5 & 312010 & 1 & 1 & 1 & 9.62967 & 38.5638 & -121.493 & $\\dots$ \\\\\n",
       "\t6 & 312098 & 1 & 1 & 1 & 85.7125 & 38.559 & -121.476 & $\\dots$ \\\\\n",
       "\t7 & 312103 & 1 & 1 & 1 & 12.8604 & 38.561 & -121.463 & $\\dots$ \\\\\n",
       "\t8 & 312132 & 1 & 1 & 1 & 9.56544 & 38.4098 & -121.484 & $\\dots$ \\\\\n",
       "\t9 & 312133 & 1 & 1 & 1 & 53.2263 & 38.4282 & -121.488 & $\\dots$ \\\\\n",
       "\t10 & 312134 & 1 & 1 & 1 & 16.0884 & 38.4124 & -121.484 & $\\dots$ \\\\\n",
       "\t11 & 312139 & 1 & 1 & 1 & 1.58222 & 38.5625 & -121.49 & $\\dots$ \\\\\n",
       "\t12 & 312222 & 1 & 1 & 1 & 0.0 & 38.5548 & -121.405 & $\\dots$ \\\\\n",
       "\t13 & 312326 & 1 & 1 & 1 & 61.2141 & 38.6327 & -121.503 & $\\dots$ \\\\\n",
       "\t14 & 312327 & 1 & 1 & 1 & 66.0969 & 38.6327 & -121.503 & $\\dots$ \\\\\n",
       "\t15 & 312344 & 1 & 1 & 1 & 6.38979 & 38.6332 & -121.501 & $\\dots$ \\\\\n",
       "\t16 & 312346 & 1 & 1 & 1 & 9.6208 & 38.6343 & -121.5 & $\\dots$ \\\\\n",
       "\t17 & 312347 & 1 & 1 & 1 & 9.6208 & 38.6343 & -121.5 & $\\dots$ \\\\\n",
       "\t18 & 312383 & 1 & 1 & 1 & 98.22 & 38.4732 & -121.421 & $\\dots$ \\\\\n",
       "\t19 & 312386 & 1 & 1 & 1 & 24.216 & 38.477 & -121.426 & $\\dots$ \\\\\n",
       "\t20 & 312387 & 1 & 1 & 1 & 28.958 & 38.477 & -121.426 & $\\dots$ \\\\\n",
       "\t21 & 312388 & 1 & 1 & 1 & 1.64184 & 38.4815 & -121.43 & $\\dots$ \\\\\n",
       "\t22 & 312420 & 1 & 1 & 1 & 54.8303 & 38.4846 & -121.434 & $\\dots$ \\\\\n",
       "\t23 & 312421 & 1 & 1 & 1 & 12.9255 & 38.4887 & -121.438 & $\\dots$ \\\\\n",
       "\t24 & 312422 & 1 & 1 & 1 & 9.67884 & 38.4949 & -121.445 & $\\dots$ \\\\\n",
       "\t25 & 312426 & 1 & 1 & 1 & 29.0361 & 38.4975 & -121.447 & $\\dots$ \\\\\n",
       "\t26 & 312439 & 1 & 1 & 1 & 30.5652 & 38.6348 & -121.498 & $\\dots$ \\\\\n",
       "\t27 & 312440 & 1 & 1 & 1 & 41.7652 & 38.6348 & -121.498 & $\\dots$ \\\\\n",
       "\t28 & 312513 & 1 & 1 & 1 & 82.1374 & 38.5027 & -121.453 & $\\dots$ \\\\\n",
       "\t29 & 312514 & 1 & 1 & 1 & 75.5243 & 38.5091 & -121.459 & $\\dots$ \\\\\n",
       "\t30 & 312515 & 1 & 1 & 1 & 75.5243 & 38.5091 & -121.459 & $\\dots$ \\\\\n",
       "\t$\\dots$ & $\\dots$ & $\\dots$ & $\\dots$ & $\\dots$ & $\\dots$ & $\\dots$ & $\\dots$ &  \\\\\n",
       "\\end{tabular}\n"
      ],
      "text/plain": [
       "\u001b[1m18847×11 DataFrame\u001b[0m\n",
       "\u001b[1m   Row \u001b[0m│\u001b[1m ID      \u001b[0m\u001b[1m fwy_stable \u001b[0m\u001b[1m dir_stable \u001b[0m\u001b[1m lanes_stable \u001b[0m\u001b[1m max_shift_meters \u001b[0m\u001b[1m Lati\u001b[0m ⋯\n",
       "\u001b[1m       \u001b[0m│\u001b[90m Int64   \u001b[0m\u001b[90m Bool       \u001b[0m\u001b[90m Bool       \u001b[0m\u001b[90m Bool         \u001b[0m\u001b[90m Float64          \u001b[0m\u001b[90m Floa\u001b[0m ⋯\n",
       "───────┼────────────────────────────────────────────────────────────────────────\n",
       "     1 │  311831        true        true          true          59.5162    38. ⋯\n",
       "     2 │  311844        true        true          true          80.6189    38.\n",
       "     3 │  311845        true        true          true           0.0       38.\n",
       "     4 │  311847        true        true          true          91.9547    38.\n",
       "     5 │  312010        true        true          true           9.62967   38. ⋯\n",
       "     6 │  312098        true        true          true          85.7125    38.\n",
       "     7 │  312103        true        true          true          12.8604    38.\n",
       "     8 │  312132        true        true          true           9.56544   38.\n",
       "     9 │  312133        true        true          true          53.2263    38. ⋯\n",
       "    10 │  312134        true        true          true          16.0884    38.\n",
       "    11 │  312139        true        true          true           1.58222   38.\n",
       "   ⋮   │    ⋮         ⋮           ⋮            ⋮               ⋮             ⋮ ⋱\n",
       " 18838 │ 1222000        true        true          true           0.0       33.\n",
       " 18839 │ 1222006        true        true          true           0.0       33. ⋯\n",
       " 18840 │ 1222012        true        true          true           0.0       33.\n",
       " 18841 │ 1222018        true        true          true           0.0       33.\n",
       " 18842 │ 1222023        true        true          true           0.0       33.\n",
       " 18843 │ 1222030        true        true          true           0.0       33. ⋯\n",
       " 18844 │ 1222032        true        true          true           0.0       33.\n",
       " 18845 │ 1222034        true        true          true           0.0       33.\n",
       " 18846 │ 1222036        true        true          true           0.0       33.\n",
       " 18847 │ 1222038        true        true          true           0.0       33. ⋯\n",
       "\u001b[36m                                                6 columns and 18826 rows omitted\u001b[0m"
      ]
     },
     "execution_count": 12,
     "metadata": {},
     "output_type": "execute_result"
    }
   ],
   "source": [
    "good_sensor_meta = station_stats[station_stats.fwy_stable .&\n",
    "    station_stats.dir_stable .&\n",
    "    station_stats.lanes_stable .&\n",
    "    (station_stats.max_shift_meters .< 100), :]"
   ]
  },
  {
   "cell_type": "code",
   "execution_count": 13,
   "id": "e2fd4de3-d709-4eea-9f6f-d34c9c38ed9c",
   "metadata": {},
   "outputs": [
    {
     "data": {
      "text/plain": [
       "\"../data/good_sensors.csv\""
      ]
     },
     "execution_count": 13,
     "metadata": {},
     "output_type": "execute_result"
    }
   ],
   "source": [
    "CSV.write(\"../data/good_sensors.csv\", good_sensor_meta)"
   ]
  },
  {
   "cell_type": "code",
   "execution_count": null,
   "id": "51174f08-a3a8-45ff-8963-e7f2fbdd9e74",
   "metadata": {},
   "outputs": [],
   "source": []
  }
 ],
 "metadata": {
  "kernelspec": {
   "display_name": "Julia 1.6.2",
   "language": "julia",
   "name": "julia-1.6"
  },
  "language_info": {
   "file_extension": ".jl",
   "mimetype": "application/julia",
   "name": "julia",
   "version": "1.6.3"
  }
 },
 "nbformat": 4,
 "nbformat_minor": 5
}
