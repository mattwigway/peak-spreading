{
 "cells": [
  {
   "cell_type": "markdown",
   "id": "9c78fb4f-787d-4c6a-ae1b-70322acd73d3",
   "metadata": {},
   "source": [
    "# Heterogeneity model\n",
    "\n",
    "Can we find correlates of the heterogeneity in peaking?"
   ]
  },
  {
   "cell_type": "code",
   "execution_count": 24,
   "id": "52f1db9b-41c8-4ebf-a3b1-b618b42c6aed",
   "metadata": {},
   "outputs": [],
   "source": [
    "using GLM, DataFrames, Revise, Dates, StatsBase, CategoricalArrays, Plots, Distributions, RegressionTables, CSV, Pipe, ArchGDAL, Geodesy, LibSpatialIndex, ProgressMeter, ThreadsX\n",
    "using KFactors"
   ]
  },
  {
   "cell_type": "code",
   "execution_count": 23,
   "id": "7ece1722-55ce-467d-b82a-5ee033edd2d0",
   "metadata": {},
   "outputs": [
    {
     "data": {
      "text/plain": [
       "111000"
      ]
     },
     "execution_count": 23,
     "metadata": {},
     "output_type": "execute_result"
    }
   ],
   "source": [
    "const METERS_PER_DEGREE_LAT = 111_000"
   ]
  },
  {
   "cell_type": "code",
   "execution_count": 2,
   "id": "d335b9c0-87f6-4265-9b42-e6f7d43722c7",
   "metadata": {},
   "outputs": [
    {
     "name": "stderr",
     "output_type": "stream",
     "text": [
      "┌ Info: Removing sensors days with peak-hour occ above 99th percentile (22.90%)\n",
      "└ @ KFactors /Users/mwbc/git/peak-spreading/src/computation.jl:65\n"
     ]
    }
   ],
   "source": [
    "data = read_data(\"../data/peaks_merged.parquet\");"
   ]
  },
  {
   "cell_type": "code",
   "execution_count": 3,
   "id": "ec981098-bb37-4663-bbed-e8ac78b3dbaf",
   "metadata": {},
   "outputs": [],
   "source": [
    "data = KFactors.create_test_data(data, KFactors.Periods.SPRING_2022);"
   ]
  },
  {
   "cell_type": "markdown",
   "id": "5006f06d-806d-4116-9e87-9fc378acd345",
   "metadata": {},
   "source": [
    "## Create data\n",
    "\n",
    "We create separate prepandemic and postlockdown data frames, then join."
   ]
  },
  {
   "cell_type": "code",
   "execution_count": 4,
   "id": "f231ca2b-5a13-4e84-a120-e0e57842a296",
   "metadata": {},
   "outputs": [],
   "source": [
    "prepandemic, postlockdown = map((:prepandemic, :postlockdown)) do period\n",
    "    df = combine(groupby(data[data.period .== period, :], :station),\n",
    "        :total_flow => mean => :mean_flow, # TODO or per lane?\n",
    "        :urban => first => :urban,\n",
    "        :District => first => :district,\n",
    "        :Lanes => first => :lanes,\n",
    "        :periods_imputed => mean => :periods_imputed,\n",
    "        :peak_hour_start => (x -> mean(x .≤ Time(12, 00))) => :am_peak,\n",
    "        :peak_hour_occ => mean => :peak_hour_occ\n",
    "        # ideally we'd have something about network structure here but that's hard\n",
    "    )\n",
    "end;"
   ]
  },
  {
   "cell_type": "code",
   "execution_count": 5,
   "id": "e731000b-635d-403f-82e2-e0c27eb40247",
   "metadata": {},
   "outputs": [],
   "source": [
    "rename!(x -> x == \"station\" ? x : \"prepandemic_\" * x, prepandemic)\n",
    "rename!(x -> x == \"station\" ? x : \"postlockdown_\" * x, postlockdown);"
   ]
  },
  {
   "cell_type": "code",
   "execution_count": 6,
   "id": "63cf0232-3f34-40ac-b453-7e948be12748",
   "metadata": {},
   "outputs": [
    {
     "data": {
      "text/html": [
       "<div class=\"data-frame\"><p>3,514 rows × 15 columns (omitted printing of 10 columns)</p><table class=\"data-frame\"><thead><tr><th></th><th>station</th><th>prepandemic_mean_flow</th><th>prepandemic_urban</th><th>prepandemic_district</th><th>prepandemic_lanes</th></tr><tr><th></th><th title=\"Union{Missing, Int64}\">Int64?</th><th title=\"Float64\">Float64</th><th title=\"Bool\">Bool</th><th title=\"Int64\">Int64</th><th title=\"Int64\">Int64</th></tr></thead><tbody><tr><th>1</th><td>312133</td><td>42421.5</td><td>1</td><td>3</td><td>3</td></tr><tr><th>2</th><td>312134</td><td>33771.6</td><td>1</td><td>3</td><td>2</td></tr><tr><th>3</th><td>312346</td><td>63754.6</td><td>1</td><td>3</td><td>3</td></tr><tr><th>4</th><td>312386</td><td>64980.0</td><td>1</td><td>3</td><td>3</td></tr><tr><th>5</th><td>312388</td><td>71449.4</td><td>1</td><td>3</td><td>3</td></tr><tr><th>6</th><td>312420</td><td>78515.2</td><td>1</td><td>3</td><td>3</td></tr><tr><th>7</th><td>312422</td><td>64266.2</td><td>1</td><td>3</td><td>3</td></tr><tr><th>8</th><td>312513</td><td>82873.1</td><td>1</td><td>3</td><td>3</td></tr><tr><th>9</th><td>312514</td><td>72889.7</td><td>1</td><td>3</td><td>3</td></tr><tr><th>10</th><td>312520</td><td>74745.9</td><td>1</td><td>3</td><td>3</td></tr><tr><th>11</th><td>312564</td><td>1.05694e5</td><td>1</td><td>3</td><td>4</td></tr><tr><th>12</th><td>312570</td><td>57819.0</td><td>1</td><td>3</td><td>2</td></tr><tr><th>13</th><td>312648</td><td>45381.7</td><td>1</td><td>3</td><td>2</td></tr><tr><th>14</th><td>312745</td><td>80962.0</td><td>1</td><td>3</td><td>3</td></tr><tr><th>15</th><td>312771</td><td>75772.0</td><td>1</td><td>3</td><td>3</td></tr><tr><th>16</th><td>312858</td><td>48957.7</td><td>1</td><td>3</td><td>2</td></tr><tr><th>17</th><td>312896</td><td>64727.9</td><td>1</td><td>3</td><td>3</td></tr><tr><th>18</th><td>312940</td><td>67957.2</td><td>1</td><td>3</td><td>3</td></tr><tr><th>19</th><td>312942</td><td>74779.1</td><td>1</td><td>3</td><td>3</td></tr><tr><th>20</th><td>312946</td><td>68627.4</td><td>1</td><td>3</td><td>3</td></tr><tr><th>21</th><td>313037</td><td>66226.2</td><td>1</td><td>3</td><td>4</td></tr><tr><th>22</th><td>313055</td><td>58731.0</td><td>1</td><td>3</td><td>4</td></tr><tr><th>23</th><td>313144</td><td>78958.9</td><td>1</td><td>3</td><td>3</td></tr><tr><th>24</th><td>313166</td><td>32701.5</td><td>1</td><td>3</td><td>2</td></tr><tr><th>25</th><td>313190</td><td>42330.4</td><td>1</td><td>3</td><td>2</td></tr><tr><th>26</th><td>313197</td><td>86133.5</td><td>1</td><td>3</td><td>4</td></tr><tr><th>27</th><td>313339</td><td>38882.8</td><td>1</td><td>3</td><td>2</td></tr><tr><th>28</th><td>313344</td><td>30197.9</td><td>1</td><td>3</td><td>2</td></tr><tr><th>29</th><td>313349</td><td>34766.4</td><td>0</td><td>3</td><td>2</td></tr><tr><th>30</th><td>313405</td><td>82665.4</td><td>1</td><td>3</td><td>4</td></tr><tr><th>&vellip;</th><td>&vellip;</td><td>&vellip;</td><td>&vellip;</td><td>&vellip;</td><td>&vellip;</td></tr></tbody></table></div>"
      ],
      "text/latex": [
       "\\begin{tabular}{r|cccccc}\n",
       "\t& station & prepandemic\\_mean\\_flow & prepandemic\\_urban & prepandemic\\_district & prepandemic\\_lanes & \\\\\n",
       "\t\\hline\n",
       "\t& Int64? & Float64 & Bool & Int64 & Int64 & \\\\\n",
       "\t\\hline\n",
       "\t1 & 312133 & 42421.5 & 1 & 3 & 3 & $\\dots$ \\\\\n",
       "\t2 & 312134 & 33771.6 & 1 & 3 & 2 & $\\dots$ \\\\\n",
       "\t3 & 312346 & 63754.6 & 1 & 3 & 3 & $\\dots$ \\\\\n",
       "\t4 & 312386 & 64980.0 & 1 & 3 & 3 & $\\dots$ \\\\\n",
       "\t5 & 312388 & 71449.4 & 1 & 3 & 3 & $\\dots$ \\\\\n",
       "\t6 & 312420 & 78515.2 & 1 & 3 & 3 & $\\dots$ \\\\\n",
       "\t7 & 312422 & 64266.2 & 1 & 3 & 3 & $\\dots$ \\\\\n",
       "\t8 & 312513 & 82873.1 & 1 & 3 & 3 & $\\dots$ \\\\\n",
       "\t9 & 312514 & 72889.7 & 1 & 3 & 3 & $\\dots$ \\\\\n",
       "\t10 & 312520 & 74745.9 & 1 & 3 & 3 & $\\dots$ \\\\\n",
       "\t11 & 312564 & 1.05694e5 & 1 & 3 & 4 & $\\dots$ \\\\\n",
       "\t12 & 312570 & 57819.0 & 1 & 3 & 2 & $\\dots$ \\\\\n",
       "\t13 & 312648 & 45381.7 & 1 & 3 & 2 & $\\dots$ \\\\\n",
       "\t14 & 312745 & 80962.0 & 1 & 3 & 3 & $\\dots$ \\\\\n",
       "\t15 & 312771 & 75772.0 & 1 & 3 & 3 & $\\dots$ \\\\\n",
       "\t16 & 312858 & 48957.7 & 1 & 3 & 2 & $\\dots$ \\\\\n",
       "\t17 & 312896 & 64727.9 & 1 & 3 & 3 & $\\dots$ \\\\\n",
       "\t18 & 312940 & 67957.2 & 1 & 3 & 3 & $\\dots$ \\\\\n",
       "\t19 & 312942 & 74779.1 & 1 & 3 & 3 & $\\dots$ \\\\\n",
       "\t20 & 312946 & 68627.4 & 1 & 3 & 3 & $\\dots$ \\\\\n",
       "\t21 & 313037 & 66226.2 & 1 & 3 & 4 & $\\dots$ \\\\\n",
       "\t22 & 313055 & 58731.0 & 1 & 3 & 4 & $\\dots$ \\\\\n",
       "\t23 & 313144 & 78958.9 & 1 & 3 & 3 & $\\dots$ \\\\\n",
       "\t24 & 313166 & 32701.5 & 1 & 3 & 2 & $\\dots$ \\\\\n",
       "\t25 & 313190 & 42330.4 & 1 & 3 & 2 & $\\dots$ \\\\\n",
       "\t26 & 313197 & 86133.5 & 1 & 3 & 4 & $\\dots$ \\\\\n",
       "\t27 & 313339 & 38882.8 & 1 & 3 & 2 & $\\dots$ \\\\\n",
       "\t28 & 313344 & 30197.9 & 1 & 3 & 2 & $\\dots$ \\\\\n",
       "\t29 & 313349 & 34766.4 & 0 & 3 & 2 & $\\dots$ \\\\\n",
       "\t30 & 313405 & 82665.4 & 1 & 3 & 4 & $\\dots$ \\\\\n",
       "\t$\\dots$ & $\\dots$ & $\\dots$ & $\\dots$ & $\\dots$ & $\\dots$ &  \\\\\n",
       "\\end{tabular}\n"
      ],
      "text/plain": [
       "\u001b[1m3514×15 DataFrame\u001b[0m\n",
       "\u001b[1m  Row \u001b[0m│\u001b[1m station \u001b[0m\u001b[1m prepandemic_mean_flow \u001b[0m\u001b[1m prepandemic_urban \u001b[0m\u001b[1m prepandemic_distric\u001b[0m ⋯\n",
       "\u001b[1m      \u001b[0m│\u001b[90m Int64?  \u001b[0m\u001b[90m Float64               \u001b[0m\u001b[90m Bool              \u001b[0m\u001b[90m Int64              \u001b[0m ⋯\n",
       "──────┼─────────────────────────────────────────────────────────────────────────\n",
       "    1 │  312133          42421.5                     true                      ⋯\n",
       "    2 │  312134          33771.6                     true\n",
       "    3 │  312346          63754.6                     true\n",
       "    4 │  312386          64980.0                     true\n",
       "    5 │  312388          71449.4                     true                      ⋯\n",
       "    6 │  312420          78515.2                     true\n",
       "    7 │  312422          64266.2                     true\n",
       "    8 │  312513          82873.1                     true\n",
       "    9 │  312514          72889.7                     true                      ⋯\n",
       "   10 │  312520          74745.9                     true\n",
       "   11 │  312564              1.05694e5               true\n",
       "  ⋮   │    ⋮               ⋮                    ⋮                   ⋮          ⋱\n",
       " 3505 │ 1220811          22624.2                    false                    1\n",
       " 3506 │ 1220816          23941.5                     true                    1 ⋯\n",
       " 3507 │ 1220832          99536.3                     true                    1\n",
       " 3508 │ 1221212              1.58577e5               true                    1\n",
       " 3509 │ 1221232          99190.4                     true                    1\n",
       " 3510 │ 1221255          10946.5                     true                    1 ⋯\n",
       " 3511 │ 1201315              1.11498e5               true                    1\n",
       " 3512 │ 1210583          28370.7                     true                    1\n",
       " 3513 │ 1221254          12811.6                     true                    1\n",
       " 3514 │ 1208886          17257.1                     true                    1 ⋯\n",
       "\u001b[36m                                                12 columns and 3493 rows omitted\u001b[0m"
      ]
     },
     "execution_count": 6,
     "metadata": {},
     "output_type": "execute_result"
    }
   ],
   "source": [
    "estdata = leftjoin(prepandemic, postlockdown, on=:station)"
   ]
  },
  {
   "cell_type": "code",
   "execution_count": 7,
   "id": "39147ce0-29fc-4477-a109-ad48f89236f5",
   "metadata": {},
   "outputs": [
    {
     "data": {
      "text/html": [
       "<div class=\"data-frame\"><p>3,514 rows × 28 columns (omitted printing of 23 columns)</p><table class=\"data-frame\"><thead><tr><th></th><th>station</th><th>prepandemic_mean_flow</th><th>prepandemic_urban</th><th>prepandemic_district</th><th>prepandemic_lanes</th></tr><tr><th></th><th title=\"Union{Missing, Int64}\">Int64?</th><th title=\"Float64\">Float64</th><th title=\"Bool\">Bool</th><th title=\"Int64\">Int64</th><th title=\"Int64\">Int64</th></tr></thead><tbody><tr><th>1</th><td>312133</td><td>42421.5</td><td>1</td><td>3</td><td>3</td></tr><tr><th>2</th><td>312134</td><td>33771.6</td><td>1</td><td>3</td><td>2</td></tr><tr><th>3</th><td>312346</td><td>63754.6</td><td>1</td><td>3</td><td>3</td></tr><tr><th>4</th><td>312386</td><td>64980.0</td><td>1</td><td>3</td><td>3</td></tr><tr><th>5</th><td>312388</td><td>71449.4</td><td>1</td><td>3</td><td>3</td></tr><tr><th>6</th><td>312420</td><td>78515.2</td><td>1</td><td>3</td><td>3</td></tr><tr><th>7</th><td>312422</td><td>64266.2</td><td>1</td><td>3</td><td>3</td></tr><tr><th>8</th><td>312513</td><td>82873.1</td><td>1</td><td>3</td><td>3</td></tr><tr><th>9</th><td>312514</td><td>72889.7</td><td>1</td><td>3</td><td>3</td></tr><tr><th>10</th><td>312520</td><td>74745.9</td><td>1</td><td>3</td><td>3</td></tr><tr><th>11</th><td>312564</td><td>1.05694e5</td><td>1</td><td>3</td><td>4</td></tr><tr><th>12</th><td>312570</td><td>57819.0</td><td>1</td><td>3</td><td>2</td></tr><tr><th>13</th><td>312648</td><td>45381.7</td><td>1</td><td>3</td><td>2</td></tr><tr><th>14</th><td>312745</td><td>80962.0</td><td>1</td><td>3</td><td>3</td></tr><tr><th>15</th><td>312771</td><td>75772.0</td><td>1</td><td>3</td><td>3</td></tr><tr><th>16</th><td>312858</td><td>48957.7</td><td>1</td><td>3</td><td>2</td></tr><tr><th>17</th><td>312896</td><td>64727.9</td><td>1</td><td>3</td><td>3</td></tr><tr><th>18</th><td>312940</td><td>67957.2</td><td>1</td><td>3</td><td>3</td></tr><tr><th>19</th><td>312942</td><td>74779.1</td><td>1</td><td>3</td><td>3</td></tr><tr><th>20</th><td>312946</td><td>68627.4</td><td>1</td><td>3</td><td>3</td></tr><tr><th>21</th><td>313037</td><td>66226.2</td><td>1</td><td>3</td><td>4</td></tr><tr><th>22</th><td>313055</td><td>58731.0</td><td>1</td><td>3</td><td>4</td></tr><tr><th>23</th><td>313144</td><td>78958.9</td><td>1</td><td>3</td><td>3</td></tr><tr><th>24</th><td>313166</td><td>32701.5</td><td>1</td><td>3</td><td>2</td></tr><tr><th>25</th><td>313190</td><td>42330.4</td><td>1</td><td>3</td><td>2</td></tr><tr><th>26</th><td>313197</td><td>86133.5</td><td>1</td><td>3</td><td>4</td></tr><tr><th>27</th><td>313339</td><td>38882.8</td><td>1</td><td>3</td><td>2</td></tr><tr><th>28</th><td>313344</td><td>30197.9</td><td>1</td><td>3</td><td>2</td></tr><tr><th>29</th><td>313349</td><td>34766.4</td><td>0</td><td>3</td><td>2</td></tr><tr><th>30</th><td>313405</td><td>82665.4</td><td>1</td><td>3</td><td>4</td></tr><tr><th>&vellip;</th><td>&vellip;</td><td>&vellip;</td><td>&vellip;</td><td>&vellip;</td><td>&vellip;</td></tr></tbody></table></div>"
      ],
      "text/latex": [
       "\\begin{tabular}{r|cccccc}\n",
       "\t& station & prepandemic\\_mean\\_flow & prepandemic\\_urban & prepandemic\\_district & prepandemic\\_lanes & \\\\\n",
       "\t\\hline\n",
       "\t& Int64? & Float64 & Bool & Int64 & Int64 & \\\\\n",
       "\t\\hline\n",
       "\t1 & 312133 & 42421.5 & 1 & 3 & 3 & $\\dots$ \\\\\n",
       "\t2 & 312134 & 33771.6 & 1 & 3 & 2 & $\\dots$ \\\\\n",
       "\t3 & 312346 & 63754.6 & 1 & 3 & 3 & $\\dots$ \\\\\n",
       "\t4 & 312386 & 64980.0 & 1 & 3 & 3 & $\\dots$ \\\\\n",
       "\t5 & 312388 & 71449.4 & 1 & 3 & 3 & $\\dots$ \\\\\n",
       "\t6 & 312420 & 78515.2 & 1 & 3 & 3 & $\\dots$ \\\\\n",
       "\t7 & 312422 & 64266.2 & 1 & 3 & 3 & $\\dots$ \\\\\n",
       "\t8 & 312513 & 82873.1 & 1 & 3 & 3 & $\\dots$ \\\\\n",
       "\t9 & 312514 & 72889.7 & 1 & 3 & 3 & $\\dots$ \\\\\n",
       "\t10 & 312520 & 74745.9 & 1 & 3 & 3 & $\\dots$ \\\\\n",
       "\t11 & 312564 & 1.05694e5 & 1 & 3 & 4 & $\\dots$ \\\\\n",
       "\t12 & 312570 & 57819.0 & 1 & 3 & 2 & $\\dots$ \\\\\n",
       "\t13 & 312648 & 45381.7 & 1 & 3 & 2 & $\\dots$ \\\\\n",
       "\t14 & 312745 & 80962.0 & 1 & 3 & 3 & $\\dots$ \\\\\n",
       "\t15 & 312771 & 75772.0 & 1 & 3 & 3 & $\\dots$ \\\\\n",
       "\t16 & 312858 & 48957.7 & 1 & 3 & 2 & $\\dots$ \\\\\n",
       "\t17 & 312896 & 64727.9 & 1 & 3 & 3 & $\\dots$ \\\\\n",
       "\t18 & 312940 & 67957.2 & 1 & 3 & 3 & $\\dots$ \\\\\n",
       "\t19 & 312942 & 74779.1 & 1 & 3 & 3 & $\\dots$ \\\\\n",
       "\t20 & 312946 & 68627.4 & 1 & 3 & 3 & $\\dots$ \\\\\n",
       "\t21 & 313037 & 66226.2 & 1 & 3 & 4 & $\\dots$ \\\\\n",
       "\t22 & 313055 & 58731.0 & 1 & 3 & 4 & $\\dots$ \\\\\n",
       "\t23 & 313144 & 78958.9 & 1 & 3 & 3 & $\\dots$ \\\\\n",
       "\t24 & 313166 & 32701.5 & 1 & 3 & 2 & $\\dots$ \\\\\n",
       "\t25 & 313190 & 42330.4 & 1 & 3 & 2 & $\\dots$ \\\\\n",
       "\t26 & 313197 & 86133.5 & 1 & 3 & 4 & $\\dots$ \\\\\n",
       "\t27 & 313339 & 38882.8 & 1 & 3 & 2 & $\\dots$ \\\\\n",
       "\t28 & 313344 & 30197.9 & 1 & 3 & 2 & $\\dots$ \\\\\n",
       "\t29 & 313349 & 34766.4 & 0 & 3 & 2 & $\\dots$ \\\\\n",
       "\t30 & 313405 & 82665.4 & 1 & 3 & 4 & $\\dots$ \\\\\n",
       "\t$\\dots$ & $\\dots$ & $\\dots$ & $\\dots$ & $\\dots$ & $\\dots$ &  \\\\\n",
       "\\end{tabular}\n"
      ],
      "text/plain": [
       "\u001b[1m3514×28 DataFrame\u001b[0m\n",
       "\u001b[1m  Row \u001b[0m│\u001b[1m station \u001b[0m\u001b[1m prepandemic_mean_flow \u001b[0m\u001b[1m prepandemic_urban \u001b[0m\u001b[1m prepandemic_distric\u001b[0m ⋯\n",
       "\u001b[1m      \u001b[0m│\u001b[90m Int64?  \u001b[0m\u001b[90m Float64               \u001b[0m\u001b[90m Bool              \u001b[0m\u001b[90m Int64              \u001b[0m ⋯\n",
       "──────┼─────────────────────────────────────────────────────────────────────────\n",
       "    1 │  312133          42421.5                     true                      ⋯\n",
       "    2 │  312134          33771.6                     true\n",
       "    3 │  312346          63754.6                     true\n",
       "    4 │  312386          64980.0                     true\n",
       "    5 │  312388          71449.4                     true                      ⋯\n",
       "    6 │  312420          78515.2                     true\n",
       "    7 │  312422          64266.2                     true\n",
       "    8 │  312513          82873.1                     true\n",
       "    9 │  312514          72889.7                     true                      ⋯\n",
       "   10 │  312520          74745.9                     true\n",
       "   11 │  312564              1.05694e5               true\n",
       "  ⋮   │    ⋮               ⋮                    ⋮                   ⋮          ⋱\n",
       " 3505 │ 1220811          22624.2                    false                    1\n",
       " 3506 │ 1220816          23941.5                     true                    1 ⋯\n",
       " 3507 │ 1220832          99536.3                     true                    1\n",
       " 3508 │ 1221212              1.58577e5               true                    1\n",
       " 3509 │ 1221232          99190.4                     true                    1\n",
       " 3510 │ 1221255          10946.5                     true                    1 ⋯\n",
       " 3511 │ 1201315              1.11498e5               true                    1\n",
       " 3512 │ 1210583          28370.7                     true                    1\n",
       " 3513 │ 1221254          12811.6                     true                    1\n",
       " 3514 │ 1208886          17257.1                     true                    1 ⋯\n",
       "\u001b[36m                                                25 columns and 3493 rows omitted\u001b[0m"
      ]
     },
     "execution_count": 7,
     "metadata": {},
     "output_type": "execute_result"
    }
   ],
   "source": [
    "meta = CSV.read(\"../data/sensor_meta_geo.csv\", DataFrame)\n",
    "leftjoin!(estdata, meta, on=:station=>:ID)"
   ]
  },
  {
   "cell_type": "code",
   "execution_count": 8,
   "id": "3f47b414-7296-4cc0-ae74-ff3b9a2cc36c",
   "metadata": {},
   "outputs": [
    {
     "data": {
      "text/plain": [
       "\"../data/stations_with_changes.csv\""
      ]
     },
     "execution_count": 8,
     "metadata": {},
     "output_type": "execute_result"
    }
   ],
   "source": [
    "CSV.write(\"../data/stations_with_changes.csv\", estdata)"
   ]
  },
  {
   "cell_type": "code",
   "execution_count": 9,
   "id": "d965422f-0bd2-493d-8c4f-bec6a85353f3",
   "metadata": {},
   "outputs": [],
   "source": [
    "estdata.Δpeak_hour_occ = estdata.postlockdown_peak_hour_occ .- estdata.prepandemic_peak_hour_occ\n",
    "estdata.flow_change_ratio = estdata.postlockdown_mean_flow ./ estdata.prepandemic_mean_flow\n",
    "estdata.Δmissing = (estdata.postlockdown_periods_imputed .- estdata.prepandemic_periods_imputed) ./ 288;"
   ]
  },
  {
   "cell_type": "code",
   "execution_count": 10,
   "id": "d7dca21b-d71d-4d03-9950-d39fe41721f6",
   "metadata": {},
   "outputs": [],
   "source": [
    "estdata.district = CategoricalVector(estdata.prepandemic_district)\n",
    "estdata.flow_per_lane = estdata.prepandemic_mean_flow ./ estdata.prepandemic_lanes\n",
    "estdata.lane_group = recode(estdata.prepandemic_lanes, missing, 1=>\"1 or 2\", 2=>\"1 or 2\", 3 => \"3\",\n",
    "    4=>\"4 or more\", 5=>\"4 or more\", 6=>\"4 or more\", 7=>\"4 or more\", 8=>\"4 or more\")\n",
    "@assert !any(ismissing.(estdata.lane_group))\n"
   ]
  },
  {
   "cell_type": "code",
   "execution_count": 11,
   "id": "36c96127-47c3-454c-9db1-833d84380798",
   "metadata": {},
   "outputs": [],
   "source": [
    "data.demeaned_flow = data.total_flow .- mean(data.total_flow);\n",
    "estdata.prepandemic_mean_kflow = estdata.prepandemic_mean_flow ./ 1000 ./ 12;"
   ]
  },
  {
   "cell_type": "markdown",
   "id": "b0222ef6-eff4-4bc6-80b1-395712a91479",
   "metadata": {},
   "source": [
    "## Geo data\n",
    "\n",
    "Add some information about the spatial context of the sensors. First, compute average commute distance using LODES."
   ]
  },
  {
   "cell_type": "code",
   "execution_count": 12,
   "id": "f97480dd-f763-4d01-a128-e8a61e2eb238",
   "metadata": {},
   "outputs": [],
   "source": [
    "lodes = CSV.read(\"../data/lodes/ca_od_main_JT00_2019.csv\", DataFrame, types=Dict(:w_geocode => String, :h_geocode => String));"
   ]
  },
  {
   "cell_type": "code",
   "execution_count": 13,
   "id": "589941a4-dbd4-4700-ad3b-b7d554bc5efa",
   "metadata": {},
   "outputs": [
    {
     "data": {
      "text/html": [
       "<div class=\"data-frame\"><p>710,145 rows × 16 columns (omitted printing of 10 columns)</p><table class=\"data-frame\"><thead><tr><th></th><th></th><th>STATEFP10</th><th>COUNTYFP10</th><th>TRACTCE10</th><th>BLOCKCE10</th><th>GEOID10</th></tr><tr><th></th><th title=\"ArchGDAL.IGeometry\">IGeometry</th><th title=\"String\">String</th><th title=\"String\">String</th><th title=\"String\">String</th><th title=\"String\">String</th><th title=\"String\">String</th></tr></thead><tbody><tr><th>1</th><td>Geometry: wkbPolygon</td><td>06</td><td>061</td><td>022011</td><td>2013</td><td>060610220112013</td></tr><tr><th>2</th><td>Geometry: wkbPolygon</td><td>06</td><td>061</td><td>022011</td><td>2027</td><td>060610220112027</td></tr><tr><th>3</th><td>Geometry: wkbPolygon</td><td>06</td><td>061</td><td>022011</td><td>2017</td><td>060610220112017</td></tr><tr><th>4</th><td>Geometry: wkbPolygon</td><td>06</td><td>061</td><td>022011</td><td>2028</td><td>060610220112028</td></tr><tr><th>5</th><td>Geometry: wkbPolygon</td><td>06</td><td>061</td><td>022011</td><td>1004</td><td>060610220111004</td></tr><tr><th>6</th><td>Geometry: wkbPolygon</td><td>06</td><td>061</td><td>022011</td><td>1010</td><td>060610220111010</td></tr><tr><th>7</th><td>Geometry: wkbPolygon</td><td>06</td><td>061</td><td>022011</td><td>1088</td><td>060610220111088</td></tr><tr><th>8</th><td>Geometry: wkbPolygon</td><td>06</td><td>061</td><td>022011</td><td>1007</td><td>060610220111007</td></tr><tr><th>9</th><td>Geometry: wkbPolygon</td><td>06</td><td>061</td><td>022011</td><td>1003</td><td>060610220111003</td></tr><tr><th>10</th><td>Geometry: wkbPolygon</td><td>06</td><td>061</td><td>022011</td><td>1094</td><td>060610220111094</td></tr><tr><th>11</th><td>Geometry: wkbPolygon</td><td>06</td><td>061</td><td>020106</td><td>2002</td><td>060610201062002</td></tr><tr><th>12</th><td>Geometry: wkbPolygon</td><td>06</td><td>061</td><td>022011</td><td>1095</td><td>060610220111095</td></tr><tr><th>13</th><td>Geometry: wkbPolygon</td><td>06</td><td>061</td><td>022011</td><td>1076</td><td>060610220111076</td></tr><tr><th>14</th><td>Geometry: wkbPolygon</td><td>06</td><td>061</td><td>022011</td><td>1017</td><td>060610220111017</td></tr><tr><th>15</th><td>Geometry: wkbPolygon</td><td>06</td><td>061</td><td>020502</td><td>1020</td><td>060610205021020</td></tr><tr><th>16</th><td>Geometry: wkbPolygon</td><td>06</td><td>061</td><td>022014</td><td>1192</td><td>060610220141192</td></tr><tr><th>17</th><td>Geometry: wkbPolygon</td><td>06</td><td>061</td><td>020200</td><td>1021</td><td>060610202001021</td></tr><tr><th>18</th><td>Geometry: wkbPolygon</td><td>06</td><td>061</td><td>020502</td><td>1023</td><td>060610205021023</td></tr><tr><th>19</th><td>Geometry: wkbPolygon</td><td>06</td><td>061</td><td>020502</td><td>1028</td><td>060610205021028</td></tr><tr><th>20</th><td>Geometry: wkbPolygon</td><td>06</td><td>061</td><td>020401</td><td>2004</td><td>060610204012004</td></tr><tr><th>21</th><td>Geometry: wkbPolygon</td><td>06</td><td>061</td><td>020401</td><td>2010</td><td>060610204012010</td></tr><tr><th>22</th><td>Geometry: wkbPolygon</td><td>06</td><td>061</td><td>020401</td><td>2003</td><td>060610204012003</td></tr><tr><th>23</th><td>Geometry: wkbPolygon</td><td>06</td><td>061</td><td>023800</td><td>1012</td><td>060610238001012</td></tr><tr><th>24</th><td>Geometry: wkbPolygon</td><td>06</td><td>061</td><td>023800</td><td>1020</td><td>060610238001020</td></tr><tr><th>25</th><td>Geometry: wkbPolygon</td><td>06</td><td>061</td><td>023700</td><td>2002</td><td>060610237002002</td></tr><tr><th>26</th><td>Geometry: wkbPolygon</td><td>06</td><td>061</td><td>023700</td><td>2025</td><td>060610237002025</td></tr><tr><th>27</th><td>Geometry: wkbPolygon</td><td>06</td><td>061</td><td>023700</td><td>2019</td><td>060610237002019</td></tr><tr><th>28</th><td>Geometry: wkbPolygon</td><td>06</td><td>061</td><td>023700</td><td>2001</td><td>060610237002001</td></tr><tr><th>29</th><td>Geometry: wkbPolygon</td><td>06</td><td>061</td><td>023700</td><td>2032</td><td>060610237002032</td></tr><tr><th>30</th><td>Geometry: wkbPolygon</td><td>06</td><td>061</td><td>023800</td><td>1050</td><td>060610238001050</td></tr><tr><th>&vellip;</th><td>&vellip;</td><td>&vellip;</td><td>&vellip;</td><td>&vellip;</td><td>&vellip;</td><td>&vellip;</td></tr></tbody></table></div>"
      ],
      "text/latex": [
       "\\begin{tabular}{r|ccccccc}\n",
       "\t&  & STATEFP10 & COUNTYFP10 & TRACTCE10 & BLOCKCE10 & GEOID10 & \\\\\n",
       "\t\\hline\n",
       "\t& IGeometry & String & String & String & String & String & \\\\\n",
       "\t\\hline\n",
       "\t1 & Geometry: wkbPolygon & 06 & 061 & 022011 & 2013 & 060610220112013 & $\\dots$ \\\\\n",
       "\t2 & Geometry: wkbPolygon & 06 & 061 & 022011 & 2027 & 060610220112027 & $\\dots$ \\\\\n",
       "\t3 & Geometry: wkbPolygon & 06 & 061 & 022011 & 2017 & 060610220112017 & $\\dots$ \\\\\n",
       "\t4 & Geometry: wkbPolygon & 06 & 061 & 022011 & 2028 & 060610220112028 & $\\dots$ \\\\\n",
       "\t5 & Geometry: wkbPolygon & 06 & 061 & 022011 & 1004 & 060610220111004 & $\\dots$ \\\\\n",
       "\t6 & Geometry: wkbPolygon & 06 & 061 & 022011 & 1010 & 060610220111010 & $\\dots$ \\\\\n",
       "\t7 & Geometry: wkbPolygon & 06 & 061 & 022011 & 1088 & 060610220111088 & $\\dots$ \\\\\n",
       "\t8 & Geometry: wkbPolygon & 06 & 061 & 022011 & 1007 & 060610220111007 & $\\dots$ \\\\\n",
       "\t9 & Geometry: wkbPolygon & 06 & 061 & 022011 & 1003 & 060610220111003 & $\\dots$ \\\\\n",
       "\t10 & Geometry: wkbPolygon & 06 & 061 & 022011 & 1094 & 060610220111094 & $\\dots$ \\\\\n",
       "\t11 & Geometry: wkbPolygon & 06 & 061 & 020106 & 2002 & 060610201062002 & $\\dots$ \\\\\n",
       "\t12 & Geometry: wkbPolygon & 06 & 061 & 022011 & 1095 & 060610220111095 & $\\dots$ \\\\\n",
       "\t13 & Geometry: wkbPolygon & 06 & 061 & 022011 & 1076 & 060610220111076 & $\\dots$ \\\\\n",
       "\t14 & Geometry: wkbPolygon & 06 & 061 & 022011 & 1017 & 060610220111017 & $\\dots$ \\\\\n",
       "\t15 & Geometry: wkbPolygon & 06 & 061 & 020502 & 1020 & 060610205021020 & $\\dots$ \\\\\n",
       "\t16 & Geometry: wkbPolygon & 06 & 061 & 022014 & 1192 & 060610220141192 & $\\dots$ \\\\\n",
       "\t17 & Geometry: wkbPolygon & 06 & 061 & 020200 & 1021 & 060610202001021 & $\\dots$ \\\\\n",
       "\t18 & Geometry: wkbPolygon & 06 & 061 & 020502 & 1023 & 060610205021023 & $\\dots$ \\\\\n",
       "\t19 & Geometry: wkbPolygon & 06 & 061 & 020502 & 1028 & 060610205021028 & $\\dots$ \\\\\n",
       "\t20 & Geometry: wkbPolygon & 06 & 061 & 020401 & 2004 & 060610204012004 & $\\dots$ \\\\\n",
       "\t21 & Geometry: wkbPolygon & 06 & 061 & 020401 & 2010 & 060610204012010 & $\\dots$ \\\\\n",
       "\t22 & Geometry: wkbPolygon & 06 & 061 & 020401 & 2003 & 060610204012003 & $\\dots$ \\\\\n",
       "\t23 & Geometry: wkbPolygon & 06 & 061 & 023800 & 1012 & 060610238001012 & $\\dots$ \\\\\n",
       "\t24 & Geometry: wkbPolygon & 06 & 061 & 023800 & 1020 & 060610238001020 & $\\dots$ \\\\\n",
       "\t25 & Geometry: wkbPolygon & 06 & 061 & 023700 & 2002 & 060610237002002 & $\\dots$ \\\\\n",
       "\t26 & Geometry: wkbPolygon & 06 & 061 & 023700 & 2025 & 060610237002025 & $\\dots$ \\\\\n",
       "\t27 & Geometry: wkbPolygon & 06 & 061 & 023700 & 2019 & 060610237002019 & $\\dots$ \\\\\n",
       "\t28 & Geometry: wkbPolygon & 06 & 061 & 023700 & 2001 & 060610237002001 & $\\dots$ \\\\\n",
       "\t29 & Geometry: wkbPolygon & 06 & 061 & 023700 & 2032 & 060610237002032 & $\\dots$ \\\\\n",
       "\t30 & Geometry: wkbPolygon & 06 & 061 & 023800 & 1050 & 060610238001050 & $\\dots$ \\\\\n",
       "\t$\\dots$ & $\\dots$ & $\\dots$ & $\\dots$ & $\\dots$ & $\\dots$ & $\\dots$ &  \\\\\n",
       "\\end{tabular}\n"
      ],
      "text/plain": [
       "\u001b[1m710145×16 DataFrame\u001b[0m\n",
       "\u001b[1m    Row \u001b[0m│\u001b[1m                      \u001b[0m\u001b[1m STATEFP10 \u001b[0m\u001b[1m COUNTYFP10 \u001b[0m\u001b[1m TRACTCE10 \u001b[0m\u001b[1m BLOCKCE10 \u001b[0m\u001b[1m G\u001b[0m ⋯\n",
       "\u001b[1m        \u001b[0m│\u001b[90m IGeometry            \u001b[0m\u001b[90m String    \u001b[0m\u001b[90m String     \u001b[0m\u001b[90m String    \u001b[0m\u001b[90m String    \u001b[0m\u001b[90m S\u001b[0m ⋯\n",
       "────────┼───────────────────────────────────────────────────────────────────────\n",
       "      1 │ Geometry: wkbPolygon  06         061         022011     2013       0 ⋯\n",
       "      2 │ Geometry: wkbPolygon  06         061         022011     2027       0\n",
       "      3 │ Geometry: wkbPolygon  06         061         022011     2017       0\n",
       "      4 │ Geometry: wkbPolygon  06         061         022011     2028       0\n",
       "      5 │ Geometry: wkbPolygon  06         061         022011     1004       0 ⋯\n",
       "      6 │ Geometry: wkbPolygon  06         061         022011     1010       0\n",
       "      7 │ Geometry: wkbPolygon  06         061         022011     1088       0\n",
       "      8 │ Geometry: wkbPolygon  06         061         022011     1007       0\n",
       "      9 │ Geometry: wkbPolygon  06         061         022011     1003       0 ⋯\n",
       "     10 │ Geometry: wkbPolygon  06         061         022011     1094       0\n",
       "     11 │ Geometry: wkbPolygon  06         061         020106     2002       0\n",
       "   ⋮    │          ⋮                ⋮          ⋮           ⋮          ⋮        ⋱\n",
       " 710136 │ Geometry: wkbPolygon  06         009         000504     2004       0\n",
       " 710137 │ Geometry: wkbPolygon  06         009         000504     2007       0 ⋯\n",
       " 710138 │ Geometry: wkbPolygon  06         009         000504     2005       0\n",
       " 710139 │ Geometry: wkbPolygon  06         009         000504     2006       0\n",
       " 710140 │ Geometry: wkbPolygon  06         009         000504     2078       0\n",
       " 710141 │ Geometry: wkbPolygon  06         009         000504     2019       0 ⋯\n",
       " 710142 │ Geometry: wkbPolygon  06         009         000504     2072       0\n",
       " 710143 │ Geometry: wkbPolygon  06         009         000504     2084       0\n",
       " 710144 │ Geometry: wkbPolygon  06         009         000504     2092       0\n",
       " 710145 │ Geometry: wkbPolygon  06         009         000504     2082       0 ⋯\n",
       "\u001b[36m                                              11 columns and 710124 rows omitted\u001b[0m"
      ]
     },
     "execution_count": 13,
     "metadata": {},
     "output_type": "execute_result"
    }
   ],
   "source": [
    "blocks = @pipe ArchGDAL.read(\"../data/lodes/tl_2019_06_tabblock10.shp\") |>\n",
    "    ArchGDAL.getlayer(_, 0) |>\n",
    "    DataFrame(_)"
   ]
  },
  {
   "cell_type": "code",
   "execution_count": 14,
   "id": "d24bbc21-be8b-4ac0-8bd7-30e829168ccc",
   "metadata": {},
   "outputs": [],
   "source": [
    "# index the internal points\n",
    "function index_pts(geoids, lats, lons)\n",
    "    res = Dict{String, LatLon{Float64}}()\n",
    "    \n",
    "    for (geoid, lat, lon) in zip(geoids, lats, lons)\n",
    "        res[geoid] = LatLon(parse(Float64, lat), parse(Float64, lon))\n",
    "    end\n",
    "    \n",
    "    res\n",
    "end\n",
    "\n",
    "intpts = index_pts(blocks.GEOID10, blocks.INTPTLAT10, blocks.INTPTLON10);\n",
    "    "
   ]
  },
  {
   "cell_type": "code",
   "execution_count": 15,
   "id": "7b843d76-b2a8-47eb-bd50-6a4ac89ca8ec",
   "metadata": {},
   "outputs": [],
   "source": [
    "lodes.distance_meters = map(zip(lodes.h_geocode, lodes.w_geocode)) do (h, w)\n",
    "    euclidean_distance(intpts[h], intpts[w])\n",
    "end;"
   ]
  },
  {
   "cell_type": "code",
   "execution_count": 16,
   "id": "c406b213-4683-4e80-894f-06f5776bf06c",
   "metadata": {},
   "outputs": [],
   "source": [
    "# using median rather than mean to avoid effects of people who live in LA and work remotely in Sacramento\n",
    "# or something.\n",
    "block_median_commute = @pipe groupby(lodes, :h_geocode) |>\n",
    "    combine(_, [:distance_meters, :S000] => ((dist, count) -> wmedian(dist, count) / 1000) => :median_commute_km);"
   ]
  },
  {
   "cell_type": "code",
   "execution_count": 17,
   "id": "46ee7a71-3dcb-4ca5-9494-9d909292f765",
   "metadata": {},
   "outputs": [
    {
     "data": {
      "text/plain": [
       "sjoin! (generic function with 2 methods)"
      ]
     },
     "execution_count": 17,
     "metadata": {},
     "output_type": "execute_result"
    }
   ],
   "source": [
    "# assign each sensor to a block\n",
    "function build_index(geometries)\n",
    "    index = LibSpatialIndex.RTree(2) # TODO don't hardwire dimensions\n",
    "    for (i, geom) in enumerate(geometries)\n",
    "        env = ArchGDAL.envelope(geom)\n",
    "        LibSpatialIndex.insert!(index, i, [env.MinX, env.MinY], [env.MaxX, env.MaxY])\n",
    "    end\n",
    "    index\n",
    "end\n",
    "\n",
    "function find_geometry_column(df)\n",
    "    geomcol = nothing\n",
    "    schema = Tables.schema(df)\n",
    "    for (col, typ) in zip(schema.names, schema.types)\n",
    "        if typ <: ArchGDAL.IGeometry\n",
    "            isnothing(geomcol) || error(\"found multiple geometry columns: $geomcol, $col\")\n",
    "            geomcol = col\n",
    "        end\n",
    "    end\n",
    "    geomcol\n",
    "end\n",
    "\n",
    "function sjoin!(df1, df2, op=ArchGDAL.intersects)\n",
    "    geom1 = find_geometry_column(df1)\n",
    "    geom2 = find_geometry_column(df2)\n",
    "    \n",
    "    # very naive, assumes one match per df1 row\n",
    "    idx2 = build_index(df2[!, geom2])\n",
    "    \n",
    "    # might be slow - possibly type unstable\n",
    "    df2rows = Union{Int64, Missing}[]\n",
    "    for geom in df1[!, geom1]::Vector{<:ArchGDAL.IGeometry}\n",
    "        join = missing\n",
    "        env = ArchGDAL.envelope(geom)\n",
    "        candidates = LibSpatialIndex.intersects(idx2, [env.MinX, env.MinY], [env.MaxX, env.MaxY])\n",
    "        for candidate in candidates\n",
    "            if op(geom, df2[candidate, geom2])\n",
    "                join = candidate\n",
    "                break\n",
    "            end\n",
    "        end\n",
    "        \n",
    "        push!(df2rows, join)\n",
    "    end\n",
    "    \n",
    "    sch2 = Tables.schema(df2)\n",
    "    columns = Dict{Symbol, Vector{Any}}()\n",
    "    for (name, typ) in zip(sch2.names, sch2.types)\n",
    "        if !(typ <: ArchGDAL.IGeometry)\n",
    "            columns[name] = Vector{Union{typ, Missing}}()\n",
    "            sizehint!(columns[name], length(df2rows))\n",
    "        end\n",
    "    end\n",
    "    \n",
    "    for row in df2rows\n",
    "        for col in keys(columns)\n",
    "            if ismissing(row)\n",
    "                push!(columns[col], missing)\n",
    "            else\n",
    "                push!(columns[col], df2[row, col])\n",
    "            end\n",
    "        end\n",
    "    end\n",
    "    \n",
    "    for (name, col) in columns\n",
    "        name ∈ names(df1) && error(\"Duplicate columns $col!\")          \n",
    "        df1[!, name] = col\n",
    "    end\n",
    "end"
   ]
  },
  {
   "cell_type": "code",
   "execution_count": 18,
   "id": "07920083-2395-4ebc-9c83-4ec960d81139",
   "metadata": {},
   "outputs": [],
   "source": [
    "estdata.geometry = ArchGDAL.createpoint.(estdata.Longitude, estdata.Latitude);"
   ]
  },
  {
   "cell_type": "code",
   "execution_count": 19,
   "id": "1ad445f5-971d-4733-bf99-186b2064f347",
   "metadata": {},
   "outputs": [
    {
     "data": {
      "text/html": [
       "<div class=\"data-frame\"><p>710,145 rows × 17 columns (omitted printing of 11 columns)</p><table class=\"data-frame\"><thead><tr><th></th><th></th><th>STATEFP10</th><th>COUNTYFP10</th><th>TRACTCE10</th><th>BLOCKCE10</th><th>GEOID10</th></tr><tr><th></th><th title=\"ArchGDAL.IGeometry\">IGeometry</th><th title=\"String\">String</th><th title=\"String\">String</th><th title=\"String\">String</th><th title=\"String\">String</th><th title=\"String\">String</th></tr></thead><tbody><tr><th>1</th><td>Geometry: wkbPolygon</td><td>06</td><td>061</td><td>022011</td><td>2013</td><td>060610220112013</td></tr><tr><th>2</th><td>Geometry: wkbPolygon</td><td>06</td><td>061</td><td>022011</td><td>2027</td><td>060610220112027</td></tr><tr><th>3</th><td>Geometry: wkbPolygon</td><td>06</td><td>061</td><td>022011</td><td>2017</td><td>060610220112017</td></tr><tr><th>4</th><td>Geometry: wkbPolygon</td><td>06</td><td>061</td><td>022011</td><td>2028</td><td>060610220112028</td></tr><tr><th>5</th><td>Geometry: wkbPolygon</td><td>06</td><td>061</td><td>022011</td><td>1004</td><td>060610220111004</td></tr><tr><th>6</th><td>Geometry: wkbPolygon</td><td>06</td><td>061</td><td>022011</td><td>1010</td><td>060610220111010</td></tr><tr><th>7</th><td>Geometry: wkbPolygon</td><td>06</td><td>061</td><td>022011</td><td>1088</td><td>060610220111088</td></tr><tr><th>8</th><td>Geometry: wkbPolygon</td><td>06</td><td>061</td><td>022011</td><td>1007</td><td>060610220111007</td></tr><tr><th>9</th><td>Geometry: wkbPolygon</td><td>06</td><td>061</td><td>022011</td><td>1003</td><td>060610220111003</td></tr><tr><th>10</th><td>Geometry: wkbPolygon</td><td>06</td><td>061</td><td>022011</td><td>1094</td><td>060610220111094</td></tr><tr><th>11</th><td>Geometry: wkbPolygon</td><td>06</td><td>061</td><td>020106</td><td>2002</td><td>060610201062002</td></tr><tr><th>12</th><td>Geometry: wkbPolygon</td><td>06</td><td>061</td><td>022011</td><td>1095</td><td>060610220111095</td></tr><tr><th>13</th><td>Geometry: wkbPolygon</td><td>06</td><td>061</td><td>022011</td><td>1076</td><td>060610220111076</td></tr><tr><th>14</th><td>Geometry: wkbPolygon</td><td>06</td><td>061</td><td>022011</td><td>1017</td><td>060610220111017</td></tr><tr><th>15</th><td>Geometry: wkbPolygon</td><td>06</td><td>061</td><td>020502</td><td>1020</td><td>060610205021020</td></tr><tr><th>16</th><td>Geometry: wkbPolygon</td><td>06</td><td>061</td><td>022014</td><td>1192</td><td>060610220141192</td></tr><tr><th>17</th><td>Geometry: wkbPolygon</td><td>06</td><td>061</td><td>020200</td><td>1021</td><td>060610202001021</td></tr><tr><th>18</th><td>Geometry: wkbPolygon</td><td>06</td><td>061</td><td>020502</td><td>1023</td><td>060610205021023</td></tr><tr><th>19</th><td>Geometry: wkbPolygon</td><td>06</td><td>061</td><td>020502</td><td>1028</td><td>060610205021028</td></tr><tr><th>20</th><td>Geometry: wkbPolygon</td><td>06</td><td>061</td><td>020401</td><td>2004</td><td>060610204012004</td></tr><tr><th>21</th><td>Geometry: wkbPolygon</td><td>06</td><td>061</td><td>020401</td><td>2010</td><td>060610204012010</td></tr><tr><th>22</th><td>Geometry: wkbPolygon</td><td>06</td><td>061</td><td>020401</td><td>2003</td><td>060610204012003</td></tr><tr><th>23</th><td>Geometry: wkbPolygon</td><td>06</td><td>061</td><td>023800</td><td>1012</td><td>060610238001012</td></tr><tr><th>24</th><td>Geometry: wkbPolygon</td><td>06</td><td>061</td><td>023800</td><td>1020</td><td>060610238001020</td></tr><tr><th>25</th><td>Geometry: wkbPolygon</td><td>06</td><td>061</td><td>023700</td><td>2002</td><td>060610237002002</td></tr><tr><th>26</th><td>Geometry: wkbPolygon</td><td>06</td><td>061</td><td>023700</td><td>2025</td><td>060610237002025</td></tr><tr><th>27</th><td>Geometry: wkbPolygon</td><td>06</td><td>061</td><td>023700</td><td>2019</td><td>060610237002019</td></tr><tr><th>28</th><td>Geometry: wkbPolygon</td><td>06</td><td>061</td><td>023700</td><td>2001</td><td>060610237002001</td></tr><tr><th>29</th><td>Geometry: wkbPolygon</td><td>06</td><td>061</td><td>023700</td><td>2032</td><td>060610237002032</td></tr><tr><th>30</th><td>Geometry: wkbPolygon</td><td>06</td><td>061</td><td>023800</td><td>1050</td><td>060610238001050</td></tr><tr><th>&vellip;</th><td>&vellip;</td><td>&vellip;</td><td>&vellip;</td><td>&vellip;</td><td>&vellip;</td><td>&vellip;</td></tr></tbody></table></div>"
      ],
      "text/latex": [
       "\\begin{tabular}{r|ccccccc}\n",
       "\t&  & STATEFP10 & COUNTYFP10 & TRACTCE10 & BLOCKCE10 & GEOID10 & \\\\\n",
       "\t\\hline\n",
       "\t& IGeometry & String & String & String & String & String & \\\\\n",
       "\t\\hline\n",
       "\t1 & Geometry: wkbPolygon & 06 & 061 & 022011 & 2013 & 060610220112013 & $\\dots$ \\\\\n",
       "\t2 & Geometry: wkbPolygon & 06 & 061 & 022011 & 2027 & 060610220112027 & $\\dots$ \\\\\n",
       "\t3 & Geometry: wkbPolygon & 06 & 061 & 022011 & 2017 & 060610220112017 & $\\dots$ \\\\\n",
       "\t4 & Geometry: wkbPolygon & 06 & 061 & 022011 & 2028 & 060610220112028 & $\\dots$ \\\\\n",
       "\t5 & Geometry: wkbPolygon & 06 & 061 & 022011 & 1004 & 060610220111004 & $\\dots$ \\\\\n",
       "\t6 & Geometry: wkbPolygon & 06 & 061 & 022011 & 1010 & 060610220111010 & $\\dots$ \\\\\n",
       "\t7 & Geometry: wkbPolygon & 06 & 061 & 022011 & 1088 & 060610220111088 & $\\dots$ \\\\\n",
       "\t8 & Geometry: wkbPolygon & 06 & 061 & 022011 & 1007 & 060610220111007 & $\\dots$ \\\\\n",
       "\t9 & Geometry: wkbPolygon & 06 & 061 & 022011 & 1003 & 060610220111003 & $\\dots$ \\\\\n",
       "\t10 & Geometry: wkbPolygon & 06 & 061 & 022011 & 1094 & 060610220111094 & $\\dots$ \\\\\n",
       "\t11 & Geometry: wkbPolygon & 06 & 061 & 020106 & 2002 & 060610201062002 & $\\dots$ \\\\\n",
       "\t12 & Geometry: wkbPolygon & 06 & 061 & 022011 & 1095 & 060610220111095 & $\\dots$ \\\\\n",
       "\t13 & Geometry: wkbPolygon & 06 & 061 & 022011 & 1076 & 060610220111076 & $\\dots$ \\\\\n",
       "\t14 & Geometry: wkbPolygon & 06 & 061 & 022011 & 1017 & 060610220111017 & $\\dots$ \\\\\n",
       "\t15 & Geometry: wkbPolygon & 06 & 061 & 020502 & 1020 & 060610205021020 & $\\dots$ \\\\\n",
       "\t16 & Geometry: wkbPolygon & 06 & 061 & 022014 & 1192 & 060610220141192 & $\\dots$ \\\\\n",
       "\t17 & Geometry: wkbPolygon & 06 & 061 & 020200 & 1021 & 060610202001021 & $\\dots$ \\\\\n",
       "\t18 & Geometry: wkbPolygon & 06 & 061 & 020502 & 1023 & 060610205021023 & $\\dots$ \\\\\n",
       "\t19 & Geometry: wkbPolygon & 06 & 061 & 020502 & 1028 & 060610205021028 & $\\dots$ \\\\\n",
       "\t20 & Geometry: wkbPolygon & 06 & 061 & 020401 & 2004 & 060610204012004 & $\\dots$ \\\\\n",
       "\t21 & Geometry: wkbPolygon & 06 & 061 & 020401 & 2010 & 060610204012010 & $\\dots$ \\\\\n",
       "\t22 & Geometry: wkbPolygon & 06 & 061 & 020401 & 2003 & 060610204012003 & $\\dots$ \\\\\n",
       "\t23 & Geometry: wkbPolygon & 06 & 061 & 023800 & 1012 & 060610238001012 & $\\dots$ \\\\\n",
       "\t24 & Geometry: wkbPolygon & 06 & 061 & 023800 & 1020 & 060610238001020 & $\\dots$ \\\\\n",
       "\t25 & Geometry: wkbPolygon & 06 & 061 & 023700 & 2002 & 060610237002002 & $\\dots$ \\\\\n",
       "\t26 & Geometry: wkbPolygon & 06 & 061 & 023700 & 2025 & 060610237002025 & $\\dots$ \\\\\n",
       "\t27 & Geometry: wkbPolygon & 06 & 061 & 023700 & 2019 & 060610237002019 & $\\dots$ \\\\\n",
       "\t28 & Geometry: wkbPolygon & 06 & 061 & 023700 & 2001 & 060610237002001 & $\\dots$ \\\\\n",
       "\t29 & Geometry: wkbPolygon & 06 & 061 & 023700 & 2032 & 060610237002032 & $\\dots$ \\\\\n",
       "\t30 & Geometry: wkbPolygon & 06 & 061 & 023800 & 1050 & 060610238001050 & $\\dots$ \\\\\n",
       "\t$\\dots$ & $\\dots$ & $\\dots$ & $\\dots$ & $\\dots$ & $\\dots$ & $\\dots$ &  \\\\\n",
       "\\end{tabular}\n"
      ],
      "text/plain": [
       "\u001b[1m710145×17 DataFrame\u001b[0m\n",
       "\u001b[1m    Row \u001b[0m│\u001b[1m                      \u001b[0m\u001b[1m STATEFP10 \u001b[0m\u001b[1m COUNTYFP10 \u001b[0m\u001b[1m TRACTCE10 \u001b[0m\u001b[1m BLOCKCE10 \u001b[0m\u001b[1m G\u001b[0m ⋯\n",
       "\u001b[1m        \u001b[0m│\u001b[90m IGeometry            \u001b[0m\u001b[90m String    \u001b[0m\u001b[90m String     \u001b[0m\u001b[90m String    \u001b[0m\u001b[90m String    \u001b[0m\u001b[90m S\u001b[0m ⋯\n",
       "────────┼───────────────────────────────────────────────────────────────────────\n",
       "      1 │ Geometry: wkbPolygon  06         061         022011     2013       0 ⋯\n",
       "      2 │ Geometry: wkbPolygon  06         061         022011     2027       0\n",
       "      3 │ Geometry: wkbPolygon  06         061         022011     2017       0\n",
       "      4 │ Geometry: wkbPolygon  06         061         022011     2028       0\n",
       "      5 │ Geometry: wkbPolygon  06         061         022011     1004       0 ⋯\n",
       "      6 │ Geometry: wkbPolygon  06         061         022011     1010       0\n",
       "      7 │ Geometry: wkbPolygon  06         061         022011     1088       0\n",
       "      8 │ Geometry: wkbPolygon  06         061         022011     1007       0\n",
       "      9 │ Geometry: wkbPolygon  06         061         022011     1003       0 ⋯\n",
       "     10 │ Geometry: wkbPolygon  06         061         022011     1094       0\n",
       "     11 │ Geometry: wkbPolygon  06         061         020106     2002       0\n",
       "   ⋮    │          ⋮                ⋮          ⋮           ⋮          ⋮        ⋱\n",
       " 710136 │ Geometry: wkbPolygon  06         009         000504     2004       0\n",
       " 710137 │ Geometry: wkbPolygon  06         009         000504     2007       0 ⋯\n",
       " 710138 │ Geometry: wkbPolygon  06         009         000504     2005       0\n",
       " 710139 │ Geometry: wkbPolygon  06         009         000504     2006       0\n",
       " 710140 │ Geometry: wkbPolygon  06         009         000504     2078       0\n",
       " 710141 │ Geometry: wkbPolygon  06         009         000504     2019       0 ⋯\n",
       " 710142 │ Geometry: wkbPolygon  06         009         000504     2072       0\n",
       " 710143 │ Geometry: wkbPolygon  06         009         000504     2084       0\n",
       " 710144 │ Geometry: wkbPolygon  06         009         000504     2092       0\n",
       " 710145 │ Geometry: wkbPolygon  06         009         000504     2082       0 ⋯\n",
       "\u001b[36m                                              12 columns and 710124 rows omitted\u001b[0m"
      ]
     },
     "execution_count": 19,
     "metadata": {},
     "output_type": "execute_result"
    }
   ],
   "source": [
    "leftjoin!(blocks, block_median_commute, on=:GEOID10=>:h_geocode)"
   ]
  },
  {
   "cell_type": "markdown",
   "id": "465a9ce2-87f5-4477-91dc-158f07ea7768",
   "metadata": {},
   "source": [
    "Nearest neighbor interpolation for median commute, important as many sensors are in blocks with no housing (freeway interchanges etc)."
   ]
  },
  {
   "cell_type": "code",
   "execution_count": 20,
   "id": "84358d17-9524-4c95-a792-2c48fa441ff0",
   "metadata": {},
   "outputs": [
    {
     "data": {
      "text/plain": [
       "LibSpatialIndex.RTree(Ptr{Nothing} @0x0000600003d4b900, LibSpatialIndex.C.RT_RTree, 0x00000002, LibSpatialIndex.C.RT_Star, LibSpatialIndex.C.RT_Memory, 0x00000064, 0x00000064, 0x00000064, 0x00000064, 0x000003e8, 0x000001f4, true, 0x00000020, 0.7, 0.4, 0.3)"
      ]
     },
     "execution_count": 20,
     "metadata": {},
     "output_type": "execute_result"
    }
   ],
   "source": []
  },
  {
   "cell_type": "code",
   "execution_count": 30,
   "id": "6361fe1f-79c3-4f10-b4d6-8fd906c985ab",
   "metadata": {},
   "outputs": [
    {
     "data": {
      "text/plain": [
       "40000"
      ]
     },
     "execution_count": 30,
     "metadata": {},
     "output_type": "execute_result"
    }
   ],
   "source": [
    "const MAX_RADIUS_METERS = 40000"
   ]
  },
  {
   "cell_type": "code",
   "execution_count": null,
   "id": "633c467c-c6d3-46d8-9206-b1ee08bbeb49",
   "metadata": {},
   "outputs": [],
   "source": [
    "bpts = ArchGDAL.createpoint.(parse.(Float64, blocks.INTPTLON10), parse.(Float64, blocks.INTPTLAT10))\n",
    "bidx = build_index(bpts)"
   ]
  },
  {
   "cell_type": "code",
   "execution_count": 39,
   "id": "c1190be7-27a8-40bc-9479-8672fffbd7da",
   "metadata": {},
   "outputs": [
    {
     "data": {
      "text/plain": [
       "710145-element Vector{Union{Nothing, Float64}}:\n",
       "  47.445697295998514\n",
       "   7.5143663505522404\n",
       "   7.703136142561008\n",
       " 107.71782596804113\n",
       "  12.963419020709855\n",
       "  12.963419020709855\n",
       " 137.0792218211162\n",
       " 145.38458316176641\n",
       "  12.963419020709855\n",
       " 305.576657636525\n",
       " 305.576657636525\n",
       " 305.576657636525\n",
       " 305.576657636525\n",
       "   ⋮\n",
       " 154.98771712658825\n",
       " 119.06241074780554\n",
       " 212.48673653160344\n",
       " 212.48673653160344\n",
       " 104.1089193283323\n",
       " 212.48673653160344\n",
       " 172.61630685186307\n",
       " 212.48673653160344\n",
       " 212.48673653160344\n",
       " 212.48673653160344\n",
       " 212.48673653160344\n",
       " 212.48673653160344"
      ]
     },
     "execution_count": 39,
     "metadata": {},
     "output_type": "execute_result"
    }
   ],
   "source": [
    "# Note: LibSpatialIndex not thread safe\n",
    "\n",
    "gdal_to_ll(geom) = LatLon(ArchGDAL.gety(geom, 0), ArchGDAL.getx(geom, 0))\n",
    "\n",
    "function nnimpute(geometry, median_commute_km, sidx)\n",
    "    map(zip(geometry, median_commute_km)) do (geom, commute_km)\n",
    "        if !ismissing(commute_km)\n",
    "            return commute_km\n",
    "        else\n",
    "            env = ArchGDAL.envelope(geom)\n",
    "            coslat = cosd(ArchGDAL.gety(geom, 0))\n",
    "            # expanding envelope search\n",
    "            radius_meters = 1000\n",
    "            while radius_meters < MAX_RADIUS_METERS\n",
    "                radius_degrees_lat = radius_meters / METERS_PER_DEGREE_LAT\n",
    "                radius_degrees_lon = radius_degrees_lat / coslat\n",
    "                candidates = LibSpatialIndex.intersects(\n",
    "                    sidx,\n",
    "                    [env.MinX - radius_degrees_lon, env.MinY - radius_degrees_lat],\n",
    "                    [env.MaxX + radius_degrees_lon, env.MaxY + radius_degrees_lat]\n",
    "                )\n",
    "\n",
    "                # Ignore candidates more than 0.9 * radius_meters away\n",
    "                # This avoids a situation where there is a candidate in one of the corners that is selected, but there\n",
    "                # is a closer candidate directly N or S.\n",
    "                # Multiplying by 0.9 avoids error introduced by treating the earth as a sphere (in the coslat calculation)\n",
    "                best_distance = radius_meters * 0.9\n",
    "                best_val = NaN\n",
    "\n",
    "                \n",
    "                for candidate ∈ candidates\n",
    "                    if !ismissing(median_commute_km[candidate]) && (dist = euclidean_distance(gdal_to_ll(geom), gdal_to_ll(geometry[candidate]))) < best_distance\n",
    "                        best_distance = dist\n",
    "                        best_val = median_commute_km[candidate]\n",
    "                    end\n",
    "                end\n",
    "                \n",
    "                if !isnan(best_val)\n",
    "                    return best_val\n",
    "                else\n",
    "                    radius_meters += 1000\n",
    "                end\n",
    "            end\n",
    "        end\n",
    "    end\n",
    "end\n",
    "                        \n",
    "blocks.median_commute_km_nn = nnimpute(bpts, blocks.median_commute_km, bidx)\n",
    "            "
   ]
  },
  {
   "cell_type": "code",
   "execution_count": 40,
   "id": "78142504-9032-40d9-9ce0-a4ca6c425046",
   "metadata": {},
   "outputs": [],
   "source": [
    "sjoin!(estdata, blocks)"
   ]
  },
  {
   "cell_type": "code",
   "execution_count": 43,
   "id": "75f2dea4-f9fb-40ac-9604-40f7f4520c95",
   "metadata": {},
   "outputs": [
    {
     "data": {
      "text/plain": [
       "Dict{CategoricalValue{String, UInt32}, Int64} with 6 entries:\n",
       "  \"[30, ∞)\"  => 762\n",
       "  \"[15, 20)\" => 706\n",
       "  \"[10, 15)\" => 798\n",
       "  \"[0, 5)\"   => 77\n",
       "  \"[20, 30)\" => 868\n",
       "  \"[5, 10)\"  => 303"
      ]
     },
     "execution_count": 43,
     "metadata": {},
     "output_type": "execute_result"
    }
   ],
   "source": [
    "estdata.median_commute_km_bin = map(estdata.median_commute_km_nn) do d\n",
    "    ismissing(d) && return missing\n",
    "    d < 5 && return \"[0, 5)\"\n",
    "    d < 10 && return \"[5, 10)\"\n",
    "    d < 15 && return \"[10, 15)\"\n",
    "    d < 20 && return \"[15, 20)\"\n",
    "    d < 30 && return \"[20, 30)\"\n",
    "    return \"[30, ∞)\"\n",
    "end |> CategoricalArray;\n",
    "countmap(estdata.median_commute_km_bin)"
   ]
  },
  {
   "cell_type": "code",
   "execution_count": 44,
   "id": "aacd0840-9549-446f-8460-c77d26f0bd50",
   "metadata": {},
   "outputs": [
    {
     "data": {
      "text/plain": [
       "StatsModels.TableRegressionModel{LinearModel{GLM.LmResp{Vector{Float64}}, GLM.DensePredChol{Float64, LinearAlgebra.CholeskyPivoted{Float64, Matrix{Float64}}}}, Matrix{Float64}}\n",
       "\n",
       "Δpeak_hour_occ ~ 1 + flow_change_ratio + Δmissing + prepandemic_mean_kflow + lane_group + prepandemic_urban + prepandemic_am_peak + district + prepandemic_periods_imputed + median_commute_km_bin\n",
       "\n",
       "Coefficients:\n",
       "──────────────────────────────────────────────────────────────────────────────────────────────────────\n",
       "                                        Coef.   Std. Error      t  Pr(>|t|)     Lower 95%    Upper 95%\n",
       "──────────────────────────────────────────────────────────────────────────────────────────────────────\n",
       "(Intercept)                      -0.0119524    0.00307403   -3.89    0.0001  -0.0179795    -0.00592537\n",
       "flow_change_ratio                -0.00627996   0.00182966   -3.43    0.0006  -0.00986727   -0.00269265\n",
       "Δmissing                         -0.00985155   0.00152063   -6.48    <1e-09  -0.012833     -0.00687014\n",
       "prepandemic_mean_kflow            0.00127682   0.00017038    7.49    <1e-13   0.000942763   0.00161087\n",
       "lane_group: 3                    -0.0038472    0.000960951  -4.00    <1e-04  -0.00573128   -0.00196311\n",
       "lane_group: 4 or more            -0.00749888   0.00124113   -6.04    <1e-08  -0.00993228   -0.00506547\n",
       "prepandemic_urban                 0.00119348   0.000841657   1.42    0.1563  -0.000456707   0.00284367\n",
       "prepandemic_am_peak              -0.00532592   0.000691555  -7.70    <1e-13  -0.00668181   -0.00397002\n",
       "district: 4                       0.00995595   0.00150326    6.62    <1e-10   0.0070086     0.0129033\n",
       "district: 5                       0.0167695    0.00184165    9.11    <1e-18   0.0131587     0.0203803\n",
       "district: 6                       0.0147842    0.00174581    8.47    <1e-16   0.0113613     0.0182071\n",
       "district: 7                       0.0100737    0.00161489    6.24    <1e-09   0.00690743    0.0132399\n",
       "district: 8                       0.0121246    0.00166879    7.27    <1e-12   0.00885265    0.0153965\n",
       "district: 10                      0.0111342    0.00178375    6.24    <1e-09   0.00763694    0.0146315\n",
       "district: 11                      0.00689058   0.00168262    4.10    <1e-04   0.00359157    0.0101896\n",
       "district: 12                      0.0023411    0.00155332    1.51    0.1319  -0.000704398   0.00538661\n",
       "prepandemic_periods_imputed       9.21438e-6   6.94213e-6    1.33    0.1845  -4.39666e-6    2.28254e-5\n",
       "median_commute_km_bin: [10, 15)   0.00104916   0.00195271    0.54    0.5911  -0.0027794     0.00487773\n",
       "median_commute_km_bin: [15, 20)   0.00122969   0.00196951    0.62    0.5324  -0.00263181    0.00509119\n",
       "median_commute_km_bin: [20, 30)   0.00359437   0.00194693    1.85    0.0650  -0.000222865   0.00741161\n",
       "median_commute_km_bin: [30, ∞)    0.00493877   0.00196898    2.51    0.0122   0.0010783     0.00879925\n",
       "median_commute_km_bin: [5, 10)   -0.000625852  0.00207382   -0.30    0.7628  -0.00469187    0.00344016\n",
       "──────────────────────────────────────────────────────────────────────────────────────────────────────"
      ]
     },
     "execution_count": 44,
     "metadata": {},
     "output_type": "execute_result"
    }
   ],
   "source": [
    "mod = lm(@formula(Δpeak_hour_occ ~ flow_change_ratio + Δmissing + prepandemic_mean_kflow + lane_group +\n",
    "            prepandemic_urban + prepandemic_am_peak + district + prepandemic_periods_imputed + median_commute_km_bin),\n",
    "            estdata)"
   ]
  },
  {
   "cell_type": "code",
   "execution_count": 39,
   "id": "e8a7596d-aad9-4317-bc9d-ab5e302b63cf",
   "metadata": {},
   "outputs": [
    {
     "name": "stdout",
     "output_type": "stream",
     "text": [
      "[\"station\", \"prepandemic_mean_flow\", \"prepandemic_urban\", \"prepandemic_district\", \"prepandemic_lanes\", \"prepandemic_periods_imputed\", \"prepandemic_am_peak\", \"prepandemic_peak_hour_occ\", \"postlockdown_mean_flow\", \"postlockdown_urban\", \"postlockdown_district\", \"postlockdown_lanes\", \"postlockdown_periods_imputed\", \"postlockdown_am_peak\", \"postlockdown_peak_hour_occ\", \"Δpeak_hour_occ\", \"flow_change_ratio\", \"Δmissing\", \"district\", \"flow_per_lane\", \"lanes\", \"lane_group\", \"fwy_stable\", \"dir_stable\", \"lanes_stable\", \"max_shift_meters\", \"Latitude\", \"Longitude\", \"Fwy\", \"Dir\", \"District\", \"Lanes\", \"County\", \"geom\", \"urban\"]"
     ]
    }
   ],
   "source": [
    "show(names(estdata))"
   ]
  },
  {
   "cell_type": "code",
   "execution_count": 49,
   "id": "fbbb39b9-b2e6-4946-9eb9-c3443e1d6170",
   "metadata": {},
   "outputs": [
    {
     "data": {
      "text/plain": [
       "\"../data/means_by_county_and_highway.csv\""
      ]
     },
     "execution_count": 49,
     "metadata": {},
     "output_type": "execute_result"
    }
   ],
   "source": [
    "means_by_county_and_highway = @pipe groupby(estdata, [:County, :Fwy]) |> combine(_, :Δpeak_hour_occ => mean, :Δpeak_hour_occ => std) |> sort(_, [:County, :Fwy])\n",
    "CSV.write(\"../data/means_by_county_and_highway.csv\", means_by_county_and_highway)"
   ]
  },
  {
   "cell_type": "code",
   "execution_count": 29,
   "id": "295a3c93-1a81-4e58-97a0-6fc5796a9af6",
   "metadata": {},
   "outputs": [
    {
     "data": {
      "text/plain": [
       "-0.0033255039894288956"
      ]
     },
     "execution_count": 29,
     "metadata": {},
     "output_type": "execute_result"
    }
   ],
   "source": [
    "-0.0125 * std(estdata.Δmissing)"
   ]
  },
  {
   "cell_type": "code",
   "execution_count": 53,
   "id": "eeca954c-a157-43ca-a9e6-fd32080c6edc",
   "metadata": {},
   "outputs": [
    {
     "name": "stdout",
     "output_type": "stream",
     "text": [
      "\u001b[1m39×4 DataFrame\u001b[0m\n",
      "\u001b[1m Row \u001b[0m│\u001b[1m County \u001b[0m\u001b[1m Δpeak_hour_occ_mean \u001b[0m\u001b[1m Δpeak_hour_occ_std \u001b[0m\u001b[1m station_length \u001b[0m\n",
      "\u001b[1m     \u001b[0m│\u001b[90m Int64? \u001b[0m\u001b[90m Float64             \u001b[0m\u001b[90m Float64            \u001b[0m\u001b[90m Int64          \u001b[0m\n",
      "─────┼─────────────────────────────────────────────────────────────────\n",
      "   1 │    101         -0.0236575          NaN                        1\n",
      "   2 │     67         -0.0177911            0.0192537              100\n",
      "   3 │     81         -0.0173818            0.0215073               48\n",
      "   4 │     75         -0.0113585            0.0289562               25\n",
      "   5 │     59         -0.0107543            0.0170294              588\n",
      "   6 │     17         -0.0102432            0.0126975                5\n",
      "   7 │     47         -0.00861957           0.0178551               39\n",
      "   8 │     73         -0.00829083           0.0186529              329\n",
      "   9 │    113         -0.0082196            0.0216149               10\n",
      "  10 │     85         -0.00591587           0.0246241              216\n",
      "  11 │     57         -0.0053489            0.00546557               3\n",
      "  12 │      1         -0.00514714           0.0179358              197\n",
      "  13 │     41         -0.00495928           0.0150957               34\n",
      "  14 │     79         -0.00366028           0.0101262               50\n",
      "  15 │     99         -0.00349774           0.010888                24\n",
      "  16 │      9         -0.00329052           0.0120421                4\n",
      "  17 │    115         -0.00309904           0.00145976               2\n",
      "  18 │      5         -0.00262593           0.00234732               2\n",
      "  19 │    109         -0.00255368           0.00188445               3\n",
      "  20 │     39         -0.00214815           0.0110499               13\n",
      "  21 │     13         -0.0019583            0.0184251              231\n",
      "  22 │     37         -0.00188685           0.0139103              466\n",
      "  23 │     19         -0.00140254           0.00945746             111\n",
      "  24 │    107          5.45906e-5           0.00620438              35\n",
      "  25 │     71          0.000331775          0.0119534              193\n",
      "  26 │     83          0.000431992          0.0123739               50\n",
      "  27 │     77          0.000819781          0.0146464              195\n",
      "  28 │     61          0.00118938           0.00754152              26\n",
      "  29 │     31          0.00254608           0.00849417              16\n",
      "  30 │     29          0.00269443           0.014789                73\n",
      "  31 │    111          0.00366768           0.00950963              37\n",
      "  32 │     95          0.0037358            0.0129687               69\n",
      "  33 │     65          0.00415595           0.0133833              149\n",
      "  34 │     97          0.00611008           0.016784                59\n",
      "  35 │     55          0.006525             0.0132167               10\n",
      "  36 │     87          0.0079253            0.0120113               57\n",
      "  37 │     69          0.00889262           0.0206643                4\n",
      "  38 │     43          0.0120321          NaN                        1\n",
      "  39 │     53          0.01318              0.013095                39"
     ]
    }
   ],
   "source": [
    "@pipe groupby(estdata, [:County]) |> combine(_, :Δpeak_hour_occ => mean, :Δpeak_hour_occ => std, :station => length) |> sort(_, [:Δpeak_hour_occ_mean]) |> show(_, allrows=true)"
   ]
  },
  {
   "cell_type": "code",
   "execution_count": 101,
   "id": "343a29cb-e4ad-474e-af7f-9e5220516499",
   "metadata": {},
   "outputs": [],
   "source": [
    "data.am_peak = data.peak_hour_start .< Time(12, 0);\n",
    "data.District = CategoricalVector(data.District)\n",
    "data.Lanes = CategoricalVector(data.Lanes);\n",
    "data.postlockdown = data.period .== :postlockdown;"
   ]
  },
  {
   "cell_type": "code",
   "execution_count": 115,
   "id": "f7832b02-b9f2-48da-8e72-729c87f05b11",
   "metadata": {},
   "outputs": [
    {
     "data": {
      "text/plain": [
       "StatsModels.TableRegressionModel{LinearModel{GLM.LmResp{Vector{Float64}}, GLM.DensePredChol{Float64, LinearAlgebra.CholeskyPivoted{Float64, Matrix{Float64}}}}, Matrix{Float64}}\n",
       "\n",
       "peak_hour_occ ~ 1 + demeaned_flow + Lanes + District + urban + am_peak + periods_imputed + postlockdown + demeaned_flow & postlockdown + Lanes & postlockdown + District & postlockdown + urban & postlockdown + am_peak & postlockdown + periods_imputed & postlockdown\n",
       "\n",
       "Coefficients:\n",
       "────────────────────────────────────────────────────────────────────────────────────────────────────────\n",
       "                                       Coef.   Std. Error        t  Pr(>|t|)     Lower 95%     Upper 95%\n",
       "────────────────────────────────────────────────────────────────────────────────────────────────────────\n",
       "(Intercept)                      0.102406     0.000244614   418.64    <1e-99   0.101927      0.102885\n",
       "demeaned_flow                   -2.04381e-7   1.2122e-9    -168.60    <1e-99  -2.06757e-7   -2.02006e-7\n",
       "Lanes: 2                        -0.00923583   0.000211552   -43.66    <1e-99  -0.00965046   -0.00882119\n",
       "Lanes: 3                        -0.00361463   0.000214549   -16.85    <1e-62  -0.00403514   -0.00319412\n",
       "Lanes: 4                         0.000628385  0.00022441      2.80    0.0051   0.00018855    0.00106822\n",
       "Lanes: 5                         0.00533381   0.000241432    22.09    <1e-99   0.00486061    0.005807\n",
       "Lanes: 6                         0.0130886    0.000279704    46.79    <1e-99   0.0125404     0.0136368\n",
       "Lanes: 7                         0.0190931    0.000669329    28.53    <1e-99   0.0177812     0.020405\n",
       "Lanes: 8                         0.020156     0.00193377     10.42    <1e-24   0.0163659     0.0239462\n",
       "District: 4                      0.00226286   0.000136813    16.54    <1e-60   0.00199471    0.00253101\n",
       "District: 5                     -0.000625659  0.000191619    -3.27    0.0011  -0.00100122   -0.000250093\n",
       "District: 6                     -0.020196     0.000176336  -114.53    <1e-99  -0.0205416    -0.0198504\n",
       "District: 7                      0.00198854   0.000140742    14.13    <1e-44   0.00171269    0.00226439\n",
       "District: 8                     -0.0110022    0.000147525   -74.58    <1e-99  -0.0112913    -0.010713\n",
       "District: 10                    -0.0134724    0.000160466   -83.96    <1e-99  -0.0137869    -0.0131579\n",
       "District: 11                     0.00707942   0.00016525     42.84    <1e-99   0.00675553    0.0074033\n",
       "District: 12                     0.00304995   0.000147339    20.70    <1e-94   0.00276117    0.00333873\n",
       "urban                            0.00566295   7.42934e-5     76.22    <1e-99   0.00551734    0.00580857\n",
       "am_peak                          0.00169626   5.13901e-5     33.01    <1e-99   0.00159554    0.00179699\n",
       "periods_imputed                 -5.52878e-5   1.82733e-7   -302.56    <1e-99  -5.5646e-5    -5.49297e-5\n",
       "postlockdown                    -0.00211158   0.000543143    -3.89    0.0001  -0.00317612   -0.00104704\n",
       "demeaned_flow & postlockdown     8.81622e-8   2.78503e-9     31.66    <1e-99   8.27036e-8    9.36208e-8\n",
       "Lanes: 2 & postlockdown         -0.0021286    0.000459075    -4.64    <1e-05  -0.00302837   -0.00122883\n",
       "Lanes: 3 & postlockdown         -0.00612327   0.000466856   -13.12    <1e-38  -0.00703829   -0.00520825\n",
       "Lanes: 4 & postlockdown         -0.00677646   0.000489925   -13.83    <1e-42  -0.00773669   -0.00581622\n",
       "Lanes: 5 & postlockdown         -0.00714238   0.0005314     -13.44    <1e-40  -0.00818391   -0.00610086\n",
       "Lanes: 6 & postlockdown         -0.00958691   0.000627746   -15.27    <1e-51  -0.0108173    -0.00835655\n",
       "Lanes: 7 & postlockdown         -0.0122856    0.00161681     -7.60    <1e-13  -0.0154545    -0.00911675\n",
       "Lanes: 8 & postlockdown         -0.000916463  0.00390655     -0.23    0.8145  -0.00857317    0.00674024\n",
       "District: 4 & postlockdown       0.00541526   0.000334101    16.21    <1e-58   0.00476043    0.00607009\n",
       "District: 5 & postlockdown       0.0122013    0.000447721    27.25    <1e-99   0.0113237     0.0130788\n",
       "District: 6 & postlockdown       0.00908842   0.000421673    21.55    <1e-99   0.00826196    0.00991489\n",
       "District: 7 & postlockdown       0.00137715   0.000343169     4.01    <1e-04   0.000704554   0.00204975\n",
       "District: 8 & postlockdown       0.00718469   0.000359032    20.01    <1e-88   0.006481      0.00788838\n",
       "District: 10 & postlockdown      0.00895376   0.000385412    23.23    <1e-99   0.00819836    0.00970915\n",
       "District: 11 & postlockdown      0.0043755    0.00040582     10.78    <1e-26   0.00358011    0.0051709\n",
       "District: 12 & postlockdown      2.57679e-5   0.000358959     0.07    0.9428  -0.000677779   0.000729315\n",
       "urban & postlockdown            -0.000217155  0.000178436    -1.22    0.2236  -0.000566883   0.000132574\n",
       "am_peak & postlockdown           0.000214707  0.000125222     1.71    0.0864  -3.07237e-5    0.000460138\n",
       "periods_imputed & postlockdown  -1.39822e-6   4.48514e-7     -3.12    0.0018  -2.27729e-6   -5.19145e-7\n",
       "────────────────────────────────────────────────────────────────────────────────────────────────────────"
      ]
     },
     "execution_count": 115,
     "metadata": {},
     "output_type": "execute_result"
    }
   ],
   "source": [
    "mod2 = lm(@formula(peak_hour_occ ~ (demeaned_flow + Lanes + District + urban + am_peak + periods_imputed) * postlockdown), data)"
   ]
  },
  {
   "cell_type": "code",
   "execution_count": 114,
   "id": "b2eb8644-4efd-4c06-ac9c-e5fe0d62a632",
   "metadata": {},
   "outputs": [
    {
     "data": {
      "text/plain": [
       "1.877179e6"
      ]
     },
     "execution_count": 114,
     "metadata": {},
     "output_type": "execute_result"
    }
   ],
   "source": [
    "nobs(mod2)"
   ]
  },
  {
   "cell_type": "code",
   "execution_count": 105,
   "id": "c6fd98e5-22b0-4af7-a07d-ce3192b42e9e",
   "metadata": {},
   "outputs": [
    {
     "data": {
      "image/png": "[encoded data removed]"
     },
     "execution_count": 105,
     "metadata": {},
     "output_type": "execute_result"
    }
   ],
   "source": [
    "scatter(predict(mod2), residuals(mod2), markersize=0.0001, legend=false, format=:png)\n",
    "xlabel!(\"Fitted values\")\n",
    "ylabel!(\"Residuals\")"
   ]
  },
  {
   "cell_type": "code",
   "execution_count": 108,
   "id": "a099564a-3cfc-4558-a2ce-edc9c421a591",
   "metadata": {},
   "outputs": [
    {
     "data": {
      "image/png": "[encoded data removed]"
     },
     "execution_count": 108,
     "metadata": {},
     "output_type": "execute_result"
    }
   ],
   "source": [
    "# normal q-q\n",
    "sorted = sort(residuals(mod2))\n",
    "sorted = sorted ./ std(sorted)\n",
    "scatter(quantile.(Normal(), range(1/length(sorted), 1, length(sorted))), sorted, legend=false, markersize=0.01, format=:png)\n",
    "Plots.abline!(1, 0)\n",
    "title!(\"Q-Q\")\n",
    "xlabel!(\"Theoretical quantiles\")\n",
    "ylabel!(\"Actual quantiles\")"
   ]
  },
  {
   "cell_type": "code",
   "execution_count": 91,
   "id": "f6abe6a4-f4c9-49e3-8418-52c8e38247fa",
   "metadata": {},
   "outputs": [
    {
     "name": "stdout",
     "output_type": "stream",
     "text": [
      "\\begin{tabular}{lr}\n",
      "\\toprule\n",
      "                      & \\multicolumn{1}{c}{Δpeak_hour_occ} \\\\ \n",
      "\\cmidrule(lr){2-2} \n",
      "                      &                                (1) \\\\ \n",
      "\\midrule\n",
      "(Intercept)           &                          -0.008*** \\\\ \n",
      "                      &                            (0.002) \\\\ \n",
      "flow_change_ratio     &                             -0.000 \\\\ \n",
      "                      &                            (0.001) \\\\ \n",
      "Δmissing              &                          -0.000*** \\\\ \n",
      "                      &                            (0.000) \\\\ \n",
      "prepandemic_mean_flow &                           0.000*** \\\\ \n",
      "                      &                            (0.000) \\\\ \n",
      "lanes: 2              &                           -0.005** \\\\ \n",
      "                      &                            (0.002) \\\\ \n",
      "lanes: 3              &                          -0.010*** \\\\ \n",
      "                      &                            (0.002) \\\\ \n",
      "lanes: 4              &                          -0.012*** \\\\ \n",
      "                      &                            (0.002) \\\\ \n",
      "lanes: 5              &                          -0.014*** \\\\ \n",
      "                      &                            (0.002) \\\\ \n",
      "lanes: 6              &                          -0.018*** \\\\ \n",
      "                      &                            (0.002) \\\\ \n",
      "lanes: 7              &                           -0.018** \\\\ \n",
      "                      &                            (0.005) \\\\ \n",
      "lanes: 8              &                             -0.003 \\\\ \n",
      "                      &                            (0.013) \\\\ \n",
      "prepandemic_urban     &                            -0.002* \\\\ \n",
      "                      &                            (0.001) \\\\ \n",
      "prepandemic_am_peak   &                          -0.005*** \\\\ \n",
      "                      &                            (0.001) \\\\ \n",
      "district: 4           &                           0.007*** \\\\ \n",
      "                      &                            (0.001) \\\\ \n",
      "district: 5           &                           0.016*** \\\\ \n",
      "                      &                            (0.002) \\\\ \n",
      "district: 6           &                           0.012*** \\\\ \n",
      "                      &                            (0.001) \\\\ \n",
      "district: 7           &                              0.002 \\\\ \n",
      "                      &                            (0.001) \\\\ \n",
      "district: 8           &                           0.010*** \\\\ \n",
      "                      &                            (0.001) \\\\ \n",
      "district: 10          &                           0.010*** \\\\ \n",
      "                      &                            (0.001) \\\\ \n",
      "district: 11          &                            0.004** \\\\ \n",
      "                      &                            (0.001) \\\\ \n",
      "district: 12          &                              0.001 \\\\ \n",
      "                      &                            (0.001) \\\\ \n",
      "\\midrule\n",
      "Estimator             &                                OLS \\\\ \n",
      "\\midrule\n",
      "$N$                   &                              7,743 \\\\ \n",
      "$R^2$                 &                              0.207 \\\\ \n",
      "\\bottomrule\n",
      "\\end{tabular}\n",
      "\n"
     ]
    }
   ],
   "source": [
    "regtable(mod, renderSettings=latexOutput())"
   ]
  },
  {
   "cell_type": "code",
   "execution_count": null,
   "id": "41c378ee-6b45-481c-b30d-f1b800b1da2d",
   "metadata": {},
   "outputs": [],
   "source": []
  }
 ],
 "metadata": {
  "kernelspec": {
   "display_name": "Julia 7 Threads Project 1.7.3",
   "language": "julia",
   "name": "julia-7-threads-project-1.7"
  },
  "language_info": {
   "file_extension": ".jl",
   "mimetype": "application/julia",
   "name": "julia",
   "version": "1.7.3"
  }
 },
 "nbformat": 4,
 "nbformat_minor": 5
}
