{
 "cells": [
  {
   "cell_type": "code",
   "execution_count": 13,
   "id": "480414fc-c420-4b45-9279-9222e9de2cff",
   "metadata": {},
   "outputs": [],
   "source": [
    "using Plots\n",
    "using Random\n",
    "using StatsBase"
   ]
  },
  {
   "cell_type": "code",
   "execution_count": 181,
   "id": "c8fac32f-25d2-42be-87a3-7addce8c75b5",
   "metadata": {},
   "outputs": [
    {
     "data": {
      "text/plain": [
       "transition (generic function with 1 method)"
      ]
     },
     "execution_count": 181,
     "metadata": {},
     "output_type": "execute_result"
    }
   ],
   "source": [
    "function transition(f, from, to, frames)\n",
    "    length(from) == length(to) || error(\"from and to length must be same\")\n",
    "    for fr in 1:frames\n",
    "        f(from .+ (to .- from) .*  ((fr - 1) / (frames - 1)))\n",
    "    end\n",
    "end"
   ]
  },
  {
   "cell_type": "code",
   "execution_count": 216,
   "id": "da4aacdd-569a-4e30-b7ec-edc01427e834",
   "metadata": {},
   "outputs": [
    {
     "data": {
      "text/plain": [
       "animate (generic function with 3 methods)"
      ]
     },
     "execution_count": 216,
     "metadata": {},
     "output_type": "execute_result"
    }
   ],
   "source": [
    "\n",
    "function animate(;seed=2127365000, n_randomizations=25)\n",
    "    anim = Plots.Animation()\n",
    "    rng = MersenneTwister(seed)\n",
    "    \n",
    "    lay() = @layout [a{0.6w} b{0.4w}]\n",
    "\n",
    "    differences = Vector{Float64}()\n",
    "    \n",
    "    y = [rand(rng, 5) * 1.5; rand(rng, 5)]\n",
    "    colors = [\"#4B9CD3\", \"#13294B\"]\n",
    "    x = collect(1:10)\n",
    "        \n",
    "    pt_est = mean(y[6:10]) - mean(y[1:5])\n",
    "    bp = bar(x[1:5], y[1:5], bar_width=0.8, legend=false, color=colors[1], xlab=\"\", xticks=false)\n",
    "    bar!(x[6:10], y[6:10], bar_width=0.8, color=colors[2])\n",
    "    \n",
    "    hp = plot([], [], xlim=(-2 * abs(pt_est), 2 * abs(pt_est)), legend=false, xlab=\"Sampling dist.\",\n",
    "        ylim=(0, 0.25 * n_randomizations), yticks=false)\n",
    "    \n",
    "    frame(anim, plot(bp, hp, layout=lay()))\n",
    "    \n",
    "    mean1 = mean(y[1:5])\n",
    "    mean2 = mean(y[6:10])\n",
    "    plot!(bp, [0.6, 5.4], fill(mean1, 2), color=colors[1])\n",
    "    plot!(bp, [5.6, 10.4], fill(mean2, 2), color=colors[2])\n",
    "    \n",
    "    frame(anim, plot(bp, hp, layout=lay()))\n",
    "    \n",
    "    # fancy animation showing difference\n",
    "    transition([5.5, min(mean1, mean2)], [10.4, 0], 10) do xy\n",
    "        bp = bar(x[1:5], y[1:5], bar_width=0.8, legend=false, color=colors[1], xlab=\"\", xticks=false)\n",
    "        bar!(bp, x[6:10], y[6:10], bar_width=0.8, color=colors[2])\n",
    "        plot!(bp, [0.6, 5.5], fill(mean1, 2), color=colors[1])\n",
    "        plot!(bp, [5.5, 10.4], fill(mean2, 2), color=colors[2])\n",
    "        plot!(bp, [xy[1], xy[1]], [xy[2], xy[2] + abs(mean1 - mean2)], color=:black)\n",
    "        frame(anim, plot(bp, hp, layout=lay()))\n",
    "    end\n",
    "    \n",
    "    # get rid of animation\n",
    "    bp = bar(x[1:5], y[1:5], bar_width=0.8, legend=false, color=colors[1], xlab=\"\", xticks=false)\n",
    "    bar!(bp, x[6:10], y[6:10], bar_width=0.8, color=colors[2])\n",
    "    plot!(bp, [0.6, 5.5], fill(mean1, 2), color=colors[1])\n",
    "    plot!(bp, [5.5, 10.4], fill(mean2, 2), color=colors[2])\n",
    "    \n",
    "    vline!(hp, [pt_est], color=:black)\n",
    "    vspan!(hp, [-100, -abs(pt_est)], fillcolor=:gray, linecolor=:gray, alpha=0.25)\n",
    "    vspan!(hp, [abs(pt_est), 100], fillcolor=:gray, linecolor=:gray, alpha=0.25)\n",
    "    frame(anim, plot(bp, hp, layout=lay()))\n",
    "\n",
    "    for i in 1:n_randomizations\n",
    "        nextx = Random.shuffle(x)\n",
    "        transition(x, nextx, 10) do xt\n",
    "            bp = bar(xt[1:5], y[1:5], bar_width=0.8, legend=false, color=colors[1], xlab=\"\", xticks=false)\n",
    "            bar!(xt[6:10], y[6:10], bar_width=0.8, color=colors[2])\n",
    "            frame(anim, plot(bp, hp, layout=lay()))\n",
    "        end\n",
    "        \n",
    "        # now, find group means\n",
    "        mean1 = mean(y[x .≤ 5])\n",
    "        mean2 = mean(y[x .> 5])\n",
    "        plot!(bp, [0.6, 5.5], fill(mean1, 2), color=colors[1])\n",
    "        plot!(bp, [5.5, 10.4], fill(mean2, 2), color=colors[2])\n",
    "        frame(anim, plot(bp, hp, layout=lay()))\n",
    "        \n",
    "        # fancy animation showing difference\n",
    "        transition([5.5, min(mean1, mean2)], [10.4, 0], 5) do xy\n",
    "            bp = bar(nextx[1:5], y[1:5], bar_width=0.8, legend=false, color=colors[1], xlab=\"\", xticks=false)\n",
    "            bar!(nextx[6:10], y[6:10], bar_width=0.8, color=colors[2])\n",
    "\n",
    "            plot!(bp, [0.6, 5.5], fill(mean1, 2), color=colors[1])\n",
    "            plot!(bp, [5.5, 10.4], fill(mean2, 2), color=colors[2])\n",
    "            plot!(bp, [xy[1], xy[1]], [xy[2], xy[2] + abs(mean1 - mean2)], color=:black)\n",
    "            frame(anim, plot(bp, hp, layout=lay()))\n",
    "        end\n",
    "        \n",
    "        push!(differences, mean(y[nextx .> 5]) - mean(y[nextx .≤ 5]))\n",
    "        \n",
    "        pval = mean(abs.(differences) .> abs(pt_est))\n",
    "        \n",
    "        # get rid of animated difference\n",
    "        bp = bar(nextx[1:5], y[1:5], bar_width=0.8, legend=false, color=colors[1], xlab=\"\", xticks=false)\n",
    "        bar!(nextx[6:10], y[6:10], bar_width=0.8, color=colors[2])\n",
    "        plot!(bp, [0.6, 5.5], fill(mean1, 2), color=colors[1])\n",
    "        plot!(bp, [5.5, 10.4], fill(mean2, 2), color=colors[2])\n",
    "        \n",
    "        binwidth = abs(pt_est)/10        \n",
    "        hp = histogram(differences, xlim=(-2 * abs(pt_est), 2 * abs(pt_est)), legend=false,\n",
    "            bins=(-2 * abs(pt_est)):binwidth:(2 * abs(pt_est)), ylim=(0, 0.25 * n_randomizations), yticks=false,\n",
    "            xlab=\"Sampling dist.\")\n",
    "        annotate!((-abs(pt_est) + 0.1, 0.245 * n_randomizations,\n",
    "                text(\"p=$(round(pval, digits=2))\", family=\"Open Sans\", pointsize=10, halign=:left, valign=:top)))\n",
    "        vspan!(hp, [-100, -abs(pt_est)], fillcolor=:gray, linecolor=:gray, alpha=0.25)\n",
    "        vspan!(hp, [abs(pt_est), 100], fillcolor=:gray, linecolor=:gray, alpha=0.25)\n",
    "        vline!(hp, [pt_est], color=:black)\n",
    "        frame(anim, plot(bp, hp, layout=lay()))\n",
    "                     \n",
    "        x = nextx\n",
    "    end\n",
    "    \n",
    "    anim\n",
    "end"
   ]
  },
  {
   "cell_type": "code",
   "execution_count": null,
   "id": "a7ef075c-316b-4b15-b4c6-c3595fe1a93e",
   "metadata": {},
   "outputs": [],
   "source": [
    "gif(animate(n_randomizations=200), \"permutation.gif\")"
   ]
  }
 ],
 "metadata": {
  "kernelspec": {
   "display_name": "Julia 1.7.0",
   "language": "julia",
   "name": "julia-1.7"
  },
  "language_info": {
   "file_extension": ".jl",
   "mimetype": "application/julia",
   "name": "julia",
   "version": "1.7.0"
  }
 },
 "nbformat": 4,
 "nbformat_minor": 5
}
