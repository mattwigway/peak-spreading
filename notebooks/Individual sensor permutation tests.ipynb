{
 "cells": [
  {
   "cell_type": "markdown",
   "id": "207c2cd9-6ef2-4726-9015-3a92e05a57c1",
   "metadata": {},
   "source": [
    "# Individual sensor permutation tests\n",
    "\n",
    "The heterogeneity figure in the paper is striking. Is it to be trusted, or is there just so much noise in the data that it's unsurprising? The overall numbers are based on the full dataset, but that figure is per-sensor. Under a null hypothesis of no difference between sensors, what is the variance of a similar plot?\n",
    "\n",
    "We do this by doing permutation tests for each sensor and computing 1000 realizations of the mean difference. We use these to compute 1000 realizations of the variance of the per-sensor heterogeneity, and compare to the variance of the observed distribution. The permutation test forces the \"true\" value of the difference for each sensor to be identically 0. It's okay that in the data the \"true\" value if there were no heterogeneity is -0.56; we're only looking at the variance so a global shift will fall out."
   ]
  },
  {
   "cell_type": "code",
   "execution_count": null,
   "id": "0121afef-96d7-4682-9edf-ae662a7222e7",
   "metadata": {},
   "outputs": [],
   "source": [
    "using KFactors, ThreadsX, Pipe, StatsBase, Random, Plots, StableRNGs"
   ]
  },
  {
   "cell_type": "code",
   "execution_count": null,
   "id": "6e0641a3-8afc-4557-916b-f74366dfbe48",
   "metadata": {},
   "outputs": [],
   "source": [
    "rng = StableRNG(938421345)"
   ]
  },
  {
   "cell_type": "code",
   "execution_count": null,
   "id": "e5d786f1-3fe7-42eb-9989-ab31d2900be2",
   "metadata": {},
   "outputs": [],
   "source": [
    "raw_data = KFactors.read_data(\"../data/peaks_merged.parquet\");"
   ]
  },
  {
   "cell_type": "code",
   "execution_count": null,
   "id": "b64aaa59-d905-4f7d-8efb-c90124506121",
   "metadata": {},
   "outputs": [],
   "source": [
    "data = KFactors.create_test_data(raw_data, KFactors.Periods.SPRING_2022);"
   ]
  },
  {
   "cell_type": "code",
   "execution_count": null,
   "id": "dde9fc45-6b0b-420f-960d-519fd2f741d5",
   "metadata": {},
   "outputs": [],
   "source": [
    "data = data[data.period .∈ Ref(Set([:prepandemic, :postlockdown])), :];"
   ]
  },
  {
   "cell_type": "code",
   "execution_count": null,
   "id": "65f77633-641a-46a0-89bb-c25d7c02e09b",
   "metadata": {},
   "outputs": [],
   "source": [
    "# permutation test is simpler here, since we're doing it per sensor - no need to block bootstrap\n",
    "# as each per-sensor observation is independent\n",
    "\n",
    "# give sensors 1-n indices\n",
    "sensors = collect(unique(data.station))\n",
    "data.sensor_idx = map(id -> findfirst(sensors .== id), data.station)\n",
    "results = zeros(Float64, 1000, length(sensors))\n",
    "\n",
    "# barrier function for type stability\n",
    "function _update(stations, values, results, permutation)\n",
    "    for (station, value) in zip(stations, values)\n",
    "        results[permutation, station] = value\n",
    "    end\n",
    "end\n",
    "\n",
    "function sensor_period_diff(occ, period)\n",
    "    mean(@view occ[period .== :postlockdown]) - mean(@view occ[period .== :prepandemic])\n",
    "end\n",
    "\n",
    "for permutation in collect(1:1000)\n",
    "    # NB not thread safe\n",
    "    data.permuted_period = Random.shuffle(rng, data.period)\n",
    "    res = @pipe groupby(data, :sensor_idx) |>\n",
    "        combine(_, [:peak_hour_occ, :permuted_period] => sensor_period_diff => :Δpeak_hour_occ)\n",
    "    _update(res.sensor_idx, res.Δpeak_hour_occ, results, permutation)\n",
    "end"
   ]
  },
  {
   "cell_type": "code",
   "execution_count": null,
   "id": "80174137-3da6-47ae-97ec-8b280bdb1ac8",
   "metadata": {},
   "outputs": [],
   "source": [
    "# Results contains 1000 permutations of differences with \n",
    "variances = dropdims(var(results, dims=2), dims=2)\n",
    "histogram(variances)"
   ]
  },
  {
   "cell_type": "code",
   "execution_count": null,
   "id": "31e2648e-2eb6-4a85-b616-e603dd0fc6c4",
   "metadata": {},
   "outputs": [],
   "source": [
    "variances"
   ]
  },
  {
   "cell_type": "code",
   "execution_count": null,
   "id": "c60acf75-852c-404b-a45b-c0f105864b34",
   "metadata": {},
   "outputs": [],
   "source": [
    "# compute variance for the observed distribution\n",
    "obs_dist = @pipe groupby(data, :sensor_idx) |>\n",
    "    combine(_, [:peak_hour_occ, :period] => sensor_period_diff => :obs_diff)\n",
    "\n",
    "\n",
    "test_stat = var(obs_dist.obs_diff)\n"
   ]
  },
  {
   "cell_type": "code",
   "execution_count": null,
   "id": "c08d9923-6a42-446d-884e-35a57b94cad7",
   "metadata": {},
   "outputs": [],
   "source": [
    "# compute the p-value.\n",
    "(1 - mean(test_stat .> variances)) * 2"
   ]
  },
  {
   "cell_type": "markdown",
   "id": "598e8272-4a89-4a69-9b8a-07286f061b09",
   "metadata": {},
   "source": [
    "## Conclusion\n",
    "\n",
    "This bootstrapped distribution is much tighter than the observed distribution. Not the (sole) explanation for heterogeneity."
   ]
  }
 ],
 "metadata": {
  "kernelspec": {
   "display_name": "Julia 8 threads 1.8.0",
   "language": "julia",
   "name": "julia-8-threads-1.8"
  },
  "language_info": {
   "file_extension": ".jl",
   "mimetype": "application/julia",
   "name": "julia",
   "version": "1.8.0"
  }
 },
 "nbformat": 4,
 "nbformat_minor": 5
}
