{
 "cells": [
  {
   "cell_type": "markdown",
   "id": "1dc8da0a-e783-4255-a739-d4822d59b02c",
   "metadata": {},
   "source": [
    "# Network structure\n",
    "\n",
    "Can network structure explain the heterogeneity in the results?"
   ]
  },
  {
   "cell_type": "code",
   "execution_count": 143,
   "id": "a80172d2-f597-4932-a7a6-61db26d99751",
   "metadata": {},
   "outputs": [],
   "source": [
    "using KFactors, Graphs, OpenStreetMapGraphBuilder, CSV, DataFrames, MetaGraphs, LibSpatialIndex,\n",
    "    LibGEOS, StatsBase, Serialization, ArchGDAL, SpatialDependence, SparseArrays, Pipe"
   ]
  },
  {
   "cell_type": "code",
   "execution_count": 78,
   "id": "d0a7cb8e-cbde-4dc3-8eab-e4db54acb3dc",
   "metadata": {},
   "outputs": [
    {
     "data": {
      "text/plain": [
       "0.009000000000000001"
      ]
     },
     "execution_count": 78,
     "metadata": {},
     "output_type": "execute_result"
    }
   ],
   "source": [
    "const SEARCH_RADIUS_METERS = 1000\n",
    "const METERS_PER_DEGREE_LAT = 90 / 10_000_000\n",
    "const SEARCH_RADIUS_DEGREES_LAT = SEARCH_RADIUS_METERS * METERS_PER_DEGREE_LAT"
   ]
  },
  {
   "cell_type": "code",
   "execution_count": 79,
   "id": "074bf622-11c3-4b2c-9a12-061f8f8036f4",
   "metadata": {},
   "outputs": [
    {
     "name": "stderr",
     "output_type": "stream",
     "text": [
      "┌ Info: Pass 1: find intersection nodes\n",
      "└ @ OpenStreetMapGraphBuilder.OSM /Users/mwbc/.julia/packages/OpenStreetMapGraphBuilder/mhpEx/src/osm/build_graph.jl:26\n",
      "┌ Info: Reading file written by osmium/1.8.0\n",
      "└ @ OpenStreetMapPBF /Users/mwbc/.julia/packages/OpenStreetMapPBF/kl2S6/src/scan.jl:202\n",
      "┌ Info: ..parsed 102965 ways\n",
      "└ @ OpenStreetMapGraphBuilder.OSM /Users/mwbc/.julia/packages/OpenStreetMapGraphBuilder/mhpEx/src/osm/build_graph.jl:37\n",
      "┌ Info: ..found 90773 intersection nodes\n",
      "└ @ OpenStreetMapGraphBuilder.OSM /Users/mwbc/.julia/packages/OpenStreetMapGraphBuilder/mhpEx/src/osm/build_graph.jl:49\n",
      "┌ Info: Pass 2: read intersection and other highway nodes\n",
      "└ @ OpenStreetMapGraphBuilder.OSM /Users/mwbc/.julia/packages/OpenStreetMapGraphBuilder/mhpEx/src/osm/build_graph.jl:51\n",
      "┌ Info: Reading file written by osmium/1.8.0\n",
      "└ @ OpenStreetMapPBF /Users/mwbc/.julia/packages/OpenStreetMapPBF/kl2S6/src/scan.jl:202\n",
      "┌ Info: Pass 3: re-read and catalog ways\n",
      "└ @ OpenStreetMapGraphBuilder.OSM /Users/mwbc/.julia/packages/OpenStreetMapGraphBuilder/mhpEx/src/osm/build_graph.jl:71\n",
      "┌ Info: Reading file written by osmium/1.8.0\n",
      "└ @ OpenStreetMapPBF /Users/mwbc/.julia/packages/OpenStreetMapPBF/kl2S6/src/scan.jl:202\n",
      "┌ Warning: unable to parse speed limit implicit\n",
      "└ @ OpenStreetMapGraphBuilder.OSM /Users/mwbc/.julia/packages/OpenStreetMapGraphBuilder/mhpEx/src/osm/speeds.jl:11\n",
      "┌ Warning: unable to parse speed limit none\n",
      "└ @ OpenStreetMapGraphBuilder.OSM /Users/mwbc/.julia/packages/OpenStreetMapGraphBuilder/mhpEx/src/osm/speeds.jl:11\n",
      "┌ Warning: unable to parse speed limit none\n",
      "└ @ OpenStreetMapGraphBuilder.OSM /Users/mwbc/.julia/packages/OpenStreetMapGraphBuilder/mhpEx/src/osm/speeds.jl:11\n",
      "┌ Warning: unable to parse speed limit none\n",
      "└ @ OpenStreetMapGraphBuilder.OSM /Users/mwbc/.julia/packages/OpenStreetMapGraphBuilder/mhpEx/src/osm/speeds.jl:11\n",
      "┌ Warning: unable to parse speed limit none\n",
      "└ @ OpenStreetMapGraphBuilder.OSM /Users/mwbc/.julia/packages/OpenStreetMapGraphBuilder/mhpEx/src/osm/speeds.jl:11\n",
      "┌ Warning: unable to parse speed limit implicit\n",
      "└ @ OpenStreetMapGraphBuilder.OSM /Users/mwbc/.julia/packages/OpenStreetMapGraphBuilder/mhpEx/src/osm/speeds.jl:11\n",
      "┌ Warning: unable to parse speed limit implicit\n",
      "└ @ OpenStreetMapGraphBuilder.OSM /Users/mwbc/.julia/packages/OpenStreetMapGraphBuilder/mhpEx/src/osm/speeds.jl:11\n",
      "┌ Info: expanding bidirectional edges to unidirectional edges\n",
      "└ @ OpenStreetMapGraphBuilder.OSM /Users/mwbc/.julia/packages/OpenStreetMapGraphBuilder/mhpEx/src/osm/build_graph.jl:219\n",
      "┌ Info: non-edge-based graph has 128584 edges\n",
      "└ @ OpenStreetMapGraphBuilder.OSM /Users/mwbc/.julia/packages/OpenStreetMapGraphBuilder/mhpEx/src/osm/build_graph.jl:263\n",
      "┌ Info: reindexing segments for edge-based graph construction\n",
      "└ @ OpenStreetMapGraphBuilder.OSM /Users/mwbc/.julia/packages/OpenStreetMapGraphBuilder/mhpEx/src/osm/build_graph.jl:269\n",
      "┌ Info: creating edge-based graph\n",
      "└ @ OpenStreetMapGraphBuilder.OSM /Users/mwbc/.julia/packages/OpenStreetMapGraphBuilder/mhpEx/src/osm/build_graph.jl:277\n"
     ]
    },
    {
     "data": {
      "text/plain": [
       "{128584, 141375} directed Int64 metagraph with Float64 weights defined by :weight (default weight 1.0)"
      ]
     },
     "execution_count": 79,
     "metadata": {},
     "output_type": "execute_result"
    }
   ],
   "source": [
    "way_filter(way) = haskey(way.tags, \"highway\") && (\n",
    "        # will overinclude trunk and primary link roads on non-State Highway System routes,\n",
    "        # but that shouldn't hurt anything\n",
    "        way.tags[\"highway\"] ∈ Set([\"motorway\", \"motorway_link\", \"trunk_link\", \"primary_link\"]) ||\n",
    "        (way.tags[\"highway\"] ∈ Set([\"trunk\", \"primary\"]) && haskey(way.tags, \"ref\"))\n",
    "    )\n",
    "\n",
    "# don't remove islands as this will remove all freeways that go to the border past the last point where you can\n",
    "# turn around without using the motorway system, as these are in weak components but not strong components.\n",
    "G = OpenStreetMapGraphBuilder.OSM.build_graph(\"../data/california-latest.osm.pbf\",\n",
    "    way_filter=way_filter, turn_restrictions=false, remove_islands=0)"
   ]
  },
  {
   "cell_type": "code",
   "execution_count": 80,
   "id": "5d74480f-97c8-4d6b-a4a9-2687caf8bc22",
   "metadata": {},
   "outputs": [],
   "source": [
    "# serialize so can be viewed with StreetRouterVisualizer\n",
    "serialize(\"../data/ca_highways.gr\", G)"
   ]
  },
  {
   "cell_type": "markdown",
   "id": "6fe2456b-4d7f-4fb5-b2b0-5c6e8a0d097d",
   "metadata": {},
   "source": [
    "## Read sensors"
   ]
  },
  {
   "cell_type": "code",
   "execution_count": 81,
   "id": "49405320-8925-44a3-a0bf-7b458e6d78dc",
   "metadata": {},
   "outputs": [],
   "source": [
    "sensors = CSV.read(\"../data/stations_used_in_analysis.csv\", DataFrame);"
   ]
  },
  {
   "cell_type": "markdown",
   "id": "c39b880b-42f3-4dc3-a080-8e07c57e0b88",
   "metadata": {},
   "source": [
    "## Build a spatial index of the vertices\n",
    "\n",
    "Edge-based graph - vertices are links."
   ]
  },
  {
   "cell_type": "code",
   "execution_count": 82,
   "id": "00f02538-02e8-4b63-869b-42e1ff1a56b3",
   "metadata": {},
   "outputs": [
    {
     "data": {
      "text/plain": [
       "LibSpatialIndex.RTree(Ptr{Nothing} @0x0000600002214b80, LibSpatialIndex.C.RT_RTree, 0x00000002, LibSpatialIndex.C.RT_Star, LibSpatialIndex.C.RT_Memory, 0x00000064, 0x00000064, 0x00000064, 0x00000064, 0x000003e8, 0x000001f4, true, 0x00000020, 0.7, 0.4, 0.3)"
      ]
     },
     "execution_count": 82,
     "metadata": {},
     "output_type": "execute_result"
    }
   ],
   "source": [
    "rtree = LibSpatialIndex.RTree(2)"
   ]
  },
  {
   "cell_type": "code",
   "execution_count": 83,
   "id": "3abd3f7c-a867-4dad-8d2c-ccf3c2beb522",
   "metadata": {},
   "outputs": [
    {
     "data": {
      "text/plain": [
       "bbox (generic function with 1 method)"
      ]
     },
     "execution_count": 83,
     "metadata": {},
     "output_type": "execute_result"
    }
   ],
   "source": [
    "bbox(geom) = [minimum(map(x -> x.lon, geom)), minimum(map(x -> x.lat, geom))],\n",
    "    [maximum(map(x -> x.lon, geom)), maximum(map(x -> x.lat, geom))]"
   ]
  },
  {
   "cell_type": "code",
   "execution_count": 84,
   "id": "d4be6957-1c84-4481-854c-3fef97197db4",
   "metadata": {},
   "outputs": [],
   "source": [
    "for v in vertices(G)\n",
    "    LibSpatialIndex.insert!(rtree, v, bbox(get_prop(G, v, :geom))...)\n",
    "end"
   ]
  },
  {
   "cell_type": "markdown",
   "id": "ee70a365-7285-479f-a075-6ae6c58e44b0",
   "metadata": {},
   "source": [
    "## Snap each sensor to the nearest highway"
   ]
  },
  {
   "cell_type": "code",
   "execution_count": 98,
   "id": "c8d14830-e0d6-4a10-8580-fdc51aa52848",
   "metadata": {},
   "outputs": [
    {
     "data": {
      "text/plain": [
       "0.0"
      ]
     },
     "execution_count": 98,
     "metadata": {},
     "output_type": "execute_result"
    }
   ],
   "source": [
    "# LibSpatialIndex query not thread safe, fwiw\n",
    "sensors.vertex = map(zip(sensors.station, sensors.Latitude, sensors.Longitude)) do (station, lat, lon)\n",
    "    coslat = cosd(lat)\n",
    "    search_radius_degrees_lon = SEARCH_RADIUS_DEGREES_LAT / cosd(lat)\n",
    "    candidates = LibSpatialIndex.intersects(\n",
    "        rtree,\n",
    "        [lon - search_radius_degrees_lon, lat - SEARCH_RADIUS_DEGREES_LAT],\n",
    "        [lon + search_radius_degrees_lon, lat + SEARCH_RADIUS_DEGREES_LAT]\n",
    "    )\n",
    "    \n",
    "    best_vertex::Union{Int64, Missing} = missing\n",
    "    \n",
    "    # results are in lat degrees\n",
    "    # Clamp to radius to avoid grabbing something that was in a corner when there\n",
    "    # might be something closer not in the corner.\n",
    "    best_distance::Float64 = SEARCH_RADIUS_DEGREES_LAT\n",
    "    \n",
    "    # is the best distance a motorway\n",
    "    found_motorway = false\n",
    "    \n",
    "    sensor_geos = Point(lon * coslat, lat)\n",
    "    \n",
    "    # this part could potentially be multithreaded\n",
    "    for candidate in candidates\n",
    "        candidate_geom = get_prop(G, candidate, :geom)\n",
    "        # simple spherical projection\n",
    "        candidate_geos = LineString(map(x -> [x.lon * coslat, x.lat], candidate_geom))\n",
    "        \n",
    "        d = LibGEOS.distance(sensor_geos, candidate_geos)\n",
    "        \n",
    "        if d < SEARCH_RADIUS_DEGREES_LAT\n",
    "            # this is a possible match\n",
    "            # TODO should have class attached to vertex\n",
    "            outnbrs = outneighbors(G, candidate)\n",
    "            class = if !isempty(outnbrs)\n",
    "                get_prop(G, candidate, first(outnbrs), :this_class)\n",
    "            else\n",
    "                innbrs = inneighbors(G, candidate)\n",
    "                if !isempty(innbrs)\n",
    "                    get_prop(G, first(innbrs), candidate, :next_class)\n",
    "                else\n",
    "                    continue # No in or out neighbors, don't snap to this\n",
    "                end\n",
    "            end\n",
    "                \n",
    "            if class == OpenStreetMapGraphBuilder.OSM.motorway\n",
    "                if !found_motorway\n",
    "                    found_motorway = true\n",
    "                    best_distance = d\n",
    "                    best_vertex = candidate\n",
    "                else\n",
    "                    if d < best_distance\n",
    "                        best_distance = d\n",
    "                        best_vertex = candidate\n",
    "                    end\n",
    "                end\n",
    "            elseif !found_motorway\n",
    "                # only consider non-motorways if no motorways found\n",
    "                if d < best_distance\n",
    "                    best_distance = d\n",
    "                    best_vertex = candidate\n",
    "                end\n",
    "            end\n",
    "        end\n",
    "    end\n",
    "    \n",
    "    best_vertex\n",
    "end\n",
    "\n",
    "mean(ismissing.(sensors.vertex))"
   ]
  },
  {
   "cell_type": "markdown",
   "id": "f2afca75-dd36-42c6-a088-5f4e14d820db",
   "metadata": {},
   "source": [
    "## Compute graph centrality metrics"
   ]
  },
  {
   "cell_type": "code",
   "execution_count": 99,
   "id": "2c90731f-56c9-49a1-b034-0a2e4f34fffd",
   "metadata": {},
   "outputs": [],
   "source": [
    "# first, weight graph\n",
    "OpenStreetMapGraphBuilder.compute_freeflow_weights!(G)"
   ]
  },
  {
   "cell_type": "code",
   "execution_count": 149,
   "id": "97cad87f-fb81-4ac5-8e51-3b358de0bb8f",
   "metadata": {},
   "outputs": [
    {
     "data": {
      "text/html": [
       "<div class=\"data-frame\"><p>3,514 rows × 20 columns (omitted printing of 14 columns)</p><table class=\"data-frame\"><thead><tr><th></th><th>station</th><th>Latitude</th><th>Longitude</th><th>vertex</th><th>betweenness_centrality</th><th>network_link</th></tr><tr><th></th><th title=\"Int64\">Int64</th><th title=\"Float64\">Float64</th><th title=\"Float64\">Float64</th><th title=\"Int64\">Int64</th><th title=\"Float64\">Float64</th><th title=\"String\">String</th></tr></thead><tbody><tr><th>1</th><td>312134</td><td>38.4124</td><td>-121.484</td><td>120755</td><td>0.0468653</td><td>LINESTRING (-121.484289 38.412421, -121.48272300000001 38.40475)</td></tr><tr><th>2</th><td>312346</td><td>38.6343</td><td>-121.5</td><td>119785</td><td>0.00590868</td><td>LINESTRING (-121.499686 38.63434, -121.494752 38.636913)</td></tr><tr><th>3</th><td>312386</td><td>38.477</td><td>-121.426</td><td>38795</td><td>0.0114678</td><td>LINESTRING (-121.425542 38.477038, -121.424321 38.475840000000005)</td></tr><tr><th>4</th><td>312388</td><td>38.4815</td><td>-121.43</td><td>29933</td><td>0.0114811</td><td>LINESTRING (-121.430345 38.481528, -121.43046500000001 38.481579)</td></tr><tr><th>5</th><td>312420</td><td>38.4846</td><td>-121.434</td><td>29934</td><td>0.0112471</td><td>LINESTRING (-121.433775 38.484562, -121.434425 38.485081)</td></tr><tr><th>6</th><td>312422</td><td>38.4949</td><td>-121.445</td><td>120138</td><td>0.0114741</td><td>LINESTRING (-121.444522 38.494881, -121.443882 38.494236)</td></tr><tr><th>7</th><td>312513</td><td>38.5027</td><td>-121.453</td><td>29991</td><td>0.0114871</td><td>LINESTRING (-121.45279 38.502687, -121.45300300000001 38.502866000000004)</td></tr><tr><th>8</th><td>312514</td><td>38.5091</td><td>-121.459</td><td>120113</td><td>0.0114801</td><td>LINESTRING (-121.459013 38.509079, -121.45871700000001 38.508559000000005)</td></tr><tr><th>9</th><td>312520</td><td>38.5117</td><td>-121.46</td><td>121479</td><td>0.0114934</td><td>LINESTRING (-121.46048 38.511704, -121.45983670000001 38.5105106)</td></tr><tr><th>10</th><td>312564</td><td>38.5454</td><td>-121.474</td><td>119361</td><td>0.0112024</td><td>LINESTRING (-121.473985 38.545423, -121.47388500000001 38.538628)</td></tr><tr><th>11</th><td>312570</td><td>38.4468</td><td>-121.406</td><td>120018</td><td>0.0112321</td><td>LINESTRING (-121.405805 38.446758, -121.40759100000001 38.450536)</td></tr><tr><th>12</th><td>312648</td><td>38.4554</td><td>-121.41</td><td>120099</td><td>0.0114079</td><td>LINESTRING (-121.409707 38.455428, -121.407966 38.451792000000005)</td></tr><tr><th>13</th><td>312745</td><td>38.5794</td><td>-121.464</td><td>19253</td><td>0.0148272</td><td>LINESTRING (-121.46446 38.579355, -121.46375900000001 38.580865)</td></tr><tr><th>14</th><td>312771</td><td>38.5977</td><td>-121.443</td><td>30152</td><td>0.0144602</td><td>LINESTRING (-121.443157 38.597705, -121.44261 38.598371)</td></tr><tr><th>15</th><td>312858</td><td>38.6008</td><td>-121.438</td><td>30153</td><td>0.01458</td><td>LINESTRING (-121.438319 38.600789, -121.436265 38.601796)</td></tr><tr><th>16</th><td>312896</td><td>38.6246</td><td>-121.416</td><td>120375</td><td>0.0146873</td><td>LINESTRING (-121.41574 38.624622, -121.41635380000001 38.6243952)</td></tr><tr><th>17</th><td>312940</td><td>38.6311</td><td>-121.4</td><td>121447</td><td>0.0146394</td><td>LINESTRING (-121.399941 38.631139, -121.40263700000001 38.630239)</td></tr><tr><th>18</th><td>312942</td><td>38.6357</td><td>-121.388</td><td>92727</td><td>0.014435</td><td>LINESTRING (-121.388222 38.635728, -121.386729 38.636673)</td></tr><tr><th>19</th><td>312946</td><td>38.6397</td><td>-121.383</td><td>92726</td><td>0.0144216</td><td>LINESTRING (-121.383432 38.639721, -121.38219640000001 38.640844300000005)</td></tr><tr><th>20</th><td>313037</td><td>38.5919</td><td>-121.286</td><td>120317</td><td>0.00946576</td><td>LINESTRING (-121.286115 38.591859, -121.28290100000001 38.593798)</td></tr><tr><th>21</th><td>313055</td><td>38.631</td><td>-121.217</td><td>99587</td><td>0.00637667</td><td>LINESTRING (-121.216679 38.630971, -121.2175325 38.6305051)</td></tr><tr><th>22</th><td>313144</td><td>38.5233</td><td>-121.467</td><td>119364</td><td>0.0112086</td><td>LINESTRING (-121.466872 38.523271, -121.467786 38.524925)</td></tr><tr><th>23</th><td>313166</td><td>38.4228</td><td>-121.395</td><td>120103</td><td>0.011382</td><td>LINESTRING (-121.394882 38.422808, -121.393163 38.419008000000005)</td></tr><tr><th>24</th><td>313190</td><td>38.4097</td><td>-121.389</td><td>120152</td><td>0.0113691</td><td>LINESTRING (-121.388824 38.409665, -121.3882619 38.408534800000005)</td></tr><tr><th>25</th><td>313197</td><td>38.6099</td><td>-121.428</td><td>119370</td><td>0.0144608</td><td>LINESTRING (-121.428381 38.609855, -121.42875210000001 38.6095186)</td></tr><tr><th>26</th><td>313339</td><td>38.6397</td><td>-121.199</td><td>97648</td><td>0.0064814</td><td>LINESTRING (-121.199419 38.639657, -121.19956850000001 38.639624000000005)</td></tr><tr><th>27</th><td>313344</td><td>38.6423</td><td>-121.16</td><td>120345</td><td>0.00649541</td><td>LINESTRING (-121.159864 38.642303, -121.15912200000001 38.642262)</td></tr><tr><th>28</th><td>313349</td><td>38.6421</td><td>-121.156</td><td>120344</td><td>0.00648876</td><td>LINESTRING (-121.155977 38.642136, -121.15191100000001 38.641953)</td></tr><tr><th>29</th><td>313405</td><td>38.6748</td><td>-121.346</td><td>120190</td><td>0.0203929</td><td>LINESTRING (-121.345593 38.67483, -121.34863800000001 38.671926)</td></tr><tr><th>30</th><td>313406</td><td>38.6746</td><td>-121.345</td><td>119781</td><td>0.0207129</td><td>LINESTRING (-121.34513 38.674623, -121.35158740000001 38.6686561)</td></tr><tr><th>&vellip;</th><td>&vellip;</td><td>&vellip;</td><td>&vellip;</td><td>&vellip;</td><td>&vellip;</td><td>&vellip;</td></tr></tbody></table></div>"
      ],
      "text/latex": [
       "\\begin{tabular}{r|ccccccc}\n",
       "\t& station & Latitude & Longitude & vertex & betweenness\\_centrality & network\\_link & \\\\\n",
       "\t\\hline\n",
       "\t& Int64 & Float64 & Float64 & Int64 & Float64 & String & \\\\\n",
       "\t\\hline\n",
       "\t1 & 312134 & 38.4124 & -121.484 & 120755 & 0.0468653 & LINESTRING (-121.484289 38.412421, -121.48272300000001 38.40475) & $\\dots$ \\\\\n",
       "\t2 & 312346 & 38.6343 & -121.5 & 119785 & 0.00590868 & LINESTRING (-121.499686 38.63434, -121.494752 38.636913) & $\\dots$ \\\\\n",
       "\t3 & 312386 & 38.477 & -121.426 & 38795 & 0.0114678 & LINESTRING (-121.425542 38.477038, -121.424321 38.475840000000005) & $\\dots$ \\\\\n",
       "\t4 & 312388 & 38.4815 & -121.43 & 29933 & 0.0114811 & LINESTRING (-121.430345 38.481528, -121.43046500000001 38.481579) & $\\dots$ \\\\\n",
       "\t5 & 312420 & 38.4846 & -121.434 & 29934 & 0.0112471 & LINESTRING (-121.433775 38.484562, -121.434425 38.485081) & $\\dots$ \\\\\n",
       "\t6 & 312422 & 38.4949 & -121.445 & 120138 & 0.0114741 & LINESTRING (-121.444522 38.494881, -121.443882 38.494236) & $\\dots$ \\\\\n",
       "\t7 & 312513 & 38.5027 & -121.453 & 29991 & 0.0114871 & LINESTRING (-121.45279 38.502687, -121.45300300000001 38.502866000000004) & $\\dots$ \\\\\n",
       "\t8 & 312514 & 38.5091 & -121.459 & 120113 & 0.0114801 & LINESTRING (-121.459013 38.509079, -121.45871700000001 38.508559000000005) & $\\dots$ \\\\\n",
       "\t9 & 312520 & 38.5117 & -121.46 & 121479 & 0.0114934 & LINESTRING (-121.46048 38.511704, -121.45983670000001 38.5105106) & $\\dots$ \\\\\n",
       "\t10 & 312564 & 38.5454 & -121.474 & 119361 & 0.0112024 & LINESTRING (-121.473985 38.545423, -121.47388500000001 38.538628) & $\\dots$ \\\\\n",
       "\t11 & 312570 & 38.4468 & -121.406 & 120018 & 0.0112321 & LINESTRING (-121.405805 38.446758, -121.40759100000001 38.450536) & $\\dots$ \\\\\n",
       "\t12 & 312648 & 38.4554 & -121.41 & 120099 & 0.0114079 & LINESTRING (-121.409707 38.455428, -121.407966 38.451792000000005) & $\\dots$ \\\\\n",
       "\t13 & 312745 & 38.5794 & -121.464 & 19253 & 0.0148272 & LINESTRING (-121.46446 38.579355, -121.46375900000001 38.580865) & $\\dots$ \\\\\n",
       "\t14 & 312771 & 38.5977 & -121.443 & 30152 & 0.0144602 & LINESTRING (-121.443157 38.597705, -121.44261 38.598371) & $\\dots$ \\\\\n",
       "\t15 & 312858 & 38.6008 & -121.438 & 30153 & 0.01458 & LINESTRING (-121.438319 38.600789, -121.436265 38.601796) & $\\dots$ \\\\\n",
       "\t16 & 312896 & 38.6246 & -121.416 & 120375 & 0.0146873 & LINESTRING (-121.41574 38.624622, -121.41635380000001 38.6243952) & $\\dots$ \\\\\n",
       "\t17 & 312940 & 38.6311 & -121.4 & 121447 & 0.0146394 & LINESTRING (-121.399941 38.631139, -121.40263700000001 38.630239) & $\\dots$ \\\\\n",
       "\t18 & 312942 & 38.6357 & -121.388 & 92727 & 0.014435 & LINESTRING (-121.388222 38.635728, -121.386729 38.636673) & $\\dots$ \\\\\n",
       "\t19 & 312946 & 38.6397 & -121.383 & 92726 & 0.0144216 & LINESTRING (-121.383432 38.639721, -121.38219640000001 38.640844300000005) & $\\dots$ \\\\\n",
       "\t20 & 313037 & 38.5919 & -121.286 & 120317 & 0.00946576 & LINESTRING (-121.286115 38.591859, -121.28290100000001 38.593798) & $\\dots$ \\\\\n",
       "\t21 & 313055 & 38.631 & -121.217 & 99587 & 0.00637667 & LINESTRING (-121.216679 38.630971, -121.2175325 38.6305051) & $\\dots$ \\\\\n",
       "\t22 & 313144 & 38.5233 & -121.467 & 119364 & 0.0112086 & LINESTRING (-121.466872 38.523271, -121.467786 38.524925) & $\\dots$ \\\\\n",
       "\t23 & 313166 & 38.4228 & -121.395 & 120103 & 0.011382 & LINESTRING (-121.394882 38.422808, -121.393163 38.419008000000005) & $\\dots$ \\\\\n",
       "\t24 & 313190 & 38.4097 & -121.389 & 120152 & 0.0113691 & LINESTRING (-121.388824 38.409665, -121.3882619 38.408534800000005) & $\\dots$ \\\\\n",
       "\t25 & 313197 & 38.6099 & -121.428 & 119370 & 0.0144608 & LINESTRING (-121.428381 38.609855, -121.42875210000001 38.6095186) & $\\dots$ \\\\\n",
       "\t26 & 313339 & 38.6397 & -121.199 & 97648 & 0.0064814 & LINESTRING (-121.199419 38.639657, -121.19956850000001 38.639624000000005) & $\\dots$ \\\\\n",
       "\t27 & 313344 & 38.6423 & -121.16 & 120345 & 0.00649541 & LINESTRING (-121.159864 38.642303, -121.15912200000001 38.642262) & $\\dots$ \\\\\n",
       "\t28 & 313349 & 38.6421 & -121.156 & 120344 & 0.00648876 & LINESTRING (-121.155977 38.642136, -121.15191100000001 38.641953) & $\\dots$ \\\\\n",
       "\t29 & 313405 & 38.6748 & -121.346 & 120190 & 0.0203929 & LINESTRING (-121.345593 38.67483, -121.34863800000001 38.671926) & $\\dots$ \\\\\n",
       "\t30 & 313406 & 38.6746 & -121.345 & 119781 & 0.0207129 & LINESTRING (-121.34513 38.674623, -121.35158740000001 38.6686561) & $\\dots$ \\\\\n",
       "\t$\\dots$ & $\\dots$ & $\\dots$ & $\\dots$ & $\\dots$ & $\\dots$ & $\\dots$ &  \\\\\n",
       "\\end{tabular}\n"
      ],
      "text/plain": [
       "\u001b[1m3514×20 DataFrame\u001b[0m\n",
       "\u001b[1m  Row \u001b[0m│\u001b[1m station \u001b[0m\u001b[1m Latitude \u001b[0m\u001b[1m Longitude \u001b[0m\u001b[1m vertex \u001b[0m\u001b[1m betweenness_centrality \u001b[0m\u001b[1m network_\u001b[0m ⋯\n",
       "\u001b[1m      \u001b[0m│\u001b[90m Int64   \u001b[0m\u001b[90m Float64  \u001b[0m\u001b[90m Float64   \u001b[0m\u001b[90m Int64  \u001b[0m\u001b[90m Float64                \u001b[0m\u001b[90m String  \u001b[0m ⋯\n",
       "──────┼─────────────────────────────────────────────────────────────────────────\n",
       "    1 │  312134   38.4124   -121.484  120755              0.0468653   LINESTRI ⋯\n",
       "    2 │  312346   38.6343   -121.5    119785              0.00590868  LINESTRI\n",
       "    3 │  312386   38.477    -121.426   38795              0.0114678   LINESTRI\n",
       "    4 │  312388   38.4815   -121.43    29933              0.0114811   LINESTRI\n",
       "    5 │  312420   38.4846   -121.434   29934              0.0112471   LINESTRI ⋯\n",
       "    6 │  312422   38.4949   -121.445  120138              0.0114741   LINESTRI\n",
       "    7 │  312513   38.5027   -121.453   29991              0.0114871   LINESTRI\n",
       "    8 │  312514   38.5091   -121.459  120113              0.0114801   LINESTRI\n",
       "    9 │  312520   38.5117   -121.46   121479              0.0114934   LINESTRI ⋯\n",
       "   10 │  312564   38.5454   -121.474  119361              0.0112024   LINESTRI\n",
       "   11 │  312570   38.4468   -121.406  120018              0.0112321   LINESTRI\n",
       "  ⋮   │    ⋮        ⋮          ⋮        ⋮               ⋮                      ⋱\n",
       " 3505 │ 1204255   33.4324   -117.616   48516              0.0593269   LINESTRI\n",
       " 3506 │ 1204316   33.4583   -117.655  115621              0.0593306   LINESTRI ⋯\n",
       " 3507 │ 1204301   33.4558   -117.65    48518              0.0593714   LINESTRI\n",
       " 3508 │ 1220775   33.6374   -117.761   97350              0.00183522  LINESTRI\n",
       " 3509 │ 1221212   33.8572   -117.876   41734              0.00420393  LINESTRI\n",
       " 3510 │ 1221232   33.4504   -117.64    48530              0.0593716   LINESTRI ⋯\n",
       " 3511 │ 1220811   33.6028   -117.761   18751              0.00806458  LINESTRI\n",
       " 3512 │ 1220816   33.5967   -117.761   18750              0.00687977  LINESTRI\n",
       " 3513 │ 1221254   33.9221   -117.832   81398              0.00034173  LINESTRI\n",
       " 3514 │ 1221255   33.9221   -117.832   81398              0.00034173  LINESTRI ⋯\n",
       "\u001b[36m                                                15 columns and 3493 rows omitted\u001b[0m"
      ]
     },
     "execution_count": 149,
     "metadata": {},
     "output_type": "execute_result"
    }
   ],
   "source": [
    "meta = CSV.read(\"../data/sensor_meta_geo.csv\", DataFrame)\n",
    "leftjoin!(sensors, select(meta, Not([:Latitude, :Longitude])), on=:station=>:ID)"
   ]
  },
  {
   "cell_type": "code",
   "execution_count": 159,
   "id": "a6eedb58-ef1c-4588-9fbd-42ad14b47a12",
   "metadata": {},
   "outputs": [
    {
     "data": {
      "text/plain": [
       "1000×3 Matrix{Float64}:\n",
       " 1.0  1.0  1.0\n",
       " 1.0  1.0  1.0\n",
       " 1.0  1.0  1.0\n",
       " 1.0  1.0  1.0\n",
       " 1.0  1.0  1.0\n",
       " 1.0  1.0  1.0\n",
       " 1.0  1.0  1.0\n",
       " 1.0  1.0  1.0\n",
       " 1.0  1.0  1.0\n",
       " 1.0  1.0  1.0\n",
       " 1.0  1.0  1.0\n",
       " 1.0  1.0  1.0\n",
       " 1.0  1.0  1.0\n",
       " ⋮         \n",
       " 1.0  1.0  1.0\n",
       " 1.0  1.0  1.0\n",
       " 1.0  1.0  1.0\n",
       " 1.0  1.0  1.0\n",
       " 1.0  1.0  1.0\n",
       " 1.0  1.0  1.0\n",
       " 1.0  1.0  1.0\n",
       " 1.0  1.0  1.0\n",
       " 1.0  1.0  1.0\n",
       " 1.0  1.0  1.0\n",
       " 1.0  1.0  1.0\n",
       " 1.0  1.0  1.0"
      ]
     },
     "execution_count": 159,
     "metadata": {},
     "output_type": "execute_result"
    }
   ],
   "source": [
    "x = ones(1000, 3)"
   ]
  },
  {
   "cell_type": "code",
   "execution_count": 171,
   "id": "e4aaa71a-4fe5-4386-b669-1418636b7090",
   "metadata": {},
   "outputs": [
    {
     "data": {
      "text/html": [
       "<div class=\"data-frame\"><p>3,514 rows × 21 columns (omitted printing of 15 columns)</p><table class=\"data-frame\"><thead><tr><th></th><th>station</th><th>Latitude</th><th>Longitude</th><th>vertex</th><th>betweenness_centrality</th><th>network_link</th></tr><tr><th></th><th title=\"Int64\">Int64</th><th title=\"Float64\">Float64</th><th title=\"Float64\">Float64</th><th title=\"Int64\">Int64</th><th title=\"Float64\">Float64</th><th title=\"String\">String</th></tr></thead><tbody><tr><th>1</th><td>312134</td><td>38.4124</td><td>-121.484</td><td>120755</td><td>0.0468653</td><td>LINESTRING (-121.484289 38.412421, -121.48272300000001 38.40475)</td></tr><tr><th>2</th><td>312346</td><td>38.6343</td><td>-121.5</td><td>119785</td><td>0.00590868</td><td>LINESTRING (-121.499686 38.63434, -121.494752 38.636913)</td></tr><tr><th>3</th><td>312386</td><td>38.477</td><td>-121.426</td><td>38795</td><td>0.0114678</td><td>LINESTRING (-121.425542 38.477038, -121.424321 38.475840000000005)</td></tr><tr><th>4</th><td>312388</td><td>38.4815</td><td>-121.43</td><td>29933</td><td>0.0114811</td><td>LINESTRING (-121.430345 38.481528, -121.43046500000001 38.481579)</td></tr><tr><th>5</th><td>312420</td><td>38.4846</td><td>-121.434</td><td>29934</td><td>0.0112471</td><td>LINESTRING (-121.433775 38.484562, -121.434425 38.485081)</td></tr><tr><th>6</th><td>312422</td><td>38.4949</td><td>-121.445</td><td>120138</td><td>0.0114741</td><td>LINESTRING (-121.444522 38.494881, -121.443882 38.494236)</td></tr><tr><th>7</th><td>312513</td><td>38.5027</td><td>-121.453</td><td>29991</td><td>0.0114871</td><td>LINESTRING (-121.45279 38.502687, -121.45300300000001 38.502866000000004)</td></tr><tr><th>8</th><td>312514</td><td>38.5091</td><td>-121.459</td><td>120113</td><td>0.0114801</td><td>LINESTRING (-121.459013 38.509079, -121.45871700000001 38.508559000000005)</td></tr><tr><th>9</th><td>312520</td><td>38.5117</td><td>-121.46</td><td>121479</td><td>0.0114934</td><td>LINESTRING (-121.46048 38.511704, -121.45983670000001 38.5105106)</td></tr><tr><th>10</th><td>312564</td><td>38.5454</td><td>-121.474</td><td>119361</td><td>0.0112024</td><td>LINESTRING (-121.473985 38.545423, -121.47388500000001 38.538628)</td></tr><tr><th>11</th><td>312570</td><td>38.4468</td><td>-121.406</td><td>120018</td><td>0.0112321</td><td>LINESTRING (-121.405805 38.446758, -121.40759100000001 38.450536)</td></tr><tr><th>12</th><td>312648</td><td>38.4554</td><td>-121.41</td><td>120099</td><td>0.0114079</td><td>LINESTRING (-121.409707 38.455428, -121.407966 38.451792000000005)</td></tr><tr><th>13</th><td>312745</td><td>38.5794</td><td>-121.464</td><td>19253</td><td>0.0148272</td><td>LINESTRING (-121.46446 38.579355, -121.46375900000001 38.580865)</td></tr><tr><th>14</th><td>312771</td><td>38.5977</td><td>-121.443</td><td>30152</td><td>0.0144602</td><td>LINESTRING (-121.443157 38.597705, -121.44261 38.598371)</td></tr><tr><th>15</th><td>312858</td><td>38.6008</td><td>-121.438</td><td>30153</td><td>0.01458</td><td>LINESTRING (-121.438319 38.600789, -121.436265 38.601796)</td></tr><tr><th>16</th><td>312896</td><td>38.6246</td><td>-121.416</td><td>120375</td><td>0.0146873</td><td>LINESTRING (-121.41574 38.624622, -121.41635380000001 38.6243952)</td></tr><tr><th>17</th><td>312940</td><td>38.6311</td><td>-121.4</td><td>121447</td><td>0.0146394</td><td>LINESTRING (-121.399941 38.631139, -121.40263700000001 38.630239)</td></tr><tr><th>18</th><td>312942</td><td>38.6357</td><td>-121.388</td><td>92727</td><td>0.014435</td><td>LINESTRING (-121.388222 38.635728, -121.386729 38.636673)</td></tr><tr><th>19</th><td>312946</td><td>38.6397</td><td>-121.383</td><td>92726</td><td>0.0144216</td><td>LINESTRING (-121.383432 38.639721, -121.38219640000001 38.640844300000005)</td></tr><tr><th>20</th><td>313037</td><td>38.5919</td><td>-121.286</td><td>120317</td><td>0.00946576</td><td>LINESTRING (-121.286115 38.591859, -121.28290100000001 38.593798)</td></tr><tr><th>21</th><td>313055</td><td>38.631</td><td>-121.217</td><td>99587</td><td>0.00637667</td><td>LINESTRING (-121.216679 38.630971, -121.2175325 38.6305051)</td></tr><tr><th>22</th><td>313144</td><td>38.5233</td><td>-121.467</td><td>119364</td><td>0.0112086</td><td>LINESTRING (-121.466872 38.523271, -121.467786 38.524925)</td></tr><tr><th>23</th><td>313166</td><td>38.4228</td><td>-121.395</td><td>120103</td><td>0.011382</td><td>LINESTRING (-121.394882 38.422808, -121.393163 38.419008000000005)</td></tr><tr><th>24</th><td>313190</td><td>38.4097</td><td>-121.389</td><td>120152</td><td>0.0113691</td><td>LINESTRING (-121.388824 38.409665, -121.3882619 38.408534800000005)</td></tr><tr><th>25</th><td>313197</td><td>38.6099</td><td>-121.428</td><td>119370</td><td>0.0144608</td><td>LINESTRING (-121.428381 38.609855, -121.42875210000001 38.6095186)</td></tr><tr><th>26</th><td>313339</td><td>38.6397</td><td>-121.199</td><td>97648</td><td>0.0064814</td><td>LINESTRING (-121.199419 38.639657, -121.19956850000001 38.639624000000005)</td></tr><tr><th>27</th><td>313344</td><td>38.6423</td><td>-121.16</td><td>120345</td><td>0.00649541</td><td>LINESTRING (-121.159864 38.642303, -121.15912200000001 38.642262)</td></tr><tr><th>28</th><td>313349</td><td>38.6421</td><td>-121.156</td><td>120344</td><td>0.00648876</td><td>LINESTRING (-121.155977 38.642136, -121.15191100000001 38.641953)</td></tr><tr><th>29</th><td>313405</td><td>38.6748</td><td>-121.346</td><td>120190</td><td>0.0203929</td><td>LINESTRING (-121.345593 38.67483, -121.34863800000001 38.671926)</td></tr><tr><th>30</th><td>313406</td><td>38.6746</td><td>-121.345</td><td>119781</td><td>0.0207129</td><td>LINESTRING (-121.34513 38.674623, -121.35158740000001 38.6686561)</td></tr><tr><th>&vellip;</th><td>&vellip;</td><td>&vellip;</td><td>&vellip;</td><td>&vellip;</td><td>&vellip;</td><td>&vellip;</td></tr></tbody></table></div>"
      ],
      "text/latex": [
       "\\begin{tabular}{r|ccccccc}\n",
       "\t& station & Latitude & Longitude & vertex & betweenness\\_centrality & network\\_link & \\\\\n",
       "\t\\hline\n",
       "\t& Int64 & Float64 & Float64 & Int64 & Float64 & String & \\\\\n",
       "\t\\hline\n",
       "\t1 & 312134 & 38.4124 & -121.484 & 120755 & 0.0468653 & LINESTRING (-121.484289 38.412421, -121.48272300000001 38.40475) & $\\dots$ \\\\\n",
       "\t2 & 312346 & 38.6343 & -121.5 & 119785 & 0.00590868 & LINESTRING (-121.499686 38.63434, -121.494752 38.636913) & $\\dots$ \\\\\n",
       "\t3 & 312386 & 38.477 & -121.426 & 38795 & 0.0114678 & LINESTRING (-121.425542 38.477038, -121.424321 38.475840000000005) & $\\dots$ \\\\\n",
       "\t4 & 312388 & 38.4815 & -121.43 & 29933 & 0.0114811 & LINESTRING (-121.430345 38.481528, -121.43046500000001 38.481579) & $\\dots$ \\\\\n",
       "\t5 & 312420 & 38.4846 & -121.434 & 29934 & 0.0112471 & LINESTRING (-121.433775 38.484562, -121.434425 38.485081) & $\\dots$ \\\\\n",
       "\t6 & 312422 & 38.4949 & -121.445 & 120138 & 0.0114741 & LINESTRING (-121.444522 38.494881, -121.443882 38.494236) & $\\dots$ \\\\\n",
       "\t7 & 312513 & 38.5027 & -121.453 & 29991 & 0.0114871 & LINESTRING (-121.45279 38.502687, -121.45300300000001 38.502866000000004) & $\\dots$ \\\\\n",
       "\t8 & 312514 & 38.5091 & -121.459 & 120113 & 0.0114801 & LINESTRING (-121.459013 38.509079, -121.45871700000001 38.508559000000005) & $\\dots$ \\\\\n",
       "\t9 & 312520 & 38.5117 & -121.46 & 121479 & 0.0114934 & LINESTRING (-121.46048 38.511704, -121.45983670000001 38.5105106) & $\\dots$ \\\\\n",
       "\t10 & 312564 & 38.5454 & -121.474 & 119361 & 0.0112024 & LINESTRING (-121.473985 38.545423, -121.47388500000001 38.538628) & $\\dots$ \\\\\n",
       "\t11 & 312570 & 38.4468 & -121.406 & 120018 & 0.0112321 & LINESTRING (-121.405805 38.446758, -121.40759100000001 38.450536) & $\\dots$ \\\\\n",
       "\t12 & 312648 & 38.4554 & -121.41 & 120099 & 0.0114079 & LINESTRING (-121.409707 38.455428, -121.407966 38.451792000000005) & $\\dots$ \\\\\n",
       "\t13 & 312745 & 38.5794 & -121.464 & 19253 & 0.0148272 & LINESTRING (-121.46446 38.579355, -121.46375900000001 38.580865) & $\\dots$ \\\\\n",
       "\t14 & 312771 & 38.5977 & -121.443 & 30152 & 0.0144602 & LINESTRING (-121.443157 38.597705, -121.44261 38.598371) & $\\dots$ \\\\\n",
       "\t15 & 312858 & 38.6008 & -121.438 & 30153 & 0.01458 & LINESTRING (-121.438319 38.600789, -121.436265 38.601796) & $\\dots$ \\\\\n",
       "\t16 & 312896 & 38.6246 & -121.416 & 120375 & 0.0146873 & LINESTRING (-121.41574 38.624622, -121.41635380000001 38.6243952) & $\\dots$ \\\\\n",
       "\t17 & 312940 & 38.6311 & -121.4 & 121447 & 0.0146394 & LINESTRING (-121.399941 38.631139, -121.40263700000001 38.630239) & $\\dots$ \\\\\n",
       "\t18 & 312942 & 38.6357 & -121.388 & 92727 & 0.014435 & LINESTRING (-121.388222 38.635728, -121.386729 38.636673) & $\\dots$ \\\\\n",
       "\t19 & 312946 & 38.6397 & -121.383 & 92726 & 0.0144216 & LINESTRING (-121.383432 38.639721, -121.38219640000001 38.640844300000005) & $\\dots$ \\\\\n",
       "\t20 & 313037 & 38.5919 & -121.286 & 120317 & 0.00946576 & LINESTRING (-121.286115 38.591859, -121.28290100000001 38.593798) & $\\dots$ \\\\\n",
       "\t21 & 313055 & 38.631 & -121.217 & 99587 & 0.00637667 & LINESTRING (-121.216679 38.630971, -121.2175325 38.6305051) & $\\dots$ \\\\\n",
       "\t22 & 313144 & 38.5233 & -121.467 & 119364 & 0.0112086 & LINESTRING (-121.466872 38.523271, -121.467786 38.524925) & $\\dots$ \\\\\n",
       "\t23 & 313166 & 38.4228 & -121.395 & 120103 & 0.011382 & LINESTRING (-121.394882 38.422808, -121.393163 38.419008000000005) & $\\dots$ \\\\\n",
       "\t24 & 313190 & 38.4097 & -121.389 & 120152 & 0.0113691 & LINESTRING (-121.388824 38.409665, -121.3882619 38.408534800000005) & $\\dots$ \\\\\n",
       "\t25 & 313197 & 38.6099 & -121.428 & 119370 & 0.0144608 & LINESTRING (-121.428381 38.609855, -121.42875210000001 38.6095186) & $\\dots$ \\\\\n",
       "\t26 & 313339 & 38.6397 & -121.199 & 97648 & 0.0064814 & LINESTRING (-121.199419 38.639657, -121.19956850000001 38.639624000000005) & $\\dots$ \\\\\n",
       "\t27 & 313344 & 38.6423 & -121.16 & 120345 & 0.00649541 & LINESTRING (-121.159864 38.642303, -121.15912200000001 38.642262) & $\\dots$ \\\\\n",
       "\t28 & 313349 & 38.6421 & -121.156 & 120344 & 0.00648876 & LINESTRING (-121.155977 38.642136, -121.15191100000001 38.641953) & $\\dots$ \\\\\n",
       "\t29 & 313405 & 38.6748 & -121.346 & 120190 & 0.0203929 & LINESTRING (-121.345593 38.67483, -121.34863800000001 38.671926) & $\\dots$ \\\\\n",
       "\t30 & 313406 & 38.6746 & -121.345 & 119781 & 0.0207129 & LINESTRING (-121.34513 38.674623, -121.35158740000001 38.6686561) & $\\dots$ \\\\\n",
       "\t$\\dots$ & $\\dots$ & $\\dots$ & $\\dots$ & $\\dots$ & $\\dots$ & $\\dots$ &  \\\\\n",
       "\\end{tabular}\n"
      ],
      "text/plain": [
       "\u001b[1m3514×21 DataFrame\u001b[0m\n",
       "\u001b[1m  Row \u001b[0m│\u001b[1m station \u001b[0m\u001b[1m Latitude \u001b[0m\u001b[1m Longitude \u001b[0m\u001b[1m vertex \u001b[0m\u001b[1m betweenness_centrality \u001b[0m\u001b[1m network_\u001b[0m ⋯\n",
       "\u001b[1m      \u001b[0m│\u001b[90m Int64   \u001b[0m\u001b[90m Float64  \u001b[0m\u001b[90m Float64   \u001b[0m\u001b[90m Int64  \u001b[0m\u001b[90m Float64                \u001b[0m\u001b[90m String  \u001b[0m ⋯\n",
       "──────┼─────────────────────────────────────────────────────────────────────────\n",
       "    1 │  312134   38.4124   -121.484  120755              0.0468653   LINESTRI ⋯\n",
       "    2 │  312346   38.6343   -121.5    119785              0.00590868  LINESTRI\n",
       "    3 │  312386   38.477    -121.426   38795              0.0114678   LINESTRI\n",
       "    4 │  312388   38.4815   -121.43    29933              0.0114811   LINESTRI\n",
       "    5 │  312420   38.4846   -121.434   29934              0.0112471   LINESTRI ⋯\n",
       "    6 │  312422   38.4949   -121.445  120138              0.0114741   LINESTRI\n",
       "    7 │  312513   38.5027   -121.453   29991              0.0114871   LINESTRI\n",
       "    8 │  312514   38.5091   -121.459  120113              0.0114801   LINESTRI\n",
       "    9 │  312520   38.5117   -121.46   121479              0.0114934   LINESTRI ⋯\n",
       "   10 │  312564   38.5454   -121.474  119361              0.0112024   LINESTRI\n",
       "   11 │  312570   38.4468   -121.406  120018              0.0112321   LINESTRI\n",
       "  ⋮   │    ⋮        ⋮          ⋮        ⋮               ⋮                      ⋱\n",
       " 3505 │ 1204255   33.4324   -117.616   48516              0.0593269   LINESTRI\n",
       " 3506 │ 1204316   33.4583   -117.655  115621              0.0593306   LINESTRI ⋯\n",
       " 3507 │ 1204301   33.4558   -117.65    48518              0.0593714   LINESTRI\n",
       " 3508 │ 1220775   33.6374   -117.761   97350              0.00183522  LINESTRI\n",
       " 3509 │ 1221212   33.8572   -117.876   41734              0.00420393  LINESTRI\n",
       " 3510 │ 1221232   33.4504   -117.64    48530              0.0593716   LINESTRI ⋯\n",
       " 3511 │ 1220811   33.6028   -117.761   18751              0.00806458  LINESTRI\n",
       " 3512 │ 1220816   33.5967   -117.761   18750              0.00687977  LINESTRI\n",
       " 3513 │ 1221254   33.9221   -117.832   81398              0.00034173  LINESTRI\n",
       " 3514 │ 1221255   33.9221   -117.832   81398              0.00034173  LINESTRI ⋯\n",
       "\u001b[36m                                                16 columns and 3493 rows omitted\u001b[0m"
      ]
     },
     "execution_count": 171,
     "metadata": {},
     "output_type": "execute_result"
    }
   ],
   "source": [
    "# compute betweenness centrality by district\n",
    "function group_centrality(vertices)\n",
    "    # calc betweenness centrality - calcs for all vertices\n",
    "    # not using Graphs.jl function as it always calculates for all destinations\n",
    "    \n",
    "    centralities = zeros(Int64, nv(G), Threads.nthreads())\n",
    "    \n",
    "    Threads.@threads for source in vertices\n",
    "        ds = dijkstra_shortest_paths(G, source)\n",
    "        \n",
    "        for tgt in vertices\n",
    "            if tgt != source && isfinite(ds.dists[tgt])\n",
    "                current = ds.parents[tgt]\n",
    "                \n",
    "                while current != source\n",
    "                    centralities[current, Threads.threadid()] += 1\n",
    "                    current = ds.parents[current]\n",
    "                end\n",
    "            end\n",
    "        end\n",
    "    end\n",
    "    \n",
    "    (dropdims(sum(centralities, dims=2), dims=2) ./ (length(vertices) * (length(vertices) - 1)))[vertices]\n",
    "end\n",
    "\n",
    "@pipe groupby(sensors, :District) |>\n",
    "    transform!(_, :vertex => group_centrality => :district_betweenness_centrality)"
   ]
  },
  {
   "cell_type": "code",
   "execution_count": 173,
   "id": "40b805b0-2429-4c28-bfc1-18d2842dbad6",
   "metadata": {},
   "outputs": [
    {
     "data": {
      "text/plain": [
       "\"../data/sensor_centrality.csv\""
      ]
     },
     "execution_count": 173,
     "metadata": {},
     "output_type": "execute_result"
    }
   ],
   "source": [
    "CSV.write(\"../data/sensor_centrality.csv\", sensors)"
   ]
  },
  {
   "cell_type": "markdown",
   "id": "5800bb24-dab8-40bb-92ea-cdebe2a42dbb",
   "metadata": {},
   "source": [
    "## Save links to network\n",
    "\n",
    "So we can map how everything was connected."
   ]
  },
  {
   "cell_type": "code",
   "execution_count": 111,
   "id": "50098124-8eb9-477c-ac8d-b202dbd82016",
   "metadata": {},
   "outputs": [
    {
     "data": {
      "text/plain": [
       "3514-element Vector{String}:\n",
       " \"LINESTRING (-121.484289 38.412421, -121.48272300000001 38.40475)\"\n",
       " \"LINESTRING (-121.499686 38.63434, -121.494752 38.636913)\"\n",
       " \"LINESTRING (-121.425542 38.477038, -121.424321 38.475840000000005)\"\n",
       " \"LINESTRING (-121.430345 38.481528, -121.43046500000001 38.481579)\"\n",
       " \"LINESTRING (-121.433775 38.484562, -121.434425 38.485081)\"\n",
       " \"LINESTRING (-121.444522 38.494881, -121.443882 38.494236)\"\n",
       " \"LINESTRING (-121.45279 38.502687, -121.45300300000001 38.502866000000004)\"\n",
       " \"LINESTRING (-121.459013 38.509079, -121.45871700000001 38.508559000000005)\"\n",
       " \"LINESTRING (-121.46048 38.511704, -121.45983670000001 38.5105106)\"\n",
       " \"LINESTRING (-121.473985 38.545423, -121.47388500000001 38.538628)\"\n",
       " \"LINESTRING (-121.405805 38.446758, -121.40759100000001 38.450536)\"\n",
       " \"LINESTRING (-121.409707 38.455428, -121.407966 38.451792000000005)\"\n",
       " \"LINESTRING (-121.46446 38.579355, -121.46375900000001 38.580865)\"\n",
       " ⋮\n",
       " \"LINESTRING (-117.86475 33.655401, -117.8631457 33.6539475)\"\n",
       " \"LINESTRING (-117.791255 33.854451, -117.79169610000001 33.8544198)\"\n",
       " \"LINESTRING (-117.615519 33.432425, -117.61500810000001 33.431749700000005)\"\n",
       " \"LINESTRING (-117.655008 33.458342, -117.65259630000001 33.4569105)\"\n",
       " \"LINESTRING (-117.650183 33.455773, -117.6458535 33.4539637)\"\n",
       " \"LINESTRING (-117.760626 33.637439, -117.76216210000001 33.6437967)\"\n",
       " \"LINESTRING (-117.875678 33.857169, -117.87543810000001 33.8559916)\"\n",
       " \"LINESTRING (-117.639897 33.450411, -117.6394252 33.4501061)\"\n",
       " \"LINESTRING (-117.7608 33.602769, -117.7732086 33.599189200000005)\"\n",
       " \"LINESTRING (-117.760662 33.596721, -117.76119070000001 33.5936302)\"\n",
       " \"LINESTRING (-117.831553 33.922131, -117.83191900000001 33.9222211)\"\n",
       " \"LINESTRING (-117.831553 33.922131, -117.83191900000001 33.9222211)\""
      ]
     },
     "execution_count": 111,
     "metadata": {},
     "output_type": "execute_result"
    }
   ],
   "source": [
    "sensors.network_link = map(zip(sensors.Latitude, sensors.Longitude, sensors.vertex)) do (lat, lon, vertex)\n",
    "    v_geom = get_prop(G, vertex, :geom)\n",
    "    v_centerish = v_geom[length(v_geom) ÷ 2]\n",
    "    \n",
    "    link_geom = LineString([[lon, lat], [v_centerish.lon, v_centerish.lat]])\n",
    "    \n",
    "    writegeom(link_geom)\n",
    "end"
   ]
  },
  {
   "cell_type": "code",
   "execution_count": 113,
   "id": "4f28133a-7870-4a6b-85ac-8fdcff47deed",
   "metadata": {},
   "outputs": [
    {
     "data": {
      "text/plain": [
       "Dict{Symbol, Any} with 7 entries:\n",
       "  :way           => 2022\n",
       "  :heading_end   => 51.4749\n",
       "  :nodes         => [1833121478, 278607482]\n",
       "  :geom          => Geodesy.LLA{Float64}[LLA(lat=35.0683591°, lon=-116.4159934°…\n",
       "  :from_node     => 1833121478\n",
       "  :heading_start => 51.4749\n",
       "  :to_node       => 278607482"
      ]
     },
     "execution_count": 113,
     "metadata": {},
     "output_type": "execute_result"
    }
   ],
   "source": [
    "props(G, 1)"
   ]
  },
  {
   "cell_type": "code",
   "execution_count": 112,
   "id": "3db82b47-f58e-4e24-8f16-edf999d20075",
   "metadata": {},
   "outputs": [
    {
     "data": {
      "text/plain": [
       "\"../data/network_links.csv\""
      ]
     },
     "execution_count": 112,
     "metadata": {},
     "output_type": "execute_result"
    }
   ],
   "source": [
    "CSV.write(\"../data/network_links.csv\", select(sensors, [:station, :vertex, :network_link]))"
   ]
  },
  {
   "cell_type": "code",
   "execution_count": 119,
   "id": "19d28eb6-a501-445f-b013-f77e6adb4e87",
   "metadata": {},
   "outputs": [],
   "source": [
    "# write the network to a shapefile\n",
    "# https://discourse.julialang.org/t/how-to-create-a-new-shapefile-containing-a-few-points/43454/3\n",
    "ArchGDAL.create(\"../data/network.gpkg\", driver = ArchGDAL.getdriver(\"GPKG\")) do ds\n",
    "    # EPSG 4326 - WGS 84 - coordinate reference system used by OpenStreetMap\n",
    "    ArchGDAL.createlayer(name=\"network\", geom=ArchGDAL.wkbLineString, dataset=ds, spatialref=ArchGDAL.importEPSG(4326)) do layer\n",
    "        ArchGDAL.addfielddefn!(layer, \"vertexid\", ArchGDAL.OFTInteger)\n",
    "        \n",
    "        for v in vertices(G)\n",
    "            geom = get_prop(G, v, :geom)\n",
    "            lats = [x.lat for x in geom]\n",
    "            lons = [x.lon for x in geom]\n",
    "            ArchGDAL.addfeature(layer) do f\n",
    "                ArchGDAL.setgeom!(f, ArchGDAL.createlinestring(lons, lats))\n",
    "                ArchGDAL.setfield!(f, 0, v)\n",
    "            end\n",
    "        end\n",
    "    end\n",
    "end"
   ]
  },
  {
   "cell_type": "code",
   "execution_count": 117,
   "id": "a630acec-738e-40be-ac27-887289d970e6",
   "metadata": {},
   "outputs": [
    {
     "data": {
      "text/plain": [
       "Driver: GPKG/GeoPackage"
      ]
     },
     "execution_count": 117,
     "metadata": {},
     "output_type": "execute_result"
    }
   ],
   "source": [
    "ArchGDAL.getdriver(\"GPKG\")"
   ]
  },
  {
   "cell_type": "markdown",
   "id": "1c30608c-89ea-4442-ab61-2a2c8771eb98",
   "metadata": {},
   "source": [
    "## Build the weights matrix"
   ]
  },
  {
   "cell_type": "code",
   "execution_count": 129,
   "id": "a8864275-0bf8-40c9-8f64-f9811b0179a1",
   "metadata": {},
   "outputs": [
    {
     "data": {
      "text/plain": [
       "3514×3514 Matrix{Bool}:\n",
       " 0  0  0  0  0  0  0  0  0  0  0  0  0  …  0  0  0  0  0  0  0  0  0  0  0  0\n",
       " 0  0  0  0  0  0  0  0  0  0  0  0  0     0  0  0  0  0  0  0  0  0  0  0  0\n",
       " 0  0  0  0  0  0  0  0  0  0  0  0  0     0  0  0  0  0  0  0  0  0  0  0  0\n",
       " 0  0  0  0  0  0  0  0  0  0  0  0  0     0  0  0  0  0  0  0  0  0  0  0  0\n",
       " 0  0  0  0  0  0  0  0  0  0  0  0  0     0  0  0  0  0  0  0  0  0  0  0  0\n",
       " 0  0  0  0  0  0  0  0  0  0  0  0  0  …  0  0  0  0  0  0  0  0  0  0  0  0\n",
       " 0  0  0  0  0  0  0  0  0  0  0  0  0     0  0  0  0  0  0  0  0  0  0  0  0\n",
       " 0  0  0  0  0  0  0  0  0  0  0  0  0     0  0  0  0  0  0  0  0  0  0  0  0\n",
       " 0  0  0  0  0  0  0  0  0  0  0  0  0     0  0  0  0  0  0  0  0  0  0  0  0\n",
       " 0  0  0  0  0  0  0  0  0  0  0  0  0     0  0  0  0  0  0  0  0  0  0  0  0\n",
       " 0  0  0  0  0  0  0  0  0  0  0  0  0  …  0  0  0  0  0  0  0  0  0  0  0  0\n",
       " 0  0  0  0  0  0  0  0  0  0  0  0  0     0  0  0  0  0  0  0  0  0  0  0  0\n",
       " 0  0  0  0  0  0  0  0  0  0  0  0  0     0  0  0  0  0  0  0  0  0  0  0  0\n",
       " ⋮              ⋮              ⋮        ⋱           ⋮              ⋮        \n",
       " 0  0  0  0  0  0  0  0  0  0  0  0  0     0  0  0  0  0  0  0  0  0  0  0  0\n",
       " 0  0  0  0  0  0  0  0  0  0  0  0  0     0  0  0  0  0  0  0  0  0  0  0  0\n",
       " 0  0  0  0  0  0  0  0  0  0  0  0  0     0  0  0  0  0  0  0  0  0  0  0  0\n",
       " 0  0  0  0  0  0  0  0  0  0  0  0  0  …  0  0  0  0  0  0  0  0  0  0  0  0\n",
       " 0  0  0  0  0  0  0  0  0  0  0  0  0     0  0  0  0  0  0  0  0  0  0  0  0\n",
       " 0  0  0  0  0  0  0  0  0  0  0  0  0     0  0  0  0  0  0  0  0  0  0  0  0\n",
       " 0  0  0  0  0  0  0  0  0  0  0  0  0     0  0  0  0  0  0  0  0  0  0  0  0\n",
       " 0  0  0  0  0  0  0  0  0  0  0  0  0     0  0  0  0  0  0  0  0  0  0  0  0\n",
       " 0  0  0  0  0  0  0  0  0  0  0  0  0  …  0  0  0  0  0  0  0  0  0  0  0  0\n",
       " 0  0  0  0  0  0  0  0  0  0  0  0  0     0  0  0  0  0  0  0  0  0  0  0  0\n",
       " 0  0  0  0  0  0  0  0  0  0  0  0  0     0  0  0  0  0  0  0  0  0  0  0  0\n",
       " 0  0  0  0  0  0  0  0  0  0  0  0  0     0  0  0  0  0  0  0  0  0  0  0  0"
      ]
     },
     "execution_count": 129,
     "metadata": {},
     "output_type": "execute_result"
    }
   ],
   "source": [
    "# Create the weights matrix\n",
    "# don't use a sparse matrix, not thread safe\n",
    "wmat = zeros(Bool, nrow(sensors), nrow(sensors))"
   ]
  },
  {
   "cell_type": "code",
   "execution_count": 130,
   "id": "d369af31-f2db-432b-afa7-96283ce9b42d",
   "metadata": {},
   "outputs": [],
   "source": [
    "# now, find nearest four neighbors\n",
    "Threads.@threads for (vidx, vertex) in collect(enumerate(sensors.vertex))\n",
    "    ds = dijkstra_shortest_paths(G, vertex)\n",
    "    # now compute dists to all sensors\n",
    "    all_sensor_dists = map(x -> ds.dists[x], sensors.vertex)\n",
    "    \n",
    "    # sort it\n",
    "    sorter = sortperm(all_sensor_dists)\n",
    "    \n",
    "    for tidx in 1:4\n",
    "        if isfinite(all_sensor_dists[sorter[tidx]])\n",
    "            wmat[vidx, sorter[tidx]] = true\n",
    "        end\n",
    "    end     \n",
    "end"
   ]
  },
  {
   "cell_type": "code",
   "execution_count": 131,
   "id": "0ee8d422-b227-4878-a679-f0706ee38a29",
   "metadata": {},
   "outputs": [
    {
     "data": {
      "text/plain": [
       "Spatial Weights \n",
       "Observations: 3514 \n",
       "Transformation: row\n",
       "Minimum nunmber of neighbors: 1\n",
       "Maximum nunmber of neighbors: 4\n",
       "Average number of neighbors: 3.9903\n",
       "Median number of neighbors: 4.0\n",
       "Islands (isloated): 0\n",
       "Density: 0.1136% \n"
      ]
     },
     "execution_count": 131,
     "metadata": {},
     "output_type": "execute_result"
    }
   ],
   "source": [
    "W = SpatialWeights(wmat)"
   ]
  },
  {
   "cell_type": "code",
   "execution_count": 132,
   "id": "768ccd73-b612-41fd-bfb7-51f2fb678741",
   "metadata": {},
   "outputs": [
    {
     "data": {
      "text/html": [
       "<div class=\"data-frame\"><p>3,514 rows × 28 columns (omitted printing of 23 columns)</p><table class=\"data-frame\"><thead><tr><th></th><th>station</th><th>mean_flow_prepandemic</th><th>urban_prepandemic</th><th>district_prepandemic</th><th>lanes_prepandemic</th></tr><tr><th></th><th title=\"Int64\">Int64</th><th title=\"Float64\">Float64</th><th title=\"Bool\">Bool</th><th title=\"Int64\">Int64</th><th title=\"Int64\">Int64</th></tr></thead><tbody><tr><th>1</th><td>312133</td><td>42421.5</td><td>1</td><td>3</td><td>3</td></tr><tr><th>2</th><td>312134</td><td>33771.6</td><td>1</td><td>3</td><td>2</td></tr><tr><th>3</th><td>312346</td><td>63754.6</td><td>1</td><td>3</td><td>3</td></tr><tr><th>4</th><td>312386</td><td>64980.0</td><td>1</td><td>3</td><td>3</td></tr><tr><th>5</th><td>312388</td><td>71449.4</td><td>1</td><td>3</td><td>3</td></tr><tr><th>6</th><td>312420</td><td>78515.2</td><td>1</td><td>3</td><td>3</td></tr><tr><th>7</th><td>312422</td><td>64266.2</td><td>1</td><td>3</td><td>3</td></tr><tr><th>8</th><td>312513</td><td>82873.1</td><td>1</td><td>3</td><td>3</td></tr><tr><th>9</th><td>312514</td><td>72889.7</td><td>1</td><td>3</td><td>3</td></tr><tr><th>10</th><td>312520</td><td>74745.9</td><td>1</td><td>3</td><td>3</td></tr><tr><th>11</th><td>312564</td><td>1.05694e5</td><td>1</td><td>3</td><td>4</td></tr><tr><th>12</th><td>312570</td><td>57819.0</td><td>1</td><td>3</td><td>2</td></tr><tr><th>13</th><td>312648</td><td>45381.7</td><td>1</td><td>3</td><td>2</td></tr><tr><th>14</th><td>312745</td><td>80962.0</td><td>1</td><td>3</td><td>3</td></tr><tr><th>15</th><td>312771</td><td>75772.0</td><td>1</td><td>3</td><td>3</td></tr><tr><th>16</th><td>312858</td><td>48957.7</td><td>1</td><td>3</td><td>2</td></tr><tr><th>17</th><td>312896</td><td>64727.9</td><td>1</td><td>3</td><td>3</td></tr><tr><th>18</th><td>312940</td><td>67957.2</td><td>1</td><td>3</td><td>3</td></tr><tr><th>19</th><td>312942</td><td>74779.1</td><td>1</td><td>3</td><td>3</td></tr><tr><th>20</th><td>312946</td><td>68627.4</td><td>1</td><td>3</td><td>3</td></tr><tr><th>21</th><td>313037</td><td>66226.2</td><td>1</td><td>3</td><td>4</td></tr><tr><th>22</th><td>313055</td><td>58731.0</td><td>1</td><td>3</td><td>4</td></tr><tr><th>23</th><td>313144</td><td>78958.9</td><td>1</td><td>3</td><td>3</td></tr><tr><th>24</th><td>313166</td><td>32701.5</td><td>1</td><td>3</td><td>2</td></tr><tr><th>25</th><td>313190</td><td>42330.4</td><td>1</td><td>3</td><td>2</td></tr><tr><th>26</th><td>313197</td><td>86133.5</td><td>1</td><td>3</td><td>4</td></tr><tr><th>27</th><td>313339</td><td>38882.8</td><td>1</td><td>3</td><td>2</td></tr><tr><th>28</th><td>313344</td><td>30197.9</td><td>1</td><td>3</td><td>2</td></tr><tr><th>29</th><td>313349</td><td>34766.4</td><td>0</td><td>3</td><td>2</td></tr><tr><th>30</th><td>313405</td><td>82665.4</td><td>1</td><td>3</td><td>4</td></tr><tr><th>&vellip;</th><td>&vellip;</td><td>&vellip;</td><td>&vellip;</td><td>&vellip;</td><td>&vellip;</td></tr></tbody></table></div>"
      ],
      "text/latex": [
       "\\begin{tabular}{r|cccccc}\n",
       "\t& station & mean\\_flow\\_prepandemic & urban\\_prepandemic & district\\_prepandemic & lanes\\_prepandemic & \\\\\n",
       "\t\\hline\n",
       "\t& Int64 & Float64 & Bool & Int64 & Int64 & \\\\\n",
       "\t\\hline\n",
       "\t1 & 312133 & 42421.5 & 1 & 3 & 3 & $\\dots$ \\\\\n",
       "\t2 & 312134 & 33771.6 & 1 & 3 & 2 & $\\dots$ \\\\\n",
       "\t3 & 312346 & 63754.6 & 1 & 3 & 3 & $\\dots$ \\\\\n",
       "\t4 & 312386 & 64980.0 & 1 & 3 & 3 & $\\dots$ \\\\\n",
       "\t5 & 312388 & 71449.4 & 1 & 3 & 3 & $\\dots$ \\\\\n",
       "\t6 & 312420 & 78515.2 & 1 & 3 & 3 & $\\dots$ \\\\\n",
       "\t7 & 312422 & 64266.2 & 1 & 3 & 3 & $\\dots$ \\\\\n",
       "\t8 & 312513 & 82873.1 & 1 & 3 & 3 & $\\dots$ \\\\\n",
       "\t9 & 312514 & 72889.7 & 1 & 3 & 3 & $\\dots$ \\\\\n",
       "\t10 & 312520 & 74745.9 & 1 & 3 & 3 & $\\dots$ \\\\\n",
       "\t11 & 312564 & 1.05694e5 & 1 & 3 & 4 & $\\dots$ \\\\\n",
       "\t12 & 312570 & 57819.0 & 1 & 3 & 2 & $\\dots$ \\\\\n",
       "\t13 & 312648 & 45381.7 & 1 & 3 & 2 & $\\dots$ \\\\\n",
       "\t14 & 312745 & 80962.0 & 1 & 3 & 3 & $\\dots$ \\\\\n",
       "\t15 & 312771 & 75772.0 & 1 & 3 & 3 & $\\dots$ \\\\\n",
       "\t16 & 312858 & 48957.7 & 1 & 3 & 2 & $\\dots$ \\\\\n",
       "\t17 & 312896 & 64727.9 & 1 & 3 & 3 & $\\dots$ \\\\\n",
       "\t18 & 312940 & 67957.2 & 1 & 3 & 3 & $\\dots$ \\\\\n",
       "\t19 & 312942 & 74779.1 & 1 & 3 & 3 & $\\dots$ \\\\\n",
       "\t20 & 312946 & 68627.4 & 1 & 3 & 3 & $\\dots$ \\\\\n",
       "\t21 & 313037 & 66226.2 & 1 & 3 & 4 & $\\dots$ \\\\\n",
       "\t22 & 313055 & 58731.0 & 1 & 3 & 4 & $\\dots$ \\\\\n",
       "\t23 & 313144 & 78958.9 & 1 & 3 & 3 & $\\dots$ \\\\\n",
       "\t24 & 313166 & 32701.5 & 1 & 3 & 2 & $\\dots$ \\\\\n",
       "\t25 & 313190 & 42330.4 & 1 & 3 & 2 & $\\dots$ \\\\\n",
       "\t26 & 313197 & 86133.5 & 1 & 3 & 4 & $\\dots$ \\\\\n",
       "\t27 & 313339 & 38882.8 & 1 & 3 & 2 & $\\dots$ \\\\\n",
       "\t28 & 313344 & 30197.9 & 1 & 3 & 2 & $\\dots$ \\\\\n",
       "\t29 & 313349 & 34766.4 & 0 & 3 & 2 & $\\dots$ \\\\\n",
       "\t30 & 313405 & 82665.4 & 1 & 3 & 4 & $\\dots$ \\\\\n",
       "\t$\\dots$ & $\\dots$ & $\\dots$ & $\\dots$ & $\\dots$ & $\\dots$ &  \\\\\n",
       "\\end{tabular}\n"
      ],
      "text/plain": [
       "\u001b[1m3514×28 DataFrame\u001b[0m\n",
       "\u001b[1m  Row \u001b[0m│\u001b[1m station \u001b[0m\u001b[1m mean_flow_prepandemic \u001b[0m\u001b[1m urban_prepandemic \u001b[0m\u001b[1m district_prepandemi\u001b[0m ⋯\n",
       "\u001b[1m      \u001b[0m│\u001b[90m Int64   \u001b[0m\u001b[90m Float64               \u001b[0m\u001b[90m Bool              \u001b[0m\u001b[90m Int64              \u001b[0m ⋯\n",
       "──────┼─────────────────────────────────────────────────────────────────────────\n",
       "    1 │  312133          42421.5                     true                      ⋯\n",
       "    2 │  312134          33771.6                     true\n",
       "    3 │  312346          63754.6                     true\n",
       "    4 │  312386          64980.0                     true\n",
       "    5 │  312388          71449.4                     true                      ⋯\n",
       "    6 │  312420          78515.2                     true\n",
       "    7 │  312422          64266.2                     true\n",
       "    8 │  312513          82873.1                     true\n",
       "    9 │  312514          72889.7                     true                      ⋯\n",
       "   10 │  312520          74745.9                     true\n",
       "   11 │  312564              1.05694e5               true\n",
       "  ⋮   │    ⋮               ⋮                    ⋮                   ⋮          ⋱\n",
       " 3505 │ 1220811          22624.2                    false                    1\n",
       " 3506 │ 1220816          23941.5                     true                    1 ⋯\n",
       " 3507 │ 1220832          99536.3                     true                    1\n",
       " 3508 │ 1221212              1.58577e5               true                    1\n",
       " 3509 │ 1221232          99190.4                     true                    1\n",
       " 3510 │ 1221255          10946.5                     true                    1 ⋯\n",
       " 3511 │ 1201315              1.11498e5               true                    1\n",
       " 3512 │ 1210583          28370.7                     true                    1\n",
       " 3513 │ 1221254          12811.6                     true                    1\n",
       " 3514 │ 1208886          17257.1                     true                    1 ⋯\n",
       "\u001b[36m                                                25 columns and 3493 rows omitted\u001b[0m"
      ]
     },
     "execution_count": 132,
     "metadata": {},
     "output_type": "execute_result"
    }
   ],
   "source": [
    "changes = CSV.read(\"../data/stations_with_changes.csv\", DataFrame)"
   ]
  },
  {
   "cell_type": "code",
   "execution_count": 134,
   "id": "57a84330-4047-4ce8-8926-244ea9da1d6d",
   "metadata": {},
   "outputs": [
    {
     "data": {
      "text/html": [
       "<div class=\"data-frame\"><p>3,514 rows × 8 columns (omitted printing of 2 columns)</p><table class=\"data-frame\"><thead><tr><th></th><th>station</th><th>Latitude</th><th>Longitude</th><th>vertex</th><th>betweenness_centrality</th><th>network_link</th></tr><tr><th></th><th title=\"Int64\">Int64</th><th title=\"Float64\">Float64</th><th title=\"Float64\">Float64</th><th title=\"Int64\">Int64</th><th title=\"Float64\">Float64</th><th title=\"String\">String</th></tr></thead><tbody><tr><th>1</th><td>312134</td><td>38.4124</td><td>-121.484</td><td>120755</td><td>0.0468653</td><td>LINESTRING (-121.484289 38.412421, -121.48272300000001 38.40475)</td></tr><tr><th>2</th><td>312346</td><td>38.6343</td><td>-121.5</td><td>119785</td><td>0.00590868</td><td>LINESTRING (-121.499686 38.63434, -121.494752 38.636913)</td></tr><tr><th>3</th><td>312386</td><td>38.477</td><td>-121.426</td><td>38795</td><td>0.0114678</td><td>LINESTRING (-121.425542 38.477038, -121.424321 38.475840000000005)</td></tr><tr><th>4</th><td>312388</td><td>38.4815</td><td>-121.43</td><td>29933</td><td>0.0114811</td><td>LINESTRING (-121.430345 38.481528, -121.43046500000001 38.481579)</td></tr><tr><th>5</th><td>312420</td><td>38.4846</td><td>-121.434</td><td>29934</td><td>0.0112471</td><td>LINESTRING (-121.433775 38.484562, -121.434425 38.485081)</td></tr><tr><th>6</th><td>312422</td><td>38.4949</td><td>-121.445</td><td>120138</td><td>0.0114741</td><td>LINESTRING (-121.444522 38.494881, -121.443882 38.494236)</td></tr><tr><th>7</th><td>312513</td><td>38.5027</td><td>-121.453</td><td>29991</td><td>0.0114871</td><td>LINESTRING (-121.45279 38.502687, -121.45300300000001 38.502866000000004)</td></tr><tr><th>8</th><td>312514</td><td>38.5091</td><td>-121.459</td><td>120113</td><td>0.0114801</td><td>LINESTRING (-121.459013 38.509079, -121.45871700000001 38.508559000000005)</td></tr><tr><th>9</th><td>312520</td><td>38.5117</td><td>-121.46</td><td>121479</td><td>0.0114934</td><td>LINESTRING (-121.46048 38.511704, -121.45983670000001 38.5105106)</td></tr><tr><th>10</th><td>312564</td><td>38.5454</td><td>-121.474</td><td>119361</td><td>0.0112024</td><td>LINESTRING (-121.473985 38.545423, -121.47388500000001 38.538628)</td></tr><tr><th>11</th><td>312570</td><td>38.4468</td><td>-121.406</td><td>120018</td><td>0.0112321</td><td>LINESTRING (-121.405805 38.446758, -121.40759100000001 38.450536)</td></tr><tr><th>12</th><td>312648</td><td>38.4554</td><td>-121.41</td><td>120099</td><td>0.0114079</td><td>LINESTRING (-121.409707 38.455428, -121.407966 38.451792000000005)</td></tr><tr><th>13</th><td>312745</td><td>38.5794</td><td>-121.464</td><td>19253</td><td>0.0148272</td><td>LINESTRING (-121.46446 38.579355, -121.46375900000001 38.580865)</td></tr><tr><th>14</th><td>312771</td><td>38.5977</td><td>-121.443</td><td>30152</td><td>0.0144602</td><td>LINESTRING (-121.443157 38.597705, -121.44261 38.598371)</td></tr><tr><th>15</th><td>312858</td><td>38.6008</td><td>-121.438</td><td>30153</td><td>0.01458</td><td>LINESTRING (-121.438319 38.600789, -121.436265 38.601796)</td></tr><tr><th>16</th><td>312896</td><td>38.6246</td><td>-121.416</td><td>120375</td><td>0.0146873</td><td>LINESTRING (-121.41574 38.624622, -121.41635380000001 38.6243952)</td></tr><tr><th>17</th><td>312940</td><td>38.6311</td><td>-121.4</td><td>121447</td><td>0.0146394</td><td>LINESTRING (-121.399941 38.631139, -121.40263700000001 38.630239)</td></tr><tr><th>18</th><td>312942</td><td>38.6357</td><td>-121.388</td><td>92727</td><td>0.014435</td><td>LINESTRING (-121.388222 38.635728, -121.386729 38.636673)</td></tr><tr><th>19</th><td>312946</td><td>38.6397</td><td>-121.383</td><td>92726</td><td>0.0144216</td><td>LINESTRING (-121.383432 38.639721, -121.38219640000001 38.640844300000005)</td></tr><tr><th>20</th><td>313037</td><td>38.5919</td><td>-121.286</td><td>120317</td><td>0.00946576</td><td>LINESTRING (-121.286115 38.591859, -121.28290100000001 38.593798)</td></tr><tr><th>21</th><td>313055</td><td>38.631</td><td>-121.217</td><td>99587</td><td>0.00637667</td><td>LINESTRING (-121.216679 38.630971, -121.2175325 38.6305051)</td></tr><tr><th>22</th><td>313144</td><td>38.5233</td><td>-121.467</td><td>119364</td><td>0.0112086</td><td>LINESTRING (-121.466872 38.523271, -121.467786 38.524925)</td></tr><tr><th>23</th><td>313166</td><td>38.4228</td><td>-121.395</td><td>120103</td><td>0.011382</td><td>LINESTRING (-121.394882 38.422808, -121.393163 38.419008000000005)</td></tr><tr><th>24</th><td>313190</td><td>38.4097</td><td>-121.389</td><td>120152</td><td>0.0113691</td><td>LINESTRING (-121.388824 38.409665, -121.3882619 38.408534800000005)</td></tr><tr><th>25</th><td>313197</td><td>38.6099</td><td>-121.428</td><td>119370</td><td>0.0144608</td><td>LINESTRING (-121.428381 38.609855, -121.42875210000001 38.6095186)</td></tr><tr><th>26</th><td>313339</td><td>38.6397</td><td>-121.199</td><td>97648</td><td>0.0064814</td><td>LINESTRING (-121.199419 38.639657, -121.19956850000001 38.639624000000005)</td></tr><tr><th>27</th><td>313344</td><td>38.6423</td><td>-121.16</td><td>120345</td><td>0.00649541</td><td>LINESTRING (-121.159864 38.642303, -121.15912200000001 38.642262)</td></tr><tr><th>28</th><td>313349</td><td>38.6421</td><td>-121.156</td><td>120344</td><td>0.00648876</td><td>LINESTRING (-121.155977 38.642136, -121.15191100000001 38.641953)</td></tr><tr><th>29</th><td>313405</td><td>38.6748</td><td>-121.346</td><td>120190</td><td>0.0203929</td><td>LINESTRING (-121.345593 38.67483, -121.34863800000001 38.671926)</td></tr><tr><th>30</th><td>313406</td><td>38.6746</td><td>-121.345</td><td>119781</td><td>0.0207129</td><td>LINESTRING (-121.34513 38.674623, -121.35158740000001 38.6686561)</td></tr><tr><th>&vellip;</th><td>&vellip;</td><td>&vellip;</td><td>&vellip;</td><td>&vellip;</td><td>&vellip;</td><td>&vellip;</td></tr></tbody></table></div>"
      ],
      "text/latex": [
       "\\begin{tabular}{r|ccccccc}\n",
       "\t& station & Latitude & Longitude & vertex & betweenness\\_centrality & network\\_link & \\\\\n",
       "\t\\hline\n",
       "\t& Int64 & Float64 & Float64 & Int64 & Float64 & String & \\\\\n",
       "\t\\hline\n",
       "\t1 & 312134 & 38.4124 & -121.484 & 120755 & 0.0468653 & LINESTRING (-121.484289 38.412421, -121.48272300000001 38.40475) & $\\dots$ \\\\\n",
       "\t2 & 312346 & 38.6343 & -121.5 & 119785 & 0.00590868 & LINESTRING (-121.499686 38.63434, -121.494752 38.636913) & $\\dots$ \\\\\n",
       "\t3 & 312386 & 38.477 & -121.426 & 38795 & 0.0114678 & LINESTRING (-121.425542 38.477038, -121.424321 38.475840000000005) & $\\dots$ \\\\\n",
       "\t4 & 312388 & 38.4815 & -121.43 & 29933 & 0.0114811 & LINESTRING (-121.430345 38.481528, -121.43046500000001 38.481579) & $\\dots$ \\\\\n",
       "\t5 & 312420 & 38.4846 & -121.434 & 29934 & 0.0112471 & LINESTRING (-121.433775 38.484562, -121.434425 38.485081) & $\\dots$ \\\\\n",
       "\t6 & 312422 & 38.4949 & -121.445 & 120138 & 0.0114741 & LINESTRING (-121.444522 38.494881, -121.443882 38.494236) & $\\dots$ \\\\\n",
       "\t7 & 312513 & 38.5027 & -121.453 & 29991 & 0.0114871 & LINESTRING (-121.45279 38.502687, -121.45300300000001 38.502866000000004) & $\\dots$ \\\\\n",
       "\t8 & 312514 & 38.5091 & -121.459 & 120113 & 0.0114801 & LINESTRING (-121.459013 38.509079, -121.45871700000001 38.508559000000005) & $\\dots$ \\\\\n",
       "\t9 & 312520 & 38.5117 & -121.46 & 121479 & 0.0114934 & LINESTRING (-121.46048 38.511704, -121.45983670000001 38.5105106) & $\\dots$ \\\\\n",
       "\t10 & 312564 & 38.5454 & -121.474 & 119361 & 0.0112024 & LINESTRING (-121.473985 38.545423, -121.47388500000001 38.538628) & $\\dots$ \\\\\n",
       "\t11 & 312570 & 38.4468 & -121.406 & 120018 & 0.0112321 & LINESTRING (-121.405805 38.446758, -121.40759100000001 38.450536) & $\\dots$ \\\\\n",
       "\t12 & 312648 & 38.4554 & -121.41 & 120099 & 0.0114079 & LINESTRING (-121.409707 38.455428, -121.407966 38.451792000000005) & $\\dots$ \\\\\n",
       "\t13 & 312745 & 38.5794 & -121.464 & 19253 & 0.0148272 & LINESTRING (-121.46446 38.579355, -121.46375900000001 38.580865) & $\\dots$ \\\\\n",
       "\t14 & 312771 & 38.5977 & -121.443 & 30152 & 0.0144602 & LINESTRING (-121.443157 38.597705, -121.44261 38.598371) & $\\dots$ \\\\\n",
       "\t15 & 312858 & 38.6008 & -121.438 & 30153 & 0.01458 & LINESTRING (-121.438319 38.600789, -121.436265 38.601796) & $\\dots$ \\\\\n",
       "\t16 & 312896 & 38.6246 & -121.416 & 120375 & 0.0146873 & LINESTRING (-121.41574 38.624622, -121.41635380000001 38.6243952) & $\\dots$ \\\\\n",
       "\t17 & 312940 & 38.6311 & -121.4 & 121447 & 0.0146394 & LINESTRING (-121.399941 38.631139, -121.40263700000001 38.630239) & $\\dots$ \\\\\n",
       "\t18 & 312942 & 38.6357 & -121.388 & 92727 & 0.014435 & LINESTRING (-121.388222 38.635728, -121.386729 38.636673) & $\\dots$ \\\\\n",
       "\t19 & 312946 & 38.6397 & -121.383 & 92726 & 0.0144216 & LINESTRING (-121.383432 38.639721, -121.38219640000001 38.640844300000005) & $\\dots$ \\\\\n",
       "\t20 & 313037 & 38.5919 & -121.286 & 120317 & 0.00946576 & LINESTRING (-121.286115 38.591859, -121.28290100000001 38.593798) & $\\dots$ \\\\\n",
       "\t21 & 313055 & 38.631 & -121.217 & 99587 & 0.00637667 & LINESTRING (-121.216679 38.630971, -121.2175325 38.6305051) & $\\dots$ \\\\\n",
       "\t22 & 313144 & 38.5233 & -121.467 & 119364 & 0.0112086 & LINESTRING (-121.466872 38.523271, -121.467786 38.524925) & $\\dots$ \\\\\n",
       "\t23 & 313166 & 38.4228 & -121.395 & 120103 & 0.011382 & LINESTRING (-121.394882 38.422808, -121.393163 38.419008000000005) & $\\dots$ \\\\\n",
       "\t24 & 313190 & 38.4097 & -121.389 & 120152 & 0.0113691 & LINESTRING (-121.388824 38.409665, -121.3882619 38.408534800000005) & $\\dots$ \\\\\n",
       "\t25 & 313197 & 38.6099 & -121.428 & 119370 & 0.0144608 & LINESTRING (-121.428381 38.609855, -121.42875210000001 38.6095186) & $\\dots$ \\\\\n",
       "\t26 & 313339 & 38.6397 & -121.199 & 97648 & 0.0064814 & LINESTRING (-121.199419 38.639657, -121.19956850000001 38.639624000000005) & $\\dots$ \\\\\n",
       "\t27 & 313344 & 38.6423 & -121.16 & 120345 & 0.00649541 & LINESTRING (-121.159864 38.642303, -121.15912200000001 38.642262) & $\\dots$ \\\\\n",
       "\t28 & 313349 & 38.6421 & -121.156 & 120344 & 0.00648876 & LINESTRING (-121.155977 38.642136, -121.15191100000001 38.641953) & $\\dots$ \\\\\n",
       "\t29 & 313405 & 38.6748 & -121.346 & 120190 & 0.0203929 & LINESTRING (-121.345593 38.67483, -121.34863800000001 38.671926) & $\\dots$ \\\\\n",
       "\t30 & 313406 & 38.6746 & -121.345 & 119781 & 0.0207129 & LINESTRING (-121.34513 38.674623, -121.35158740000001 38.6686561) & $\\dots$ \\\\\n",
       "\t$\\dots$ & $\\dots$ & $\\dots$ & $\\dots$ & $\\dots$ & $\\dots$ & $\\dots$ &  \\\\\n",
       "\\end{tabular}\n"
      ],
      "text/plain": [
       "\u001b[1m3514×8 DataFrame\u001b[0m\n",
       "\u001b[1m  Row \u001b[0m│\u001b[1m station \u001b[0m\u001b[1m Latitude \u001b[0m\u001b[1m Longitude \u001b[0m\u001b[1m vertex \u001b[0m\u001b[1m betweenness_centrality \u001b[0m\u001b[1m network_\u001b[0m ⋯\n",
       "\u001b[1m      \u001b[0m│\u001b[90m Int64   \u001b[0m\u001b[90m Float64  \u001b[0m\u001b[90m Float64   \u001b[0m\u001b[90m Int64  \u001b[0m\u001b[90m Float64                \u001b[0m\u001b[90m String  \u001b[0m ⋯\n",
       "──────┼─────────────────────────────────────────────────────────────────────────\n",
       "    1 │  312134   38.4124   -121.484  120755              0.0468653   LINESTRI ⋯\n",
       "    2 │  312346   38.6343   -121.5    119785              0.00590868  LINESTRI\n",
       "    3 │  312386   38.477    -121.426   38795              0.0114678   LINESTRI\n",
       "    4 │  312388   38.4815   -121.43    29933              0.0114811   LINESTRI\n",
       "    5 │  312420   38.4846   -121.434   29934              0.0112471   LINESTRI ⋯\n",
       "    6 │  312422   38.4949   -121.445  120138              0.0114741   LINESTRI\n",
       "    7 │  312513   38.5027   -121.453   29991              0.0114871   LINESTRI\n",
       "    8 │  312514   38.5091   -121.459  120113              0.0114801   LINESTRI\n",
       "    9 │  312520   38.5117   -121.46   121479              0.0114934   LINESTRI ⋯\n",
       "   10 │  312564   38.5454   -121.474  119361              0.0112024   LINESTRI\n",
       "   11 │  312570   38.4468   -121.406  120018              0.0112321   LINESTRI\n",
       "  ⋮   │    ⋮        ⋮          ⋮        ⋮               ⋮                      ⋱\n",
       " 3505 │ 1204255   33.4324   -117.616   48516              0.0593269   LINESTRI\n",
       " 3506 │ 1204316   33.4583   -117.655  115621              0.0593306   LINESTRI ⋯\n",
       " 3507 │ 1204301   33.4558   -117.65    48518              0.0593714   LINESTRI\n",
       " 3508 │ 1220775   33.6374   -117.761   97350              0.00183522  LINESTRI\n",
       " 3509 │ 1221212   33.8572   -117.876   41734              0.00420393  LINESTRI\n",
       " 3510 │ 1221232   33.4504   -117.64    48530              0.0593716   LINESTRI ⋯\n",
       " 3511 │ 1220811   33.6028   -117.761   18751              0.00806458  LINESTRI\n",
       " 3512 │ 1220816   33.5967   -117.761   18750              0.00687977  LINESTRI\n",
       " 3513 │ 1221254   33.9221   -117.832   81398              0.00034173  LINESTRI\n",
       " 3514 │ 1221255   33.9221   -117.832   81398              0.00034173  LINESTRI ⋯\n",
       "\u001b[36m                                                 3 columns and 3493 rows omitted\u001b[0m"
      ]
     },
     "execution_count": 134,
     "metadata": {},
     "output_type": "execute_result"
    }
   ],
   "source": [
    "leftjoin!(sensors, select(changes, [:station, :peak_hour_occ_prepandemic, :peak_hour_occ_postlockdown]), on=:station)"
   ]
  },
  {
   "cell_type": "code",
   "execution_count": 136,
   "id": "dc4316e3-49ec-4acf-8dc3-7ef64f9f0b89",
   "metadata": {},
   "outputs": [],
   "source": [
    "sensors.Δpeak_hour_occ = sensors.peak_hour_occ_postlockdown .- sensors.peak_hour_occ_prepandemic;"
   ]
  },
  {
   "cell_type": "code",
   "execution_count": 137,
   "id": "e8fcca37-7cb2-4798-b227-a2d4798d0d66",
   "metadata": {},
   "outputs": [
    {
     "data": {
      "text/plain": [
       "Moran's I test of Global Spatial Autocorrelation\n",
       "--------------------------------------------\n",
       "\n",
       "Moran's I: 0.5445528\n",
       "Expectation: -0.0002847\n",
       "\n",
       "Randomization test with 9999 permutations.\n",
       " Mean: 0.2503176\n",
       " Std Error: 0.0078943\n",
       " zscore: 37.2719107\n",
       " p-value: 0.0001\n"
      ]
     },
     "execution_count": 137,
     "metadata": {},
     "output_type": "execute_result"
    }
   ],
   "source": [
    "moran(sensors.Δpeak_hour_occ, W, permutations=9999)"
   ]
  },
  {
   "cell_type": "code",
   "execution_count": null,
   "id": "b0a3f0a7-7a32-4651-b9bc-ccaae9abe70b",
   "metadata": {},
   "outputs": [],
   "source": []
  }
 ],
 "metadata": {
  "kernelspec": {
   "display_name": "Julia 7 Threads Project 1.7.3",
   "language": "julia",
   "name": "julia-7-threads-project-1.7"
  },
  "language_info": {
   "file_extension": ".jl",
   "mimetype": "application/julia",
   "name": "julia",
   "version": "1.7.3"
  }
 },
 "nbformat": 4,
 "nbformat_minor": 5
}
