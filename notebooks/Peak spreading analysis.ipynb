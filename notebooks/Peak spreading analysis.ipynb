{
 "cells": [
  {
   "cell_type": "markdown",
   "id": "0e8ac2bd-7663-4829-ac6f-19908ad39b2f",
   "metadata": {},
   "source": [
    "# Peak spreading analysis\n",
    "\n",
    "In transportation planning, the percentage of AADT that occurs during the peak is referred to as the K factor, and the standard for planning analyses is 9%. Relatedly, the D factor is the directional distribution, standard is 55%."
   ]
  },
  {
   "cell_type": "code",
   "execution_count": null,
   "id": "92bbbdaf-8796-4f8a-9f1d-f46f18d3e5f1",
   "metadata": {},
   "outputs": [],
   "source": [
    "#using Revise # handy for development but breaks multithreading\n",
    "using CSV, Parquet, DataFrames, Plots, Dates, CategoricalArrays, Missings, Random, Statistics, StatsBase, Glob, Latexify, KFactors, FreqTables, Pipe,\n",
    "    ThreadsX, GLM, RegressionTables, LinearAlgebra\n",
    "\n",
    "import Base.Threads: @spawn"
   ]
  },
  {
   "cell_type": "code",
   "execution_count": null,
   "id": "ad7376be-5c1a-4669-aca3-9664f5ce6f2c",
   "metadata": {},
   "outputs": [],
   "source": [
    "full_data = read_data(\"../data/peaks_merged.parquet\");"
   ]
  },
  {
   "cell_type": "code",
   "execution_count": null,
   "id": "cff61225-680a-4247-8bed-6ed8d5cacf7c",
   "metadata": {},
   "outputs": [],
   "source": [
    "data = KFactors.create_test_data(full_data, KFactors.Periods.SPRING_2022);"
   ]
  },
  {
   "cell_type": "code",
   "execution_count": null,
   "id": "e1a4ff80-23f0-4331-b6ec-bced63e79d06",
   "metadata": {},
   "outputs": [],
   "source": [
    "length(unique(data.station))"
   ]
  },
  {
   "cell_type": "markdown",
   "id": "26d06351-9fe8-462c-9d99-aebf754a9a27",
   "metadata": {},
   "source": [
    "# Overall congestion"
   ]
  },
  {
   "cell_type": "code",
   "execution_count": null,
   "id": "9087e18e-8c97-4590-acae-7a0b34985351",
   "metadata": {},
   "outputs": [],
   "source": [
    "# https://identity.unc.edu/brand/color-palette/\n",
    "const UNC_BLUE = RGB(75/255, 156/255, 211/255)\n",
    "const UNC_NAVY = RGB(19/255, 41/255, 75/255)\n",
    "const UNC_DAVIE_GREEN = RGB(196/255, 214/255, 0/255)\n",
    "const UNC_PINK = RGB(239/255, 68/255, 111/255)"
   ]
  },
  {
   "cell_type": "code",
   "execution_count": null,
   "id": "b6c5d7c8-7c19-4027-9a92-e7cdaa70b4d7",
   "metadata": {},
   "outputs": [],
   "source": [
    "# unweighted\n",
    "prex, prey = KFactors.cumulative_dist(data.peak_hour_occ[coalesce.(data.period .== :prepandemic, false)])\n",
    "durx, dury = KFactors.cumulative_dist(data.peak_hour_occ[coalesce.(data.period .== :lockdown, false)])\n",
    "postx, posty = KFactors.cumulative_dist(data.peak_hour_occ[coalesce.(data.period .== :postlockdown, false)])\n",
    "\n",
    "plot(prex .* 100, prey .* 100, linecolor=UNC_BLUE, label=\"Pre-pandemic\", xlim=[1/24, 0.25] .* 100, legend=:bottomright,\n",
    "        xlabel=\"Percent of daily occupancy in the peak hour\", ylabel=\"Percent of sensors\", linewidth=2)\n",
    "\n",
    "plot!(postx .* 100, posty .* 100, linecolor=UNC_NAVY, label=\"Post-lockdown\", linewidth=2)\n",
    "savefig(\"../fig/cumulative_dist_prepost.pdf\")\n",
    "\n",
    "plot!(durx .* 100, dury .* 100, linecolor=UNC_PINK, label=\"Lockdown\", linewidth=2)\n",
    "savefig(\"../fig/cumulative_dist.pdf\")\n",
    "\n",
    "plot!()\n"
   ]
  },
  {
   "cell_type": "code",
   "execution_count": null,
   "id": "9ebb8f9f-59ab-4908-9cb9-775f4096d0bc",
   "metadata": {},
   "outputs": [],
   "source": [
    "prex, prey = KFactors.cumulative_dist(data.occ_entropy[coalesce.(data.period .== :prepandemic, false)])\n",
    "durx, dury = KFactors.cumulative_dist(data.occ_entropy[coalesce.(data.period .== :lockdown, false)])\n",
    "postx, posty = KFactors.cumulative_dist(data.occ_entropy[coalesce.(data.period .== :postlockdown, false)])\n",
    "\n",
    "plot(prex .* 100, prey .* 100, linecolor=UNC_BLUE, label=\"Pre-pandemic\", legend=:bottomright, xlim=[700, 820],\n",
    "        xlabel=\"Occupancy entropy (centibits)\", ylabel=\"Percent of sensors\", linewidth=2)\n",
    "plot!(postx .* 100, posty .* 100, linecolor=UNC_NAVY, label=\"Post-lockdown\", linewidth=2)\n",
    "\n",
    "savefig(\"../fig/cumulative_dist_entropy_prepost.pdf\")\n",
    "\n",
    "plot!(durx .* 100, dury .* 100, linecolor=UNC_PINK, label=\"Lockdown\", linewidth=2)\n",
    "savefig(\"../fig/cumulative_dist_entropy.pdf\")\n",
    "\n",
    "plot!()"
   ]
  },
  {
   "cell_type": "code",
   "execution_count": null,
   "id": "ce5118a5-cdbd-4419-af2b-4b24f03cde07",
   "metadata": {},
   "outputs": [],
   "source": [
    "prex, prey = KFactors.cumulative_dist(data.occ_entropy_daytime[coalesce.(data.period .== :prepandemic, false)])\n",
    "durx, dury = KFactors.cumulative_dist(data.occ_entropy_daytime[coalesce.(data.period .== :lockdown, false)])\n",
    "postx, posty = KFactors.cumulative_dist(data.occ_entropy_daytime[coalesce.(data.period .== :postlockdown, false)])\n",
    "\n",
    "plot(prex .* 100, prey .* 100, linecolor=UNC_BLUE, label=\"Pre-pandemic\", legend=:topleft, xlim=[680, 750],\n",
    "        xlabel=\"Daytime occupancy entropy (centibits)\", ylabel=\"Percent of sensors\", linewidth=2)\n",
    "plot!(durx .* 100, dury .* 100, linecolor=UNC_PINK, label=\"Lockdown\", linewidth=2)\n",
    "plot!(postx .* 100, posty .* 100, linecolor=UNC_NAVY, label=\"Post-lockdown\", linewidth=2)\n",
    "\n",
    "savefig(\"../fig/cumulative_dist_daytime_entropy.pdf\")\n",
    "\n",
    "plot!()"
   ]
  },
  {
   "cell_type": "code",
   "execution_count": null,
   "id": "108fe4a0-320d-4245-a2f6-d2b00a876508",
   "metadata": {},
   "outputs": [],
   "source": [
    "prex, prey = KFactors.cumulative_dist(data.hours_of_congestion[coalesce.(data.period .== :prepandemic, false)])\n",
    "durx, dury = KFactors.cumulative_dist(data.hours_of_congestion[coalesce.(data.period .== :lockdown, false)])\n",
    "postx, posty = KFactors.cumulative_dist(data.hours_of_congestion[coalesce.(data.period .== :postlockdown, false)])\n",
    "\n",
    "# remove step-function look\n",
    "prey = prey[prex .!= circshift(prex, 1)]\n",
    "prex = prex[prex .!= circshift(prex, 1)]\n",
    "dury = dury[durx .!= circshift(durx, 1)]\n",
    "durx = durx[durx .!= circshift(durx, 1)]\n",
    "posty = posty[postx .!= circshift(postx, 1)]\n",
    "postx = postx[postx .!= circshift(postx, 1)]\n",
    "\n",
    "plot(prex, prey, linecolor=UNC_BLUE, label=\"Pre-pandemic\", legend=:bottomright,\n",
    "        xlabel=\"Hours of congestion\", ylabel=\"Percent of sensors\", linewidth=2)\n",
    "plot!(durx, dury, linecolor=UNC_PINK, label=\"Lockdown\", linewidth=2)\n",
    "plot!(postx, posty, linecolor=UNC_NAVY, label=\"Post-lockdown\", linewidth=2)\n",
    "\n",
    "savefig(\"../fig/cumulative_dist_hours_of_congestion.pdf\")\n",
    "\n",
    "plot!()"
   ]
  },
  {
   "cell_type": "markdown",
   "id": "62a7bc7c-20db-45ab-9f62-edd847ec78f4",
   "metadata": {},
   "source": [
    "## Histogram of changes\n",
    "\n",
    "Overall traffic is less peaky, but there's a distribution."
   ]
  },
  {
   "cell_type": "code",
   "execution_count": null,
   "id": "91d04b18-9a0f-41f8-b6db-42143f839eae",
   "metadata": {},
   "outputs": [],
   "source": [
    "@assert !any(ismissing.(data.period))\n",
    "peak_changes = combine(groupby(data, [:station, :period]), :peak_hour_occ => mean)\n",
    "peak_changes = unstack(peak_changes, :station, :period, :peak_hour_occ_mean)\n",
    "nothing"
   ]
  },
  {
   "cell_type": "code",
   "execution_count": null,
   "id": "691cd371-91ca-4263-8fbc-3bfb3db6a8fe",
   "metadata": {},
   "outputs": [],
   "source": [
    "peak_changes.mean_change = peak_changes.postlockdown .- peak_changes.prepandemic\n",
    "histogram(collect(skipmissing(peak_changes.mean_change)), xlim=[-0.2, 0.2], fillcolor=UNC_BLUE, linecolor=UNC_BLUE, legend=false)\n",
    "vline!([0], color=UNC_PINK)"
   ]
  },
  {
   "cell_type": "code",
   "execution_count": null,
   "id": "85b2a3ae-4a79-4abb-8937-6411dd0fa430",
   "metadata": {},
   "outputs": [],
   "source": [
    "\"Perform tests using all relevant variables\"\n",
    "function all_tests(label, data)\n",
    "    permutations = 10_000\n",
    "    occ = permutation_test(data, :peak_hour_occ, n_permutations=permutations)\n",
    "    flow = permutation_test(data, :peak_hour_flow, n_permutations=permutations)\n",
    "    entr = permutation_test(data, :occ_entropy, n_permutations=permutations)\n",
    "    daytime_entr = permutation_test(data, :occ_entropy_daytime, n_permutations=permutations)\n",
    "    hour = permutation_test(data, :hours_of_congestion, n_permutations=permutations)\n",
    "    traffic_volume = permutation_test(data, :total_flow, n_permutations=permutations)\n",
    "    \n",
    "    @assert occ.n_sensors == flow.n_sensors\n",
    "    @assert occ.n_sensors == entr.n_sensors\n",
    "    @assert occ.n_sensors == daytime_entr.n_sensors\n",
    "    @assert occ.n_sensors == hour.n_sensors\n",
    "    @assert occ.n_sensors == traffic_volume.n_sensors\n",
    "    \n",
    "    return (\n",
    "        label=label,\n",
    "        occ_ts=occ.ptest,\n",
    "        occ_p=occ.pval,\n",
    "        flow_ts=flow.ptest,\n",
    "        flow_p=flow.pval,\n",
    "        entr_ts=entr.ptest,\n",
    "        entr_p=entr.pval,\n",
    "        entr_day_ts=daytime_entr.ptest,\n",
    "        entr_day_p=daytime_entr.pval,\n",
    "        hours_ts=hour.ptest,\n",
    "        hours_p=hour.pval,\n",
    "        volume_ts=traffic_volume.ptest,\n",
    "        volume_p=traffic_volume.pval,\n",
    "        n_sensors=occ.n_sensors\n",
    "        )\n",
    "end"
   ]
  },
  {
   "cell_type": "code",
   "execution_count": null,
   "id": "8b1ee1e6-0388-45b5-94d3-2c4cb40e8e8d",
   "metadata": {},
   "outputs": [],
   "source": [
    "data_prepost = data[data.period .∈ Ref(Set([:prepandemic, :postlockdown])),:];"
   ]
  },
  {
   "cell_type": "code",
   "execution_count": null,
   "id": "deb59b26-7463-41ac-bf4f-525fc3473c8c",
   "metadata": {},
   "outputs": [],
   "source": [
    "transform!(\n",
    "    groupby(data_prepost, :station),\n",
    "    [:period, :total_flow] => ((period, flow) -> mean(flow[period .== :postlockdown]) / mean(flow[period .== :prepandemic])) => :station_Δ_flow\n",
    "    );\n",
    "    \n",
    "        "
   ]
  },
  {
   "cell_type": "code",
   "execution_count": null,
   "id": "41c0a20f-8754-4ed5-adad-fe1a48c1f674",
   "metadata": {},
   "outputs": [],
   "source": [
    "data_prepost.urban = convert(Vector{Bool}, data_prepost.urban); ## remove Missing from eltype"
   ]
  },
  {
   "cell_type": "code",
   "execution_count": null,
   "id": "05a5988a-fb30-49bf-ab92-1234e5ee9fec",
   "metadata": {},
   "outputs": [],
   "source": [
    "summer_2021_data = KFactors.create_test_data(full_data, KFactors.Periods.SUMMER_2021)\n",
    "summer_2021_data = summer_2021_data[summer_2021_data.period .!= :lockdown, :]\n",
    "march_2022_data = KFactors.create_test_data(full_data, KFactors.Periods.MARCH_2022)\n",
    "march_2022_data = march_2022_data[march_2022_data.period .!= :lockdown, :];"
   ]
  },
  {
   "cell_type": "code",
   "execution_count": null,
   "id": "b91829d6-7278-4a2a-880b-bb00865e3bb9",
   "metadata": {},
   "outputs": [],
   "source": [
    "# Filter to just data that was not imputed at all\n",
    "@assert maximum(data_prepost.periods_imputed) == 288\n",
    "nonmissing = data_prepost[data_prepost.periods_imputed .< 288, :]\n",
    "\n",
    "# furthermore, filter to only sensors nonmissing at least one day in both periods\n",
    "nonmissing_sensors = intersect(\n",
    "        Set(nonmissing[nonmissing.period .== :prepandemic, :station]),\n",
    "        Set(nonmissing[nonmissing.period .== :postlockdown, :station])\n",
    "    )\n",
    "\n",
    "nonmissing = nonmissing[nonmissing.station .∈ Ref(nonmissing_sensors), :];"
   ]
  },
  {
   "cell_type": "code",
   "execution_count": null,
   "id": "ce8e5e2a-4c25-4197-b760-6c091305cbcd",
   "metadata": {},
   "outputs": [],
   "source": [
    "half_complete = KFactors.create_test_data(full_data, KFactors.Periods.SPRING_2022; min_complete=0.5)\n",
    "three_quarters_complete = KFactors.create_test_data(full_data, KFactors.Periods.SPRING_2022; min_complete=0.75)\n",
    "ninety_five_pct_complete = KFactors.create_test_data(full_data, KFactors.Periods.SPRING_2022; min_complete=0.95)\n",
    "all_sensors = KFactors.create_test_data(full_data, KFactors.Periods.SPRING_2022; min_complete=0);"
   ]
  },
  {
   "cell_type": "code",
   "execution_count": null,
   "id": "b0b7af2f-ee1b-4b87-a00e-bcc0c5b0d2f5",
   "metadata": {},
   "outputs": [],
   "source": [
    "ENV[\"COLUMNS\"] = 120\n",
    "\n",
    "@time permutation_tests = DataFrame(fetch.([\n",
    "    @spawn(all_tests(\"Overall\", data_prepost)),\n",
    "    @spawn(all_tests(\"Urban\", data_prepost[data_prepost.urban, :])),\n",
    "    @spawn(all_tests(\"Rural\", data_prepost[.!data_prepost.urban, :])),\n",
    "    @spawn(all_tests(\"District 3 (Sacramento)\", data_prepost[data_prepost.District .== 3, :])),\n",
    "    @spawn(all_tests(\"District 10 (Stockton)\", data_prepost[data_prepost.District .== 10, :])),\n",
    "    @spawn(all_tests(\"District 4 (San Francisco Bay Area)\", data_prepost[data_prepost.District .== 4, :])),\n",
    "    @spawn(all_tests(\"District 5 (Central Coast)\", data_prepost[data_prepost.District .== 5, :])),\n",
    "    # The Freakersfield district\n",
    "    @spawn(all_tests(\"District 6 (Fresno / Bakersfield)\", data_prepost[data_prepost.District .== 6, :])),\n",
    "    @spawn(all_tests(\"District 7 (Los Angeles)\", data_prepost[data_prepost.District .== 7, :])),\n",
    "    @spawn(all_tests(\"District 12 (Orange County)\", data_prepost[data_prepost.District .== 12, :])),\n",
    "    @spawn(all_tests(\"District 8 (Inland Empire)\", data_prepost[data_prepost.District .== 8, :])),\n",
    "    @spawn(all_tests(\"District 11 (San Diego)\", data_prepost[data_prepost.District .== 11, :])),\n",
    "\n",
    "    # robustness checks\n",
    "    @spawn(all_tests(\"Sensors that increased in flow\", data_prepost[data_prepost.station_Δ_flow .> 1, :])),\n",
    "    @spawn(all_tests(\"Sensors that decreased in flow\", data_prepost[data_prepost.station_Δ_flow .< 1, :])),\n",
    "    @spawn(all_tests(\"Relative to 2019 only\", data_prepost[in.(Dates.year.(data_prepost.date), Ref(Set([2019, 2022]))), :])),\n",
    "    @spawn(all_tests(\"March 12-August 18 post-lockdown\", march_2022_data)),\n",
    "    @spawn(all_tests(\"Summer 2021 post-lockdown\", summer_2021_data)),\n",
    "    @spawn(all_tests(\"No imputed data\", nonmissing)),\n",
    "    @spawn(all_tests(\"Sensors less than 50% imputed\", half_complete[half_complete.period .∈ Ref(Set([:prepandemic, :postlockdown])), :])),\n",
    "    @spawn(all_tests(\"Sensors less than 25% imputed\", three_quarters_complete[three_quarters_complete.period .∈ Ref(Set([:prepandemic, :postlockdown])), :])),\n",
    "    @spawn(all_tests(\"Sensors less than 5% imputed\", ninety_five_pct_complete[ninety_five_pct_complete.period .∈ Ref(Set([:prepandemic, :postlockdown])), :])),\n",
    "    @spawn(all_tests(\"All sensors\", all_sensors[all_sensors.period .∈ Ref(Set([:prepandemic, :postlockdown])), :]))\n",
    "]))"
   ]
  },
  {
   "cell_type": "code",
   "execution_count": null,
   "id": "dc265496-7a9f-46d1-8c15-d104df65a02b",
   "metadata": {},
   "outputs": [],
   "source": [
    "permutation_tests_fmt = permutation_tests[:,Not([:volume_ts, :volume_p])]\n",
    "permutation_tests_fmt.occ_ts .*= 100\n",
    "permutation_tests_fmt.flow_ts .*= 100\n",
    "permutation_tests_fmt.entr_ts .*= 100\n",
    "permutation_tests_fmt.entr_day_ts .*= 100\n",
    "permutation_tests_fmt.hours_ts = round.(Int64, permutation_tests_fmt.hours_ts .* 60)\n",
    "\n",
    "\n",
    "for name in names(permutation_tests_fmt)\n",
    "    if name ∉ Set([\"label\", \"n_sensors\", \"hours_ts\"])\n",
    "        permutation_tests_fmt[!, name] = round.(permutation_tests_fmt[!, name], digits=2)\n",
    "    end\n",
    "end\n",
    "\n",
    "permutation_tests_fmt.label = map(permutation_tests_fmt.label) do l\n",
    "    replace(l, r\"District ([0-9]+) \\((.*)\\)\" => s\"\\2 (D\\1)\")\n",
    "end\n",
    "\n",
    "latexify(permutation_tests_fmt, env=:table, latex=false, booktabs=true)"
   ]
  },
  {
   "cell_type": "markdown",
   "id": "5e3f0ba1-860c-4aa8-b92f-72b194b970cd",
   "metadata": {},
   "source": [
    "## Percent change from pre-pandemic"
   ]
  },
  {
   "cell_type": "code",
   "execution_count": null,
   "id": "55c8c0e6-b41f-4b1c-95c8-f5c0e02e9168",
   "metadata": {},
   "outputs": [],
   "source": [
    "prepandemic_occ = mean(data[data.period .== :prepandemic, :peak_hour_occ])\n",
    "postlockdown_occ = mean(data[data.period .== :postlockdown, :peak_hour_occ])\n",
    "(postlockdown_occ - prepandemic_occ) / prepandemic_occ"
   ]
  },
  {
   "cell_type": "code",
   "execution_count": null,
   "id": "bea28bbc-e7db-4f5c-8fc9-0726424db3bd",
   "metadata": {},
   "outputs": [],
   "source": [
    "prepandemic_occ"
   ]
  },
  {
   "cell_type": "code",
   "execution_count": null,
   "id": "b37152de-8497-4cc7-bf62-6f247d4dc22c",
   "metadata": {},
   "outputs": [],
   "source": [
    "# dump only the stations we actually used for mapping\n",
    "used_station = combine(\n",
    "    groupby(data, :station),\n",
    "    :Latitude => last => :Latitude,\n",
    "    :Longitude => last => :Longitude\n",
    ")\n",
    "CSV.write(\"../data/stations_used_in_analysis.csv\", used_station)"
   ]
  },
  {
   "cell_type": "markdown",
   "id": "576a5499-01dd-4370-ad6a-d03a2fe9620f",
   "metadata": {},
   "source": [
    "## Stations excluded by min complete threshold"
   ]
  },
  {
   "cell_type": "code",
   "execution_count": null,
   "id": "61738de7-726e-48d3-a4fc-43c6786cccd6",
   "metadata": {},
   "outputs": [],
   "source": [
    "sensorids = unique(all_sensors[all_sensors.period .∈ Ref([:prepandemic, :postlockdown]), [:station, :District]])\n",
    "used_sensorids = unique(data_prepost.station)\n",
    "sensorids.included = sensorids.station .∈ Ref(used_sensorids)\n",
    "@pipe groupby(sensorids, :District) |>\n",
    "    combine(_, :included => (x -> 1 - mean(x))) |>\n",
    "    sort(_, :included_function)"
   ]
  },
  {
   "cell_type": "code",
   "execution_count": null,
   "id": "979cff46-17d2-4647-be79-3ccc372c0794",
   "metadata": {},
   "outputs": [],
   "source": [
    "length(unique(data.station))"
   ]
  }
 ],
 "metadata": {
  "kernelspec": {
   "display_name": "Julia threads project 1.8.5",
   "language": "julia",
   "name": "julia-threads-project-1.8"
  },
  "language_info": {
   "file_extension": ".jl",
   "mimetype": "application/julia",
   "name": "julia",
   "version": "1.8.5"
  }
 },
 "nbformat": 4,
 "nbformat_minor": 5
}
