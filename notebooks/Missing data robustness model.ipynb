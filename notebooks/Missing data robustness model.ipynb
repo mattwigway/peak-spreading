{
 "cells": [
  {
   "cell_type": "markdown",
   "id": "28ece37c-5650-4be8-b555-8c432d63a886",
   "metadata": {},
   "source": [
    "# Missing data robustness check models\n",
    "\n",
    "We want to make sure that missing data is not responsible for the change we see in the permutation test results. To test this, we use an OLS model to see how controlling for missingness affects outcomes."
   ]
  },
  {
   "cell_type": "code",
   "execution_count": 1,
   "id": "f3208416-b183-434f-9367-f39bbe91013b",
   "metadata": {},
   "outputs": [],
   "source": [
    "using KFactors, DataFrames, CSV, Pipe, RegressionTables, CategoricalArrays, StatsBase, FixedEffectModels"
   ]
  },
  {
   "cell_type": "code",
   "execution_count": 2,
   "id": "a229f507-68ab-4998-be98-8ff84cc7d5bb",
   "metadata": {},
   "outputs": [
    {
     "name": "stderr",
     "output_type": "stream",
     "text": [
      "┌ Info: Removing sensors days with peak-hour occ above 99th percentile (22.90%)\n",
      "└ @ KFactors /Users/mwbc/git/peak-spreading/src/computation.jl:65\n"
     ]
    }
   ],
   "source": [
    "raw_data = KFactors.read_data(\"../data/peaks_merged.parquet\");"
   ]
  },
  {
   "cell_type": "code",
   "execution_count": 3,
   "id": "11e45355-d0d3-464c-95b5-07d1800a69d0",
   "metadata": {},
   "outputs": [],
   "source": [
    "data = KFactors.create_test_data(raw_data, KFactors.Periods.SPRING_2022, min_complete=0.0);"
   ]
  },
  {
   "cell_type": "code",
   "execution_count": 4,
   "id": "f0931a51-cc10-48e7-9ec9-1c9cc84e2d89",
   "metadata": {},
   "outputs": [],
   "source": [
    "data = data[data.period .∈ Ref(Set([:prepandemic, :postlockdown])), :];"
   ]
  },
  {
   "cell_type": "code",
   "execution_count": 5,
   "id": "cd611795-bf0a-4296-b19f-c80602f466a4",
   "metadata": {},
   "outputs": [],
   "source": [
    "meta = CSV.read(\"../data/sensor_meta_geo.csv\", DataFrame)\n",
    "leftjoin!(data, select(meta, Not([:Latitude, :Longitude, :urban, :District, :Lanes])), on=:station=>:ID);"
   ]
  },
  {
   "cell_type": "code",
   "execution_count": 33,
   "id": "dd2deec2-6ba7-427c-9b65-d1dee68cd5ff",
   "metadata": {},
   "outputs": [],
   "source": [
    "data.entirely_imputed = data.periods_imputed .== 288\n",
    "data.postlockdown = data.period .== :postlockdown\n",
    "data.proportion_imputed = data.periods_imputed ./ 288\n",
    "data.peak_hour_occ_pct = data.peak_hour_occ .* 100;"
   ]
  },
  {
   "cell_type": "code",
   "execution_count": 34,
   "id": "f79ba5e8-7aef-410b-b8db-775a420d2d92",
   "metadata": {},
   "outputs": [
    {
     "data": {
      "text/plain": [
       "                                Linear Model                                \n",
       "=============================================================================\n",
       "Number of obs:                1555184   Degrees of freedom:                 1\n",
       "R2:                             0.007   R2 Adjusted:                    0.007\n",
       "F-Stat:                       815.391   p-value:                        0.000\n",
       "=============================================================================\n",
       "peak_hour_occ_pct |  Estimate Std.Error  t value Pr(>|t|) Lower 95% Upper 95%\n",
       "-----------------------------------------------------------------------------\n",
       "postlockdown      | -0.670835 0.0234927 -28.5551    0.000 -0.716887 -0.624783\n",
       "(Intercept)       |   10.0339 0.0303377  330.741    0.000   9.97445   10.0934\n",
       "=============================================================================\n"
      ]
     },
     "execution_count": 34,
     "metadata": {},
     "output_type": "execute_result"
    }
   ],
   "source": [
    "mod1 = reg(data, @formula(peak_hour_occ_pct~postlockdown), Vcov.cluster(:station))"
   ]
  },
  {
   "cell_type": "code",
   "execution_count": 35,
   "id": "97f1f81f-ec85-46d1-9de4-237e37d89f81",
   "metadata": {},
   "outputs": [
    {
     "data": {
      "text/plain": [
       "                                         Linear Model                                         \n",
       "===============================================================================================\n",
       "Number of obs:                         1555184   Degrees of freedom:                         12\n",
       "R2:                                      0.074   R2 Adjusted:                             0.074\n",
       "F-Stat:                                225.883   p-value:                                 0.000\n",
       "===============================================================================================\n",
       "peak_hour_occ_pct                  |  Estimate Std.Error  t value Pr(>|t|)  Lower 95% Upper 95%\n",
       "-----------------------------------------------------------------------------------------------\n",
       "postlockdown                       | -0.511678 0.0217236  -23.554    0.000  -0.554262 -0.469094\n",
       "proportion_imputed_cat: (0, 0.1)   |  0.376096 0.0418493  8.98693    0.000   0.294061  0.458132\n",
       "proportion_imputed_cat: [0.1, 0.2) |  0.219737 0.0895422    2.454    0.014  0.0442102  0.395264\n",
       "proportion_imputed_cat: [0.2, 0.3) |  0.360738 0.0900093  4.00779    0.000   0.184296  0.537181\n",
       "proportion_imputed_cat: [0.3, 0.4) |  0.144012 0.0564092  2.55298    0.011  0.0334345  0.254589\n",
       "proportion_imputed_cat: [0.4, 0.5) |  0.167558 0.0933755  1.79445    0.073 -0.0154834  0.350598\n",
       "proportion_imputed_cat: [0.5, 0.6) | -0.651818  0.156332 -4.16946    0.000   -0.95827 -0.345366\n",
       "proportion_imputed_cat: [0.6, 0.7) |   0.74098  0.200118  3.70271    0.000   0.348694   1.13327\n",
       "proportion_imputed_cat: [0.7, 0.8) |  0.162203  0.335638 0.483268    0.629  -0.495738  0.820145\n",
       "proportion_imputed_cat: [0.8, 0.9) |  -1.58802  0.121329 -13.0885    0.000   -1.82586  -1.35018\n",
       "proportion_imputed_cat: [0.9, 1.0) |  -1.99716  0.170338 -11.7247    0.000   -2.33107  -1.66325\n",
       "proportion_imputed_cat: 1.0        |  -1.64607 0.0406264 -40.5173    0.000   -1.72571  -1.56643\n",
       "(Intercept)                        |   10.6827 0.0398968  267.759    0.000    10.6045   10.7609\n",
       "===============================================================================================\n"
      ]
     },
     "execution_count": 35,
     "metadata": {},
     "output_type": "execute_result"
    }
   ],
   "source": [
    "data.proportion_imputed_cat = @pipe map(data.proportion_imputed) do x\n",
    "    x == 0 && return \"0.0\"\n",
    "    x < 0.1 && return \"(0, 0.1)\"\n",
    "    x < 0.2 && return \"[0.1, 0.2)\"\n",
    "    x < 0.3 && return \"[0.2, 0.3)\"\n",
    "    x < 0.4 && return \"[0.3, 0.4)\"\n",
    "    x < 0.5 && return \"[0.4, 0.5)\"\n",
    "    x < 0.6 && return \"[0.5, 0.6)\"\n",
    "    x < 0.7 && return \"[0.6, 0.7)\"\n",
    "    x < 0.8 && return \"[0.7, 0.8)\"\n",
    "    x < 0.9 && return \"[0.8, 0.9)\"\n",
    "    x < 1 && return \"[0.9, 1.0)\"\n",
    "    x == 1 && return \"1.0\"\n",
    "    error(\"Unknown x value $x\")\n",
    "end |> CategoricalArray(_,\n",
    "    levels=[\"0.0\", \"(0, 0.1)\", \"[0.1, 0.2)\", \"[0.2, 0.3)\", \"[0.3, 0.4)\", \"[0.4, 0.5)\", \"[0.5, 0.6)\", \"[0.6, 0.7)\", \"[0.7, 0.8)\", \"[0.8, 0.9)\", \"[0.9, 1.0)\", \"1.0\"],\n",
    "    ordered=true)\n",
    "flexible_missing = reg(data, @formula(peak_hour_occ_pct~postlockdown+proportion_imputed_cat), Vcov.cluster(:station))"
   ]
  },
  {
   "cell_type": "code",
   "execution_count": 36,
   "id": "9d77f649-0f69-412c-83ca-64b3f99e6680",
   "metadata": {},
   "outputs": [],
   "source": [
    "data.flow_per_lane = data.total_flow ./ data.Lanes ./ 1000 ./ 12;"
   ]
  },
  {
   "cell_type": "code",
   "execution_count": 38,
   "id": "f9a7087c-ea8c-4973-a69d-da3336fa6f9a",
   "metadata": {},
   "outputs": [
    {
     "data": {
      "text/plain": [
       "                                           Linear Model                                           \n",
       "==================================================================================================\n",
       "Number of obs:                           1555184  Degrees of freedom:                           14\n",
       "R2:                                        0.082  R2 Adjusted:                               0.082\n",
       "F-Stat:                                  196.093  p-value:                                   0.000\n",
       "==================================================================================================\n",
       "peak_hour_occ_pct                  |   Estimate Std.Error   t value Pr(>|t|)  Lower 95%  Upper 95%\n",
       "--------------------------------------------------------------------------------------------------\n",
       "postlockdown                       |  -0.562491 0.0229306  -24.5301    0.000  -0.607441   -0.51754\n",
       "proportion_imputed_cat: (0, 0.1)   |    0.35257 0.0400679   8.79933    0.000   0.274027   0.431114\n",
       "proportion_imputed_cat: [0.1, 0.2) |   0.203461 0.0841758   2.41709    0.016  0.0384536   0.368468\n",
       "proportion_imputed_cat: [0.2, 0.3) |   0.337694 0.0845164    3.9956    0.000   0.172019   0.503369\n",
       "proportion_imputed_cat: [0.3, 0.4) |   0.107718 0.0540684   1.99225    0.046  0.0017294   0.213707\n",
       "proportion_imputed_cat: [0.4, 0.5) |   0.122714 0.0929122   1.32075    0.187 -0.0594189   0.304847\n",
       "proportion_imputed_cat: [0.5, 0.6) |  -0.752262  0.154232  -4.87747    0.000    -1.0546  -0.449926\n",
       "proportion_imputed_cat: [0.6, 0.7) |   0.590868  0.188631    3.1324    0.002   0.221101   0.960634\n",
       "proportion_imputed_cat: [0.7, 0.8) |  -0.110414  0.340635 -0.324143    0.746   -0.77815   0.557321\n",
       "proportion_imputed_cat: [0.8, 0.9) |   -1.82121  0.125445   -14.518    0.000   -2.06711    -1.5753\n",
       "proportion_imputed_cat: [0.9, 1.0) |    -2.1168  0.173966   -12.168    0.000   -2.45782   -1.77579\n",
       "proportion_imputed_cat: 1.0        |   -1.61197 0.0403966  -39.9037    0.000   -1.69116   -1.53279\n",
       "flow_per_lane                      | -0.0749862  0.209953 -0.357157    0.721  -0.486551   0.336579\n",
       "flow_per_lane ^ 2                  |  -0.133714 0.0630185  -2.12182    0.034  -0.257247 -0.0101807\n",
       "(Intercept)                        |    11.1924  0.174772     64.04    0.000    10.8498     11.535\n",
       "==================================================================================================\n"
      ]
     },
     "execution_count": 38,
     "metadata": {},
     "output_type": "execute_result"
    }
   ],
   "source": [
    "with_flow = reg(data, @formula(peak_hour_occ_pct~postlockdown+proportion_imputed_cat+flow_per_lane+flow_per_lane^2), Vcov.cluster(:station))"
   ]
  },
  {
   "cell_type": "markdown",
   "id": "614ed8b6-7b15-4ba7-9882-4ce3d0dfc491",
   "metadata": {},
   "source": [
    "### And sensor fixed effects"
   ]
  },
  {
   "cell_type": "code",
   "execution_count": 39,
   "id": "21d6c189-c7d7-4904-bd41-5b8b4dda5ebf",
   "metadata": {},
   "outputs": [
    {
     "data": {
      "text/plain": [
       "                                       Fixed Effect Model                                       \n",
       "=================================================================================================\n",
       "Number of obs:                          1555184   Degrees of freedom:                          13\n",
       "R2:                                       0.576   R2 Adjusted:                              0.576\n",
       "F-Stat:                                 281.327   p-value:                                  0.000\n",
       "R2 within:                                0.071   Iterations:                                   1\n",
       "=================================================================================================\n",
       "peak_hour_occ_pct                  |    Estimate Std.Error   t value Pr(>|t|) Lower 95% Upper 95%\n",
       "-------------------------------------------------------------------------------------------------\n",
       "postlockdown                       |   -0.580613  0.021336  -27.2128    0.000 -0.622437 -0.538788\n",
       "proportion_imputed_cat: (0, 0.1)   |    0.138317 0.0123348   11.2135    0.000  0.114137  0.162496\n",
       "proportion_imputed_cat: [0.1, 0.2) |    0.233023  0.042136   5.53026    0.000  0.150425  0.315621\n",
       "proportion_imputed_cat: [0.2, 0.3) |     0.22519  0.061031   3.68977    0.000  0.105553  0.344827\n",
       "proportion_imputed_cat: [0.3, 0.4) |    0.131723 0.0329959    3.9921    0.000 0.0670421  0.196404\n",
       "proportion_imputed_cat: [0.4, 0.5) | -0.00596947 0.0545317 -0.109468    0.913 -0.112866  0.100927\n",
       "proportion_imputed_cat: [0.5, 0.6) |   -0.154914  0.106586  -1.45341    0.146 -0.363852 0.0540243\n",
       "proportion_imputed_cat: [0.6, 0.7) |    0.919984  0.191341    4.8081    0.000  0.544905   1.29506\n",
       "proportion_imputed_cat: [0.7, 0.8) |    0.801396  0.174864   4.58296    0.000  0.458616   1.14418\n",
       "proportion_imputed_cat: [0.8, 0.9) |   -0.330409  0.108923  -3.03343    0.002 -0.543927 -0.116891\n",
       "proportion_imputed_cat: [0.9, 1.0) |   -0.812752 0.0938493  -8.66018    0.000 -0.996722 -0.628782\n",
       "proportion_imputed_cat: 1.0        |    -1.34321 0.0258985  -51.8645    0.000  -1.39398  -1.29245\n",
       "flow_per_lane                      |   -0.496567  0.163657   -3.0342    0.002 -0.817378 -0.175756\n",
       "flow_per_lane ^ 2                  |  -0.0444866  0.046986 -0.946807    0.344 -0.136592 0.0476185\n",
       "=================================================================================================\n"
      ]
     },
     "execution_count": 39,
     "metadata": {},
     "output_type": "execute_result"
    }
   ],
   "source": [
    "data.station = CategoricalArray(data.station)\n",
    "fixed_effects = reg(data, @formula(peak_hour_occ_pct~postlockdown+proportion_imputed_cat+flow_per_lane+flow_per_lane^2+fe(station)), Vcov.cluster(:station))"
   ]
  },
  {
   "cell_type": "code",
   "execution_count": 44,
   "id": "2fc06a4f-1ff7-4681-be9e-f1f2d0877fa3",
   "metadata": {},
   "outputs": [
    {
     "name": "stdout",
     "output_type": "stream",
     "text": [
      "\n",
      "----------------------------------------------------------------------------------------------------------\n",
      "                                                                Percent of daily occupancy in peak hour   \n",
      "                                                             ---------------------------------------------\n",
      "                                                                   (1)         (2)         (3)         (4)\n",
      "----------------------------------------------------------------------------------------------------------\n",
      "(Intercept)                                                  10.034***   10.683***   11.192***            \n",
      "                                                               (0.030)     (0.040)     (0.175)            \n",
      "Post-lockdown                                                -0.671***   -0.512***   -0.562***   -0.581***\n",
      "                                                               (0.023)     (0.022)     (0.023)     (0.021)\n",
      "Proportion imputed: 0% (exclusive)--10%                                   0.376***    0.353***    0.138***\n",
      "                                                                           (0.042)     (0.040)     (0.012)\n",
      "Proportion imputed: 10%--20%                                                0.220*      0.203*    0.233***\n",
      "                                                                           (0.090)     (0.084)     (0.042)\n",
      "Proportion imputed: 20%--30%                                              0.361***    0.338***    0.225***\n",
      "                                                                           (0.090)     (0.085)     (0.061)\n",
      "Proportion imputed: 30%--40%                                                0.144*      0.108*    0.132***\n",
      "                                                                           (0.056)     (0.054)     (0.033)\n",
      "Proportion imputed: 40%--50%                                                 0.168       0.123      -0.006\n",
      "                                                                           (0.093)     (0.093)     (0.055)\n",
      "Proportion imputed: 50%--60%                                             -0.652***   -0.752***      -0.155\n",
      "                                                                           (0.156)     (0.154)     (0.107)\n",
      "Proportion imputed: 60%--70%                                              0.741***     0.591**    0.920***\n",
      "                                                                           (0.200)     (0.189)     (0.191)\n",
      "Proportion imputed: 70%--80%                                                 0.162      -0.110    0.801***\n",
      "                                                                           (0.336)     (0.341)     (0.175)\n",
      "Proportion imputed: 80%--90%                                             -1.588***   -1.821***    -0.330**\n",
      "                                                                           (0.121)     (0.125)     (0.109)\n",
      "Proportion imputed: 90%--100% (exclusive)                                -1.997***   -2.117***   -0.813***\n",
      "                                                                           (0.170)     (0.174)     (0.094)\n",
      "Proportion imputed: 100%                                                 -1.646***   -1.612***   -1.343***\n",
      "                                                                           (0.041)     (0.040)     (0.026)\n",
      "Average flow per lane (thousands of vehicles/hour)                                      -0.075    -0.497**\n",
      "                                                                                       (0.210)     (0.164)\n",
      "Average flow per lane (thousands of vehicles/hour) squared                             -0.134*      -0.044\n",
      "                                                                                       (0.063)     (0.047)\n",
      "----------------------------------------------------------------------------------------------------------\n",
      "Sensor fixed effects                                                                                   Yes\n",
      "----------------------------------------------------------------------------------------------------------\n",
      "Estimator                                                          OLS         OLS         OLS         OLS\n",
      "----------------------------------------------------------------------------------------------------------\n",
      "N                                                            1,555,184   1,555,184   1,555,184   1,555,184\n",
      "R2                                                               0.007       0.074       0.082       0.576\n",
      "----------------------------------------------------------------------------------------------------------\n",
      "\n",
      "\n"
     ]
    }
   ],
   "source": [
    "labels = Dict(\n",
    "        \"postlockdown\" => \"Post-lockdown\",\n",
    "        \"proportion_imputed_cat: (0, 0.1)\" => \"Proportion imputed: 0% (exclusive)--10%\",\n",
    "         \"proportion_imputed_cat: [0.1, 0.2)\" => \"Proportion imputed: 10%--20%\",\n",
    "         \"proportion_imputed_cat: [0.2, 0.3)\" => \"Proportion imputed: 20%--30%\",\n",
    "         \"proportion_imputed_cat: [0.3, 0.4)\" => \"Proportion imputed: 30%--40%\",\n",
    "         \"proportion_imputed_cat: [0.4, 0.5)\" => \"Proportion imputed: 40%--50%\",\n",
    "         \"proportion_imputed_cat: [0.5, 0.6)\" => \"Proportion imputed: 50%--60%\",\n",
    "         \"proportion_imputed_cat: [0.6, 0.7)\" => \"Proportion imputed: 60%--70%\",\n",
    "         \"proportion_imputed_cat: [0.7, 0.8)\" => \"Proportion imputed: 70%--80%\",\n",
    "         \"proportion_imputed_cat: [0.8, 0.9)\" => \"Proportion imputed: 80%--90%\",\n",
    "         \"proportion_imputed_cat: [0.9, 1.0)\" => \"Proportion imputed: 90%--100% (exclusive)\",\n",
    "         \"proportion_imputed_cat: 1.0\" => \"Proportion imputed: 100%\",\n",
    "         \"flow_per_lane\" => \"Average flow per lane (thousands of vehicles/hour)\",\n",
    "         \"flow_per_lane ^ 2\" => \"Average flow per lane (thousands of vehicles/hour) squared\",\n",
    "        \"peak_hour_occ_pct\" => \"Percent of daily occupancy in peak hour\",\n",
    "    \"station\" => \"Sensor fixed effects\"\n",
    "    )\n",
    "regtable(mod1, flexible_missing, with_flow, fixed_effects, labels=labels)"
   ]
  },
  {
   "cell_type": "code",
   "execution_count": 45,
   "id": "121f4680-cc15-4318-9894-be6b98bcbc38",
   "metadata": {},
   "outputs": [
    {
     "name": "stdout",
     "output_type": "stream",
     "text": [
      "\\begin{tabular}{lrrrr}\n",
      "\\toprule\n",
      "                                                           & \\multicolumn{4}{c}{Percent of daily occupancy in peak hour} \\\\ \n",
      "\\cmidrule(lr){2-5} \n",
      "                                                           &       (1) &       (2) &       (3) &                     (4) \\\\ \n",
      "\\midrule\n",
      "(Intercept)                                                &  10.03*** &  10.68*** &  11.19*** &                         \\\\ \n",
      "                                                           &    (0.03) &    (0.04) &    (0.17) &                         \\\\ \n",
      "Post-lockdown                                              &  -0.67*** &  -0.51*** &  -0.56*** &                -0.58*** \\\\ \n",
      "                                                           &    (0.02) &    (0.02) &    (0.02) &                  (0.02) \\\\ \n",
      "Proportion imputed: 0% (exclusive)--10%                    &           &   0.38*** &   0.35*** &                 0.14*** \\\\ \n",
      "                                                           &           &    (0.04) &    (0.04) &                  (0.01) \\\\ \n",
      "Proportion imputed: 10%--20%                               &           &     0.22* &     0.20* &                 0.23*** \\\\ \n",
      "                                                           &           &    (0.09) &    (0.08) &                  (0.04) \\\\ \n",
      "Proportion imputed: 20%--30%                               &           &   0.36*** &   0.34*** &                 0.23*** \\\\ \n",
      "                                                           &           &    (0.09) &    (0.08) &                  (0.06) \\\\ \n",
      "Proportion imputed: 30%--40%                               &           &     0.14* &     0.11* &                 0.13*** \\\\ \n",
      "                                                           &           &    (0.06) &    (0.05) &                  (0.03) \\\\ \n",
      "Proportion imputed: 40%--50%                               &           &      0.17 &      0.12 &                   -0.01 \\\\ \n",
      "                                                           &           &    (0.09) &    (0.09) &                  (0.05) \\\\ \n",
      "Proportion imputed: 50%--60%                               &           &  -0.65*** &  -0.75*** &                   -0.15 \\\\ \n",
      "                                                           &           &    (0.16) &    (0.15) &                  (0.11) \\\\ \n",
      "Proportion imputed: 60%--70%                               &           &   0.74*** &    0.59** &                 0.92*** \\\\ \n",
      "                                                           &           &    (0.20) &    (0.19) &                  (0.19) \\\\ \n",
      "Proportion imputed: 70%--80%                               &           &      0.16 &     -0.11 &                 0.80*** \\\\ \n",
      "                                                           &           &    (0.34) &    (0.34) &                  (0.17) \\\\ \n",
      "Proportion imputed: 80%--90%                               &           &  -1.59*** &  -1.82*** &                 -0.33** \\\\ \n",
      "                                                           &           &    (0.12) &    (0.13) &                  (0.11) \\\\ \n",
      "Proportion imputed: 90%--100% (exclusive)                  &           &  -2.00*** &  -2.12*** &                -0.81*** \\\\ \n",
      "                                                           &           &    (0.17) &    (0.17) &                  (0.09) \\\\ \n",
      "Proportion imputed: 100%                                   &           &  -1.65*** &  -1.61*** &                -1.34*** \\\\ \n",
      "                                                           &           &    (0.04) &    (0.04) &                  (0.03) \\\\ \n",
      "Average flow per lane (thousands of vehicles/hour)         &           &           &     -0.07 &                 -0.50** \\\\ \n",
      "                                                           &           &           &    (0.21) &                  (0.16) \\\\ \n",
      "Average flow per lane (thousands of vehicles/hour) squared &           &           &    -0.13* &                   -0.04 \\\\ \n",
      "                                                           &           &           &    (0.06) &                  (0.05) \\\\ \n",
      "\\midrule\n",
      "Sensor fixed effects                                       &           &           &           &                     Yes \\\\ \n",
      "\\midrule\n",
      "$N$                                                        & 1,555,184 & 1,555,184 & 1,555,184 &               1,555,184 \\\\ \n",
      "$R^2$                                                      &      0.01 &      0.07 &      0.08 &                    0.58 \\\\ \n",
      "\\bottomrule\n",
      "\\end{tabular}\n",
      "\n"
     ]
    }
   ],
   "source": [
    "regtable(mod1, flexible_missing, with_flow, fixed_effects, labels=labels, renderSettings=latexOutput(), print_estimator_section=false, estimformat=\"%0.2f\", statisticformat=\"%0.2f\")"
   ]
  },
  {
   "cell_type": "code",
   "execution_count": null,
   "id": "03c3e013-d744-4abb-b472-806fd67c8a4e",
   "metadata": {},
   "outputs": [],
   "source": []
  }
 ],
 "metadata": {
  "kernelspec": {
   "display_name": "Julia 7 Threads Project 1.7.3",
   "language": "julia",
   "name": "julia-7-threads-project-1.7"
  },
  "language_info": {
   "file_extension": ".jl",
   "mimetype": "application/julia",
   "name": "julia",
   "version": "1.7.3"
  }
 },
 "nbformat": 4,
 "nbformat_minor": 5
}
