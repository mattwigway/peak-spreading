{
 "cells": [
  {
   "cell_type": "markdown",
   "id": "28ece37c-5650-4be8-b555-8c432d63a886",
   "metadata": {},
   "source": [
    "# Missing data robustness check models\n",
    "\n",
    "We want to make sure that missing data is not responsible for the change we see in the permutation test results. To test this, we use an OLS model to see how controlling for missingness affects outcomes."
   ]
  },
  {
   "cell_type": "code",
   "execution_count": 1,
   "id": "f3208416-b183-434f-9367-f39bbe91013b",
   "metadata": {},
   "outputs": [],
   "source": [
    "using KFactors, DataFrames, CSV, Pipe, RegressionTables, CategoricalArrays, StatsBase, FixedEffectModels"
   ]
  },
  {
   "cell_type": "code",
   "execution_count": 2,
   "id": "a229f507-68ab-4998-be98-8ff84cc7d5bb",
   "metadata": {},
   "outputs": [
    {
     "name": "stderr",
     "output_type": "stream",
     "text": [
      "┌ Info: Removing sensors days with peak-hour occ above 99th percentile (22.83%)\n",
      "└ @ KFactors C:\\Users\\mwbc\\git\\peak-spreading\\src\\computation.jl:65\n"
     ]
    }
   ],
   "source": [
    "raw_data = KFactors.read_data(\"../data/peaks_merged.parquet\");"
   ]
  },
  {
   "cell_type": "code",
   "execution_count": 3,
   "id": "11e45355-d0d3-464c-95b5-07d1800a69d0",
   "metadata": {},
   "outputs": [],
   "source": [
    "data = KFactors.create_test_data(raw_data, KFactors.Periods.SPRING_2022, min_complete=0.0);"
   ]
  },
  {
   "cell_type": "code",
   "execution_count": 4,
   "id": "f0931a51-cc10-48e7-9ec9-1c9cc84e2d89",
   "metadata": {},
   "outputs": [],
   "source": [
    "data = data[data.period .∈ Ref(Set([:prepandemic, :postlockdown])), :];"
   ]
  },
  {
   "cell_type": "code",
   "execution_count": 5,
   "id": "cd611795-bf0a-4296-b19f-c80602f466a4",
   "metadata": {},
   "outputs": [],
   "source": [
    "meta = CSV.read(\"../data/sensor_meta_geo.csv\", DataFrame)\n",
    "leftjoin!(data, select(meta, Not([:Latitude, :Longitude, :urban, :District, :Lanes])), on=:station=>:ID);"
   ]
  },
  {
   "cell_type": "code",
   "execution_count": 6,
   "id": "dd2deec2-6ba7-427c-9b65-d1dee68cd5ff",
   "metadata": {},
   "outputs": [],
   "source": [
    "data.entirely_imputed = data.periods_imputed .== 288\n",
    "data.postlockdown = data.period .== :postlockdown\n",
    "data.proportion_imputed = data.periods_imputed ./ 288\n",
    "data.peak_hour_occ_pct = data.peak_hour_occ .* 100;"
   ]
  },
  {
   "cell_type": "code",
   "execution_count": 7,
   "id": "f79ba5e8-7aef-410b-b8db-775a420d2d92",
   "metadata": {},
   "outputs": [
    {
     "data": {
      "text/plain": [
       "                                Linear Model                                \n",
       "=============================================================================\n",
       "Number of obs:                4569230   Degrees of freedom:                 1\n",
       "R2:                             0.008   R2 Adjusted:                    0.008\n",
       "F-Stat:                       1178.74   p-value:                        0.000\n",
       "=============================================================================\n",
       "peak_hour_occ_pct |  Estimate Std.Error  t value Pr(>|t|) Lower 95% Upper 95%\n",
       "-----------------------------------------------------------------------------\n",
       "postlockdown      | -0.740239 0.0215607 -34.3328    0.000 -0.782504 -0.697975\n",
       "(Intercept)       |   9.90211 0.0297216  333.162    0.000   9.84384   9.96037\n",
       "=============================================================================\n"
      ]
     },
     "execution_count": 7,
     "metadata": {},
     "output_type": "execute_result"
    }
   ],
   "source": [
    "mod1 = reg(data, @formula(peak_hour_occ_pct~postlockdown), Vcov.cluster(:station))"
   ]
  },
  {
   "cell_type": "code",
   "execution_count": 8,
   "id": "97f1f81f-ec85-46d1-9de4-237e37d89f81",
   "metadata": {},
   "outputs": [
    {
     "data": {
      "text/plain": [
       "                                          Linear Model                                          \n",
       "=================================================================================================\n",
       "Number of obs:                          4569230   Degrees of freedom:                          12\n",
       "R2:                                       0.070   R2 Adjusted:                              0.070\n",
       "F-Stat:                                  243.49   p-value:                                  0.000\n",
       "=================================================================================================\n",
       "peak_hour_occ_pct                  |   Estimate Std.Error   t value Pr(>|t|) Lower 95%  Upper 95%\n",
       "-------------------------------------------------------------------------------------------------\n",
       "postlockdown                       |  -0.544839  0.020054  -27.1686    0.000  -0.58415  -0.505528\n",
       "proportion_imputed_cat: (0, 0.1)   |   0.381112 0.0425143   8.96432    0.000  0.297773   0.464451\n",
       "proportion_imputed_cat: [0.1, 0.2) |   0.310491 0.0973225   3.19033    0.001  0.119713   0.501269\n",
       "proportion_imputed_cat: [0.2, 0.3) |   0.242865 0.0900066    2.6983    0.007 0.0664281   0.419302\n",
       "proportion_imputed_cat: [0.3, 0.4) |   0.156354 0.0626286   2.49653    0.013 0.0335852   0.279122\n",
       "proportion_imputed_cat: [0.4, 0.5) | -0.0787585 0.0837896 -0.939955    0.347 -0.243008  0.0854914\n",
       "proportion_imputed_cat: [0.5, 0.6) |  -0.199677 0.0958635  -2.08293    0.037 -0.387595 -0.0117591\n",
       "proportion_imputed_cat: [0.6, 0.7) |   0.420194  0.139963   3.00219    0.003   0.14583   0.694558\n",
       "proportion_imputed_cat: [0.7, 0.8) |   0.254082  0.310675  0.817839    0.413 -0.354923   0.863087\n",
       "proportion_imputed_cat: [0.8, 0.9) |   -1.38213   0.10922  -12.6546    0.000  -1.59623   -1.16803\n",
       "proportion_imputed_cat: [0.9, 1.0) |    -1.9427  0.132352  -14.6783    0.000  -2.20215   -1.68326\n",
       "proportion_imputed_cat: 1.0        |   -1.55755 0.0392514  -39.6813    0.000  -1.63449    -1.4806\n",
       "(Intercept)                        |    10.5055 0.0388727   270.254    0.000   10.4293    10.5817\n",
       "=================================================================================================\n"
      ]
     },
     "execution_count": 8,
     "metadata": {},
     "output_type": "execute_result"
    }
   ],
   "source": [
    "data.proportion_imputed_cat = @pipe map(data.proportion_imputed) do x\n",
    "    x == 0 && return \"0.0\"\n",
    "    x < 0.1 && return \"(0, 0.1)\"\n",
    "    x < 0.2 && return \"[0.1, 0.2)\"\n",
    "    x < 0.3 && return \"[0.2, 0.3)\"\n",
    "    x < 0.4 && return \"[0.3, 0.4)\"\n",
    "    x < 0.5 && return \"[0.4, 0.5)\"\n",
    "    x < 0.6 && return \"[0.5, 0.6)\"\n",
    "    x < 0.7 && return \"[0.6, 0.7)\"\n",
    "    x < 0.8 && return \"[0.7, 0.8)\"\n",
    "    x < 0.9 && return \"[0.8, 0.9)\"\n",
    "    x < 1 && return \"[0.9, 1.0)\"\n",
    "    x == 1 && return \"1.0\"\n",
    "    error(\"Unknown x value $x\")\n",
    "end |> CategoricalArray(_,\n",
    "    levels=[\"0.0\", \"(0, 0.1)\", \"[0.1, 0.2)\", \"[0.2, 0.3)\", \"[0.3, 0.4)\", \"[0.4, 0.5)\", \"[0.5, 0.6)\", \"[0.6, 0.7)\", \"[0.7, 0.8)\", \"[0.8, 0.9)\", \"[0.9, 1.0)\", \"1.0\"],\n",
    "    ordered=true)\n",
    "flexible_missing = reg(data, @formula(peak_hour_occ_pct~postlockdown+proportion_imputed_cat), Vcov.cluster(:station))"
   ]
  },
  {
   "cell_type": "code",
   "execution_count": 9,
   "id": "9d77f649-0f69-412c-83ca-64b3f99e6680",
   "metadata": {},
   "outputs": [],
   "source": [
    "data.flow_per_lane = data.total_flow ./ data.Lanes ./ 1000 ./ 12;"
   ]
  },
  {
   "cell_type": "code",
   "execution_count": 10,
   "id": "f9a7087c-ea8c-4973-a69d-da3336fa6f9a",
   "metadata": {},
   "outputs": [
    {
     "data": {
      "text/plain": [
       "                                           Linear Model                                           \n",
       "==================================================================================================\n",
       "Number of obs:                           4569230  Degrees of freedom:                           14\n",
       "R2:                                        0.078  R2 Adjusted:                               0.078\n",
       "F-Stat:                                  212.634  p-value:                                   0.000\n",
       "==================================================================================================\n",
       "peak_hour_occ_pct                  |   Estimate Std.Error   t value Pr(>|t|)  Lower 95%  Upper 95%\n",
       "--------------------------------------------------------------------------------------------------\n",
       "postlockdown                       |  -0.593988 0.0213503   -27.821    0.000   -0.63584  -0.552135\n",
       "proportion_imputed_cat: (0, 0.1)   |   0.374614 0.0403254   9.28977    0.000   0.295565   0.453662\n",
       "proportion_imputed_cat: [0.1, 0.2) |   0.298034  0.090865   3.27996    0.001   0.119914   0.476153\n",
       "proportion_imputed_cat: [0.2, 0.3) |   0.219239 0.0836626   2.62051    0.009  0.0552375   0.383239\n",
       "proportion_imputed_cat: [0.3, 0.4) |   0.118189 0.0590366   2.00196    0.045 0.00246144   0.233916\n",
       "proportion_imputed_cat: [0.4, 0.5) |   -0.14036 0.0839774   -1.6714    0.095  -0.304978  0.0242585\n",
       "proportion_imputed_cat: [0.5, 0.6) |  -0.268361 0.0924514  -2.90272    0.004   -0.44959 -0.0871315\n",
       "proportion_imputed_cat: [0.6, 0.7) |   0.312482  0.133412   2.34224    0.019  0.0509593   0.574005\n",
       "proportion_imputed_cat: [0.7, 0.8) | 0.00680665  0.312973 0.0217483    0.983  -0.606704   0.620317\n",
       "proportion_imputed_cat: [0.8, 0.9) |   -1.61756  0.114711  -14.1012    0.000   -1.84242   -1.39269\n",
       "proportion_imputed_cat: [0.9, 1.0) |   -2.05782  0.135364  -15.2022    0.000   -2.32317   -1.79247\n",
       "proportion_imputed_cat: 1.0        |   -1.52035  0.038926  -39.0574    0.000   -1.59665   -1.44404\n",
       "flow_per_lane                      |  -0.172673  0.179912 -0.959763    0.337  -0.525349   0.180003\n",
       "flow_per_lane ^ 2                  | -0.0978646 0.0521405  -1.87694    0.061  -0.200074 0.00434463\n",
       "(Intercept)                        |     11.072   0.15904    69.618    0.000    10.7603    11.3838\n",
       "==================================================================================================\n"
      ]
     },
     "execution_count": 10,
     "metadata": {},
     "output_type": "execute_result"
    }
   ],
   "source": [
    "with_flow = reg(data, @formula(peak_hour_occ_pct~postlockdown+proportion_imputed_cat+flow_per_lane+flow_per_lane^2), Vcov.cluster(:station))"
   ]
  },
  {
   "cell_type": "markdown",
   "id": "614ed8b6-7b15-4ba7-9882-4ce3d0dfc491",
   "metadata": {},
   "source": [
    "### And sensor fixed effects"
   ]
  },
  {
   "cell_type": "code",
   "execution_count": 11,
   "id": "21d6c189-c7d7-4904-bd41-5b8b4dda5ebf",
   "metadata": {},
   "outputs": [
    {
     "name": "stdout",
     "output_type": "stream",
     "text": [
      "\u001b[?25h\u001b[2K[1mDemean Variables:\u001b[22m\u001b[39m [================================>]  15/15"
     ]
    },
    {
     "data": {
      "text/plain": [
       "                                       Fixed Effect Model                                       \n",
       "================================================================================================\n",
       "Number of obs:                          4569230  Degrees of freedom:                          13\n",
       "R2:                                       0.569  R2 Adjusted:                              0.569\n",
       "F-Stat:                                   330.2  p-value:                                  0.000\n",
       "R2 within:                                0.069  Iterations:                                   1\n",
       "================================================================================================\n",
       "peak_hour_occ_pct                  |   Estimate Std.Error  t value Pr(>|t|) Lower 95%  Upper 95%\n",
       "------------------------------------------------------------------------------------------------\n",
       "postlockdown                       |  -0.634976 0.0195715 -32.4439    0.000 -0.673342  -0.596611\n",
       "proportion_imputed_cat: (0, 0.1)   |   0.120602 0.0109612  11.0027    0.000 0.0991154   0.142089\n",
       "proportion_imputed_cat: [0.1, 0.2) |   0.256908 0.0452655  5.67557    0.000  0.168175    0.34564\n",
       "proportion_imputed_cat: [0.2, 0.3) |   0.201507 0.0642413  3.13672    0.002 0.0755767   0.327437\n",
       "proportion_imputed_cat: [0.3, 0.4) |   0.246325 0.0349384  7.05026    0.000  0.177836   0.314814\n",
       "proportion_imputed_cat: [0.4, 0.5) | -0.0627444 0.0455491 -1.37751    0.168 -0.152033  0.0265439\n",
       "proportion_imputed_cat: [0.5, 0.6) |  -0.122276 0.0673065  -1.8167    0.069 -0.254214 0.00966276\n",
       "proportion_imputed_cat: [0.6, 0.7) |   0.383424  0.133737  2.86699    0.004  0.121263   0.645584\n",
       "proportion_imputed_cat: [0.7, 0.8) |   0.609927  0.149913  4.06853    0.000  0.316057   0.903797\n",
       "proportion_imputed_cat: [0.8, 0.9) |  -0.318953 0.0947185 -3.36738    0.001 -0.504626   -0.13328\n",
       "proportion_imputed_cat: [0.9, 1.0) |  -0.854165 0.0756637  -11.289    0.000  -1.00249  -0.705844\n",
       "proportion_imputed_cat: 1.0        |   -1.24803 0.0226947 -54.9921    0.000  -1.29252   -1.20354\n",
       "flow_per_lane                      |   -0.51072   0.15302 -3.33761    0.001 -0.810679  -0.210761\n",
       "flow_per_lane ^ 2                  | -0.0446014 0.0441778 -1.00959    0.313 -0.131202  0.0419988\n",
       "================================================================================================\n"
      ]
     },
     "execution_count": 11,
     "metadata": {},
     "output_type": "execute_result"
    }
   ],
   "source": [
    "data.station = CategoricalArray(data.station)\n",
    "fixed_effects = reg(data, @formula(peak_hour_occ_pct~postlockdown+proportion_imputed_cat+flow_per_lane+flow_per_lane^2+fe(station)), Vcov.cluster(:station))"
   ]
  },
  {
   "cell_type": "code",
   "execution_count": 12,
   "id": "2fc06a4f-1ff7-4681-be9e-f1f2d0877fa3",
   "metadata": {},
   "outputs": [
    {
     "name": "stdout",
     "output_type": "stream",
     "text": [
      "\n",
      "----------------------------------------------------------------------------------------------------------\n",
      "                                                                Percent of daily occupancy in peak hour   \n",
      "                                                             ---------------------------------------------\n",
      "                                                                   (1)         (2)         (3)         (4)\n",
      "----------------------------------------------------------------------------------------------------------\n",
      "(Intercept)                                                   9.902***   10.506***   11.072***            \n",
      "                                                               (0.030)     (0.039)     (0.159)            \n",
      "Post-lockdown                                                -0.740***   -0.545***   -0.594***   -0.635***\n",
      "                                                               (0.022)     (0.020)     (0.021)     (0.020)\n",
      "Proportion imputed: 0% (exclusive)--10%                                   0.381***    0.375***    0.121***\n",
      "                                                                           (0.043)     (0.040)     (0.011)\n",
      "Proportion imputed: 10%--20%                                               0.310**     0.298**    0.257***\n",
      "                                                                           (0.097)     (0.091)     (0.045)\n",
      "Proportion imputed: 20%--30%                                               0.243**     0.219**     0.202**\n",
      "                                                                           (0.090)     (0.084)     (0.064)\n",
      "Proportion imputed: 30%--40%                                                0.156*      0.118*    0.246***\n",
      "                                                                           (0.063)     (0.059)     (0.035)\n",
      "Proportion imputed: 40%--50%                                                -0.079      -0.140      -0.063\n",
      "                                                                           (0.084)     (0.084)     (0.046)\n",
      "Proportion imputed: 50%--60%                                               -0.200*    -0.268**      -0.122\n",
      "                                                                           (0.096)     (0.092)     (0.067)\n",
      "Proportion imputed: 60%--70%                                               0.420**      0.312*     0.383**\n",
      "                                                                           (0.140)     (0.133)     (0.134)\n",
      "Proportion imputed: 70%--80%                                                 0.254       0.007    0.610***\n",
      "                                                                           (0.311)     (0.313)     (0.150)\n",
      "Proportion imputed: 80%--90%                                             -1.382***   -1.618***   -0.319***\n",
      "                                                                           (0.109)     (0.115)     (0.095)\n",
      "Proportion imputed: 90%--100% (exclusive)                                -1.943***   -2.058***   -0.854***\n",
      "                                                                           (0.132)     (0.135)     (0.076)\n",
      "Proportion imputed: 100%                                                 -1.558***   -1.520***   -1.248***\n",
      "                                                                           (0.039)     (0.039)     (0.023)\n",
      "Average flow per lane (thousands of vehicles/hour)                                      -0.173   -0.511***\n",
      "                                                                                       (0.180)     (0.153)\n",
      "Average flow per lane (thousands of vehicles/hour) squared                              -0.098      -0.045\n",
      "                                                                                       (0.052)     (0.044)\n",
      "----------------------------------------------------------------------------------------------------------\n",
      "Sensor fixed effects                                                                                   Yes\n",
      "----------------------------------------------------------------------------------------------------------\n",
      "Estimator                                                          OLS         OLS         OLS         OLS\n",
      "----------------------------------------------------------------------------------------------------------\n",
      "N                                                            4,569,230   4,569,230   4,569,230   4,569,230\n",
      "R2                                                               0.008       0.070       0.078       0.569\n",
      "----------------------------------------------------------------------------------------------------------\n",
      "\n",
      "\n"
     ]
    }
   ],
   "source": [
    "labels = Dict(\n",
    "        \"postlockdown\" => \"Post-lockdown\",\n",
    "        \"proportion_imputed_cat: (0, 0.1)\" => \"Proportion imputed: 0% (exclusive)--10%\",\n",
    "         \"proportion_imputed_cat: [0.1, 0.2)\" => \"Proportion imputed: 10%--20%\",\n",
    "         \"proportion_imputed_cat: [0.2, 0.3)\" => \"Proportion imputed: 20%--30%\",\n",
    "         \"proportion_imputed_cat: [0.3, 0.4)\" => \"Proportion imputed: 30%--40%\",\n",
    "         \"proportion_imputed_cat: [0.4, 0.5)\" => \"Proportion imputed: 40%--50%\",\n",
    "         \"proportion_imputed_cat: [0.5, 0.6)\" => \"Proportion imputed: 50%--60%\",\n",
    "         \"proportion_imputed_cat: [0.6, 0.7)\" => \"Proportion imputed: 60%--70%\",\n",
    "         \"proportion_imputed_cat: [0.7, 0.8)\" => \"Proportion imputed: 70%--80%\",\n",
    "         \"proportion_imputed_cat: [0.8, 0.9)\" => \"Proportion imputed: 80%--90%\",\n",
    "         \"proportion_imputed_cat: [0.9, 1.0)\" => \"Proportion imputed: 90%--100% (exclusive)\",\n",
    "         \"proportion_imputed_cat: 1.0\" => \"Proportion imputed: 100%\",\n",
    "         \"flow_per_lane\" => \"Average flow per lane (thousands of vehicles/hour)\",\n",
    "         \"flow_per_lane ^ 2\" => \"Average flow per lane (thousands of vehicles/hour) squared\",\n",
    "        \"peak_hour_occ_pct\" => \"Percent of daily occupancy in peak hour\",\n",
    "    \"station\" => \"Sensor fixed effects\"\n",
    "    )\n",
    "regtable(mod1, flexible_missing, with_flow, fixed_effects, labels=labels)"
   ]
  },
  {
   "cell_type": "code",
   "execution_count": 13,
   "id": "121f4680-cc15-4318-9894-be6b98bcbc38",
   "metadata": {},
   "outputs": [
    {
     "name": "stdout",
     "output_type": "stream",
     "text": [
      "\\begin{tabular}{lrrrr}\n",
      "\\toprule\n",
      "                                                           & \\multicolumn{4}{c}{Percent of daily occupancy in peak hour} \\\\ \n",
      "\\cmidrule(lr){2-5} \n",
      "                                                           &       (1) &       (2) &       (3) &                     (4) \\\\ \n",
      "\\midrule\n",
      "(Intercept)                                                &   9.90*** &  10.51*** &  11.07*** &                         \\\\ \n",
      "                                                           &    (0.03) &    (0.04) &    (0.16) &                         \\\\ \n",
      "Post-lockdown                                              &  -0.74*** &  -0.54*** &  -0.59*** &                -0.63*** \\\\ \n",
      "                                                           &    (0.02) &    (0.02) &    (0.02) &                  (0.02) \\\\ \n",
      "Proportion imputed: 0% (exclusive)--10%                    &           &   0.38*** &   0.37*** &                 0.12*** \\\\ \n",
      "                                                           &           &    (0.04) &    (0.04) &                  (0.01) \\\\ \n",
      "Proportion imputed: 10%--20%                               &           &    0.31** &    0.30** &                 0.26*** \\\\ \n",
      "                                                           &           &    (0.10) &    (0.09) &                  (0.05) \\\\ \n",
      "Proportion imputed: 20%--30%                               &           &    0.24** &    0.22** &                  0.20** \\\\ \n",
      "                                                           &           &    (0.09) &    (0.08) &                  (0.06) \\\\ \n",
      "Proportion imputed: 30%--40%                               &           &     0.16* &     0.12* &                 0.25*** \\\\ \n",
      "                                                           &           &    (0.06) &    (0.06) &                  (0.03) \\\\ \n",
      "Proportion imputed: 40%--50%                               &           &     -0.08 &     -0.14 &                   -0.06 \\\\ \n",
      "                                                           &           &    (0.08) &    (0.08) &                  (0.05) \\\\ \n",
      "Proportion imputed: 50%--60%                               &           &    -0.20* &   -0.27** &                   -0.12 \\\\ \n",
      "                                                           &           &    (0.10) &    (0.09) &                  (0.07) \\\\ \n",
      "Proportion imputed: 60%--70%                               &           &    0.42** &     0.31* &                  0.38** \\\\ \n",
      "                                                           &           &    (0.14) &    (0.13) &                  (0.13) \\\\ \n",
      "Proportion imputed: 70%--80%                               &           &      0.25 &      0.01 &                 0.61*** \\\\ \n",
      "                                                           &           &    (0.31) &    (0.31) &                  (0.15) \\\\ \n",
      "Proportion imputed: 80%--90%                               &           &  -1.38*** &  -1.62*** &                -0.32*** \\\\ \n",
      "                                                           &           &    (0.11) &    (0.11) &                  (0.09) \\\\ \n",
      "Proportion imputed: 90%--100% (exclusive)                  &           &  -1.94*** &  -2.06*** &                -0.85*** \\\\ \n",
      "                                                           &           &    (0.13) &    (0.14) &                  (0.08) \\\\ \n",
      "Proportion imputed: 100%                                   &           &  -1.56*** &  -1.52*** &                -1.25*** \\\\ \n",
      "                                                           &           &    (0.04) &    (0.04) &                  (0.02) \\\\ \n",
      "Average flow per lane (thousands of vehicles/hour)         &           &           &     -0.17 &                -0.51*** \\\\ \n",
      "                                                           &           &           &    (0.18) &                  (0.15) \\\\ \n",
      "Average flow per lane (thousands of vehicles/hour) squared &           &           &     -0.10 &                   -0.04 \\\\ \n",
      "                                                           &           &           &    (0.05) &                  (0.04) \\\\ \n",
      "\\midrule\n",
      "Sensor fixed effects                                       &           &           &           &                     Yes \\\\ \n",
      "\\midrule\n",
      "$N$                                                        & 4,569,230 & 4,569,230 & 4,569,230 &               4,569,230 \\\\ \n",
      "$R^2$                                                      &      0.01 &      0.07 &      0.08 &                    0.57 \\\\ \n",
      "\\bottomrule\n",
      "\\end{tabular}\n",
      "\n"
     ]
    }
   ],
   "source": [
    "regtable(mod1, flexible_missing, with_flow, fixed_effects, labels=labels, renderSettings=latexOutput(), print_estimator_section=false, estimformat=\"%0.2f\", statisticformat=\"%0.2f\")"
   ]
  },
  {
   "cell_type": "code",
   "execution_count": null,
   "id": "03c3e013-d744-4abb-b472-806fd67c8a4e",
   "metadata": {},
   "outputs": [],
   "source": []
  }
 ],
 "metadata": {
  "kernelspec": {
   "display_name": "Julia threads project 1.8.5",
   "language": "julia",
   "name": "julia-threads-project-1.8"
  },
  "language_info": {
   "file_extension": ".jl",
   "mimetype": "application/julia",
   "name": "julia",
   "version": "1.8.5"
  }
 },
 "nbformat": 4,
 "nbformat_minor": 5
}
